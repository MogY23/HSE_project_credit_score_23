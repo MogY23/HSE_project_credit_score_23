{
  "cells": [
    {
      "cell_type": "markdown",
      "metadata": {
        "id": "view-in-github",
        "colab_type": "text"
      },
      "source": [
        "<a href=\"https://colab.research.google.com/github/MogY23/HSE_project_credit_scoring_23/blob/main/CS_ver_of_MY.ipynb\" target=\"_parent\"><img src=\"https://colab.research.google.com/assets/colab-badge.svg\" alt=\"Open In Colab\"/></a>"
      ]
    },
    {
      "cell_type": "markdown",
      "source": [
        "# Решение задачи расчета кредитного скоринга\n",
        "\n",
        "* Загрузка данных и их анализ\n",
        "* Обучение и оценка качества модели\n",
        "  + обучение модели\n",
        "  + оценка качества модели\n",
        "* Интерпретация результатов модели\n",
        "* Сохранение результатов"
      ],
      "metadata": {
        "id": "z79gbIw0bWJZ"
      }
    },
    {
      "cell_type": "markdown",
      "source": [
        "Используем следующие библиотеки Python:\n",
        "\n",
        "*   Pandas - библиотеки для работы с таблицами\n",
        "*   Numpy - библиотеки для быстрых и эффективных вычислений\n",
        "*   Matplotlib - для визуализации данных\n",
        "*   Sklearn - библиотеки с основными инструментами ML\n"
      ],
      "metadata": {
        "id": "bTDcqGDLbbRs"
      }
    },
    {
      "cell_type": "markdown",
      "source": [
        "Задача состоит в том, чтобы по различным характеристикам клиентов спрогнозировать целевую переменную - имел клиент просрочку 90 и более дней или нет (и если имел, то банк не будет выдавать кредит этому клиенту, а иначе будет)."
      ],
      "metadata": {
        "id": "9VDkBu75nCLq"
      }
    },
    {
      "cell_type": "markdown",
      "source": [
        "## <font color='green'>1. Загрузка данных и их первичный анализ</font>"
      ],
      "metadata": {
        "id": "cgXJLC1Yjpnm"
      }
    },
    {
      "cell_type": "code",
      "execution_count": 1,
      "metadata": {
        "id": "wD3LYTXnhtwZ"
      },
      "outputs": [],
      "source": [
        "import pandas as pd\n",
        "import numpy as np\n",
        "from matplotlib import pyplot as plt\n",
        "\n",
        "from sklearn.linear_model import LogisticRegression  #логистическая регрессия для задач бинарной классификации (уйдет/не уйдет)\n",
        "\n",
        "import warnings\n",
        "warnings.filterwarnings(\"ignore\")"
      ]
    },
    {
      "cell_type": "markdown",
      "source": [
        "Подключаемся к БД и загружаем данные"
      ],
      "metadata": {
        "id": "yfZEhlAVEup_"
      }
    },
    {
      "cell_type": "code",
      "execution_count": 2,
      "metadata": {
        "id": "HWwIJ2AQhtwb",
        "colab": {
          "base_uri": "https://localhost:8080/"
        },
        "outputId": "cef47959-88a8-4f09-fc88-faba0e78d58c"
      },
      "outputs": [
        {
          "output_type": "stream",
          "name": "stdout",
          "text": [
            "--2023-05-29 06:16:54--  https://storage.yandexcloud.net/cloud-certs/CA.pem\n",
            "Resolving storage.yandexcloud.net (storage.yandexcloud.net)... 213.180.193.243, 2a02:6b8::1d9\n",
            "Connecting to storage.yandexcloud.net (storage.yandexcloud.net)|213.180.193.243|:443... connected.\n",
            "HTTP request sent, awaiting response... 200 OK\n",
            "Length: 3579 (3.5K) [application/x-x509-ca-cert]\n",
            "Saving to: ‘/root/.postgresql/root.crt’\n",
            "\n",
            "/root/.postgresql/r 100%[===================>]   3.50K  --.-KB/s    in 0s      \n",
            "\n",
            "2023-05-29 06:16:55 (613 MB/s) - ‘/root/.postgresql/root.crt’ saved [3579/3579]\n",
            "\n"
          ]
        }
      ],
      "source": [
        "!mkdir -p ~/.postgresql && \\\n",
        "wget \"https://storage.yandexcloud.net/cloud-certs/CA.pem\" \\\n",
        "    --output-document ~/.postgresql/root.crt && \\\n",
        "chmod 0600 ~/.postgresql/root.crt"
      ]
    },
    {
      "cell_type": "code",
      "source": [
        "!sudo apt update && sudo apt install --yes python3 python3-pip && \\ #загрузка вспомогательных ячеек для работы с БД (обновляем библиотеки)\n",
        "!pip3 install psycopg2-binary"
      ],
      "metadata": {
        "id": "OAFi6whWi-so",
        "colab": {
          "base_uri": "https://localhost:8080/"
        },
        "outputId": "aaf2a4f2-26d8-4206-ad9d-33349c37719c"
      },
      "execution_count": 3,
      "outputs": [
        {
          "output_type": "stream",
          "name": "stdout",
          "text": [
            "/bin/bash: -c: line 0: syntax error near unexpected token `('\n",
            "/bin/bash: -c: line 0: `sudo apt update && sudo apt install --yes python3 python3-pip && \\ #загрузка вспомогательных ячеек для работы с БД (обновляем библиотеки)'\n",
            "Looking in indexes: https://pypi.org/simple, https://us-python.pkg.dev/colab-wheels/public/simple/\n",
            "Collecting psycopg2-binary\n",
            "  Downloading psycopg2_binary-2.9.6-cp310-cp310-manylinux_2_17_x86_64.manylinux2014_x86_64.whl (3.0 MB)\n",
            "\u001b[2K     \u001b[90m━━━━━━━━━━━━━━━━━━━━━━━━━━━━━━━━━━━━━━━━\u001b[0m \u001b[32m3.0/3.0 MB\u001b[0m \u001b[31m31.1 MB/s\u001b[0m eta \u001b[36m0:00:00\u001b[0m\n",
            "\u001b[?25hInstalling collected packages: psycopg2-binary\n",
            "Successfully installed psycopg2-binary-2.9.6\n"
          ]
        }
      ]
    },
    {
      "cell_type": "code",
      "source": [
        "import psycopg2 #подключение к БД\n",
        "#параметры для подключения прописаны в БД заранее\n",
        "conn = psycopg2.connect(\"\"\"  \n",
        "    host=rc1b-70q90cunwkzx49mj.mdb.yandexcloud.net\n",
        "    port=6432\n",
        "    sslmode=verify-full\n",
        "    dbname=db_clients\n",
        "    user=mlhs_student\n",
        "    password=mlhs_student\n",
        "    target_session_attrs=read-write\n",
        "\"\"\") "
      ],
      "metadata": {
        "id": "7efd5Dz0jBYo"
      },
      "execution_count": 4,
      "outputs": []
    },
    {
      "cell_type": "code",
      "source": [
        "query = \"SELECT * from public.credit_scoring\"\n",
        "\n",
        "data = pd.read_sql_query(query, conn) #записываем из базы нужную таблицу к себе в объект data и отключаемся от базы\n",
        "\n",
        "#conn.close()"
      ],
      "metadata": {
        "id": "Z4QXHJtvjG5G"
      },
      "execution_count": 5,
      "outputs": []
    },
    {
      "cell_type": "markdown",
      "source": [
        "Посмотрим на данные.\n",
        "\n",
        "Описание данных клиентов:\n",
        "* Целевая переменная **SeriousDlqin2yrs**: Клиент имел просрочку 90 и более дней\n",
        "* RevolvingUtilizationOfUnsecuredLines: Общий баланс средств (total balance on credit cards and personal lines of credit except real estate and no installment debt like car loans divided by the sum of credit limits). \n",
        "* age: Возраст заемщика \n",
        "* NumberOfTime30-59DaysPastDueNotWorse: Сколько раз за последние 2 года наблюдалась просрочка 30-59 дней. \n",
        "* DebtRatio: Ежемесячные расходы (платеж по долгам, алиментам, расходы на проживания) деленные на месячный доход. \n",
        "* MonthlyIncome: Ежемесячный доход. \n",
        "* NumberOfOpenCreditLinesAndLoans: Количество открытых кредитов (напрмер, автокредит или ипотека) и кредитных карт. \n",
        "* NumberOfTimes90DaysLate: Сколько раз наблюдалась просрочка (90 и более дней)\n",
        "* NumberOfTime60-89DaysPastDueNotWorse: Сколько раз за последние 2 года заемщик задержал платеж на 60-89 дней.\n",
        "* NumberOfDependents: Количество иждивенцев на попечении (супруги, дети и др). \n",
        "* RealEstateLoansOrLines: Закодированное количество кредиов (в том числе под залог жилья) - чем больше код буквы, тем больше кредитов \n",
        "* GroupAge: закодированная возрастная группа - чем больше код, тем больше возраст.\n",
        "\n",
        "* NumberRealEstateLoansOrLines: Количество кредиов (в том числе под залог жилья) - нет в базе\n",
        "\n"
      ],
      "metadata": {
        "id": "SW_Rpf6HRZH0"
      }
    },
    {
      "cell_type": "code",
      "source": [
        "data.head(20) # голова таблицы, первые 5 строчек по умолчанию или сколько нужно, если укажешь в скобках"
      ],
      "metadata": {
        "id": "Md4hzBbl2QxB",
        "outputId": "cb752b5b-9014-431f-f535-c864dd217229",
        "colab": {
          "base_uri": "https://localhost:8080/",
          "height": 757
        }
      },
      "execution_count": 63,
      "outputs": [
        {
          "output_type": "execute_result",
          "data": {
            "text/plain": [
              "    SeriousDlqin2yrs  RevolvingUtilizationOfUnsecuredLines   age  \\\n",
              "0                  0                              0.221813  43.0   \n",
              "1                  0                              0.602794  25.0   \n",
              "2                  1                              0.025656  38.0   \n",
              "3                  0                              0.075427  32.0   \n",
              "4                  0                              0.046560  58.0   \n",
              "5                  1                              0.392248  50.0   \n",
              "6                  0                              0.034421  69.0   \n",
              "7                  0                              0.392995  58.0   \n",
              "8                  1                              0.695321  38.0   \n",
              "9                  0                              0.055950  53.0   \n",
              "10                 0                              0.006146  73.0   \n",
              "11                 0                              0.583236  29.0   \n",
              "12                 1                              0.957570  54.0   \n",
              "13                 0                              0.035870  54.0   \n",
              "14                 0                              0.058729  73.0   \n",
              "15                 0                              0.003072  61.0   \n",
              "16                 0                              0.326949  55.0   \n",
              "17                 0                              0.043612  61.0   \n",
              "18                 0                              0.498797  43.0   \n",
              "19                 0                              0.476731  46.0   \n",
              "\n",
              "    NumberOfTime30-59DaysPastDueNotWorse    DebtRatio  MonthlyIncome  \\\n",
              "0                                      0     0.527888         3280.0   \n",
              "1                                      0     0.065868          333.0   \n",
              "2                                      0     0.475841         3000.0   \n",
              "3                                      0     0.085512         7916.0   \n",
              "4                                      0     0.241622         2416.0   \n",
              "5                                      0     1.595253         4676.0   \n",
              "6                                      0     0.042383         2500.0   \n",
              "7                                      2     0.436103         5500.0   \n",
              "8                                      0     0.618575         7859.0   \n",
              "9                                      0     0.052868         2666.0   \n",
              "10                                     0     3.000000            NaN   \n",
              "11                                     2     0.323709         1800.0   \n",
              "12                                     0     0.371126         5000.0   \n",
              "13                                     0     0.022099         3800.0   \n",
              "14                                     0     0.142523         6833.0   \n",
              "15                                     0     0.000971         5150.0   \n",
              "16                                     0     0.389145        18000.0   \n",
              "17                                     0  2820.000000            NaN   \n",
              "18                                     0     0.269735         4800.0   \n",
              "19                                     0     1.404538         5200.0   \n",
              "\n",
              "    NumberOfOpenCreditLinesAndLoans  NumberOfDependents RealEstateLoansOrLines  \n",
              "0                                 7                 2.0                      1  \n",
              "1                                 2                 0.0                      1  \n",
              "2                                 7                 2.0                      1  \n",
              "3                                 6                 0.0                      1  \n",
              "4                                 9                 0.0                      1  \n",
              "5                                14                 1.0                      2  \n",
              "6                                17                 1.0                      1  \n",
              "7                                15                 0.0                      1  \n",
              "8                                 8                 3.0                      1  \n",
              "9                                 7                 0.0                      1  \n",
              "10                                2                 0.0                      1  \n",
              "11                               13                 3.0                      1  \n",
              "12                               11                 2.0                      1  \n",
              "13                                4                 1.0                      1  \n",
              "14                                6                 0.0                      1  \n",
              "15                                9                 1.0                      1  \n",
              "16                               13                 0.0                      2  \n",
              "17                               12                 0.0                      1  \n",
              "18                                6                 0.0                      1  \n",
              "19                               11                 1.0                      2  "
            ],
            "text/html": [
              "\n",
              "  <div id=\"df-1110ec0a-ee21-4456-8489-e855861b276b\">\n",
              "    <div class=\"colab-df-container\">\n",
              "      <div>\n",
              "<style scoped>\n",
              "    .dataframe tbody tr th:only-of-type {\n",
              "        vertical-align: middle;\n",
              "    }\n",
              "\n",
              "    .dataframe tbody tr th {\n",
              "        vertical-align: top;\n",
              "    }\n",
              "\n",
              "    .dataframe thead th {\n",
              "        text-align: right;\n",
              "    }\n",
              "</style>\n",
              "<table border=\"1\" class=\"dataframe\">\n",
              "  <thead>\n",
              "    <tr style=\"text-align: right;\">\n",
              "      <th></th>\n",
              "      <th>SeriousDlqin2yrs</th>\n",
              "      <th>RevolvingUtilizationOfUnsecuredLines</th>\n",
              "      <th>age</th>\n",
              "      <th>NumberOfTime30-59DaysPastDueNotWorse</th>\n",
              "      <th>DebtRatio</th>\n",
              "      <th>MonthlyIncome</th>\n",
              "      <th>NumberOfOpenCreditLinesAndLoans</th>\n",
              "      <th>NumberOfDependents</th>\n",
              "      <th>RealEstateLoansOrLines</th>\n",
              "    </tr>\n",
              "  </thead>\n",
              "  <tbody>\n",
              "    <tr>\n",
              "      <th>0</th>\n",
              "      <td>0</td>\n",
              "      <td>0.221813</td>\n",
              "      <td>43.0</td>\n",
              "      <td>0</td>\n",
              "      <td>0.527888</td>\n",
              "      <td>3280.0</td>\n",
              "      <td>7</td>\n",
              "      <td>2.0</td>\n",
              "      <td>1</td>\n",
              "    </tr>\n",
              "    <tr>\n",
              "      <th>1</th>\n",
              "      <td>0</td>\n",
              "      <td>0.602794</td>\n",
              "      <td>25.0</td>\n",
              "      <td>0</td>\n",
              "      <td>0.065868</td>\n",
              "      <td>333.0</td>\n",
              "      <td>2</td>\n",
              "      <td>0.0</td>\n",
              "      <td>1</td>\n",
              "    </tr>\n",
              "    <tr>\n",
              "      <th>2</th>\n",
              "      <td>1</td>\n",
              "      <td>0.025656</td>\n",
              "      <td>38.0</td>\n",
              "      <td>0</td>\n",
              "      <td>0.475841</td>\n",
              "      <td>3000.0</td>\n",
              "      <td>7</td>\n",
              "      <td>2.0</td>\n",
              "      <td>1</td>\n",
              "    </tr>\n",
              "    <tr>\n",
              "      <th>3</th>\n",
              "      <td>0</td>\n",
              "      <td>0.075427</td>\n",
              "      <td>32.0</td>\n",
              "      <td>0</td>\n",
              "      <td>0.085512</td>\n",
              "      <td>7916.0</td>\n",
              "      <td>6</td>\n",
              "      <td>0.0</td>\n",
              "      <td>1</td>\n",
              "    </tr>\n",
              "    <tr>\n",
              "      <th>4</th>\n",
              "      <td>0</td>\n",
              "      <td>0.046560</td>\n",
              "      <td>58.0</td>\n",
              "      <td>0</td>\n",
              "      <td>0.241622</td>\n",
              "      <td>2416.0</td>\n",
              "      <td>9</td>\n",
              "      <td>0.0</td>\n",
              "      <td>1</td>\n",
              "    </tr>\n",
              "    <tr>\n",
              "      <th>5</th>\n",
              "      <td>1</td>\n",
              "      <td>0.392248</td>\n",
              "      <td>50.0</td>\n",
              "      <td>0</td>\n",
              "      <td>1.595253</td>\n",
              "      <td>4676.0</td>\n",
              "      <td>14</td>\n",
              "      <td>1.0</td>\n",
              "      <td>2</td>\n",
              "    </tr>\n",
              "    <tr>\n",
              "      <th>6</th>\n",
              "      <td>0</td>\n",
              "      <td>0.034421</td>\n",
              "      <td>69.0</td>\n",
              "      <td>0</td>\n",
              "      <td>0.042383</td>\n",
              "      <td>2500.0</td>\n",
              "      <td>17</td>\n",
              "      <td>1.0</td>\n",
              "      <td>1</td>\n",
              "    </tr>\n",
              "    <tr>\n",
              "      <th>7</th>\n",
              "      <td>0</td>\n",
              "      <td>0.392995</td>\n",
              "      <td>58.0</td>\n",
              "      <td>2</td>\n",
              "      <td>0.436103</td>\n",
              "      <td>5500.0</td>\n",
              "      <td>15</td>\n",
              "      <td>0.0</td>\n",
              "      <td>1</td>\n",
              "    </tr>\n",
              "    <tr>\n",
              "      <th>8</th>\n",
              "      <td>1</td>\n",
              "      <td>0.695321</td>\n",
              "      <td>38.0</td>\n",
              "      <td>0</td>\n",
              "      <td>0.618575</td>\n",
              "      <td>7859.0</td>\n",
              "      <td>8</td>\n",
              "      <td>3.0</td>\n",
              "      <td>1</td>\n",
              "    </tr>\n",
              "    <tr>\n",
              "      <th>9</th>\n",
              "      <td>0</td>\n",
              "      <td>0.055950</td>\n",
              "      <td>53.0</td>\n",
              "      <td>0</td>\n",
              "      <td>0.052868</td>\n",
              "      <td>2666.0</td>\n",
              "      <td>7</td>\n",
              "      <td>0.0</td>\n",
              "      <td>1</td>\n",
              "    </tr>\n",
              "    <tr>\n",
              "      <th>10</th>\n",
              "      <td>0</td>\n",
              "      <td>0.006146</td>\n",
              "      <td>73.0</td>\n",
              "      <td>0</td>\n",
              "      <td>3.000000</td>\n",
              "      <td>NaN</td>\n",
              "      <td>2</td>\n",
              "      <td>0.0</td>\n",
              "      <td>1</td>\n",
              "    </tr>\n",
              "    <tr>\n",
              "      <th>11</th>\n",
              "      <td>0</td>\n",
              "      <td>0.583236</td>\n",
              "      <td>29.0</td>\n",
              "      <td>2</td>\n",
              "      <td>0.323709</td>\n",
              "      <td>1800.0</td>\n",
              "      <td>13</td>\n",
              "      <td>3.0</td>\n",
              "      <td>1</td>\n",
              "    </tr>\n",
              "    <tr>\n",
              "      <th>12</th>\n",
              "      <td>1</td>\n",
              "      <td>0.957570</td>\n",
              "      <td>54.0</td>\n",
              "      <td>0</td>\n",
              "      <td>0.371126</td>\n",
              "      <td>5000.0</td>\n",
              "      <td>11</td>\n",
              "      <td>2.0</td>\n",
              "      <td>1</td>\n",
              "    </tr>\n",
              "    <tr>\n",
              "      <th>13</th>\n",
              "      <td>0</td>\n",
              "      <td>0.035870</td>\n",
              "      <td>54.0</td>\n",
              "      <td>0</td>\n",
              "      <td>0.022099</td>\n",
              "      <td>3800.0</td>\n",
              "      <td>4</td>\n",
              "      <td>1.0</td>\n",
              "      <td>1</td>\n",
              "    </tr>\n",
              "    <tr>\n",
              "      <th>14</th>\n",
              "      <td>0</td>\n",
              "      <td>0.058729</td>\n",
              "      <td>73.0</td>\n",
              "      <td>0</td>\n",
              "      <td>0.142523</td>\n",
              "      <td>6833.0</td>\n",
              "      <td>6</td>\n",
              "      <td>0.0</td>\n",
              "      <td>1</td>\n",
              "    </tr>\n",
              "    <tr>\n",
              "      <th>15</th>\n",
              "      <td>0</td>\n",
              "      <td>0.003072</td>\n",
              "      <td>61.0</td>\n",
              "      <td>0</td>\n",
              "      <td>0.000971</td>\n",
              "      <td>5150.0</td>\n",
              "      <td>9</td>\n",
              "      <td>1.0</td>\n",
              "      <td>1</td>\n",
              "    </tr>\n",
              "    <tr>\n",
              "      <th>16</th>\n",
              "      <td>0</td>\n",
              "      <td>0.326949</td>\n",
              "      <td>55.0</td>\n",
              "      <td>0</td>\n",
              "      <td>0.389145</td>\n",
              "      <td>18000.0</td>\n",
              "      <td>13</td>\n",
              "      <td>0.0</td>\n",
              "      <td>2</td>\n",
              "    </tr>\n",
              "    <tr>\n",
              "      <th>17</th>\n",
              "      <td>0</td>\n",
              "      <td>0.043612</td>\n",
              "      <td>61.0</td>\n",
              "      <td>0</td>\n",
              "      <td>2820.000000</td>\n",
              "      <td>NaN</td>\n",
              "      <td>12</td>\n",
              "      <td>0.0</td>\n",
              "      <td>1</td>\n",
              "    </tr>\n",
              "    <tr>\n",
              "      <th>18</th>\n",
              "      <td>0</td>\n",
              "      <td>0.498797</td>\n",
              "      <td>43.0</td>\n",
              "      <td>0</td>\n",
              "      <td>0.269735</td>\n",
              "      <td>4800.0</td>\n",
              "      <td>6</td>\n",
              "      <td>0.0</td>\n",
              "      <td>1</td>\n",
              "    </tr>\n",
              "    <tr>\n",
              "      <th>19</th>\n",
              "      <td>0</td>\n",
              "      <td>0.476731</td>\n",
              "      <td>46.0</td>\n",
              "      <td>0</td>\n",
              "      <td>1.404538</td>\n",
              "      <td>5200.0</td>\n",
              "      <td>11</td>\n",
              "      <td>1.0</td>\n",
              "      <td>2</td>\n",
              "    </tr>\n",
              "  </tbody>\n",
              "</table>\n",
              "</div>\n",
              "      <button class=\"colab-df-convert\" onclick=\"convertToInteractive('df-1110ec0a-ee21-4456-8489-e855861b276b')\"\n",
              "              title=\"Convert this dataframe to an interactive table.\"\n",
              "              style=\"display:none;\">\n",
              "        \n",
              "  <svg xmlns=\"http://www.w3.org/2000/svg\" height=\"24px\"viewBox=\"0 0 24 24\"\n",
              "       width=\"24px\">\n",
              "    <path d=\"M0 0h24v24H0V0z\" fill=\"none\"/>\n",
              "    <path d=\"M18.56 5.44l.94 2.06.94-2.06 2.06-.94-2.06-.94-.94-2.06-.94 2.06-2.06.94zm-11 1L8.5 8.5l.94-2.06 2.06-.94-2.06-.94L8.5 2.5l-.94 2.06-2.06.94zm10 10l.94 2.06.94-2.06 2.06-.94-2.06-.94-.94-2.06-.94 2.06-2.06.94z\"/><path d=\"M17.41 7.96l-1.37-1.37c-.4-.4-.92-.59-1.43-.59-.52 0-1.04.2-1.43.59L10.3 9.45l-7.72 7.72c-.78.78-.78 2.05 0 2.83L4 21.41c.39.39.9.59 1.41.59.51 0 1.02-.2 1.41-.59l7.78-7.78 2.81-2.81c.8-.78.8-2.07 0-2.86zM5.41 20L4 18.59l7.72-7.72 1.47 1.35L5.41 20z\"/>\n",
              "  </svg>\n",
              "      </button>\n",
              "      \n",
              "  <style>\n",
              "    .colab-df-container {\n",
              "      display:flex;\n",
              "      flex-wrap:wrap;\n",
              "      gap: 12px;\n",
              "    }\n",
              "\n",
              "    .colab-df-convert {\n",
              "      background-color: #E8F0FE;\n",
              "      border: none;\n",
              "      border-radius: 50%;\n",
              "      cursor: pointer;\n",
              "      display: none;\n",
              "      fill: #1967D2;\n",
              "      height: 32px;\n",
              "      padding: 0 0 0 0;\n",
              "      width: 32px;\n",
              "    }\n",
              "\n",
              "    .colab-df-convert:hover {\n",
              "      background-color: #E2EBFA;\n",
              "      box-shadow: 0px 1px 2px rgba(60, 64, 67, 0.3), 0px 1px 3px 1px rgba(60, 64, 67, 0.15);\n",
              "      fill: #174EA6;\n",
              "    }\n",
              "\n",
              "    [theme=dark] .colab-df-convert {\n",
              "      background-color: #3B4455;\n",
              "      fill: #D2E3FC;\n",
              "    }\n",
              "\n",
              "    [theme=dark] .colab-df-convert:hover {\n",
              "      background-color: #434B5C;\n",
              "      box-shadow: 0px 1px 3px 1px rgba(0, 0, 0, 0.15);\n",
              "      filter: drop-shadow(0px 1px 2px rgba(0, 0, 0, 0.3));\n",
              "      fill: #FFFFFF;\n",
              "    }\n",
              "  </style>\n",
              "\n",
              "      <script>\n",
              "        const buttonEl =\n",
              "          document.querySelector('#df-1110ec0a-ee21-4456-8489-e855861b276b button.colab-df-convert');\n",
              "        buttonEl.style.display =\n",
              "          google.colab.kernel.accessAllowed ? 'block' : 'none';\n",
              "\n",
              "        async function convertToInteractive(key) {\n",
              "          const element = document.querySelector('#df-1110ec0a-ee21-4456-8489-e855861b276b');\n",
              "          const dataTable =\n",
              "            await google.colab.kernel.invokeFunction('convertToInteractive',\n",
              "                                                     [key], {});\n",
              "          if (!dataTable) return;\n",
              "\n",
              "          const docLinkHtml = 'Like what you see? Visit the ' +\n",
              "            '<a target=\"_blank\" href=https://colab.research.google.com/notebooks/data_table.ipynb>data table notebook</a>'\n",
              "            + ' to learn more about interactive tables.';\n",
              "          element.innerHTML = '';\n",
              "          dataTable['output_type'] = 'display_data';\n",
              "          await google.colab.output.renderOutput(dataTable, element);\n",
              "          const docLink = document.createElement('div');\n",
              "          docLink.innerHTML = docLinkHtml;\n",
              "          element.appendChild(docLink);\n",
              "        }\n",
              "      </script>\n",
              "    </div>\n",
              "  </div>\n",
              "  "
            ]
          },
          "metadata": {},
          "execution_count": 63
        }
      ]
    },
    {
      "cell_type": "code",
      "source": [
        "data.groupby('RealEstateLoansOrLines').count()"
      ],
      "metadata": {
        "id": "GQFgcl_9q-wF",
        "outputId": "494c231d-919c-4e7b-a276-4843af15ee61",
        "colab": {
          "base_uri": "https://localhost:8080/",
          "height": 319
        }
      },
      "execution_count": 131,
      "outputs": [
        {
          "output_type": "execute_result",
          "data": {
            "text/plain": [
              "                        SeriousDlqin2yrs  \\\n",
              "RealEstateLoansOrLines                     \n",
              "1                                 138603   \n",
              "2                                   8467   \n",
              "3                                   1388   \n",
              "4                                     84   \n",
              "5                                     10   \n",
              "\n",
              "                        RevolvingUtilizationOfUnsecuredLines     age  \\\n",
              "RealEstateLoansOrLines                                                 \n",
              "1                                                     138603  138603   \n",
              "2                                                       8467    8467   \n",
              "3                                                       1388    1388   \n",
              "4                                                         84      84   \n",
              "5                                                         10      10   \n",
              "\n",
              "                        NumberOfTime30-59DaysPastDueNotWorse  DebtRatio  \\\n",
              "RealEstateLoansOrLines                                                    \n",
              "1                                                     138603     138603   \n",
              "2                                                       8467       8467   \n",
              "3                                                       1388       1388   \n",
              "4                                                         84         84   \n",
              "5                                                         10         10   \n",
              "\n",
              "                        MonthlyIncome  NumberOfOpenCreditLinesAndLoans  \\\n",
              "RealEstateLoansOrLines                                                   \n",
              "1                              138603                           138603   \n",
              "2                                8467                             8467   \n",
              "3                                1388                             1388   \n",
              "4                                  84                               84   \n",
              "5                                  10                               10   \n",
              "\n",
              "                        NumberOfDependents  \n",
              "RealEstateLoansOrLines                      \n",
              "1                                   138603  \n",
              "2                                     8467  \n",
              "3                                     1388  \n",
              "4                                       84  \n",
              "5                                       10  "
            ],
            "text/html": [
              "\n",
              "  <div id=\"df-188ab570-b5d0-4195-a7b1-6d174519373a\">\n",
              "    <div class=\"colab-df-container\">\n",
              "      <div>\n",
              "<style scoped>\n",
              "    .dataframe tbody tr th:only-of-type {\n",
              "        vertical-align: middle;\n",
              "    }\n",
              "\n",
              "    .dataframe tbody tr th {\n",
              "        vertical-align: top;\n",
              "    }\n",
              "\n",
              "    .dataframe thead th {\n",
              "        text-align: right;\n",
              "    }\n",
              "</style>\n",
              "<table border=\"1\" class=\"dataframe\">\n",
              "  <thead>\n",
              "    <tr style=\"text-align: right;\">\n",
              "      <th></th>\n",
              "      <th>SeriousDlqin2yrs</th>\n",
              "      <th>RevolvingUtilizationOfUnsecuredLines</th>\n",
              "      <th>age</th>\n",
              "      <th>NumberOfTime30-59DaysPastDueNotWorse</th>\n",
              "      <th>DebtRatio</th>\n",
              "      <th>MonthlyIncome</th>\n",
              "      <th>NumberOfOpenCreditLinesAndLoans</th>\n",
              "      <th>NumberOfDependents</th>\n",
              "    </tr>\n",
              "    <tr>\n",
              "      <th>RealEstateLoansOrLines</th>\n",
              "      <th></th>\n",
              "      <th></th>\n",
              "      <th></th>\n",
              "      <th></th>\n",
              "      <th></th>\n",
              "      <th></th>\n",
              "      <th></th>\n",
              "      <th></th>\n",
              "    </tr>\n",
              "  </thead>\n",
              "  <tbody>\n",
              "    <tr>\n",
              "      <th>1</th>\n",
              "      <td>138603</td>\n",
              "      <td>138603</td>\n",
              "      <td>138603</td>\n",
              "      <td>138603</td>\n",
              "      <td>138603</td>\n",
              "      <td>138603</td>\n",
              "      <td>138603</td>\n",
              "      <td>138603</td>\n",
              "    </tr>\n",
              "    <tr>\n",
              "      <th>2</th>\n",
              "      <td>8467</td>\n",
              "      <td>8467</td>\n",
              "      <td>8467</td>\n",
              "      <td>8467</td>\n",
              "      <td>8467</td>\n",
              "      <td>8467</td>\n",
              "      <td>8467</td>\n",
              "      <td>8467</td>\n",
              "    </tr>\n",
              "    <tr>\n",
              "      <th>3</th>\n",
              "      <td>1388</td>\n",
              "      <td>1388</td>\n",
              "      <td>1388</td>\n",
              "      <td>1388</td>\n",
              "      <td>1388</td>\n",
              "      <td>1388</td>\n",
              "      <td>1388</td>\n",
              "      <td>1388</td>\n",
              "    </tr>\n",
              "    <tr>\n",
              "      <th>4</th>\n",
              "      <td>84</td>\n",
              "      <td>84</td>\n",
              "      <td>84</td>\n",
              "      <td>84</td>\n",
              "      <td>84</td>\n",
              "      <td>84</td>\n",
              "      <td>84</td>\n",
              "      <td>84</td>\n",
              "    </tr>\n",
              "    <tr>\n",
              "      <th>5</th>\n",
              "      <td>10</td>\n",
              "      <td>10</td>\n",
              "      <td>10</td>\n",
              "      <td>10</td>\n",
              "      <td>10</td>\n",
              "      <td>10</td>\n",
              "      <td>10</td>\n",
              "      <td>10</td>\n",
              "    </tr>\n",
              "  </tbody>\n",
              "</table>\n",
              "</div>\n",
              "      <button class=\"colab-df-convert\" onclick=\"convertToInteractive('df-188ab570-b5d0-4195-a7b1-6d174519373a')\"\n",
              "              title=\"Convert this dataframe to an interactive table.\"\n",
              "              style=\"display:none;\">\n",
              "        \n",
              "  <svg xmlns=\"http://www.w3.org/2000/svg\" height=\"24px\"viewBox=\"0 0 24 24\"\n",
              "       width=\"24px\">\n",
              "    <path d=\"M0 0h24v24H0V0z\" fill=\"none\"/>\n",
              "    <path d=\"M18.56 5.44l.94 2.06.94-2.06 2.06-.94-2.06-.94-.94-2.06-.94 2.06-2.06.94zm-11 1L8.5 8.5l.94-2.06 2.06-.94-2.06-.94L8.5 2.5l-.94 2.06-2.06.94zm10 10l.94 2.06.94-2.06 2.06-.94-2.06-.94-.94-2.06-.94 2.06-2.06.94z\"/><path d=\"M17.41 7.96l-1.37-1.37c-.4-.4-.92-.59-1.43-.59-.52 0-1.04.2-1.43.59L10.3 9.45l-7.72 7.72c-.78.78-.78 2.05 0 2.83L4 21.41c.39.39.9.59 1.41.59.51 0 1.02-.2 1.41-.59l7.78-7.78 2.81-2.81c.8-.78.8-2.07 0-2.86zM5.41 20L4 18.59l7.72-7.72 1.47 1.35L5.41 20z\"/>\n",
              "  </svg>\n",
              "      </button>\n",
              "      \n",
              "  <style>\n",
              "    .colab-df-container {\n",
              "      display:flex;\n",
              "      flex-wrap:wrap;\n",
              "      gap: 12px;\n",
              "    }\n",
              "\n",
              "    .colab-df-convert {\n",
              "      background-color: #E8F0FE;\n",
              "      border: none;\n",
              "      border-radius: 50%;\n",
              "      cursor: pointer;\n",
              "      display: none;\n",
              "      fill: #1967D2;\n",
              "      height: 32px;\n",
              "      padding: 0 0 0 0;\n",
              "      width: 32px;\n",
              "    }\n",
              "\n",
              "    .colab-df-convert:hover {\n",
              "      background-color: #E2EBFA;\n",
              "      box-shadow: 0px 1px 2px rgba(60, 64, 67, 0.3), 0px 1px 3px 1px rgba(60, 64, 67, 0.15);\n",
              "      fill: #174EA6;\n",
              "    }\n",
              "\n",
              "    [theme=dark] .colab-df-convert {\n",
              "      background-color: #3B4455;\n",
              "      fill: #D2E3FC;\n",
              "    }\n",
              "\n",
              "    [theme=dark] .colab-df-convert:hover {\n",
              "      background-color: #434B5C;\n",
              "      box-shadow: 0px 1px 3px 1px rgba(0, 0, 0, 0.15);\n",
              "      filter: drop-shadow(0px 1px 2px rgba(0, 0, 0, 0.3));\n",
              "      fill: #FFFFFF;\n",
              "    }\n",
              "  </style>\n",
              "\n",
              "      <script>\n",
              "        const buttonEl =\n",
              "          document.querySelector('#df-188ab570-b5d0-4195-a7b1-6d174519373a button.colab-df-convert');\n",
              "        buttonEl.style.display =\n",
              "          google.colab.kernel.accessAllowed ? 'block' : 'none';\n",
              "\n",
              "        async function convertToInteractive(key) {\n",
              "          const element = document.querySelector('#df-188ab570-b5d0-4195-a7b1-6d174519373a');\n",
              "          const dataTable =\n",
              "            await google.colab.kernel.invokeFunction('convertToInteractive',\n",
              "                                                     [key], {});\n",
              "          if (!dataTable) return;\n",
              "\n",
              "          const docLinkHtml = 'Like what you see? Visit the ' +\n",
              "            '<a target=\"_blank\" href=https://colab.research.google.com/notebooks/data_table.ipynb>data table notebook</a>'\n",
              "            + ' to learn more about interactive tables.';\n",
              "          element.innerHTML = '';\n",
              "          dataTable['output_type'] = 'display_data';\n",
              "          await google.colab.output.renderOutput(dataTable, element);\n",
              "          const docLink = document.createElement('div');\n",
              "          docLink.innerHTML = docLinkHtml;\n",
              "          element.appendChild(docLink);\n",
              "        }\n",
              "      </script>\n",
              "    </div>\n",
              "  </div>\n",
              "  "
            ]
          },
          "metadata": {},
          "execution_count": 131
        }
      ]
    },
    {
      "cell_type": "code",
      "source": [
        "data = data.replace('A', '1')\n",
        "data = data.replace('B', '2')\n",
        "data = data.replace('C', '3')\n",
        "data = data.replace('D', '4')\n",
        "data = data.replace('E', '5')\n",
        "data['RealEstateLoansOrLines']=pd.to_numeric(data['RealEstateLoansOrLines'])"
      ],
      "metadata": {
        "id": "X5lbtfIbfgad"
      },
      "execution_count": 166,
      "outputs": []
    },
    {
      "cell_type": "code",
      "source": [
        "data.tail() #конец таблицы, последние 5 строчек по умолчанию или сколько нужно, если укажешь в скобках"
      ],
      "metadata": {
        "id": "3WWFMf7BRYFq",
        "colab": {
          "base_uri": "https://localhost:8080/",
          "height": 287
        },
        "outputId": "8e684f6f-de8a-476e-e4b1-d32feac75ba5"
      },
      "execution_count": 149,
      "outputs": [
        {
          "output_type": "execute_result",
          "data": {
            "text/plain": [
              "        SeriousDlqin2yrs  RevolvingUtilizationOfUnsecuredLines   age  \\\n",
              "149995                 0                              0.977899  63.0   \n",
              "149996                 0                              0.025449  58.0   \n",
              "149997                 0                              0.058001  83.0   \n",
              "149998                 0                              0.071273  42.0   \n",
              "149999                 0                              1.026395  44.0   \n",
              "\n",
              "        NumberOfTime30-59DaysPastDueNotWorse   DebtRatio  MonthlyIncome  \\\n",
              "149995                                     0  517.000000            NaN   \n",
              "149996                                     0    0.253855        15500.0   \n",
              "149997                                     0    0.013997         5000.0   \n",
              "149998                                     0    0.008638         6945.0   \n",
              "149999                                     0    0.494819         5500.0   \n",
              "\n",
              "        NumberOfOpenCreditLinesAndLoans  NumberOfTimes90DaysLate  \\\n",
              "149995                                5                        0   \n",
              "149996                                7                        0   \n",
              "149997                                6                        0   \n",
              "149998                                3                        0   \n",
              "149999                                7                        0   \n",
              "\n",
              "        NumberOfTime60-89DaysPastDueNotWorse  NumberOfDependents  \\\n",
              "149995                                     1                 0.0   \n",
              "149996                                     0                 2.0   \n",
              "149997                                     0                 0.0   \n",
              "149998                                     0                 1.0   \n",
              "149999                                     0                 1.0   \n",
              "\n",
              "       RealEstateLoansOrLines GroupAge  \n",
              "149995                      A        d  \n",
              "149996                      A        d  \n",
              "149997                      A        e  \n",
              "149998                      A        c  \n",
              "149999                      A        c  "
            ],
            "text/html": [
              "\n",
              "  <div id=\"df-72cb51f5-2c55-4722-ba6a-20061ff3718c\">\n",
              "    <div class=\"colab-df-container\">\n",
              "      <div>\n",
              "<style scoped>\n",
              "    .dataframe tbody tr th:only-of-type {\n",
              "        vertical-align: middle;\n",
              "    }\n",
              "\n",
              "    .dataframe tbody tr th {\n",
              "        vertical-align: top;\n",
              "    }\n",
              "\n",
              "    .dataframe thead th {\n",
              "        text-align: right;\n",
              "    }\n",
              "</style>\n",
              "<table border=\"1\" class=\"dataframe\">\n",
              "  <thead>\n",
              "    <tr style=\"text-align: right;\">\n",
              "      <th></th>\n",
              "      <th>SeriousDlqin2yrs</th>\n",
              "      <th>RevolvingUtilizationOfUnsecuredLines</th>\n",
              "      <th>age</th>\n",
              "      <th>NumberOfTime30-59DaysPastDueNotWorse</th>\n",
              "      <th>DebtRatio</th>\n",
              "      <th>MonthlyIncome</th>\n",
              "      <th>NumberOfOpenCreditLinesAndLoans</th>\n",
              "      <th>NumberOfTimes90DaysLate</th>\n",
              "      <th>NumberOfTime60-89DaysPastDueNotWorse</th>\n",
              "      <th>NumberOfDependents</th>\n",
              "      <th>RealEstateLoansOrLines</th>\n",
              "      <th>GroupAge</th>\n",
              "    </tr>\n",
              "  </thead>\n",
              "  <tbody>\n",
              "    <tr>\n",
              "      <th>149995</th>\n",
              "      <td>0</td>\n",
              "      <td>0.977899</td>\n",
              "      <td>63.0</td>\n",
              "      <td>0</td>\n",
              "      <td>517.000000</td>\n",
              "      <td>NaN</td>\n",
              "      <td>5</td>\n",
              "      <td>0</td>\n",
              "      <td>1</td>\n",
              "      <td>0.0</td>\n",
              "      <td>A</td>\n",
              "      <td>d</td>\n",
              "    </tr>\n",
              "    <tr>\n",
              "      <th>149996</th>\n",
              "      <td>0</td>\n",
              "      <td>0.025449</td>\n",
              "      <td>58.0</td>\n",
              "      <td>0</td>\n",
              "      <td>0.253855</td>\n",
              "      <td>15500.0</td>\n",
              "      <td>7</td>\n",
              "      <td>0</td>\n",
              "      <td>0</td>\n",
              "      <td>2.0</td>\n",
              "      <td>A</td>\n",
              "      <td>d</td>\n",
              "    </tr>\n",
              "    <tr>\n",
              "      <th>149997</th>\n",
              "      <td>0</td>\n",
              "      <td>0.058001</td>\n",
              "      <td>83.0</td>\n",
              "      <td>0</td>\n",
              "      <td>0.013997</td>\n",
              "      <td>5000.0</td>\n",
              "      <td>6</td>\n",
              "      <td>0</td>\n",
              "      <td>0</td>\n",
              "      <td>0.0</td>\n",
              "      <td>A</td>\n",
              "      <td>e</td>\n",
              "    </tr>\n",
              "    <tr>\n",
              "      <th>149998</th>\n",
              "      <td>0</td>\n",
              "      <td>0.071273</td>\n",
              "      <td>42.0</td>\n",
              "      <td>0</td>\n",
              "      <td>0.008638</td>\n",
              "      <td>6945.0</td>\n",
              "      <td>3</td>\n",
              "      <td>0</td>\n",
              "      <td>0</td>\n",
              "      <td>1.0</td>\n",
              "      <td>A</td>\n",
              "      <td>c</td>\n",
              "    </tr>\n",
              "    <tr>\n",
              "      <th>149999</th>\n",
              "      <td>0</td>\n",
              "      <td>1.026395</td>\n",
              "      <td>44.0</td>\n",
              "      <td>0</td>\n",
              "      <td>0.494819</td>\n",
              "      <td>5500.0</td>\n",
              "      <td>7</td>\n",
              "      <td>0</td>\n",
              "      <td>0</td>\n",
              "      <td>1.0</td>\n",
              "      <td>A</td>\n",
              "      <td>c</td>\n",
              "    </tr>\n",
              "  </tbody>\n",
              "</table>\n",
              "</div>\n",
              "      <button class=\"colab-df-convert\" onclick=\"convertToInteractive('df-72cb51f5-2c55-4722-ba6a-20061ff3718c')\"\n",
              "              title=\"Convert this dataframe to an interactive table.\"\n",
              "              style=\"display:none;\">\n",
              "        \n",
              "  <svg xmlns=\"http://www.w3.org/2000/svg\" height=\"24px\"viewBox=\"0 0 24 24\"\n",
              "       width=\"24px\">\n",
              "    <path d=\"M0 0h24v24H0V0z\" fill=\"none\"/>\n",
              "    <path d=\"M18.56 5.44l.94 2.06.94-2.06 2.06-.94-2.06-.94-.94-2.06-.94 2.06-2.06.94zm-11 1L8.5 8.5l.94-2.06 2.06-.94-2.06-.94L8.5 2.5l-.94 2.06-2.06.94zm10 10l.94 2.06.94-2.06 2.06-.94-2.06-.94-.94-2.06-.94 2.06-2.06.94z\"/><path d=\"M17.41 7.96l-1.37-1.37c-.4-.4-.92-.59-1.43-.59-.52 0-1.04.2-1.43.59L10.3 9.45l-7.72 7.72c-.78.78-.78 2.05 0 2.83L4 21.41c.39.39.9.59 1.41.59.51 0 1.02-.2 1.41-.59l7.78-7.78 2.81-2.81c.8-.78.8-2.07 0-2.86zM5.41 20L4 18.59l7.72-7.72 1.47 1.35L5.41 20z\"/>\n",
              "  </svg>\n",
              "      </button>\n",
              "      \n",
              "  <style>\n",
              "    .colab-df-container {\n",
              "      display:flex;\n",
              "      flex-wrap:wrap;\n",
              "      gap: 12px;\n",
              "    }\n",
              "\n",
              "    .colab-df-convert {\n",
              "      background-color: #E8F0FE;\n",
              "      border: none;\n",
              "      border-radius: 50%;\n",
              "      cursor: pointer;\n",
              "      display: none;\n",
              "      fill: #1967D2;\n",
              "      height: 32px;\n",
              "      padding: 0 0 0 0;\n",
              "      width: 32px;\n",
              "    }\n",
              "\n",
              "    .colab-df-convert:hover {\n",
              "      background-color: #E2EBFA;\n",
              "      box-shadow: 0px 1px 2px rgba(60, 64, 67, 0.3), 0px 1px 3px 1px rgba(60, 64, 67, 0.15);\n",
              "      fill: #174EA6;\n",
              "    }\n",
              "\n",
              "    [theme=dark] .colab-df-convert {\n",
              "      background-color: #3B4455;\n",
              "      fill: #D2E3FC;\n",
              "    }\n",
              "\n",
              "    [theme=dark] .colab-df-convert:hover {\n",
              "      background-color: #434B5C;\n",
              "      box-shadow: 0px 1px 3px 1px rgba(0, 0, 0, 0.15);\n",
              "      filter: drop-shadow(0px 1px 2px rgba(0, 0, 0, 0.3));\n",
              "      fill: #FFFFFF;\n",
              "    }\n",
              "  </style>\n",
              "\n",
              "      <script>\n",
              "        const buttonEl =\n",
              "          document.querySelector('#df-72cb51f5-2c55-4722-ba6a-20061ff3718c button.colab-df-convert');\n",
              "        buttonEl.style.display =\n",
              "          google.colab.kernel.accessAllowed ? 'block' : 'none';\n",
              "\n",
              "        async function convertToInteractive(key) {\n",
              "          const element = document.querySelector('#df-72cb51f5-2c55-4722-ba6a-20061ff3718c');\n",
              "          const dataTable =\n",
              "            await google.colab.kernel.invokeFunction('convertToInteractive',\n",
              "                                                     [key], {});\n",
              "          if (!dataTable) return;\n",
              "\n",
              "          const docLinkHtml = 'Like what you see? Visit the ' +\n",
              "            '<a target=\"_blank\" href=https://colab.research.google.com/notebooks/data_table.ipynb>data table notebook</a>'\n",
              "            + ' to learn more about interactive tables.';\n",
              "          element.innerHTML = '';\n",
              "          dataTable['output_type'] = 'display_data';\n",
              "          await google.colab.output.renderOutput(dataTable, element);\n",
              "          const docLink = document.createElement('div');\n",
              "          docLink.innerHTML = docLinkHtml;\n",
              "          element.appendChild(docLink);\n",
              "        }\n",
              "      </script>\n",
              "    </div>\n",
              "  </div>\n",
              "  "
            ]
          },
          "metadata": {},
          "execution_count": 149
        }
      ]
    },
    {
      "cell_type": "code",
      "source": [
        "data.shape #общее кол-во данных, размер таблицы"
      ],
      "metadata": {
        "id": "aX7cYQzN0k_Z",
        "colab": {
          "base_uri": "https://localhost:8080/"
        },
        "outputId": "f37071e0-c3ca-4298-cb76-763143cd7e7b"
      },
      "execution_count": 185,
      "outputs": [
        {
          "output_type": "execute_result",
          "data": {
            "text/plain": [
              "(148551, 9)"
            ]
          },
          "metadata": {},
          "execution_count": 185
        }
      ]
    },
    {
      "cell_type": "markdown",
      "source": [
        "11 признаков + целевая переменная"
      ],
      "metadata": {
        "id": "9Ku2D-ow4UGU"
      }
    },
    {
      "cell_type": "code",
      "source": [
        "data.dtypes #типы колонок"
      ],
      "metadata": {
        "id": "1FjpaGIa0mjt",
        "colab": {
          "base_uri": "https://localhost:8080/",
          "height": 165
        },
        "outputId": "f51b90f5-d160-4f4a-ccbb-f4da8b2920ed"
      },
      "execution_count": 68,
      "outputs": [
        {
          "output_type": "error",
          "ename": "AttributeError",
          "evalue": "ignored",
          "traceback": [
            "\u001b[0;31m---------------------------------------------------------------------------\u001b[0m",
            "\u001b[0;31mAttributeError\u001b[0m                            Traceback (most recent call last)",
            "\u001b[0;32m<ipython-input-68-f7dc2be986bf>\u001b[0m in \u001b[0;36m<cell line: 1>\u001b[0;34m()\u001b[0m\n\u001b[0;32m----> 1\u001b[0;31m \u001b[0mdata\u001b[0m\u001b[0;34m.\u001b[0m\u001b[0mdtypes\u001b[0m \u001b[0;31m#типы колонок\u001b[0m\u001b[0;34m\u001b[0m\u001b[0;34m\u001b[0m\u001b[0m\n\u001b[0m",
            "\u001b[0;31mAttributeError\u001b[0m: 'numpy.ndarray' object has no attribute 'dtypes'"
          ]
        }
      ]
    },
    {
      "cell_type": "code",
      "source": [
        "data.info() #детальная информация по данным"
      ],
      "metadata": {
        "colab": {
          "base_uri": "https://localhost:8080/"
        },
        "id": "WTbym9zJIPLh",
        "outputId": "3c7c5567-ad0b-423d-a09c-5669304d1d17"
      },
      "execution_count": 169,
      "outputs": [
        {
          "output_type": "stream",
          "name": "stdout",
          "text": [
            "<class 'pandas.core.frame.DataFrame'>\n",
            "RangeIndex: 148552 entries, 0 to 148551\n",
            "Data columns (total 9 columns):\n",
            " #   Column                                Non-Null Count   Dtype  \n",
            "---  ------                                --------------   -----  \n",
            " 0   SeriousDlqin2yrs                      148552 non-null  int64  \n",
            " 1   RevolvingUtilizationOfUnsecuredLines  148552 non-null  float64\n",
            " 2   age                                   148552 non-null  float64\n",
            " 3   NumberOfTime30-59DaysPastDueNotWorse  148552 non-null  int64  \n",
            " 4   DebtRatio                             148552 non-null  float64\n",
            " 5   MonthlyIncome                         148552 non-null  float64\n",
            " 6   NumberOfOpenCreditLinesAndLoans       148552 non-null  int64  \n",
            " 7   NumberOfDependents                    148552 non-null  float64\n",
            " 8   RealEstateLoansOrLines                148552 non-null  int64  \n",
            "dtypes: float64(5), int64(4)\n",
            "memory usage: 10.2 MB\n"
          ]
        }
      ]
    },
    {
      "cell_type": "markdown",
      "source": [
        "## Сохранение данных"
      ],
      "metadata": {
        "id": "0ALQi-Vf2rYb"
      }
    },
    {
      "cell_type": "code",
      "source": [
        "data.to_csv(\"credit_scoring_output.csv\", index=False) #сохраняем табличку к себе"
      ],
      "metadata": {
        "id": "nAFYRh072trA"
      },
      "execution_count": 171,
      "outputs": []
    },
    {
      "cell_type": "code",
      "source": [
        "data = pd.read_csv(\"credit_scoring_output.csv\") #для таблиц не из базы, а сохраненных у себя в файлах"
      ],
      "metadata": {
        "id": "St_3B7fjIyX8"
      },
      "execution_count": 251,
      "outputs": []
    },
    {
      "cell_type": "markdown",
      "source": [
        "# Разведочный анализ данных"
      ],
      "metadata": {
        "id": "9u5kjESXjg-s"
      }
    },
    {
      "cell_type": "markdown",
      "source": [
        "## 1. Оценка качества данных\n",
        "* пропущенные значения\n",
        "* ошибочные значения"
      ],
      "metadata": {
        "id": "ORzwrTOrltqs"
      }
    },
    {
      "cell_type": "code",
      "source": [
        "len(data) #длина таблицы"
      ],
      "metadata": {
        "id": "NgePYC_PkkxM",
        "colab": {
          "base_uri": "https://localhost:8080/"
        },
        "outputId": "fbb22c16-c9ca-4619-cf4c-ec5723452e83"
      },
      "execution_count": 8,
      "outputs": [
        {
          "output_type": "execute_result",
          "data": {
            "text/plain": [
              "150000"
            ]
          },
          "metadata": {},
          "execution_count": 8
        }
      ]
    },
    {
      "cell_type": "markdown",
      "source": [
        "Удаляем дубликаты "
      ],
      "metadata": {
        "id": "PMh2ok1RD2Zv"
      }
    },
    {
      "cell_type": "code",
      "source": [
        "data=data.drop_duplicates()\n",
        "len(data) "
      ],
      "metadata": {
        "id": "G6Fj4fh5D6ji",
        "colab": {
          "base_uri": "https://localhost:8080/"
        },
        "outputId": "237af21b-c6eb-47a8-8df0-da8f948e3d94"
      },
      "execution_count": 170,
      "outputs": [
        {
          "output_type": "execute_result",
          "data": {
            "text/plain": [
              "148552"
            ]
          },
          "metadata": {},
          "execution_count": 170
        }
      ]
    },
    {
      "cell_type": "markdown",
      "source": [
        "634 дубликата удалено. Посмотрим, есть ли в данных пропущенные значения."
      ],
      "metadata": {
        "id": "Eib6Vj3eUOWi"
      }
    },
    {
      "cell_type": "code",
      "source": [
        "data.isna().sum()"
      ],
      "metadata": {
        "id": "rM92inoDURTx",
        "colab": {
          "base_uri": "https://localhost:8080/"
        },
        "outputId": "de2faa5c-2e42-4087-828e-bf13fe4de6da"
      },
      "execution_count": 163,
      "outputs": [
        {
          "output_type": "execute_result",
          "data": {
            "text/plain": [
              "SeriousDlqin2yrs                            0\n",
              "RevolvingUtilizationOfUnsecuredLines        0\n",
              "age                                         0\n",
              "NumberOfTime30-59DaysPastDueNotWorse        0\n",
              "DebtRatio                                   0\n",
              "MonthlyIncome                           28710\n",
              "NumberOfOpenCreditLinesAndLoans             0\n",
              "NumberOfDependents                          0\n",
              "RealEstateLoansOrLines                      0\n",
              "dtype: int64"
            ]
          },
          "metadata": {},
          "execution_count": 163
        }
      ]
    },
    {
      "cell_type": "markdown",
      "source": [
        "Не хватает данных по возрасту клиентов, ежемесячному доходу и кол-ву иждивенцев."
      ],
      "metadata": {
        "id": "FhUrDn1A3xpM"
      }
    },
    {
      "cell_type": "markdown",
      "source": [
        "### Обработка пропущенных значений\n"
      ],
      "metadata": {
        "id": "O6MtU1LSjlM5"
      }
    },
    {
      "cell_type": "markdown",
      "source": [
        "NumberOfDependents - числовой признак. Количество иждивенцев на попечении (супруги, дети и др). "
      ],
      "metadata": {
        "id": "ice8EMXxA9V0"
      }
    },
    {
      "cell_type": "code",
      "source": [
        "data.NumberOfDependents.value_counts(dropna=False)"
      ],
      "metadata": {
        "id": "P5gTueoAk-U9",
        "colab": {
          "base_uri": "https://localhost:8080/"
        },
        "outputId": "92d0a390-fc1e-483e-fd2a-6db53406db50"
      },
      "execution_count": 12,
      "outputs": [
        {
          "output_type": "execute_result",
          "data": {
            "text/plain": [
              "0.0     86370\n",
              "1.0     26314\n",
              "2.0     19522\n",
              "3.0      9483\n",
              "NaN      3824\n",
              "4.0      2862\n",
              "5.0       746\n",
              "6.0       158\n",
              "7.0        51\n",
              "8.0        24\n",
              "10.0        5\n",
              "9.0         5\n",
              "13.0        1\n",
              "20.0        1\n",
              "Name: NumberOfDependents, dtype: int64"
            ]
          },
          "metadata": {},
          "execution_count": 12
        }
      ]
    },
    {
      "cell_type": "markdown",
      "source": [
        "Пропусков **2,6%**. Можно заполнить наиболее частым значением: 0."
      ],
      "metadata": {
        "id": "Dg4BPrA8_-kL"
      }
    },
    {
      "cell_type": "code",
      "source": [
        "data['NumberOfDependents'] = data['NumberOfDependents'].fillna(0) #строки с пропусками заполняем 0"
      ],
      "metadata": {
        "id": "-x8rUA5FlIGF"
      },
      "execution_count": 13,
      "outputs": []
    },
    {
      "cell_type": "code",
      "source": [
        "data.NumberOfDependents.value_counts()"
      ],
      "metadata": {
        "id": "ef6HYXkllNN9",
        "colab": {
          "base_uri": "https://localhost:8080/"
        },
        "outputId": "f053775b-46c7-458d-c435-122a997b5b41"
      },
      "execution_count": 14,
      "outputs": [
        {
          "output_type": "execute_result",
          "data": {
            "text/plain": [
              "0.0     90194\n",
              "1.0     26314\n",
              "2.0     19522\n",
              "3.0      9483\n",
              "4.0      2862\n",
              "5.0       746\n",
              "6.0       158\n",
              "7.0        51\n",
              "8.0        24\n",
              "10.0        5\n",
              "9.0         5\n",
              "13.0        1\n",
              "20.0        1\n",
              "Name: NumberOfDependents, dtype: int64"
            ]
          },
          "metadata": {},
          "execution_count": 14
        }
      ]
    },
    {
      "cell_type": "markdown",
      "source": [
        "Age - **числовой признак**. Возраст заемщика.Пропущено 9,86% данных. Можно заполнить на базе GroupAge, взять среднее по группе. "
      ],
      "metadata": {
        "id": "a51BTJe3QEoY"
      }
    },
    {
      "cell_type": "markdown",
      "source": [
        " Убираем клиентов с нереалистичным возрастом для корректного рассчета средних для возрастных групп"
      ],
      "metadata": {
        "id": "3VGVPm8zLa_w"
      }
    },
    {
      "cell_type": "code",
      "source": [
        "df = data[data.MonthlyIncome < 150000]\n",
        "median = df['MonthlyIncome'].median()\n",
        "len(df) \n",
        "print(median)"
      ],
      "metadata": {
        "colab": {
          "base_uri": "https://localhost:8080/"
        },
        "id": "KSaDQuG-dDUJ",
        "outputId": "3340cba0-b194-414e-e270-a98fd0b07f71"
      },
      "execution_count": 125,
      "outputs": [
        {
          "output_type": "stream",
          "name": "stdout",
          "text": [
            "5400.0\n"
          ]
        }
      ]
    },
    {
      "cell_type": "code",
      "source": [
        "df = data[data.age < 90]\n",
        "df = df[df.age > 0]"
      ],
      "metadata": {
        "id": "DMy_eBWoH1b7"
      },
      "execution_count": 15,
      "outputs": []
    },
    {
      "cell_type": "code",
      "source": [
        "df.groupby('GroupAge')['age'].mean() #рассчитываем средний возраст по группе"
      ],
      "metadata": {
        "colab": {
          "base_uri": "https://localhost:8080/"
        },
        "id": "my4X086GKpJ5",
        "outputId": "d3f573f9-9ddc-4a86-d759-7fd2540ec6a5"
      },
      "execution_count": 16,
      "outputs": [
        {
          "output_type": "execute_result",
          "data": {
            "text/plain": [
              "GroupAge\n",
              "b    29.452366\n",
              "c    42.689110\n",
              "d    56.879452\n",
              "e    72.798946\n",
              "Name: age, dtype: float64"
            ]
          },
          "metadata": {},
          "execution_count": 16
        }
      ]
    },
    {
      "cell_type": "markdown",
      "source": [
        "Проверяем какие возрастные группы у клиентов с пустым полем age"
      ],
      "metadata": {
        "id": "mp3LsRPxFodh"
      }
    },
    {
      "cell_type": "code",
      "source": [
        "ag=data[data['age'].isnull()]\n",
        "ag.GroupAge.value_counts()"
      ],
      "metadata": {
        "colab": {
          "base_uri": "https://localhost:8080/"
        },
        "id": "3BEz3nFb9Gm4",
        "outputId": "faa38175-5a0d-45f6-a522-2f43bed5fddd"
      },
      "execution_count": 18,
      "outputs": [
        {
          "output_type": "execute_result",
          "data": {
            "text/plain": [
              "e    14733\n",
              "Name: GroupAge, dtype: int64"
            ]
          },
          "metadata": {},
          "execution_count": 18
        }
      ]
    },
    {
      "cell_type": "markdown",
      "source": [
        "По данной группе средний возраст - 72.798946. Округляем и заполняем пропуски данным значением"
      ],
      "metadata": {
        "id": "jRGHYWS1GC_T"
      }
    },
    {
      "cell_type": "code",
      "source": [
        "data['age'] = data['age'].fillna(73)"
      ],
      "metadata": {
        "id": "-OkWqU_bGv1l"
      },
      "execution_count": 19,
      "outputs": []
    },
    {
      "cell_type": "markdown",
      "source": [
        "Удаляем нереалистичные данные"
      ],
      "metadata": {
        "id": "QdbQ_vWeOUwy"
      }
    },
    {
      "cell_type": "code",
      "source": [
        "data = data[data.age < 90]\n",
        "data = data[data.age > 0]"
      ],
      "metadata": {
        "id": "GfzfdVMCMT3e"
      },
      "execution_count": 20,
      "outputs": []
    },
    {
      "cell_type": "code",
      "source": [
        "data.groupby('GroupAge')['age'].mean() #считаем средний возраст для возрастной группы"
      ],
      "metadata": {
        "colab": {
          "base_uri": "https://localhost:8080/"
        },
        "id": "MO-TAogNGnN8",
        "outputId": "d102fbc5-f9b8-4f10-a128-b3f167e75ce2"
      },
      "execution_count": 21,
      "outputs": [
        {
          "output_type": "execute_result",
          "data": {
            "text/plain": [
              "GroupAge\n",
              "b    29.452366\n",
              "c    42.689110\n",
              "d    56.879452\n",
              "e    72.869374\n",
              "Name: age, dtype: float64"
            ]
          },
          "metadata": {},
          "execution_count": 21
        }
      ]
    },
    {
      "cell_type": "markdown",
      "source": [
        "MonthlyIncome - **числовой признак**. Ежемесячный доход. Пропущено 19,82% данных. Визуализируем содержание столбца"
      ],
      "metadata": {
        "id": "oqDbD5YvBTma"
      }
    },
    {
      "cell_type": "code",
      "source": [
        "data['MonthlyIncome'].hist()"
      ],
      "metadata": {
        "colab": {
          "base_uri": "https://localhost:8080/",
          "height": 465
        },
        "id": "x0xEmQpMRBKo",
        "outputId": "e730ea3f-48af-4240-d5e7-422c37047ee7"
      },
      "execution_count": 25,
      "outputs": [
        {
          "output_type": "execute_result",
          "data": {
            "text/plain": [
              "<Axes: >"
            ]
          },
          "metadata": {},
          "execution_count": 25
        },
        {
          "output_type": "display_data",
          "data": {
            "text/plain": [
              "<Figure size 640x480 with 1 Axes>"
            ],
            "image/png": "[encoded data removed]"
          },
          "metadata": {}
        }
      ]
    },
    {
      "cell_type": "code",
      "source": [
        "plt.boxplot(data.MonthlyIncome)"
      ],
      "metadata": {
        "id": "NSHdptrNOUA1",
        "outputId": "a8ebb2ff-f5df-4632-f820-cfc230400c91",
        "colab": {
          "base_uri": "https://localhost:8080/",
          "height": 569
        }
      },
      "execution_count": 175,
      "outputs": [
        {
          "output_type": "execute_result",
          "data": {
            "text/plain": [
              "{'whiskers': [<matplotlib.lines.Line2D at 0x7f2a121710c0>,\n",
              "  <matplotlib.lines.Line2D at 0x7f2a12171360>],\n",
              " 'caps': [<matplotlib.lines.Line2D at 0x7f2a12171600>,\n",
              "  <matplotlib.lines.Line2D at 0x7f2a121718a0>],\n",
              " 'boxes': [<matplotlib.lines.Line2D at 0x7f2a1213f730>],\n",
              " 'medians': [<matplotlib.lines.Line2D at 0x7f2a12171b40>],\n",
              " 'fliers': [<matplotlib.lines.Line2D at 0x7f2a12171060>],\n",
              " 'means': []}"
            ]
          },
          "metadata": {},
          "execution_count": 175
        },
        {
          "output_type": "display_data",
          "data": {
            "text/plain": [
              "<Figure size 640x480 with 1 Axes>"
            ],
            "image/png": "[encoded data removed]"
          },
          "metadata": {}
        }
      ]
    },
    {
      "cell_type": "code",
      "source": [
        "data.describe()"
      ],
      "metadata": {
        "id": "h6YNJttTMeJK",
        "outputId": "299526f9-3b3f-4762-818c-198741dc9c79",
        "colab": {
          "base_uri": "https://localhost:8080/",
          "height": 381
        }
      },
      "execution_count": 77,
      "outputs": [
        {
          "output_type": "execute_result",
          "data": {
            "text/plain": [
              "       SeriousDlqin2yrs  RevolvingUtilizationOfUnsecuredLines            age  \\\n",
              "count     148552.000000                         148552.000000  148552.000000   \n",
              "mean           0.067189                              6.103981      54.192559   \n",
              "std            0.250349                            250.969022      15.111694   \n",
              "min            0.000000                              0.000000      21.000000   \n",
              "25%            0.000000                              0.030629      43.000000   \n",
              "50%            0.000000                              0.155488      54.000000   \n",
              "75%            0.000000                              0.556871      67.000000   \n",
              "max            1.000000                          50708.000000      89.000000   \n",
              "\n",
              "       NumberOfTime30-59DaysPastDueNotWorse      DebtRatio  MonthlyIncome  \\\n",
              "count                         148552.000000  148552.000000   1.198420e+05   \n",
              "mean                               0.391015     355.843722   6.679146e+03   \n",
              "std                                3.805092    2046.610137   1.440730e+04   \n",
              "min                                0.000000       0.000000   0.000000e+00   \n",
              "25%                                0.000000       0.179362   3.400000e+03   \n",
              "50%                                0.000000       0.368980   5.400000e+03   \n",
              "75%                                0.000000       0.874328   8.250000e+03   \n",
              "max                               98.000000  329664.000000   3.008750e+06   \n",
              "\n",
              "       NumberOfOpenCreditLinesAndLoans  NumberOfDependents  \\\n",
              "count                    148552.000000       148552.000000   \n",
              "mean                          8.503110            0.744278   \n",
              "std                           5.132986            1.110060   \n",
              "min                           0.000000            0.000000   \n",
              "25%                           5.000000            0.000000   \n",
              "50%                           8.000000            0.000000   \n",
              "75%                          11.000000            1.000000   \n",
              "max                          58.000000           20.000000   \n",
              "\n",
              "       RealEstateLoansOrLines  \n",
              "count           148552.000000  \n",
              "mean                 1.077650  \n",
              "std                  0.307422  \n",
              "min                  1.000000  \n",
              "25%                  1.000000  \n",
              "50%                  1.000000  \n",
              "75%                  1.000000  \n",
              "max                  5.000000  "
            ],
            "text/html": [
              "\n",
              "  <div id=\"df-3e0ad253-1283-40c0-9dfd-6f248d5f5258\">\n",
              "    <div class=\"colab-df-container\">\n",
              "      <div>\n",
              "<style scoped>\n",
              "    .dataframe tbody tr th:only-of-type {\n",
              "        vertical-align: middle;\n",
              "    }\n",
              "\n",
              "    .dataframe tbody tr th {\n",
              "        vertical-align: top;\n",
              "    }\n",
              "\n",
              "    .dataframe thead th {\n",
              "        text-align: right;\n",
              "    }\n",
              "</style>\n",
              "<table border=\"1\" class=\"dataframe\">\n",
              "  <thead>\n",
              "    <tr style=\"text-align: right;\">\n",
              "      <th></th>\n",
              "      <th>SeriousDlqin2yrs</th>\n",
              "      <th>RevolvingUtilizationOfUnsecuredLines</th>\n",
              "      <th>age</th>\n",
              "      <th>NumberOfTime30-59DaysPastDueNotWorse</th>\n",
              "      <th>DebtRatio</th>\n",
              "      <th>MonthlyIncome</th>\n",
              "      <th>NumberOfOpenCreditLinesAndLoans</th>\n",
              "      <th>NumberOfDependents</th>\n",
              "      <th>RealEstateLoansOrLines</th>\n",
              "    </tr>\n",
              "  </thead>\n",
              "  <tbody>\n",
              "    <tr>\n",
              "      <th>count</th>\n",
              "      <td>148552.000000</td>\n",
              "      <td>148552.000000</td>\n",
              "      <td>148552.000000</td>\n",
              "      <td>148552.000000</td>\n",
              "      <td>148552.000000</td>\n",
              "      <td>1.198420e+05</td>\n",
              "      <td>148552.000000</td>\n",
              "      <td>148552.000000</td>\n",
              "      <td>148552.000000</td>\n",
              "    </tr>\n",
              "    <tr>\n",
              "      <th>mean</th>\n",
              "      <td>0.067189</td>\n",
              "      <td>6.103981</td>\n",
              "      <td>54.192559</td>\n",
              "      <td>0.391015</td>\n",
              "      <td>355.843722</td>\n",
              "      <td>6.679146e+03</td>\n",
              "      <td>8.503110</td>\n",
              "      <td>0.744278</td>\n",
              "      <td>1.077650</td>\n",
              "    </tr>\n",
              "    <tr>\n",
              "      <th>std</th>\n",
              "      <td>0.250349</td>\n",
              "      <td>250.969022</td>\n",
              "      <td>15.111694</td>\n",
              "      <td>3.805092</td>\n",
              "      <td>2046.610137</td>\n",
              "      <td>1.440730e+04</td>\n",
              "      <td>5.132986</td>\n",
              "      <td>1.110060</td>\n",
              "      <td>0.307422</td>\n",
              "    </tr>\n",
              "    <tr>\n",
              "      <th>min</th>\n",
              "      <td>0.000000</td>\n",
              "      <td>0.000000</td>\n",
              "      <td>21.000000</td>\n",
              "      <td>0.000000</td>\n",
              "      <td>0.000000</td>\n",
              "      <td>0.000000e+00</td>\n",
              "      <td>0.000000</td>\n",
              "      <td>0.000000</td>\n",
              "      <td>1.000000</td>\n",
              "    </tr>\n",
              "    <tr>\n",
              "      <th>25%</th>\n",
              "      <td>0.000000</td>\n",
              "      <td>0.030629</td>\n",
              "      <td>43.000000</td>\n",
              "      <td>0.000000</td>\n",
              "      <td>0.179362</td>\n",
              "      <td>3.400000e+03</td>\n",
              "      <td>5.000000</td>\n",
              "      <td>0.000000</td>\n",
              "      <td>1.000000</td>\n",
              "    </tr>\n",
              "    <tr>\n",
              "      <th>50%</th>\n",
              "      <td>0.000000</td>\n",
              "      <td>0.155488</td>\n",
              "      <td>54.000000</td>\n",
              "      <td>0.000000</td>\n",
              "      <td>0.368980</td>\n",
              "      <td>5.400000e+03</td>\n",
              "      <td>8.000000</td>\n",
              "      <td>0.000000</td>\n",
              "      <td>1.000000</td>\n",
              "    </tr>\n",
              "    <tr>\n",
              "      <th>75%</th>\n",
              "      <td>0.000000</td>\n",
              "      <td>0.556871</td>\n",
              "      <td>67.000000</td>\n",
              "      <td>0.000000</td>\n",
              "      <td>0.874328</td>\n",
              "      <td>8.250000e+03</td>\n",
              "      <td>11.000000</td>\n",
              "      <td>1.000000</td>\n",
              "      <td>1.000000</td>\n",
              "    </tr>\n",
              "    <tr>\n",
              "      <th>max</th>\n",
              "      <td>1.000000</td>\n",
              "      <td>50708.000000</td>\n",
              "      <td>89.000000</td>\n",
              "      <td>98.000000</td>\n",
              "      <td>329664.000000</td>\n",
              "      <td>3.008750e+06</td>\n",
              "      <td>58.000000</td>\n",
              "      <td>20.000000</td>\n",
              "      <td>5.000000</td>\n",
              "    </tr>\n",
              "  </tbody>\n",
              "</table>\n",
              "</div>\n",
              "      <button class=\"colab-df-convert\" onclick=\"convertToInteractive('df-3e0ad253-1283-40c0-9dfd-6f248d5f5258')\"\n",
              "              title=\"Convert this dataframe to an interactive table.\"\n",
              "              style=\"display:none;\">\n",
              "        \n",
              "  <svg xmlns=\"http://www.w3.org/2000/svg\" height=\"24px\"viewBox=\"0 0 24 24\"\n",
              "       width=\"24px\">\n",
              "    <path d=\"M0 0h24v24H0V0z\" fill=\"none\"/>\n",
              "    <path d=\"M18.56 5.44l.94 2.06.94-2.06 2.06-.94-2.06-.94-.94-2.06-.94 2.06-2.06.94zm-11 1L8.5 8.5l.94-2.06 2.06-.94-2.06-.94L8.5 2.5l-.94 2.06-2.06.94zm10 10l.94 2.06.94-2.06 2.06-.94-2.06-.94-.94-2.06-.94 2.06-2.06.94z\"/><path d=\"M17.41 7.96l-1.37-1.37c-.4-.4-.92-.59-1.43-.59-.52 0-1.04.2-1.43.59L10.3 9.45l-7.72 7.72c-.78.78-.78 2.05 0 2.83L4 21.41c.39.39.9.59 1.41.59.51 0 1.02-.2 1.41-.59l7.78-7.78 2.81-2.81c.8-.78.8-2.07 0-2.86zM5.41 20L4 18.59l7.72-7.72 1.47 1.35L5.41 20z\"/>\n",
              "  </svg>\n",
              "      </button>\n",
              "      \n",
              "  <style>\n",
              "    .colab-df-container {\n",
              "      display:flex;\n",
              "      flex-wrap:wrap;\n",
              "      gap: 12px;\n",
              "    }\n",
              "\n",
              "    .colab-df-convert {\n",
              "      background-color: #E8F0FE;\n",
              "      border: none;\n",
              "      border-radius: 50%;\n",
              "      cursor: pointer;\n",
              "      display: none;\n",
              "      fill: #1967D2;\n",
              "      height: 32px;\n",
              "      padding: 0 0 0 0;\n",
              "      width: 32px;\n",
              "    }\n",
              "\n",
              "    .colab-df-convert:hover {\n",
              "      background-color: #E2EBFA;\n",
              "      box-shadow: 0px 1px 2px rgba(60, 64, 67, 0.3), 0px 1px 3px 1px rgba(60, 64, 67, 0.15);\n",
              "      fill: #174EA6;\n",
              "    }\n",
              "\n",
              "    [theme=dark] .colab-df-convert {\n",
              "      background-color: #3B4455;\n",
              "      fill: #D2E3FC;\n",
              "    }\n",
              "\n",
              "    [theme=dark] .colab-df-convert:hover {\n",
              "      background-color: #434B5C;\n",
              "      box-shadow: 0px 1px 3px 1px rgba(0, 0, 0, 0.15);\n",
              "      filter: drop-shadow(0px 1px 2px rgba(0, 0, 0, 0.3));\n",
              "      fill: #FFFFFF;\n",
              "    }\n",
              "  </style>\n",
              "\n",
              "      <script>\n",
              "        const buttonEl =\n",
              "          document.querySelector('#df-3e0ad253-1283-40c0-9dfd-6f248d5f5258 button.colab-df-convert');\n",
              "        buttonEl.style.display =\n",
              "          google.colab.kernel.accessAllowed ? 'block' : 'none';\n",
              "\n",
              "        async function convertToInteractive(key) {\n",
              "          const element = document.querySelector('#df-3e0ad253-1283-40c0-9dfd-6f248d5f5258');\n",
              "          const dataTable =\n",
              "            await google.colab.kernel.invokeFunction('convertToInteractive',\n",
              "                                                     [key], {});\n",
              "          if (!dataTable) return;\n",
              "\n",
              "          const docLinkHtml = 'Like what you see? Visit the ' +\n",
              "            '<a target=\"_blank\" href=https://colab.research.google.com/notebooks/data_table.ipynb>data table notebook</a>'\n",
              "            + ' to learn more about interactive tables.';\n",
              "          element.innerHTML = '';\n",
              "          dataTable['output_type'] = 'display_data';\n",
              "          await google.colab.output.renderOutput(dataTable, element);\n",
              "          const docLink = document.createElement('div');\n",
              "          docLink.innerHTML = docLinkHtml;\n",
              "          element.appendChild(docLink);\n",
              "        }\n",
              "      </script>\n",
              "    </div>\n",
              "  </div>\n",
              "  "
            ]
          },
          "metadata": {},
          "execution_count": 77
        }
      ]
    },
    {
      "cell_type": "code",
      "source": [
        "median = data['MonthlyIncome'].median()\n",
        "\n",
        "print(median)\n",
        "\n",
        "data['MonthlyIncome'].fillna(median, inplace=True)"
      ],
      "metadata": {
        "id": "uy-55pFplg7R",
        "colab": {
          "base_uri": "https://localhost:8080/"
        },
        "outputId": "6b6d77d9-a0f9-44f6-eb7e-de722f3b4e67"
      },
      "execution_count": 168,
      "outputs": [
        {
          "output_type": "stream",
          "name": "stdout",
          "text": [
            "5400.0\n"
          ]
        }
      ]
    },
    {
      "cell_type": "code",
      "source": [
        "data.isna().sum()"
      ],
      "metadata": {
        "id": "M9qGZ_kYlpUT",
        "colab": {
          "base_uri": "https://localhost:8080/"
        },
        "outputId": "69c06b1c-eb60-49a3-8128-0a5940ffc40e"
      },
      "execution_count": 45,
      "outputs": [
        {
          "output_type": "execute_result",
          "data": {
            "text/plain": [
              "SeriousDlqin2yrs                            0\n",
              "RevolvingUtilizationOfUnsecuredLines        0\n",
              "age                                         0\n",
              "NumberOfTime30-59DaysPastDueNotWorse        0\n",
              "DebtRatio                                   0\n",
              "MonthlyIncome                           28923\n",
              "NumberOfOpenCreditLinesAndLoans             0\n",
              "NumberOfDependents                          0\n",
              "RealEstateLoansOrLines                      0\n",
              "dtype: int64"
            ]
          },
          "metadata": {},
          "execution_count": 45
        }
      ]
    },
    {
      "cell_type": "code",
      "source": [
        "data.GroupAge.value_counts(age=null)"
      ],
      "metadata": {
        "id": "XSWuVF70I_1_",
        "outputId": "c5d3b0e5-e308-42e8-905e-c8c58fdd1ed8",
        "colab": {
          "base_uri": "https://localhost:8080/",
          "height": 165
        }
      },
      "execution_count": null,
      "outputs": [
        {
          "output_type": "error",
          "ename": "NameError",
          "evalue": "ignored",
          "traceback": [
            "\u001b[0;31m---------------------------------------------------------------------------\u001b[0m",
            "\u001b[0;31mNameError\u001b[0m                                 Traceback (most recent call last)",
            "\u001b[0;32m<ipython-input-76-74a32db346da>\u001b[0m in \u001b[0;36m<cell line: 1>\u001b[0;34m()\u001b[0m\n\u001b[0;32m----> 1\u001b[0;31m \u001b[0mdata\u001b[0m\u001b[0;34m.\u001b[0m\u001b[0mGroupAge\u001b[0m\u001b[0;34m.\u001b[0m\u001b[0mvalue_counts\u001b[0m\u001b[0;34m(\u001b[0m\u001b[0mage\u001b[0m\u001b[0;34m=\u001b[0m\u001b[0mnull\u001b[0m\u001b[0;34m)\u001b[0m\u001b[0;34m\u001b[0m\u001b[0;34m\u001b[0m\u001b[0m\n\u001b[0m",
            "\u001b[0;31mNameError\u001b[0m: name 'null' is not defined"
          ]
        }
      ]
    },
    {
      "cell_type": "markdown",
      "source": [
        "## Вопрос для Quiz\n",
        "\n",
        "Чему равна медиана в столбце totaleveminutes? Ответ округлите до целого числа."
      ],
      "metadata": {
        "id": "GnVfhdy5CM5Y"
      }
    },
    {
      "cell_type": "markdown",
      "source": [
        "## Ошибочные значения"
      ],
      "metadata": {
        "id": "rzypjl5l3Q57"
      }
    },
    {
      "cell_type": "markdown",
      "source": [
        "Выведите на экран число различных значений в столбце voicemailplan, используя value_counts"
      ],
      "metadata": {
        "id": "ebpU4gvGCcYe"
      }
    },
    {
      "cell_type": "code",
      "source": [
        "data['SeriousDlqin2yrs'].value_counts()"
      ],
      "metadata": {
        "id": "pNb1Br9I1CMz",
        "colab": {
          "base_uri": "https://localhost:8080/"
        },
        "outputId": "6a4df555-5287-4e61-9970-8c30a4979ab5"
      },
      "execution_count": 23,
      "outputs": [
        {
          "output_type": "execute_result",
          "data": {
            "text/plain": [
              "0    138777\n",
              "1      9995\n",
              "Name: SeriousDlqin2yrs, dtype: int64"
            ]
          },
          "metadata": {},
          "execution_count": 23
        }
      ]
    },
    {
      "cell_type": "markdown",
      "source": [
        "## Вопрос для Quiz\n",
        "\n",
        "Сколько строк содержат ошибочное значение в столбце voicemailplan?"
      ],
      "metadata": {
        "id": "ZyDGhvoxCmSY"
      }
    },
    {
      "cell_type": "code",
      "source": [
        "data['voicemailplan'] = data['voicemailplan'].replace('Nou', 'No')"
      ],
      "metadata": {
        "id": "huWe4aEC3UcF"
      },
      "execution_count": null,
      "outputs": []
    },
    {
      "cell_type": "code",
      "source": [
        "data['voicemailplan'].value_counts()"
      ],
      "metadata": {
        "id": "Se60_ikp08Zl",
        "colab": {
          "base_uri": "https://localhost:8080/"
        },
        "outputId": "a94c6e51-ae0d-463c-ccf4-b7756af6a1a5"
      },
      "execution_count": null,
      "outputs": [
        {
          "output_type": "execute_result",
          "data": {
            "text/plain": [
              "No     2421\n",
              "Yes     912\n",
              "Name: voicemailplan, dtype: int64"
            ]
          },
          "metadata": {},
          "execution_count": 53
        }
      ]
    },
    {
      "cell_type": "code",
      "source": [
        "# data['is_date'] = data['date'].apply(lambda x: 1 if x.isna() else 0)"
      ],
      "metadata": {
        "id": "XNZ8B5xnQfh0"
      },
      "execution_count": null,
      "outputs": []
    },
    {
      "cell_type": "markdown",
      "source": [
        "## Основные числовые характеристики"
      ],
      "metadata": {
        "id": "2nouWWLZl6oA"
      }
    },
    {
      "cell_type": "markdown",
      "source": [
        "Есть сильный дисбаланс классов!"
      ],
      "metadata": {
        "id": "zGott2ujQ-_g"
      }
    },
    {
      "cell_type": "code",
      "source": [
        "data['churn'].value_counts(normalize=True)"
      ],
      "metadata": {
        "id": "EuBlDOeX5JM5",
        "colab": {
          "base_uri": "https://localhost:8080/"
        },
        "outputId": "99ea1dd1-7341-4049-9d70-9ca5fe9cef96"
      },
      "execution_count": null,
      "outputs": [
        {
          "output_type": "execute_result",
          "data": {
            "text/plain": [
              "False    0.855086\n",
              "True     0.144914\n",
              "Name: churn, dtype: float64"
            ]
          },
          "metadata": {},
          "execution_count": 56
        }
      ]
    },
    {
      "cell_type": "code",
      "source": [
        "data.describe()"
      ],
      "metadata": {
        "id": "B5qadSUDl-vu",
        "colab": {
          "base_uri": "https://localhost:8080/",
          "height": 381
        },
        "outputId": "801a977b-87ee-47ef-a82e-cabda14df5af"
      },
      "execution_count": 230,
      "outputs": [
        {
          "output_type": "execute_result",
          "data": {
            "text/plain": [
              "       SeriousDlqin2yrs            age  NumberOfTime30-59DaysPastDueNotWorse  \\\n",
              "count     148552.000000  148552.000000                         148552.000000   \n",
              "mean           0.067189      54.192559                              0.391015   \n",
              "std            0.250349      15.111694                              3.805092   \n",
              "min            0.000000      21.000000                              0.000000   \n",
              "25%            0.000000      43.000000                              0.000000   \n",
              "50%            0.000000      54.000000                              0.000000   \n",
              "75%            0.000000      67.000000                              0.000000   \n",
              "max            1.000000      89.000000                             98.000000   \n",
              "\n",
              "           DebtRatio  MonthlyIncome  NumberOfOpenCreditLinesAndLoans  \\\n",
              "count  148552.000000   1.485520e+05                    148552.000000   \n",
              "mean      355.843722   6.431931e+03                         8.503110   \n",
              "std      2046.610137   1.295024e+04                         5.132986   \n",
              "min         0.000000   0.000000e+00                         0.000000   \n",
              "25%         0.179362   3.900000e+03                         5.000000   \n",
              "50%         0.368980   5.400000e+03                         8.000000   \n",
              "75%         0.874328   7.417000e+03                        11.000000   \n",
              "max    329664.000000   3.008750e+06                        58.000000   \n",
              "\n",
              "       NumberOfDependents  RealEstateLoansOrLines  \n",
              "count       148552.000000           148552.000000  \n",
              "mean             0.744278                1.077650  \n",
              "std              1.110060                0.307422  \n",
              "min              0.000000                1.000000  \n",
              "25%              0.000000                1.000000  \n",
              "50%              0.000000                1.000000  \n",
              "75%              1.000000                1.000000  \n",
              "max             20.000000                5.000000  "
            ],
            "text/html": [
              "\n",
              "  <div id=\"df-7e1c229b-72dd-4d17-a448-64d83b12e964\">\n",
              "    <div class=\"colab-df-container\">\n",
              "      <div>\n",
              "<style scoped>\n",
              "    .dataframe tbody tr th:only-of-type {\n",
              "        vertical-align: middle;\n",
              "    }\n",
              "\n",
              "    .dataframe tbody tr th {\n",
              "        vertical-align: top;\n",
              "    }\n",
              "\n",
              "    .dataframe thead th {\n",
              "        text-align: right;\n",
              "    }\n",
              "</style>\n",
              "<table border=\"1\" class=\"dataframe\">\n",
              "  <thead>\n",
              "    <tr style=\"text-align: right;\">\n",
              "      <th></th>\n",
              "      <th>SeriousDlqin2yrs</th>\n",
              "      <th>age</th>\n",
              "      <th>NumberOfTime30-59DaysPastDueNotWorse</th>\n",
              "      <th>DebtRatio</th>\n",
              "      <th>MonthlyIncome</th>\n",
              "      <th>NumberOfOpenCreditLinesAndLoans</th>\n",
              "      <th>NumberOfDependents</th>\n",
              "      <th>RealEstateLoansOrLines</th>\n",
              "    </tr>\n",
              "  </thead>\n",
              "  <tbody>\n",
              "    <tr>\n",
              "      <th>count</th>\n",
              "      <td>148552.000000</td>\n",
              "      <td>148552.000000</td>\n",
              "      <td>148552.000000</td>\n",
              "      <td>148552.000000</td>\n",
              "      <td>1.485520e+05</td>\n",
              "      <td>148552.000000</td>\n",
              "      <td>148552.000000</td>\n",
              "      <td>148552.000000</td>\n",
              "    </tr>\n",
              "    <tr>\n",
              "      <th>mean</th>\n",
              "      <td>0.067189</td>\n",
              "      <td>54.192559</td>\n",
              "      <td>0.391015</td>\n",
              "      <td>355.843722</td>\n",
              "      <td>6.431931e+03</td>\n",
              "      <td>8.503110</td>\n",
              "      <td>0.744278</td>\n",
              "      <td>1.077650</td>\n",
              "    </tr>\n",
              "    <tr>\n",
              "      <th>std</th>\n",
              "      <td>0.250349</td>\n",
              "      <td>15.111694</td>\n",
              "      <td>3.805092</td>\n",
              "      <td>2046.610137</td>\n",
              "      <td>1.295024e+04</td>\n",
              "      <td>5.132986</td>\n",
              "      <td>1.110060</td>\n",
              "      <td>0.307422</td>\n",
              "    </tr>\n",
              "    <tr>\n",
              "      <th>min</th>\n",
              "      <td>0.000000</td>\n",
              "      <td>21.000000</td>\n",
              "      <td>0.000000</td>\n",
              "      <td>0.000000</td>\n",
              "      <td>0.000000e+00</td>\n",
              "      <td>0.000000</td>\n",
              "      <td>0.000000</td>\n",
              "      <td>1.000000</td>\n",
              "    </tr>\n",
              "    <tr>\n",
              "      <th>25%</th>\n",
              "      <td>0.000000</td>\n",
              "      <td>43.000000</td>\n",
              "      <td>0.000000</td>\n",
              "      <td>0.179362</td>\n",
              "      <td>3.900000e+03</td>\n",
              "      <td>5.000000</td>\n",
              "      <td>0.000000</td>\n",
              "      <td>1.000000</td>\n",
              "    </tr>\n",
              "    <tr>\n",
              "      <th>50%</th>\n",
              "      <td>0.000000</td>\n",
              "      <td>54.000000</td>\n",
              "      <td>0.000000</td>\n",
              "      <td>0.368980</td>\n",
              "      <td>5.400000e+03</td>\n",
              "      <td>8.000000</td>\n",
              "      <td>0.000000</td>\n",
              "      <td>1.000000</td>\n",
              "    </tr>\n",
              "    <tr>\n",
              "      <th>75%</th>\n",
              "      <td>0.000000</td>\n",
              "      <td>67.000000</td>\n",
              "      <td>0.000000</td>\n",
              "      <td>0.874328</td>\n",
              "      <td>7.417000e+03</td>\n",
              "      <td>11.000000</td>\n",
              "      <td>1.000000</td>\n",
              "      <td>1.000000</td>\n",
              "    </tr>\n",
              "    <tr>\n",
              "      <th>max</th>\n",
              "      <td>1.000000</td>\n",
              "      <td>89.000000</td>\n",
              "      <td>98.000000</td>\n",
              "      <td>329664.000000</td>\n",
              "      <td>3.008750e+06</td>\n",
              "      <td>58.000000</td>\n",
              "      <td>20.000000</td>\n",
              "      <td>5.000000</td>\n",
              "    </tr>\n",
              "  </tbody>\n",
              "</table>\n",
              "</div>\n",
              "      <button class=\"colab-df-convert\" onclick=\"convertToInteractive('df-7e1c229b-72dd-4d17-a448-64d83b12e964')\"\n",
              "              title=\"Convert this dataframe to an interactive table.\"\n",
              "              style=\"display:none;\">\n",
              "        \n",
              "  <svg xmlns=\"http://www.w3.org/2000/svg\" height=\"24px\"viewBox=\"0 0 24 24\"\n",
              "       width=\"24px\">\n",
              "    <path d=\"M0 0h24v24H0V0z\" fill=\"none\"/>\n",
              "    <path d=\"M18.56 5.44l.94 2.06.94-2.06 2.06-.94-2.06-.94-.94-2.06-.94 2.06-2.06.94zm-11 1L8.5 8.5l.94-2.06 2.06-.94-2.06-.94L8.5 2.5l-.94 2.06-2.06.94zm10 10l.94 2.06.94-2.06 2.06-.94-2.06-.94-.94-2.06-.94 2.06-2.06.94z\"/><path d=\"M17.41 7.96l-1.37-1.37c-.4-.4-.92-.59-1.43-.59-.52 0-1.04.2-1.43.59L10.3 9.45l-7.72 7.72c-.78.78-.78 2.05 0 2.83L4 21.41c.39.39.9.59 1.41.59.51 0 1.02-.2 1.41-.59l7.78-7.78 2.81-2.81c.8-.78.8-2.07 0-2.86zM5.41 20L4 18.59l7.72-7.72 1.47 1.35L5.41 20z\"/>\n",
              "  </svg>\n",
              "      </button>\n",
              "      \n",
              "  <style>\n",
              "    .colab-df-container {\n",
              "      display:flex;\n",
              "      flex-wrap:wrap;\n",
              "      gap: 12px;\n",
              "    }\n",
              "\n",
              "    .colab-df-convert {\n",
              "      background-color: #E8F0FE;\n",
              "      border: none;\n",
              "      border-radius: 50%;\n",
              "      cursor: pointer;\n",
              "      display: none;\n",
              "      fill: #1967D2;\n",
              "      height: 32px;\n",
              "      padding: 0 0 0 0;\n",
              "      width: 32px;\n",
              "    }\n",
              "\n",
              "    .colab-df-convert:hover {\n",
              "      background-color: #E2EBFA;\n",
              "      box-shadow: 0px 1px 2px rgba(60, 64, 67, 0.3), 0px 1px 3px 1px rgba(60, 64, 67, 0.15);\n",
              "      fill: #174EA6;\n",
              "    }\n",
              "\n",
              "    [theme=dark] .colab-df-convert {\n",
              "      background-color: #3B4455;\n",
              "      fill: #D2E3FC;\n",
              "    }\n",
              "\n",
              "    [theme=dark] .colab-df-convert:hover {\n",
              "      background-color: #434B5C;\n",
              "      box-shadow: 0px 1px 3px 1px rgba(0, 0, 0, 0.15);\n",
              "      filter: drop-shadow(0px 1px 2px rgba(0, 0, 0, 0.3));\n",
              "      fill: #FFFFFF;\n",
              "    }\n",
              "  </style>\n",
              "\n",
              "      <script>\n",
              "        const buttonEl =\n",
              "          document.querySelector('#df-7e1c229b-72dd-4d17-a448-64d83b12e964 button.colab-df-convert');\n",
              "        buttonEl.style.display =\n",
              "          google.colab.kernel.accessAllowed ? 'block' : 'none';\n",
              "\n",
              "        async function convertToInteractive(key) {\n",
              "          const element = document.querySelector('#df-7e1c229b-72dd-4d17-a448-64d83b12e964');\n",
              "          const dataTable =\n",
              "            await google.colab.kernel.invokeFunction('convertToInteractive',\n",
              "                                                     [key], {});\n",
              "          if (!dataTable) return;\n",
              "\n",
              "          const docLinkHtml = 'Like what you see? Visit the ' +\n",
              "            '<a target=\"_blank\" href=https://colab.research.google.com/notebooks/data_table.ipynb>data table notebook</a>'\n",
              "            + ' to learn more about interactive tables.';\n",
              "          element.innerHTML = '';\n",
              "          dataTable['output_type'] = 'display_data';\n",
              "          await google.colab.output.renderOutput(dataTable, element);\n",
              "          const docLink = document.createElement('div');\n",
              "          docLink.innerHTML = docLinkHtml;\n",
              "          element.appendChild(docLink);\n",
              "        }\n",
              "      </script>\n",
              "    </div>\n",
              "  </div>\n",
              "  "
            ]
          },
          "metadata": {},
          "execution_count": 230
        }
      ]
    },
    {
      "cell_type": "code",
      "source": [
        "data['MonthlyIncome'].hist()"
      ],
      "metadata": {
        "colab": {
          "base_uri": "https://localhost:8080/",
          "height": 465
        },
        "id": "2OJL8aRmRe-q",
        "outputId": "e98d1236-779c-419a-8bd1-c42a26d04fe1"
      },
      "execution_count": 170,
      "outputs": [
        {
          "output_type": "execute_result",
          "data": {
            "text/plain": [
              "<Axes: >"
            ]
          },
          "metadata": {},
          "execution_count": 170
        },
        {
          "output_type": "display_data",
          "data": {
            "text/plain": [
              "<Figure size 640x480 with 1 Axes>"
            ],
            "image/png": "[encoded data removed]"
          },
          "metadata": {}
        }
      ]
    },
    {
      "cell_type": "code",
      "source": [
        "data.describe(include='object') # категориальные колонки"
      ],
      "metadata": {
        "id": "oQYBiBdQxzqU",
        "colab": {
          "base_uri": "https://localhost:8080/",
          "height": 174
        },
        "outputId": "bf4686b0-8b5d-4712-fb14-15bd685eadb9"
      },
      "execution_count": 54,
      "outputs": [
        {
          "output_type": "execute_result",
          "data": {
            "text/plain": [
              "       RealEstateLoansOrLines\n",
              "count                  148552\n",
              "unique                      5\n",
              "top                         A\n",
              "freq                   138603"
            ],
            "text/html": [
              "\n",
              "  <div id=\"df-b9aaa0a0-5dfb-4c53-996a-90a794f3eb9f\">\n",
              "    <div class=\"colab-df-container\">\n",
              "      <div>\n",
              "<style scoped>\n",
              "    .dataframe tbody tr th:only-of-type {\n",
              "        vertical-align: middle;\n",
              "    }\n",
              "\n",
              "    .dataframe tbody tr th {\n",
              "        vertical-align: top;\n",
              "    }\n",
              "\n",
              "    .dataframe thead th {\n",
              "        text-align: right;\n",
              "    }\n",
              "</style>\n",
              "<table border=\"1\" class=\"dataframe\">\n",
              "  <thead>\n",
              "    <tr style=\"text-align: right;\">\n",
              "      <th></th>\n",
              "      <th>RealEstateLoansOrLines</th>\n",
              "    </tr>\n",
              "  </thead>\n",
              "  <tbody>\n",
              "    <tr>\n",
              "      <th>count</th>\n",
              "      <td>148552</td>\n",
              "    </tr>\n",
              "    <tr>\n",
              "      <th>unique</th>\n",
              "      <td>5</td>\n",
              "    </tr>\n",
              "    <tr>\n",
              "      <th>top</th>\n",
              "      <td>A</td>\n",
              "    </tr>\n",
              "    <tr>\n",
              "      <th>freq</th>\n",
              "      <td>138603</td>\n",
              "    </tr>\n",
              "  </tbody>\n",
              "</table>\n",
              "</div>\n",
              "      <button class=\"colab-df-convert\" onclick=\"convertToInteractive('df-b9aaa0a0-5dfb-4c53-996a-90a794f3eb9f')\"\n",
              "              title=\"Convert this dataframe to an interactive table.\"\n",
              "              style=\"display:none;\">\n",
              "        \n",
              "  <svg xmlns=\"http://www.w3.org/2000/svg\" height=\"24px\"viewBox=\"0 0 24 24\"\n",
              "       width=\"24px\">\n",
              "    <path d=\"M0 0h24v24H0V0z\" fill=\"none\"/>\n",
              "    <path d=\"M18.56 5.44l.94 2.06.94-2.06 2.06-.94-2.06-.94-.94-2.06-.94 2.06-2.06.94zm-11 1L8.5 8.5l.94-2.06 2.06-.94-2.06-.94L8.5 2.5l-.94 2.06-2.06.94zm10 10l.94 2.06.94-2.06 2.06-.94-2.06-.94-.94-2.06-.94 2.06-2.06.94z\"/><path d=\"M17.41 7.96l-1.37-1.37c-.4-.4-.92-.59-1.43-.59-.52 0-1.04.2-1.43.59L10.3 9.45l-7.72 7.72c-.78.78-.78 2.05 0 2.83L4 21.41c.39.39.9.59 1.41.59.51 0 1.02-.2 1.41-.59l7.78-7.78 2.81-2.81c.8-.78.8-2.07 0-2.86zM5.41 20L4 18.59l7.72-7.72 1.47 1.35L5.41 20z\"/>\n",
              "  </svg>\n",
              "      </button>\n",
              "      \n",
              "  <style>\n",
              "    .colab-df-container {\n",
              "      display:flex;\n",
              "      flex-wrap:wrap;\n",
              "      gap: 12px;\n",
              "    }\n",
              "\n",
              "    .colab-df-convert {\n",
              "      background-color: #E8F0FE;\n",
              "      border: none;\n",
              "      border-radius: 50%;\n",
              "      cursor: pointer;\n",
              "      display: none;\n",
              "      fill: #1967D2;\n",
              "      height: 32px;\n",
              "      padding: 0 0 0 0;\n",
              "      width: 32px;\n",
              "    }\n",
              "\n",
              "    .colab-df-convert:hover {\n",
              "      background-color: #E2EBFA;\n",
              "      box-shadow: 0px 1px 2px rgba(60, 64, 67, 0.3), 0px 1px 3px 1px rgba(60, 64, 67, 0.15);\n",
              "      fill: #174EA6;\n",
              "    }\n",
              "\n",
              "    [theme=dark] .colab-df-convert {\n",
              "      background-color: #3B4455;\n",
              "      fill: #D2E3FC;\n",
              "    }\n",
              "\n",
              "    [theme=dark] .colab-df-convert:hover {\n",
              "      background-color: #434B5C;\n",
              "      box-shadow: 0px 1px 3px 1px rgba(0, 0, 0, 0.15);\n",
              "      filter: drop-shadow(0px 1px 2px rgba(0, 0, 0, 0.3));\n",
              "      fill: #FFFFFF;\n",
              "    }\n",
              "  </style>\n",
              "\n",
              "      <script>\n",
              "        const buttonEl =\n",
              "          document.querySelector('#df-b9aaa0a0-5dfb-4c53-996a-90a794f3eb9f button.colab-df-convert');\n",
              "        buttonEl.style.display =\n",
              "          google.colab.kernel.accessAllowed ? 'block' : 'none';\n",
              "\n",
              "        async function convertToInteractive(key) {\n",
              "          const element = document.querySelector('#df-b9aaa0a0-5dfb-4c53-996a-90a794f3eb9f');\n",
              "          const dataTable =\n",
              "            await google.colab.kernel.invokeFunction('convertToInteractive',\n",
              "                                                     [key], {});\n",
              "          if (!dataTable) return;\n",
              "\n",
              "          const docLinkHtml = 'Like what you see? Visit the ' +\n",
              "            '<a target=\"_blank\" href=https://colab.research.google.com/notebooks/data_table.ipynb>data table notebook</a>'\n",
              "            + ' to learn more about interactive tables.';\n",
              "          element.innerHTML = '';\n",
              "          dataTable['output_type'] = 'display_data';\n",
              "          await google.colab.output.renderOutput(dataTable, element);\n",
              "          const docLink = document.createElement('div');\n",
              "          docLink.innerHTML = docLinkHtml;\n",
              "          element.appendChild(docLink);\n",
              "        }\n",
              "      </script>\n",
              "    </div>\n",
              "  </div>\n",
              "  "
            ]
          },
          "metadata": {},
          "execution_count": 54
        }
      ]
    },
    {
      "cell_type": "code",
      "source": [
        "corr = data.corr() # строим матрицу корреляций\n",
        "\n",
        "corr.style.background_gradient(cmap='coolwarm')"
      ],
      "metadata": {
        "id": "ba6wxZGjx50Y",
        "colab": {
          "base_uri": "https://localhost:8080/",
          "height": 386
        },
        "outputId": "71c83da3-b284-40b2-f1a7-2ae1f52d29e2"
      },
      "execution_count": 268,
      "outputs": [
        {
          "output_type": "execute_result",
          "data": {
            "text/plain": [
              "<pandas.io.formats.style.Styler at 0x7f3ff486f9a0>"
            ],
            "text/html": [
              "<style type=\"text/css\">\n",
              "#T_7fe08_row0_col0, #T_7fe08_row1_col1, #T_7fe08_row2_col2, #T_7fe08_row3_col3, #T_7fe08_row4_col4, #T_7fe08_row5_col5, #T_7fe08_row6_col6, #T_7fe08_row7_col7, #T_7fe08_row8_col8 {\n",
              "  background-color: #b40426;\n",
              "  color: #f1f1f1;\n",
              "}\n",
              "#T_7fe08_row0_col1, #T_7fe08_row2_col1, #T_7fe08_row3_col1, #T_7fe08_row3_col5, #T_7fe08_row8_col1 {\n",
              "  background-color: #3d50c3;\n",
              "  color: #f1f1f1;\n",
              "}\n",
              "#T_7fe08_row0_col2 {\n",
              "  background-color: #506bda;\n",
              "  color: #f1f1f1;\n",
              "}\n",
              "#T_7fe08_row0_col3 {\n",
              "  background-color: #7093f3;\n",
              "  color: #f1f1f1;\n",
              "}\n",
              "#T_7fe08_row0_col4, #T_7fe08_row3_col4, #T_7fe08_row5_col3 {\n",
              "  background-color: #455cce;\n",
              "  color: #f1f1f1;\n",
              "}\n",
              "#T_7fe08_row0_col5, #T_7fe08_row1_col8, #T_7fe08_row2_col0, #T_7fe08_row2_col3, #T_7fe08_row2_col7, #T_7fe08_row3_col6, #T_7fe08_row3_col8, #T_7fe08_row4_col5, #T_7fe08_row6_col1, #T_7fe08_row6_col3, #T_7fe08_row7_col2, #T_7fe08_row7_col4 {\n",
              "  background-color: #3b4cc0;\n",
              "  color: #f1f1f1;\n",
              "}\n",
              "#T_7fe08_row0_col6, #T_7fe08_row5_col1 {\n",
              "  background-color: #3f53c6;\n",
              "  color: #f1f1f1;\n",
              "}\n",
              "#T_7fe08_row0_col7, #T_7fe08_row8_col7 {\n",
              "  background-color: #7a9df8;\n",
              "  color: #f1f1f1;\n",
              "}\n",
              "#T_7fe08_row0_col8 {\n",
              "  background-color: #4358cb;\n",
              "  color: #f1f1f1;\n",
              "}\n",
              "#T_7fe08_row1_col0, #T_7fe08_row4_col8, #T_7fe08_row5_col8, #T_7fe08_row6_col4 {\n",
              "  background-color: #5572df;\n",
              "  color: #f1f1f1;\n",
              "}\n",
              "#T_7fe08_row1_col2 {\n",
              "  background-color: #6b8df0;\n",
              "  color: #f1f1f1;\n",
              "}\n",
              "#T_7fe08_row1_col3, #T_7fe08_row7_col3 {\n",
              "  background-color: #485fd1;\n",
              "  color: #f1f1f1;\n",
              "}\n",
              "#T_7fe08_row1_col4 {\n",
              "  background-color: #4961d2;\n",
              "  color: #f1f1f1;\n",
              "}\n",
              "#T_7fe08_row1_col5, #T_7fe08_row5_col4 {\n",
              "  background-color: #4257c9;\n",
              "  color: #f1f1f1;\n",
              "}\n",
              "#T_7fe08_row1_col6 {\n",
              "  background-color: #445acc;\n",
              "  color: #f1f1f1;\n",
              "}\n",
              "#T_7fe08_row1_col7, #T_7fe08_row3_col7 {\n",
              "  background-color: #6c8ff1;\n",
              "  color: #f1f1f1;\n",
              "}\n",
              "#T_7fe08_row2_col4 {\n",
              "  background-color: #4e68d8;\n",
              "  color: #f1f1f1;\n",
              "}\n",
              "#T_7fe08_row2_col5, #T_7fe08_row4_col3, #T_7fe08_row8_col3 {\n",
              "  background-color: #465ecf;\n",
              "  color: #f1f1f1;\n",
              "}\n",
              "#T_7fe08_row2_col6, #T_7fe08_row5_col2 {\n",
              "  background-color: #7396f5;\n",
              "  color: #f1f1f1;\n",
              "}\n",
              "#T_7fe08_row2_col8 {\n",
              "  background-color: #4055c8;\n",
              "  color: #f1f1f1;\n",
              "}\n",
              "#T_7fe08_row3_col0 {\n",
              "  background-color: #7ea1fa;\n",
              "  color: #f1f1f1;\n",
              "}\n",
              "#T_7fe08_row3_col2, #T_7fe08_row4_col7 {\n",
              "  background-color: #5f7fe8;\n",
              "  color: #f1f1f1;\n",
              "}\n",
              "#T_7fe08_row4_col0, #T_7fe08_row7_col5 {\n",
              "  background-color: #5470de;\n",
              "  color: #f1f1f1;\n",
              "}\n",
              "#T_7fe08_row4_col1, #T_7fe08_row7_col1 {\n",
              "  background-color: #3e51c5;\n",
              "  color: #f1f1f1;\n",
              "}\n",
              "#T_7fe08_row4_col2, #T_7fe08_row8_col2 {\n",
              "  background-color: #7295f4;\n",
              "  color: #f1f1f1;\n",
              "}\n",
              "#T_7fe08_row4_col6 {\n",
              "  background-color: #5673e0;\n",
              "  color: #f1f1f1;\n",
              "}\n",
              "#T_7fe08_row5_col0 {\n",
              "  background-color: #516ddb;\n",
              "  color: #f1f1f1;\n",
              "}\n",
              "#T_7fe08_row5_col6, #T_7fe08_row8_col4 {\n",
              "  background-color: #6282ea;\n",
              "  color: #f1f1f1;\n",
              "}\n",
              "#T_7fe08_row5_col7, #T_7fe08_row6_col7 {\n",
              "  background-color: #80a3fa;\n",
              "  color: #f1f1f1;\n",
              "}\n",
              "#T_7fe08_row6_col0 {\n",
              "  background-color: #4c66d6;\n",
              "  color: #f1f1f1;\n",
              "}\n",
              "#T_7fe08_row6_col2 {\n",
              "  background-color: #94b6ff;\n",
              "  color: #000000;\n",
              "}\n",
              "#T_7fe08_row6_col5 {\n",
              "  background-color: #5a78e4;\n",
              "  color: #f1f1f1;\n",
              "}\n",
              "#T_7fe08_row6_col8 {\n",
              "  background-color: #92b4fe;\n",
              "  color: #000000;\n",
              "}\n",
              "#T_7fe08_row7_col0 {\n",
              "  background-color: #6485ec;\n",
              "  color: #f1f1f1;\n",
              "}\n",
              "#T_7fe08_row7_col6 {\n",
              "  background-color: #5d7ce6;\n",
              "  color: #f1f1f1;\n",
              "}\n",
              "#T_7fe08_row7_col8 {\n",
              "  background-color: #4a63d3;\n",
              "  color: #f1f1f1;\n",
              "}\n",
              "#T_7fe08_row8_col0 {\n",
              "  background-color: #5e7de7;\n",
              "  color: #f1f1f1;\n",
              "}\n",
              "#T_7fe08_row8_col5 {\n",
              "  background-color: #5977e3;\n",
              "  color: #f1f1f1;\n",
              "}\n",
              "#T_7fe08_row8_col6 {\n",
              "  background-color: #9dbdff;\n",
              "  color: #000000;\n",
              "}\n",
              "</style>\n",
              "<table id=\"T_7fe08\" class=\"dataframe\">\n",
              "  <thead>\n",
              "    <tr>\n",
              "      <th class=\"blank level0\" >&nbsp;</th>\n",
              "      <th id=\"T_7fe08_level0_col0\" class=\"col_heading level0 col0\" >SeriousDlqin2yrs</th>\n",
              "      <th id=\"T_7fe08_level0_col1\" class=\"col_heading level0 col1\" >RevolvingUtilizationOfUnsecuredLines</th>\n",
              "      <th id=\"T_7fe08_level0_col2\" class=\"col_heading level0 col2\" >age</th>\n",
              "      <th id=\"T_7fe08_level0_col3\" class=\"col_heading level0 col3\" >NumberOfTime30-59DaysPastDueNotWorse</th>\n",
              "      <th id=\"T_7fe08_level0_col4\" class=\"col_heading level0 col4\" >DebtRatio</th>\n",
              "      <th id=\"T_7fe08_level0_col5\" class=\"col_heading level0 col5\" >MonthlyIncome</th>\n",
              "      <th id=\"T_7fe08_level0_col6\" class=\"col_heading level0 col6\" >NumberOfOpenCreditLinesAndLoans</th>\n",
              "      <th id=\"T_7fe08_level0_col7\" class=\"col_heading level0 col7\" >NumberOfDependents</th>\n",
              "      <th id=\"T_7fe08_level0_col8\" class=\"col_heading level0 col8\" >RealEstateLoansOrLines</th>\n",
              "    </tr>\n",
              "  </thead>\n",
              "  <tbody>\n",
              "    <tr>\n",
              "      <th id=\"T_7fe08_level0_row0\" class=\"row_heading level0 row0\" >SeriousDlqin2yrs</th>\n",
              "      <td id=\"T_7fe08_row0_col0\" class=\"data row0 col0\" >1.000000</td>\n",
              "      <td id=\"T_7fe08_row0_col1\" class=\"data row0 col1\" >-0.001840</td>\n",
              "      <td id=\"T_7fe08_row0_col2\" class=\"data row0 col2\" >-0.099963</td>\n",
              "      <td id=\"T_7fe08_row0_col3\" class=\"data row0 col3\" >0.131837</td>\n",
              "      <td id=\"T_7fe08_row0_col4\" class=\"data row0 col4\" >-0.008103</td>\n",
              "      <td id=\"T_7fe08_row0_col5\" class=\"data row0 col5\" >-0.017414</td>\n",
              "      <td id=\"T_7fe08_row0_col6\" class=\"data row0 col6\" >-0.031444</td>\n",
              "      <td id=\"T_7fe08_row0_col7\" class=\"data row0 col7\" >0.046202</td>\n",
              "      <td id=\"T_7fe08_row0_col8\" class=\"data row0 col8\" >0.027463</td>\n",
              "    </tr>\n",
              "    <tr>\n",
              "      <th id=\"T_7fe08_level0_row1\" class=\"row_heading level0 row1\" >RevolvingUtilizationOfUnsecuredLines</th>\n",
              "      <td id=\"T_7fe08_row1_col0\" class=\"data row1 col0\" >-0.001840</td>\n",
              "      <td id=\"T_7fe08_row1_col1\" class=\"data row1 col1\" >1.000000</td>\n",
              "      <td id=\"T_7fe08_row1_col2\" class=\"data row1 col2\" >-0.002420</td>\n",
              "      <td id=\"T_7fe08_row1_col3\" class=\"data row1 col3\" >-0.001296</td>\n",
              "      <td id=\"T_7fe08_row1_col4\" class=\"data row1 col4\" >0.003932</td>\n",
              "      <td id=\"T_7fe08_row1_col5\" class=\"data row1 col5\" >0.006491</td>\n",
              "      <td id=\"T_7fe08_row1_col6\" class=\"data row1 col6\" >-0.011583</td>\n",
              "      <td id=\"T_7fe08_row1_col7\" class=\"data row1 col7\" >0.001054</td>\n",
              "      <td id=\"T_7fe08_row1_col8\" class=\"data row1 col8\" >-0.000931</td>\n",
              "    </tr>\n",
              "    <tr>\n",
              "      <th id=\"T_7fe08_level0_row2\" class=\"row_heading level0 row2\" >age</th>\n",
              "      <td id=\"T_7fe08_row2_col0\" class=\"data row2 col0\" >-0.099963</td>\n",
              "      <td id=\"T_7fe08_row2_col1\" class=\"data row2 col1\" >-0.002420</td>\n",
              "      <td id=\"T_7fe08_row2_col2\" class=\"data row2 col2\" >1.000000</td>\n",
              "      <td id=\"T_7fe08_row2_col3\" class=\"data row2 col3\" >-0.045325</td>\n",
              "      <td id=\"T_7fe08_row2_col4\" class=\"data row2 col4\" >0.020859</td>\n",
              "      <td id=\"T_7fe08_row2_col5\" class=\"data row2 col5\" >0.023140</td>\n",
              "      <td id=\"T_7fe08_row2_col6\" class=\"data row2 col6\" >0.137310</td>\n",
              "      <td id=\"T_7fe08_row2_col7\" class=\"data row2 col7\" >-0.186082</td>\n",
              "      <td id=\"T_7fe08_row2_col8\" class=\"data row2 col8\" >0.018291</td>\n",
              "    </tr>\n",
              "    <tr>\n",
              "      <th id=\"T_7fe08_level0_row3\" class=\"row_heading level0 row3\" >NumberOfTime30-59DaysPastDueNotWorse</th>\n",
              "      <td id=\"T_7fe08_row3_col0\" class=\"data row3 col0\" >0.131837</td>\n",
              "      <td id=\"T_7fe08_row3_col1\" class=\"data row3 col1\" >-0.001296</td>\n",
              "      <td id=\"T_7fe08_row3_col2\" class=\"data row3 col2\" >-0.045325</td>\n",
              "      <td id=\"T_7fe08_row3_col3\" class=\"data row3 col3\" >1.000000</td>\n",
              "      <td id=\"T_7fe08_row3_col4\" class=\"data row3 col4\" >-0.005882</td>\n",
              "      <td id=\"T_7fe08_row3_col5\" class=\"data row3 col5\" >-0.008452</td>\n",
              "      <td id=\"T_7fe08_row3_col6\" class=\"data row3 col6\" >-0.048175</td>\n",
              "      <td id=\"T_7fe08_row3_col7\" class=\"data row3 col7\" >0.000217</td>\n",
              "      <td id=\"T_7fe08_row3_col8\" class=\"data row3 col8\" >-0.003374</td>\n",
              "    </tr>\n",
              "    <tr>\n",
              "      <th id=\"T_7fe08_level0_row4\" class=\"row_heading level0 row4\" >DebtRatio</th>\n",
              "      <td id=\"T_7fe08_row4_col0\" class=\"data row4 col0\" >-0.008103</td>\n",
              "      <td id=\"T_7fe08_row4_col1\" class=\"data row4 col1\" >0.003932</td>\n",
              "      <td id=\"T_7fe08_row4_col2\" class=\"data row4 col2\" >0.020859</td>\n",
              "      <td id=\"T_7fe08_row4_col3\" class=\"data row4 col3\" >-0.005882</td>\n",
              "      <td id=\"T_7fe08_row4_col4\" class=\"data row4 col4\" >1.000000</td>\n",
              "      <td id=\"T_7fe08_row4_col5\" class=\"data row4 col5\" >-0.018146</td>\n",
              "      <td id=\"T_7fe08_row4_col6\" class=\"data row4 col6\" >0.048193</td>\n",
              "      <td id=\"T_7fe08_row4_col7\" class=\"data row4 col7\" >-0.045480</td>\n",
              "      <td id=\"T_7fe08_row4_col8\" class=\"data row4 col8\" >0.086175</td>\n",
              "    </tr>\n",
              "    <tr>\n",
              "      <th id=\"T_7fe08_level0_row5\" class=\"row_heading level0 row5\" >MonthlyIncome</th>\n",
              "      <td id=\"T_7fe08_row5_col0\" class=\"data row5 col0\" >-0.017414</td>\n",
              "      <td id=\"T_7fe08_row5_col1\" class=\"data row5 col1\" >0.006491</td>\n",
              "      <td id=\"T_7fe08_row5_col2\" class=\"data row5 col2\" >0.023140</td>\n",
              "      <td id=\"T_7fe08_row5_col3\" class=\"data row5 col3\" >-0.008452</td>\n",
              "      <td id=\"T_7fe08_row5_col4\" class=\"data row5 col4\" >-0.018146</td>\n",
              "      <td id=\"T_7fe08_row5_col5\" class=\"data row5 col5\" >1.000000</td>\n",
              "      <td id=\"T_7fe08_row5_col6\" class=\"data row5 col6\" >0.086351</td>\n",
              "      <td id=\"T_7fe08_row5_col7\" class=\"data row5 col7\" >0.065782</td>\n",
              "      <td id=\"T_7fe08_row5_col8\" class=\"data row5 col8\" >0.083873</td>\n",
              "    </tr>\n",
              "    <tr>\n",
              "      <th id=\"T_7fe08_level0_row6\" class=\"row_heading level0 row6\" >NumberOfOpenCreditLinesAndLoans</th>\n",
              "      <td id=\"T_7fe08_row6_col0\" class=\"data row6 col0\" >-0.031444</td>\n",
              "      <td id=\"T_7fe08_row6_col1\" class=\"data row6 col1\" >-0.011583</td>\n",
              "      <td id=\"T_7fe08_row6_col2\" class=\"data row6 col2\" >0.137310</td>\n",
              "      <td id=\"T_7fe08_row6_col3\" class=\"data row6 col3\" >-0.048175</td>\n",
              "      <td id=\"T_7fe08_row6_col4\" class=\"data row6 col4\" >0.048193</td>\n",
              "      <td id=\"T_7fe08_row6_col5\" class=\"data row6 col5\" >0.086351</td>\n",
              "      <td id=\"T_7fe08_row6_col6\" class=\"data row6 col6\" >1.000000</td>\n",
              "      <td id=\"T_7fe08_row6_col7\" class=\"data row6 col7\" >0.068286</td>\n",
              "      <td id=\"T_7fe08_row6_col8\" class=\"data row6 col8\" >0.262467</td>\n",
              "    </tr>\n",
              "    <tr>\n",
              "      <th id=\"T_7fe08_level0_row7\" class=\"row_heading level0 row7\" >NumberOfDependents</th>\n",
              "      <td id=\"T_7fe08_row7_col0\" class=\"data row7 col0\" >0.046202</td>\n",
              "      <td id=\"T_7fe08_row7_col1\" class=\"data row7 col1\" >0.001054</td>\n",
              "      <td id=\"T_7fe08_row7_col2\" class=\"data row7 col2\" >-0.186082</td>\n",
              "      <td id=\"T_7fe08_row7_col3\" class=\"data row7 col3\" >0.000217</td>\n",
              "      <td id=\"T_7fe08_row7_col4\" class=\"data row7 col4\" >-0.045480</td>\n",
              "      <td id=\"T_7fe08_row7_col5\" class=\"data row7 col5\" >0.065782</td>\n",
              "      <td id=\"T_7fe08_row7_col6\" class=\"data row7 col6\" >0.068286</td>\n",
              "      <td id=\"T_7fe08_row7_col7\" class=\"data row7 col7\" >1.000000</td>\n",
              "      <td id=\"T_7fe08_row7_col8\" class=\"data row7 col8\" >0.048285</td>\n",
              "    </tr>\n",
              "    <tr>\n",
              "      <th id=\"T_7fe08_level0_row8\" class=\"row_heading level0 row8\" >RealEstateLoansOrLines</th>\n",
              "      <td id=\"T_7fe08_row8_col0\" class=\"data row8 col0\" >0.027463</td>\n",
              "      <td id=\"T_7fe08_row8_col1\" class=\"data row8 col1\" >-0.000931</td>\n",
              "      <td id=\"T_7fe08_row8_col2\" class=\"data row8 col2\" >0.018291</td>\n",
              "      <td id=\"T_7fe08_row8_col3\" class=\"data row8 col3\" >-0.003374</td>\n",
              "      <td id=\"T_7fe08_row8_col4\" class=\"data row8 col4\" >0.086175</td>\n",
              "      <td id=\"T_7fe08_row8_col5\" class=\"data row8 col5\" >0.083873</td>\n",
              "      <td id=\"T_7fe08_row8_col6\" class=\"data row8 col6\" >0.262467</td>\n",
              "      <td id=\"T_7fe08_row8_col7\" class=\"data row8 col7\" >0.048285</td>\n",
              "      <td id=\"T_7fe08_row8_col8\" class=\"data row8 col8\" >1.000000</td>\n",
              "    </tr>\n",
              "  </tbody>\n",
              "</table>\n"
            ]
          },
          "metadata": {},
          "execution_count": 268
        }
      ]
    },
    {
      "cell_type": "markdown",
      "source": [
        "Очень большая корреляция между сроками просрочки. Необходимо удалить 2 лишних + признак возрастной группы"
      ],
      "metadata": {
        "id": "NJd_ZqZjSu-8"
      }
    },
    {
      "cell_type": "code",
      "source": [
        "data = data.drop(['NumberOfTimes90DaysLate','NumberOfTime60-89DaysPastDueNotWorse','GroupAge'],axis=1)"
      ],
      "metadata": {
        "id": "XNaV0HfQzQns"
      },
      "execution_count": 28,
      "outputs": []
    },
    {
      "cell_type": "code",
      "source": [
        "for col in data.columns:\n",
        "    try:\n",
        "        print(col, np.corrcoef(data[col], data['SeriousDlqin2yrs'])[0][1])\n",
        "    except:\n",
        "        pass"
      ],
      "metadata": {
        "colab": {
          "base_uri": "https://localhost:8080/"
        },
        "id": "5RShtvn0SYHo",
        "outputId": "27b14195-a809-4332-b634-560059ef7054"
      },
      "execution_count": 84,
      "outputs": [
        {
          "output_type": "stream",
          "name": "stdout",
          "text": [
            "SeriousDlqin2yrs 1.0\n",
            "RevolvingUtilizationOfUnsecuredLines -0.0018397478133073029\n",
            "age -0.09996283754325004\n",
            "NumberOfTime30-59DaysPastDueNotWorse 0.13183726418311048\n",
            "DebtRatio -0.008102681421069586\n",
            "MonthlyIncome -0.01741366262864136\n",
            "NumberOfOpenCreditLinesAndLoans -0.031444399334181\n",
            "NumberOfDependents 0.04620238056686157\n",
            "RealEstateLoansOrLines 0.02746278159668276\n"
          ]
        }
      ]
    },
    {
      "cell_type": "code",
      "source": [
        "data['RevolvingUtilizationOfUnsecuredLines'].hist()"
      ],
      "metadata": {
        "colab": {
          "base_uri": "https://localhost:8080/",
          "height": 447
        },
        "id": "vie2-kapau_j",
        "outputId": "ffaf5b19-cc6f-46cf-bc64-d61dc52dfff4"
      },
      "execution_count": 79,
      "outputs": [
        {
          "output_type": "execute_result",
          "data": {
            "text/plain": [
              "<Axes: >"
            ]
          },
          "metadata": {},
          "execution_count": 79
        },
        {
          "output_type": "display_data",
          "data": {
            "text/plain": [
              "<Figure size 640x480 with 1 Axes>"
            ],
            "image/png": "[encoded data removed]"
          },
          "metadata": {}
        }
      ]
    },
    {
      "cell_type": "markdown",
      "source": [
        "## Вопрос для Quiz\n",
        "\n",
        "Какой признак имеет наибольшую корреляцию с целевой переменной (churn)?"
      ],
      "metadata": {
        "id": "6Sx_793vP-1p"
      }
    },
    {
      "cell_type": "markdown",
      "source": [
        "## Визуализация данных"
      ],
      "metadata": {
        "id": "Ec9XDcmPl_Pt"
      }
    },
    {
      "cell_type": "code",
      "source": [
        "import matplotlib.pyplot as plt\n",
        "\n",
        "plt.scatter(data['NumberOfTime30-59DaysPastDueNotWorse'], data['SeriousDlqin2yrs'], c=data['SeriousDlqin2yrs'])"
      ],
      "metadata": {
        "id": "MjdsADyJmBpa",
        "colab": {
          "base_uri": "https://localhost:8080/",
          "height": 447
        },
        "outputId": "91ad2b31-15e3-439f-e3c2-2a4e0d7f37f8"
      },
      "execution_count": 30,
      "outputs": [
        {
          "output_type": "execute_result",
          "data": {
            "text/plain": [
              "<matplotlib.collections.PathCollection at 0x7f4017e43c70>"
            ]
          },
          "metadata": {},
          "execution_count": 30
        },
        {
          "output_type": "display_data",
          "data": {
            "text/plain": [
              "<Figure size 640x480 with 1 Axes>"
            ],
            "image/png": "[encoded data removed]"
          },
          "metadata": {}
        }
      ]
    },
    {
      "cell_type": "code",
      "source": [
        "data[data.SeriousDlqin2yrs == 1]['NumberOfTime30-59DaysPastDueNotWorse'].hist(bins=30)"
      ],
      "metadata": {
        "colab": {
          "base_uri": "https://localhost:8080/",
          "height": 447
        },
        "id": "zUDFTAGneF3y",
        "outputId": "410dd703-f1d2-4295-fd2a-04f841004104"
      },
      "execution_count": 57,
      "outputs": [
        {
          "output_type": "execute_result",
          "data": {
            "text/plain": [
              "<Axes: >"
            ]
          },
          "metadata": {},
          "execution_count": 57
        },
        {
          "output_type": "display_data",
          "data": {
            "text/plain": [
              "<Figure size 640x480 with 1 Axes>"
            ],
            "image/png": "[encoded data removed]"
          },
          "metadata": {}
        }
      ]
    },
    {
      "cell_type": "code",
      "source": [
        "data.groupby('SeriousDlqin2yrs')['NumberOfTime30-59DaysPastDueNotWorse'].mean()"
      ],
      "metadata": {
        "id": "MoGJ4MbW1d4S",
        "colab": {
          "base_uri": "https://localhost:8080/"
        },
        "outputId": "4efe5e6f-c0c6-4986-e463-2cf53f3fa336"
      },
      "execution_count": 31,
      "outputs": [
        {
          "output_type": "execute_result",
          "data": {
            "text/plain": [
              "SeriousDlqin2yrs\n",
              "0    0.260252\n",
              "1    2.296248\n",
              "Name: NumberOfTime30-59DaysPastDueNotWorse, dtype: float64"
            ]
          },
          "metadata": {},
          "execution_count": 31
        }
      ]
    },
    {
      "cell_type": "code",
      "source": [
        "У клиентов с просрочкой 90+ дней за последние 2 года уже было в среднем 2 просрочки по 30-59 дней."
      ],
      "metadata": {
        "id": "SIIlJZ0fU36-"
      },
      "execution_count": null,
      "outputs": []
    },
    {
      "cell_type": "markdown",
      "source": [
        "Постройте диаграмму рассеяния для оценки влияния признака customerservicecalls на целевую переменную churn."
      ],
      "metadata": {
        "id": "HXiRhmmdQcim"
      }
    },
    {
      "cell_type": "code",
      "source": [
        "# your code here\n",
        "\n",
        "plt.scatter(data['age'], data['SeriousDlqin2yrs'], c=data['SeriousDlqin2yrs'])"
      ],
      "metadata": {
        "id": "rU1lz1hh2RCr",
        "colab": {
          "base_uri": "https://localhost:8080/",
          "height": 447
        },
        "outputId": "d165c849-37d4-457c-d863-ced63d2c2034"
      },
      "execution_count": 33,
      "outputs": [
        {
          "output_type": "execute_result",
          "data": {
            "text/plain": [
              "<matplotlib.collections.PathCollection at 0x7f4017d7d570>"
            ]
          },
          "metadata": {},
          "execution_count": 33
        },
        {
          "output_type": "display_data",
          "data": {
            "text/plain": [
              "<Figure size 640x480 with 1 Axes>"
            ],
            "image/png": "[encoded data removed]"
          },
          "metadata": {}
        }
      ]
    },
    {
      "cell_type": "code",
      "source": [
        "data.groupby('SeriousDlqin2yrs')['age'].mean()"
      ],
      "metadata": {
        "colab": {
          "base_uri": "https://localhost:8080/"
        },
        "id": "a0Q8JrYjWutk",
        "outputId": "c3aad05a-0afd-4cbd-d613-fcbe98d92307"
      },
      "execution_count": 34,
      "outputs": [
        {
          "output_type": "execute_result",
          "data": {
            "text/plain": [
              "SeriousDlqin2yrs\n",
              "0    54.601814\n",
              "1    48.550175\n",
              "Name: age, dtype: float64"
            ]
          },
          "metadata": {},
          "execution_count": 34
        }
      ]
    },
    {
      "cell_type": "code",
      "source": [
        "data[data.SeriousDlqin2yrs == 0]['age'].hist(bins=30)"
      ],
      "metadata": {
        "colab": {
          "base_uri": "https://localhost:8080/",
          "height": 447
        },
        "id": "_7ml_wmpVH7L",
        "outputId": "042db0f1-4a80-4ebd-dee5-c482a2331ae6"
      },
      "execution_count": 41,
      "outputs": [
        {
          "output_type": "execute_result",
          "data": {
            "text/plain": [
              "<Axes: >"
            ]
          },
          "metadata": {},
          "execution_count": 41
        },
        {
          "output_type": "display_data",
          "data": {
            "text/plain": [
              "<Figure size 640x480 with 1 Axes>"
            ],
            "image/png": "[encoded data removed]"
          },
          "metadata": {}
        }
      ]
    },
    {
      "cell_type": "code",
      "source": [
        "data[data.SeriousDlqin2yrs == 1]['age'].hist(bins=30)"
      ],
      "metadata": {
        "colab": {
          "base_uri": "https://localhost:8080/",
          "height": 447
        },
        "id": "IdOs3PUsVedC",
        "outputId": "c5b18c02-be87-428c-d828-fb80cf2fe330"
      },
      "execution_count": 42,
      "outputs": [
        {
          "output_type": "execute_result",
          "data": {
            "text/plain": [
              "<Axes: >"
            ]
          },
          "metadata": {},
          "execution_count": 42
        },
        {
          "output_type": "display_data",
          "data": {
            "text/plain": [
              "<Figure size 640x480 with 1 Axes>"
            ],
            "image/png": "[encoded data removed]"
          },
          "metadata": {}
        }
      ]
    },
    {
      "cell_type": "markdown",
      "source": [
        "Посчитайте среднее значение customerservicecalls для оттоковых и не оттоковых клиентов, используйте groupby."
      ],
      "metadata": {
        "id": "H-h2Oj5DQnL1"
      }
    },
    {
      "cell_type": "code",
      "source": [
        "# your code here\n",
        "\n",
        "data.groupby('churn')['customerservicecalls'].mean()"
      ],
      "metadata": {
        "id": "zfkk5g352RH6",
        "colab": {
          "base_uri": "https://localhost:8080/"
        },
        "outputId": "362171b1-f099-4750-d088-8bb64f46bcb3"
      },
      "execution_count": null,
      "outputs": [
        {
          "output_type": "execute_result",
          "data": {
            "text/plain": [
              "churn\n",
              "False    1.449825\n",
              "True     2.229814\n",
              "Name: customerservicecalls, dtype: float64"
            ]
          },
          "metadata": {},
          "execution_count": 66
        }
      ]
    },
    {
      "cell_type": "markdown",
      "source": [
        "## <font color='green'>2.1. Обучение модели</font>\n",
        "\n"
      ],
      "metadata": {
        "id": "YKqPYfZ3N1Bp"
      }
    },
    {
      "cell_type": "markdown",
      "source": [
        "Сформируем матрицу X объект-признак и вектор y целевой переменной."
      ],
      "metadata": {
        "id": "YXUwlNSx49ZS"
      }
    },
    {
      "cell_type": "code",
      "source": [
        "X = data.drop('SeriousDlqin2yrs', axis=1) # матрица объект-признак\n",
        "y = data['SeriousDlqin2yrs'] # целевая переменная"
      ],
      "metadata": {
        "id": "cgetIc6vRgMi"
      },
      "execution_count": 252,
      "outputs": []
    },
    {
      "cell_type": "markdown",
      "source": [
        "Давайте применим логистическую регрессию для поиска клиентов с просрочками 90+\n",
        "\n"
      ],
      "metadata": {
        "id": "kLfG720Fi4eh"
      }
    },
    {
      "cell_type": "markdown",
      "source": [
        "Разобъём данные на train и test (test — 25% от всех данных). Зачем это делается?"
      ],
      "metadata": {
        "id": "AmBs4yaFf87N"
      }
    },
    {
      "cell_type": "code",
      "execution_count": 253,
      "metadata": {
        "id": "O4IcPGEOhtwe"
      },
      "outputs": [],
      "source": [
        "from sklearn.metrics import accuracy_score\n",
        "from sklearn.model_selection import train_test_split\n",
        "\n",
        "Xtrain, Xtest, ytrain, ytest = train_test_split(X, y, test_size=0.25, random_state=42)"
      ]
    },
    {
      "cell_type": "markdown",
      "source": [
        "Для линейных моделей очень важно масштабирование признаков. У нас часть данных представлена десятками, а часть тысячами и тд, это негативно влияет на модель. Для привидения к одному масштабу используем StandardScaler, обучив метод на тренировочных данных и применив его и к трейну, и к тесту."
      ],
      "metadata": {
        "id": "GbuDWle1z2Uh"
      }
    },
    {
      "cell_type": "code",
      "source": [
        "import pandas as pd\n",
        "from sklearn.preprocessing import StandardScaler\n",
        "\n",
        "ss = StandardScaler()\n",
        "ss.fit(Xtrain)\n",
        "\n",
        "Xtrain = pd.DataFrame(ss.transform(Xtrain), columns=X.columns)\n",
        "Xtest = pd.DataFrame(ss.transform(Xtest), columns=X.columns)\n",
        "\n",
        "Xtrain.head()"
      ],
      "metadata": {
        "id": "69H1fh7VzaZf",
        "colab": {
          "base_uri": "https://localhost:8080/",
          "height": 287
        },
        "outputId": "73b31dce-a7ee-4a87-ab51-a4e282fb13b9"
      },
      "execution_count": 254,
      "outputs": [
        {
          "output_type": "execute_result",
          "data": {
            "text/plain": [
              "   RevolvingUtilizationOfUnsecuredLines       age  \\\n",
              "0                             -0.020934 -0.409864   \n",
              "1                             -0.023415  1.244657   \n",
              "2                             -0.020024 -0.740768   \n",
              "3                             -0.023703  1.840284   \n",
              "4                             -0.020687 -0.012779   \n",
              "\n",
              "   NumberOfTime30-59DaysPastDueNotWorse  DebtRatio  MonthlyIncome  \\\n",
              "0                             -0.104034   1.643187      -0.078565   \n",
              "1                             -0.104034  -0.179131       0.322353   \n",
              "2                              0.168083  -0.179193      -0.303156   \n",
              "3                             -0.104034  -0.179064      -0.162449   \n",
              "4                             -0.104034  -0.178829      -0.249649   \n",
              "\n",
              "   NumberOfOpenCreditLinesAndLoans  NumberOfDependents  RealEstateLoansOrLines  \n",
              "0                         0.678886            0.229922               -0.254272  \n",
              "1                        -0.098593           -0.669124               -0.254272  \n",
              "2                        -1.459180            2.028014               -0.254272  \n",
              "3                         1.845103           -0.669124               -0.254272  \n",
              "4                         0.290146           -0.669124                2.974528  "
            ],
            "text/html": [
              "\n",
              "  <div id=\"df-09d5ad4f-c3ac-4417-a5a9-8c562be96f39\">\n",
              "    <div class=\"colab-df-container\">\n",
              "      <div>\n",
              "<style scoped>\n",
              "    .dataframe tbody tr th:only-of-type {\n",
              "        vertical-align: middle;\n",
              "    }\n",
              "\n",
              "    .dataframe tbody tr th {\n",
              "        vertical-align: top;\n",
              "    }\n",
              "\n",
              "    .dataframe thead th {\n",
              "        text-align: right;\n",
              "    }\n",
              "</style>\n",
              "<table border=\"1\" class=\"dataframe\">\n",
              "  <thead>\n",
              "    <tr style=\"text-align: right;\">\n",
              "      <th></th>\n",
              "      <th>RevolvingUtilizationOfUnsecuredLines</th>\n",
              "      <th>age</th>\n",
              "      <th>NumberOfTime30-59DaysPastDueNotWorse</th>\n",
              "      <th>DebtRatio</th>\n",
              "      <th>MonthlyIncome</th>\n",
              "      <th>NumberOfOpenCreditLinesAndLoans</th>\n",
              "      <th>NumberOfDependents</th>\n",
              "      <th>RealEstateLoansOrLines</th>\n",
              "    </tr>\n",
              "  </thead>\n",
              "  <tbody>\n",
              "    <tr>\n",
              "      <th>0</th>\n",
              "      <td>-0.020934</td>\n",
              "      <td>-0.409864</td>\n",
              "      <td>-0.104034</td>\n",
              "      <td>1.643187</td>\n",
              "      <td>-0.078565</td>\n",
              "      <td>0.678886</td>\n",
              "      <td>0.229922</td>\n",
              "      <td>-0.254272</td>\n",
              "    </tr>\n",
              "    <tr>\n",
              "      <th>1</th>\n",
              "      <td>-0.023415</td>\n",
              "      <td>1.244657</td>\n",
              "      <td>-0.104034</td>\n",
              "      <td>-0.179131</td>\n",
              "      <td>0.322353</td>\n",
              "      <td>-0.098593</td>\n",
              "      <td>-0.669124</td>\n",
              "      <td>-0.254272</td>\n",
              "    </tr>\n",
              "    <tr>\n",
              "      <th>2</th>\n",
              "      <td>-0.020024</td>\n",
              "      <td>-0.740768</td>\n",
              "      <td>0.168083</td>\n",
              "      <td>-0.179193</td>\n",
              "      <td>-0.303156</td>\n",
              "      <td>-1.459180</td>\n",
              "      <td>2.028014</td>\n",
              "      <td>-0.254272</td>\n",
              "    </tr>\n",
              "    <tr>\n",
              "      <th>3</th>\n",
              "      <td>-0.023703</td>\n",
              "      <td>1.840284</td>\n",
              "      <td>-0.104034</td>\n",
              "      <td>-0.179064</td>\n",
              "      <td>-0.162449</td>\n",
              "      <td>1.845103</td>\n",
              "      <td>-0.669124</td>\n",
              "      <td>-0.254272</td>\n",
              "    </tr>\n",
              "    <tr>\n",
              "      <th>4</th>\n",
              "      <td>-0.020687</td>\n",
              "      <td>-0.012779</td>\n",
              "      <td>-0.104034</td>\n",
              "      <td>-0.178829</td>\n",
              "      <td>-0.249649</td>\n",
              "      <td>0.290146</td>\n",
              "      <td>-0.669124</td>\n",
              "      <td>2.974528</td>\n",
              "    </tr>\n",
              "  </tbody>\n",
              "</table>\n",
              "</div>\n",
              "      <button class=\"colab-df-convert\" onclick=\"convertToInteractive('df-09d5ad4f-c3ac-4417-a5a9-8c562be96f39')\"\n",
              "              title=\"Convert this dataframe to an interactive table.\"\n",
              "              style=\"display:none;\">\n",
              "        \n",
              "  <svg xmlns=\"http://www.w3.org/2000/svg\" height=\"24px\"viewBox=\"0 0 24 24\"\n",
              "       width=\"24px\">\n",
              "    <path d=\"M0 0h24v24H0V0z\" fill=\"none\"/>\n",
              "    <path d=\"M18.56 5.44l.94 2.06.94-2.06 2.06-.94-2.06-.94-.94-2.06-.94 2.06-2.06.94zm-11 1L8.5 8.5l.94-2.06 2.06-.94-2.06-.94L8.5 2.5l-.94 2.06-2.06.94zm10 10l.94 2.06.94-2.06 2.06-.94-2.06-.94-.94-2.06-.94 2.06-2.06.94z\"/><path d=\"M17.41 7.96l-1.37-1.37c-.4-.4-.92-.59-1.43-.59-.52 0-1.04.2-1.43.59L10.3 9.45l-7.72 7.72c-.78.78-.78 2.05 0 2.83L4 21.41c.39.39.9.59 1.41.59.51 0 1.02-.2 1.41-.59l7.78-7.78 2.81-2.81c.8-.78.8-2.07 0-2.86zM5.41 20L4 18.59l7.72-7.72 1.47 1.35L5.41 20z\"/>\n",
              "  </svg>\n",
              "      </button>\n",
              "      \n",
              "  <style>\n",
              "    .colab-df-container {\n",
              "      display:flex;\n",
              "      flex-wrap:wrap;\n",
              "      gap: 12px;\n",
              "    }\n",
              "\n",
              "    .colab-df-convert {\n",
              "      background-color: #E8F0FE;\n",
              "      border: none;\n",
              "      border-radius: 50%;\n",
              "      cursor: pointer;\n",
              "      display: none;\n",
              "      fill: #1967D2;\n",
              "      height: 32px;\n",
              "      padding: 0 0 0 0;\n",
              "      width: 32px;\n",
              "    }\n",
              "\n",
              "    .colab-df-convert:hover {\n",
              "      background-color: #E2EBFA;\n",
              "      box-shadow: 0px 1px 2px rgba(60, 64, 67, 0.3), 0px 1px 3px 1px rgba(60, 64, 67, 0.15);\n",
              "      fill: #174EA6;\n",
              "    }\n",
              "\n",
              "    [theme=dark] .colab-df-convert {\n",
              "      background-color: #3B4455;\n",
              "      fill: #D2E3FC;\n",
              "    }\n",
              "\n",
              "    [theme=dark] .colab-df-convert:hover {\n",
              "      background-color: #434B5C;\n",
              "      box-shadow: 0px 1px 3px 1px rgba(0, 0, 0, 0.15);\n",
              "      filter: drop-shadow(0px 1px 2px rgba(0, 0, 0, 0.3));\n",
              "      fill: #FFFFFF;\n",
              "    }\n",
              "  </style>\n",
              "\n",
              "      <script>\n",
              "        const buttonEl =\n",
              "          document.querySelector('#df-09d5ad4f-c3ac-4417-a5a9-8c562be96f39 button.colab-df-convert');\n",
              "        buttonEl.style.display =\n",
              "          google.colab.kernel.accessAllowed ? 'block' : 'none';\n",
              "\n",
              "        async function convertToInteractive(key) {\n",
              "          const element = document.querySelector('#df-09d5ad4f-c3ac-4417-a5a9-8c562be96f39');\n",
              "          const dataTable =\n",
              "            await google.colab.kernel.invokeFunction('convertToInteractive',\n",
              "                                                     [key], {});\n",
              "          if (!dataTable) return;\n",
              "\n",
              "          const docLinkHtml = 'Like what you see? Visit the ' +\n",
              "            '<a target=\"_blank\" href=https://colab.research.google.com/notebooks/data_table.ipynb>data table notebook</a>'\n",
              "            + ' to learn more about interactive tables.';\n",
              "          element.innerHTML = '';\n",
              "          dataTable['output_type'] = 'display_data';\n",
              "          await google.colab.output.renderOutput(dataTable, element);\n",
              "          const docLink = document.createElement('div');\n",
              "          docLink.innerHTML = docLinkHtml;\n",
              "          element.appendChild(docLink);\n",
              "        }\n",
              "      </script>\n",
              "    </div>\n",
              "  </div>\n",
              "  "
            ]
          },
          "metadata": {},
          "execution_count": 254
        }
      ]
    },
    {
      "cell_type": "markdown",
      "metadata": {
        "id": "jjPL8ZlJhtwf"
      },
      "source": [
        "Обучим логистическую регрессию на train и сделаем предсказание на новых для нее данных (test)."
      ]
    },
    {
      "cell_type": "code",
      "execution_count": 255,
      "metadata": {
        "colab": {
          "base_uri": "https://localhost:8080/",
          "height": 74
        },
        "id": "mmOb1h0Chtwf",
        "outputId": "880a9136-a93a-4af5-c82f-335a22997c2e"
      },
      "outputs": [
        {
          "output_type": "execute_result",
          "data": {
            "text/plain": [
              "LogisticRegression()"
            ],
            "text/html": [
              "<style>#sk-container-id-10 {color: black;background-color: white;}#sk-container-id-10 pre{padding: 0;}#sk-container-id-10 div.sk-toggleable {background-color: white;}#sk-container-id-10 label.sk-toggleable__label {cursor: pointer;display: block;width: 100%;margin-bottom: 0;padding: 0.3em;box-sizing: border-box;text-align: center;}#sk-container-id-10 label.sk-toggleable__label-arrow:before {content: \"▸\";float: left;margin-right: 0.25em;color: #696969;}#sk-container-id-10 label.sk-toggleable__label-arrow:hover:before {color: black;}#sk-container-id-10 div.sk-estimator:hover label.sk-toggleable__label-arrow:before {color: black;}#sk-container-id-10 div.sk-toggleable__content {max-height: 0;max-width: 0;overflow: hidden;text-align: left;background-color: #f0f8ff;}#sk-container-id-10 div.sk-toggleable__content pre {margin: 0.2em;color: black;border-radius: 0.25em;background-color: #f0f8ff;}#sk-container-id-10 input.sk-toggleable__control:checked~div.sk-toggleable__content {max-height: 200px;max-width: 100%;overflow: auto;}#sk-container-id-10 input.sk-toggleable__control:checked~label.sk-toggleable__label-arrow:before {content: \"▾\";}#sk-container-id-10 div.sk-estimator input.sk-toggleable__control:checked~label.sk-toggleable__label {background-color: #d4ebff;}#sk-container-id-10 div.sk-label input.sk-toggleable__control:checked~label.sk-toggleable__label {background-color: #d4ebff;}#sk-container-id-10 input.sk-hidden--visually {border: 0;clip: rect(1px 1px 1px 1px);clip: rect(1px, 1px, 1px, 1px);height: 1px;margin: -1px;overflow: hidden;padding: 0;position: absolute;width: 1px;}#sk-container-id-10 div.sk-estimator {font-family: monospace;background-color: #f0f8ff;border: 1px dotted black;border-radius: 0.25em;box-sizing: border-box;margin-bottom: 0.5em;}#sk-container-id-10 div.sk-estimator:hover {background-color: #d4ebff;}#sk-container-id-10 div.sk-parallel-item::after {content: \"\";width: 100%;border-bottom: 1px solid gray;flex-grow: 1;}#sk-container-id-10 div.sk-label:hover label.sk-toggleable__label {background-color: #d4ebff;}#sk-container-id-10 div.sk-serial::before {content: \"\";position: absolute;border-left: 1px solid gray;box-sizing: border-box;top: 0;bottom: 0;left: 50%;z-index: 0;}#sk-container-id-10 div.sk-serial {display: flex;flex-direction: column;align-items: center;background-color: white;padding-right: 0.2em;padding-left: 0.2em;position: relative;}#sk-container-id-10 div.sk-item {position: relative;z-index: 1;}#sk-container-id-10 div.sk-parallel {display: flex;align-items: stretch;justify-content: center;background-color: white;position: relative;}#sk-container-id-10 div.sk-item::before, #sk-container-id-10 div.sk-parallel-item::before {content: \"\";position: absolute;border-left: 1px solid gray;box-sizing: border-box;top: 0;bottom: 0;left: 50%;z-index: -1;}#sk-container-id-10 div.sk-parallel-item {display: flex;flex-direction: column;z-index: 1;position: relative;background-color: white;}#sk-container-id-10 div.sk-parallel-item:first-child::after {align-self: flex-end;width: 50%;}#sk-container-id-10 div.sk-parallel-item:last-child::after {align-self: flex-start;width: 50%;}#sk-container-id-10 div.sk-parallel-item:only-child::after {width: 0;}#sk-container-id-10 div.sk-dashed-wrapped {border: 1px dashed gray;margin: 0 0.4em 0.5em 0.4em;box-sizing: border-box;padding-bottom: 0.4em;background-color: white;}#sk-container-id-10 div.sk-label label {font-family: monospace;font-weight: bold;display: inline-block;line-height: 1.2em;}#sk-container-id-10 div.sk-label-container {text-align: center;}#sk-container-id-10 div.sk-container {/* jupyter's `normalize.less` sets `[hidden] { display: none; }` but bootstrap.min.css set `[hidden] { display: none !important; }` so we also need the `!important` here to be able to override the default hidden behavior on the sphinx rendered scikit-learn.org. See: https://github.com/scikit-learn/scikit-learn/issues/21755 */display: inline-block !important;position: relative;}#sk-container-id-10 div.sk-text-repr-fallback {display: none;}</style><div id=\"sk-container-id-10\" class=\"sk-top-container\"><div class=\"sk-text-repr-fallback\"><pre>LogisticRegression()</pre><b>In a Jupyter environment, please rerun this cell to show the HTML representation or trust the notebook. <br />On GitHub, the HTML representation is unable to render, please try loading this page with nbviewer.org.</b></div><div class=\"sk-container\" hidden><div class=\"sk-item\"><div class=\"sk-estimator sk-toggleable\"><input class=\"sk-toggleable__control sk-hidden--visually\" id=\"sk-estimator-id-10\" type=\"checkbox\" checked><label for=\"sk-estimator-id-10\" class=\"sk-toggleable__label sk-toggleable__label-arrow\">LogisticRegression</label><div class=\"sk-toggleable__content\"><pre>LogisticRegression()</pre></div></div></div></div></div>"
            ]
          },
          "metadata": {},
          "execution_count": 255
        }
      ],
      "source": [
        "from sklearn.linear_model import LogisticRegression # линейная модель для задачи классификации\n",
        "\n",
        "model = LogisticRegression() # объявление модели\n",
        "\n",
        "model.fit(Xtrain, ytrain) # обучение модели"
      ]
    },
    {
      "cell_type": "code",
      "source": [
        "pred_test = model.predict(Xtest) # предсказание классов"
      ],
      "metadata": {
        "id": "zsk3tPv5ia4F"
      },
      "execution_count": 256,
      "outputs": []
    },
    {
      "cell_type": "code",
      "source": [
        "accuracy_score(ytest, pred_test) #доля верных ответов на тестовой выборке"
      ],
      "metadata": {
        "colab": {
          "base_uri": "https://localhost:8080/"
        },
        "id": "cVaD2VwskQGY",
        "outputId": "3c6092f7-c79b-452b-c1c8-b86d121bede1"
      },
      "execution_count": 257,
      "outputs": [
        {
          "output_type": "execute_result",
          "data": {
            "text/plain": [
              "0.9324950185793527"
            ]
          },
          "metadata": {},
          "execution_count": 257
        }
      ]
    },
    {
      "cell_type": "markdown",
      "source": [
        "## Вопрос для Quiz\n",
        "\n",
        "Доля верно определенных классов высокая! Значит ли это, что качество хорошее?\n"
      ],
      "metadata": {
        "id": "gwBbxBxwPepQ"
      }
    },
    {
      "cell_type": "markdown",
      "source": [
        "Проверим, сбалансирована ли выборка."
      ],
      "metadata": {
        "id": "LzXLHJNGmNg6"
      }
    },
    {
      "cell_type": "code",
      "source": [
        "y.value_counts()"
      ],
      "metadata": {
        "colab": {
          "base_uri": "https://localhost:8080/"
        },
        "id": "NB4xFH1LiiSh",
        "outputId": "c2faac60-341b-401b-db46-eff9a0653a27"
      },
      "execution_count": 258,
      "outputs": [
        {
          "output_type": "execute_result",
          "data": {
            "text/plain": [
              "0    138571\n",
              "1      9981\n",
              "Name: SeriousDlqin2yrs, dtype: int64"
            ]
          },
          "metadata": {},
          "execution_count": 258
        }
      ]
    },
    {
      "cell_type": "markdown",
      "source": [
        "Баланса классов нет: большинство клиентов не имеют просрочек ($y=0$). Если я \"в лоб\" проставлю всем константу 0, то угадаю 138571 из 148552 (это как раз 93,3%).\n",
        "\n",
        "Посмотрим, что предсказывает модель."
      ],
      "metadata": {
        "id": "epmPo_TAPvEe"
      }
    },
    {
      "cell_type": "code",
      "source": [
        "pred_test[:20]"
      ],
      "metadata": {
        "colab": {
          "base_uri": "https://localhost:8080/"
        },
        "id": "P-tUWOp9P99-",
        "outputId": "1312543c-9444-449a-b35f-6077f87779ec"
      },
      "execution_count": 94,
      "outputs": [
        {
          "output_type": "execute_result",
          "data": {
            "text/plain": [
              "array([0, 0, 0, 0, 0, 0, 0, 0, 0, 0, 0, 0, 0, 0, 0, 0, 0, 0, 0, 0])"
            ]
          },
          "metadata": {},
          "execution_count": 94
        }
      ]
    },
    {
      "cell_type": "markdown",
      "source": [
        "## <font color='green'>2.2. Валидация модели</font>\n",
        "\n",
        "Для оценки качества модели используются различные метрики качества. Давайте посмотрим, какие метрики полезно считать в задаче классификации, кроме accuracy.\n"
      ],
      "metadata": {
        "id": "0WKy0qt2QHw-"
      }
    },
    {
      "cell_type": "code",
      "source": [
        "from sklearn.metrics import confusion_matrix\n",
        "\n",
        "confusion_matrix(ytest, pred_test)"
      ],
      "metadata": {
        "id": "P3XkIHpJQJjv",
        "colab": {
          "base_uri": "https://localhost:8080/"
        },
        "outputId": "2347d5a5-a674-42c8-b7d9-1c9be25ba6ab"
      },
      "execution_count": 259,
      "outputs": [
        {
          "output_type": "execute_result",
          "data": {
            "text/plain": [
              "array([[34590,    25],\n",
              "       [ 2482,    41]])"
            ]
          },
          "metadata": {},
          "execution_count": 259
        }
      ]
    },
    {
      "cell_type": "code",
      "source": [
        "ytest.value_counts()"
      ],
      "metadata": {
        "id": "cKHWNikM50Ys",
        "colab": {
          "base_uri": "https://localhost:8080/"
        },
        "outputId": "0e7e372d-ae53-4bef-e66d-1047fd018d44"
      },
      "execution_count": 260,
      "outputs": [
        {
          "output_type": "execute_result",
          "data": {
            "text/plain": [
              "0    34615\n",
              "1     2523\n",
              "Name: SeriousDlqin2yrs, dtype: int64"
            ]
          },
          "metadata": {},
          "execution_count": 260
        }
      ]
    },
    {
      "cell_type": "markdown",
      "source": [
        "Модель верно определила очень мало оттоковых клиентов :(\n",
        "\n",
        "<font color='blue'>Также можно посмотреть на метрику **recall (полнота)** - она показывает, какую долю клиентов с просрочками 90+ дней (объектов положительного класса) определила модель.(TN/(FN+TN))</font>"
      ],
      "metadata": {
        "id": "xeBZEYHnPW34"
      }
    },
    {
      "cell_type": "code",
      "source": [
        "from sklearn.metrics import recall_score\n",
        "\n",
        "recall_score(ytest, pred_test)"
      ],
      "metadata": {
        "id": "rs1crUP3Qvsh",
        "colab": {
          "base_uri": "https://localhost:8080/"
        },
        "outputId": "07b06ae3-4d60-445c-d646-2e79fd82d8b9"
      },
      "execution_count": 262,
      "outputs": [
        {
          "output_type": "execute_result",
          "data": {
            "text/plain": [
              "0.016250495441934205"
            ]
          },
          "metadata": {},
          "execution_count": 262
        }
      ]
    },
    {
      "cell_type": "markdown",
      "source": [
        "Пропустили 98,4% клиентов, которые с просрочками 90+ дней"
      ],
      "metadata": {
        "id": "BM2VnGLqu69C"
      }
    },
    {
      "cell_type": "code",
      "source": [
        "from sklearn.metrics import precision_score #точность. Из определенных, как \"имеют просрочки 90+\" сколько действительно имеют её(TN/(FP+TN)\n",
        "\n",
        "precision_score(ytest, pred_test)"
      ],
      "metadata": {
        "id": "mS0tOH-8vLYk",
        "outputId": "a82c42b1-4e86-4abe-cdd9-e9066f9c32fb",
        "colab": {
          "base_uri": "https://localhost:8080/"
        }
      },
      "execution_count": 265,
      "outputs": [
        {
          "output_type": "execute_result",
          "data": {
            "text/plain": [
              "0.6212121212121212"
            ]
          },
          "metadata": {},
          "execution_count": 265
        }
      ]
    },
    {
      "cell_type": "code",
      "source": [
        "#2 вариант: убиваем MonthlyIncome с большими суммами\n",
        "data = pd.read_csv(\"credit_scoring_output.csv\")\n",
        "data = data[data.MonthlyIncome < 200000]\n",
        "data.shape\n"
      ],
      "metadata": {
        "id": "8Z0YLXr29Ls8",
        "outputId": "f6a9d140-079f-43ae-fab7-9955431816cc",
        "colab": {
          "base_uri": "https://localhost:8080/"
        }
      },
      "execution_count": 187,
      "outputs": [
        {
          "output_type": "execute_result",
          "data": {
            "text/plain": [
              "(148523, 9)"
            ]
          },
          "metadata": {},
          "execution_count": 187
        }
      ]
    },
    {
      "cell_type": "code",
      "source": [
        "#3 вариант: убиваем RealEstateLoansOrLines -Закодированное количество кредиов\n",
        "data = pd.read_csv(\"credit_scoring_output.csv\")\n",
        "data = data.drop(['RealEstateLoansOrLines'], axis=1)\n",
        "data.describe()"
      ],
      "metadata": {
        "id": "DSz_sD-f_NCb",
        "outputId": "df3df82f-e789-4c72-b911-0abe4fe8779a",
        "colab": {
          "base_uri": "https://localhost:8080/",
          "height": 381
        }
      },
      "execution_count": 232,
      "outputs": [
        {
          "output_type": "execute_result",
          "data": {
            "text/plain": [
              "       SeriousDlqin2yrs  RevolvingUtilizationOfUnsecuredLines            age  \\\n",
              "count     148552.000000                         148552.000000  148552.000000   \n",
              "mean           0.067189                              6.103981      54.192559   \n",
              "std            0.250349                            250.969022      15.111694   \n",
              "min            0.000000                              0.000000      21.000000   \n",
              "25%            0.000000                              0.030629      43.000000   \n",
              "50%            0.000000                              0.155488      54.000000   \n",
              "75%            0.000000                              0.556871      67.000000   \n",
              "max            1.000000                          50708.000000      89.000000   \n",
              "\n",
              "       NumberOfTime30-59DaysPastDueNotWorse      DebtRatio  MonthlyIncome  \\\n",
              "count                         148552.000000  148552.000000   1.485520e+05   \n",
              "mean                               0.391015     355.843722   6.431931e+03   \n",
              "std                                3.805092    2046.610137   1.295024e+04   \n",
              "min                                0.000000       0.000000   0.000000e+00   \n",
              "25%                                0.000000       0.179362   3.900000e+03   \n",
              "50%                                0.000000       0.368980   5.400000e+03   \n",
              "75%                                0.000000       0.874328   7.417000e+03   \n",
              "max                               98.000000  329664.000000   3.008750e+06   \n",
              "\n",
              "       NumberOfOpenCreditLinesAndLoans  NumberOfDependents  \n",
              "count                    148552.000000       148552.000000  \n",
              "mean                          8.503110            0.744278  \n",
              "std                           5.132986            1.110060  \n",
              "min                           0.000000            0.000000  \n",
              "25%                           5.000000            0.000000  \n",
              "50%                           8.000000            0.000000  \n",
              "75%                          11.000000            1.000000  \n",
              "max                          58.000000           20.000000  "
            ],
            "text/html": [
              "\n",
              "  <div id=\"df-95270a85-b36f-4a28-9eb8-1f3e710cf8af\">\n",
              "    <div class=\"colab-df-container\">\n",
              "      <div>\n",
              "<style scoped>\n",
              "    .dataframe tbody tr th:only-of-type {\n",
              "        vertical-align: middle;\n",
              "    }\n",
              "\n",
              "    .dataframe tbody tr th {\n",
              "        vertical-align: top;\n",
              "    }\n",
              "\n",
              "    .dataframe thead th {\n",
              "        text-align: right;\n",
              "    }\n",
              "</style>\n",
              "<table border=\"1\" class=\"dataframe\">\n",
              "  <thead>\n",
              "    <tr style=\"text-align: right;\">\n",
              "      <th></th>\n",
              "      <th>SeriousDlqin2yrs</th>\n",
              "      <th>RevolvingUtilizationOfUnsecuredLines</th>\n",
              "      <th>age</th>\n",
              "      <th>NumberOfTime30-59DaysPastDueNotWorse</th>\n",
              "      <th>DebtRatio</th>\n",
              "      <th>MonthlyIncome</th>\n",
              "      <th>NumberOfOpenCreditLinesAndLoans</th>\n",
              "      <th>NumberOfDependents</th>\n",
              "    </tr>\n",
              "  </thead>\n",
              "  <tbody>\n",
              "    <tr>\n",
              "      <th>count</th>\n",
              "      <td>148552.000000</td>\n",
              "      <td>148552.000000</td>\n",
              "      <td>148552.000000</td>\n",
              "      <td>148552.000000</td>\n",
              "      <td>148552.000000</td>\n",
              "      <td>1.485520e+05</td>\n",
              "      <td>148552.000000</td>\n",
              "      <td>148552.000000</td>\n",
              "    </tr>\n",
              "    <tr>\n",
              "      <th>mean</th>\n",
              "      <td>0.067189</td>\n",
              "      <td>6.103981</td>\n",
              "      <td>54.192559</td>\n",
              "      <td>0.391015</td>\n",
              "      <td>355.843722</td>\n",
              "      <td>6.431931e+03</td>\n",
              "      <td>8.503110</td>\n",
              "      <td>0.744278</td>\n",
              "    </tr>\n",
              "    <tr>\n",
              "      <th>std</th>\n",
              "      <td>0.250349</td>\n",
              "      <td>250.969022</td>\n",
              "      <td>15.111694</td>\n",
              "      <td>3.805092</td>\n",
              "      <td>2046.610137</td>\n",
              "      <td>1.295024e+04</td>\n",
              "      <td>5.132986</td>\n",
              "      <td>1.110060</td>\n",
              "    </tr>\n",
              "    <tr>\n",
              "      <th>min</th>\n",
              "      <td>0.000000</td>\n",
              "      <td>0.000000</td>\n",
              "      <td>21.000000</td>\n",
              "      <td>0.000000</td>\n",
              "      <td>0.000000</td>\n",
              "      <td>0.000000e+00</td>\n",
              "      <td>0.000000</td>\n",
              "      <td>0.000000</td>\n",
              "    </tr>\n",
              "    <tr>\n",
              "      <th>25%</th>\n",
              "      <td>0.000000</td>\n",
              "      <td>0.030629</td>\n",
              "      <td>43.000000</td>\n",
              "      <td>0.000000</td>\n",
              "      <td>0.179362</td>\n",
              "      <td>3.900000e+03</td>\n",
              "      <td>5.000000</td>\n",
              "      <td>0.000000</td>\n",
              "    </tr>\n",
              "    <tr>\n",
              "      <th>50%</th>\n",
              "      <td>0.000000</td>\n",
              "      <td>0.155488</td>\n",
              "      <td>54.000000</td>\n",
              "      <td>0.000000</td>\n",
              "      <td>0.368980</td>\n",
              "      <td>5.400000e+03</td>\n",
              "      <td>8.000000</td>\n",
              "      <td>0.000000</td>\n",
              "    </tr>\n",
              "    <tr>\n",
              "      <th>75%</th>\n",
              "      <td>0.000000</td>\n",
              "      <td>0.556871</td>\n",
              "      <td>67.000000</td>\n",
              "      <td>0.000000</td>\n",
              "      <td>0.874328</td>\n",
              "      <td>7.417000e+03</td>\n",
              "      <td>11.000000</td>\n",
              "      <td>1.000000</td>\n",
              "    </tr>\n",
              "    <tr>\n",
              "      <th>max</th>\n",
              "      <td>1.000000</td>\n",
              "      <td>50708.000000</td>\n",
              "      <td>89.000000</td>\n",
              "      <td>98.000000</td>\n",
              "      <td>329664.000000</td>\n",
              "      <td>3.008750e+06</td>\n",
              "      <td>58.000000</td>\n",
              "      <td>20.000000</td>\n",
              "    </tr>\n",
              "  </tbody>\n",
              "</table>\n",
              "</div>\n",
              "      <button class=\"colab-df-convert\" onclick=\"convertToInteractive('df-95270a85-b36f-4a28-9eb8-1f3e710cf8af')\"\n",
              "              title=\"Convert this dataframe to an interactive table.\"\n",
              "              style=\"display:none;\">\n",
              "        \n",
              "  <svg xmlns=\"http://www.w3.org/2000/svg\" height=\"24px\"viewBox=\"0 0 24 24\"\n",
              "       width=\"24px\">\n",
              "    <path d=\"M0 0h24v24H0V0z\" fill=\"none\"/>\n",
              "    <path d=\"M18.56 5.44l.94 2.06.94-2.06 2.06-.94-2.06-.94-.94-2.06-.94 2.06-2.06.94zm-11 1L8.5 8.5l.94-2.06 2.06-.94-2.06-.94L8.5 2.5l-.94 2.06-2.06.94zm10 10l.94 2.06.94-2.06 2.06-.94-2.06-.94-.94-2.06-.94 2.06-2.06.94z\"/><path d=\"M17.41 7.96l-1.37-1.37c-.4-.4-.92-.59-1.43-.59-.52 0-1.04.2-1.43.59L10.3 9.45l-7.72 7.72c-.78.78-.78 2.05 0 2.83L4 21.41c.39.39.9.59 1.41.59.51 0 1.02-.2 1.41-.59l7.78-7.78 2.81-2.81c.8-.78.8-2.07 0-2.86zM5.41 20L4 18.59l7.72-7.72 1.47 1.35L5.41 20z\"/>\n",
              "  </svg>\n",
              "      </button>\n",
              "      \n",
              "  <style>\n",
              "    .colab-df-container {\n",
              "      display:flex;\n",
              "      flex-wrap:wrap;\n",
              "      gap: 12px;\n",
              "    }\n",
              "\n",
              "    .colab-df-convert {\n",
              "      background-color: #E8F0FE;\n",
              "      border: none;\n",
              "      border-radius: 50%;\n",
              "      cursor: pointer;\n",
              "      display: none;\n",
              "      fill: #1967D2;\n",
              "      height: 32px;\n",
              "      padding: 0 0 0 0;\n",
              "      width: 32px;\n",
              "    }\n",
              "\n",
              "    .colab-df-convert:hover {\n",
              "      background-color: #E2EBFA;\n",
              "      box-shadow: 0px 1px 2px rgba(60, 64, 67, 0.3), 0px 1px 3px 1px rgba(60, 64, 67, 0.15);\n",
              "      fill: #174EA6;\n",
              "    }\n",
              "\n",
              "    [theme=dark] .colab-df-convert {\n",
              "      background-color: #3B4455;\n",
              "      fill: #D2E3FC;\n",
              "    }\n",
              "\n",
              "    [theme=dark] .colab-df-convert:hover {\n",
              "      background-color: #434B5C;\n",
              "      box-shadow: 0px 1px 3px 1px rgba(0, 0, 0, 0.15);\n",
              "      filter: drop-shadow(0px 1px 2px rgba(0, 0, 0, 0.3));\n",
              "      fill: #FFFFFF;\n",
              "    }\n",
              "  </style>\n",
              "\n",
              "      <script>\n",
              "        const buttonEl =\n",
              "          document.querySelector('#df-95270a85-b36f-4a28-9eb8-1f3e710cf8af button.colab-df-convert');\n",
              "        buttonEl.style.display =\n",
              "          google.colab.kernel.accessAllowed ? 'block' : 'none';\n",
              "\n",
              "        async function convertToInteractive(key) {\n",
              "          const element = document.querySelector('#df-95270a85-b36f-4a28-9eb8-1f3e710cf8af');\n",
              "          const dataTable =\n",
              "            await google.colab.kernel.invokeFunction('convertToInteractive',\n",
              "                                                     [key], {});\n",
              "          if (!dataTable) return;\n",
              "\n",
              "          const docLinkHtml = 'Like what you see? Visit the ' +\n",
              "            '<a target=\"_blank\" href=https://colab.research.google.com/notebooks/data_table.ipynb>data table notebook</a>'\n",
              "            + ' to learn more about interactive tables.';\n",
              "          element.innerHTML = '';\n",
              "          dataTable['output_type'] = 'display_data';\n",
              "          await google.colab.output.renderOutput(dataTable, element);\n",
              "          const docLink = document.createElement('div');\n",
              "          docLink.innerHTML = docLinkHtml;\n",
              "          element.appendChild(docLink);\n",
              "        }\n",
              "      </script>\n",
              "    </div>\n",
              "  </div>\n",
              "  "
            ]
          },
          "metadata": {},
          "execution_count": 232
        }
      ]
    },
    {
      "cell_type": "code",
      "source": [
        "#4 вариант: убиваем RevolvingUtilizationOfUnsecuredLines - Общий баланс средств\n",
        "data = pd.read_csv(\"credit_scoring_output.csv\")\n",
        "data = data.drop(['RevolvingUtilizationOfUnsecuredLines'], axis=1)\n",
        "data.describe()"
      ],
      "metadata": {
        "id": "MJlSW-reCS7E",
        "outputId": "5b27892f-02f4-4b18-cdf7-addf78a3c1b5",
        "colab": {
          "base_uri": "https://localhost:8080/",
          "height": 381
        }
      },
      "execution_count": 231,
      "outputs": [
        {
          "output_type": "execute_result",
          "data": {
            "text/plain": [
              "       SeriousDlqin2yrs            age  NumberOfTime30-59DaysPastDueNotWorse  \\\n",
              "count     148552.000000  148552.000000                         148552.000000   \n",
              "mean           0.067189      54.192559                              0.391015   \n",
              "std            0.250349      15.111694                              3.805092   \n",
              "min            0.000000      21.000000                              0.000000   \n",
              "25%            0.000000      43.000000                              0.000000   \n",
              "50%            0.000000      54.000000                              0.000000   \n",
              "75%            0.000000      67.000000                              0.000000   \n",
              "max            1.000000      89.000000                             98.000000   \n",
              "\n",
              "           DebtRatio  MonthlyIncome  NumberOfOpenCreditLinesAndLoans  \\\n",
              "count  148552.000000   1.485520e+05                    148552.000000   \n",
              "mean      355.843722   6.431931e+03                         8.503110   \n",
              "std      2046.610137   1.295024e+04                         5.132986   \n",
              "min         0.000000   0.000000e+00                         0.000000   \n",
              "25%         0.179362   3.900000e+03                         5.000000   \n",
              "50%         0.368980   5.400000e+03                         8.000000   \n",
              "75%         0.874328   7.417000e+03                        11.000000   \n",
              "max    329664.000000   3.008750e+06                        58.000000   \n",
              "\n",
              "       NumberOfDependents  RealEstateLoansOrLines  \n",
              "count       148552.000000           148552.000000  \n",
              "mean             0.744278                1.077650  \n",
              "std              1.110060                0.307422  \n",
              "min              0.000000                1.000000  \n",
              "25%              0.000000                1.000000  \n",
              "50%              0.000000                1.000000  \n",
              "75%              1.000000                1.000000  \n",
              "max             20.000000                5.000000  "
            ],
            "text/html": [
              "\n",
              "  <div id=\"df-3323a4ba-b7f1-4b54-bfb6-4537afcb9807\">\n",
              "    <div class=\"colab-df-container\">\n",
              "      <div>\n",
              "<style scoped>\n",
              "    .dataframe tbody tr th:only-of-type {\n",
              "        vertical-align: middle;\n",
              "    }\n",
              "\n",
              "    .dataframe tbody tr th {\n",
              "        vertical-align: top;\n",
              "    }\n",
              "\n",
              "    .dataframe thead th {\n",
              "        text-align: right;\n",
              "    }\n",
              "</style>\n",
              "<table border=\"1\" class=\"dataframe\">\n",
              "  <thead>\n",
              "    <tr style=\"text-align: right;\">\n",
              "      <th></th>\n",
              "      <th>SeriousDlqin2yrs</th>\n",
              "      <th>age</th>\n",
              "      <th>NumberOfTime30-59DaysPastDueNotWorse</th>\n",
              "      <th>DebtRatio</th>\n",
              "      <th>MonthlyIncome</th>\n",
              "      <th>NumberOfOpenCreditLinesAndLoans</th>\n",
              "      <th>NumberOfDependents</th>\n",
              "      <th>RealEstateLoansOrLines</th>\n",
              "    </tr>\n",
              "  </thead>\n",
              "  <tbody>\n",
              "    <tr>\n",
              "      <th>count</th>\n",
              "      <td>148552.000000</td>\n",
              "      <td>148552.000000</td>\n",
              "      <td>148552.000000</td>\n",
              "      <td>148552.000000</td>\n",
              "      <td>1.485520e+05</td>\n",
              "      <td>148552.000000</td>\n",
              "      <td>148552.000000</td>\n",
              "      <td>148552.000000</td>\n",
              "    </tr>\n",
              "    <tr>\n",
              "      <th>mean</th>\n",
              "      <td>0.067189</td>\n",
              "      <td>54.192559</td>\n",
              "      <td>0.391015</td>\n",
              "      <td>355.843722</td>\n",
              "      <td>6.431931e+03</td>\n",
              "      <td>8.503110</td>\n",
              "      <td>0.744278</td>\n",
              "      <td>1.077650</td>\n",
              "    </tr>\n",
              "    <tr>\n",
              "      <th>std</th>\n",
              "      <td>0.250349</td>\n",
              "      <td>15.111694</td>\n",
              "      <td>3.805092</td>\n",
              "      <td>2046.610137</td>\n",
              "      <td>1.295024e+04</td>\n",
              "      <td>5.132986</td>\n",
              "      <td>1.110060</td>\n",
              "      <td>0.307422</td>\n",
              "    </tr>\n",
              "    <tr>\n",
              "      <th>min</th>\n",
              "      <td>0.000000</td>\n",
              "      <td>21.000000</td>\n",
              "      <td>0.000000</td>\n",
              "      <td>0.000000</td>\n",
              "      <td>0.000000e+00</td>\n",
              "      <td>0.000000</td>\n",
              "      <td>0.000000</td>\n",
              "      <td>1.000000</td>\n",
              "    </tr>\n",
              "    <tr>\n",
              "      <th>25%</th>\n",
              "      <td>0.000000</td>\n",
              "      <td>43.000000</td>\n",
              "      <td>0.000000</td>\n",
              "      <td>0.179362</td>\n",
              "      <td>3.900000e+03</td>\n",
              "      <td>5.000000</td>\n",
              "      <td>0.000000</td>\n",
              "      <td>1.000000</td>\n",
              "    </tr>\n",
              "    <tr>\n",
              "      <th>50%</th>\n",
              "      <td>0.000000</td>\n",
              "      <td>54.000000</td>\n",
              "      <td>0.000000</td>\n",
              "      <td>0.368980</td>\n",
              "      <td>5.400000e+03</td>\n",
              "      <td>8.000000</td>\n",
              "      <td>0.000000</td>\n",
              "      <td>1.000000</td>\n",
              "    </tr>\n",
              "    <tr>\n",
              "      <th>75%</th>\n",
              "      <td>0.000000</td>\n",
              "      <td>67.000000</td>\n",
              "      <td>0.000000</td>\n",
              "      <td>0.874328</td>\n",
              "      <td>7.417000e+03</td>\n",
              "      <td>11.000000</td>\n",
              "      <td>1.000000</td>\n",
              "      <td>1.000000</td>\n",
              "    </tr>\n",
              "    <tr>\n",
              "      <th>max</th>\n",
              "      <td>1.000000</td>\n",
              "      <td>89.000000</td>\n",
              "      <td>98.000000</td>\n",
              "      <td>329664.000000</td>\n",
              "      <td>3.008750e+06</td>\n",
              "      <td>58.000000</td>\n",
              "      <td>20.000000</td>\n",
              "      <td>5.000000</td>\n",
              "    </tr>\n",
              "  </tbody>\n",
              "</table>\n",
              "</div>\n",
              "      <button class=\"colab-df-convert\" onclick=\"convertToInteractive('df-3323a4ba-b7f1-4b54-bfb6-4537afcb9807')\"\n",
              "              title=\"Convert this dataframe to an interactive table.\"\n",
              "              style=\"display:none;\">\n",
              "        \n",
              "  <svg xmlns=\"http://www.w3.org/2000/svg\" height=\"24px\"viewBox=\"0 0 24 24\"\n",
              "       width=\"24px\">\n",
              "    <path d=\"M0 0h24v24H0V0z\" fill=\"none\"/>\n",
              "    <path d=\"M18.56 5.44l.94 2.06.94-2.06 2.06-.94-2.06-.94-.94-2.06-.94 2.06-2.06.94zm-11 1L8.5 8.5l.94-2.06 2.06-.94-2.06-.94L8.5 2.5l-.94 2.06-2.06.94zm10 10l.94 2.06.94-2.06 2.06-.94-2.06-.94-.94-2.06-.94 2.06-2.06.94z\"/><path d=\"M17.41 7.96l-1.37-1.37c-.4-.4-.92-.59-1.43-.59-.52 0-1.04.2-1.43.59L10.3 9.45l-7.72 7.72c-.78.78-.78 2.05 0 2.83L4 21.41c.39.39.9.59 1.41.59.51 0 1.02-.2 1.41-.59l7.78-7.78 2.81-2.81c.8-.78.8-2.07 0-2.86zM5.41 20L4 18.59l7.72-7.72 1.47 1.35L5.41 20z\"/>\n",
              "  </svg>\n",
              "      </button>\n",
              "      \n",
              "  <style>\n",
              "    .colab-df-container {\n",
              "      display:flex;\n",
              "      flex-wrap:wrap;\n",
              "      gap: 12px;\n",
              "    }\n",
              "\n",
              "    .colab-df-convert {\n",
              "      background-color: #E8F0FE;\n",
              "      border: none;\n",
              "      border-radius: 50%;\n",
              "      cursor: pointer;\n",
              "      display: none;\n",
              "      fill: #1967D2;\n",
              "      height: 32px;\n",
              "      padding: 0 0 0 0;\n",
              "      width: 32px;\n",
              "    }\n",
              "\n",
              "    .colab-df-convert:hover {\n",
              "      background-color: #E2EBFA;\n",
              "      box-shadow: 0px 1px 2px rgba(60, 64, 67, 0.3), 0px 1px 3px 1px rgba(60, 64, 67, 0.15);\n",
              "      fill: #174EA6;\n",
              "    }\n",
              "\n",
              "    [theme=dark] .colab-df-convert {\n",
              "      background-color: #3B4455;\n",
              "      fill: #D2E3FC;\n",
              "    }\n",
              "\n",
              "    [theme=dark] .colab-df-convert:hover {\n",
              "      background-color: #434B5C;\n",
              "      box-shadow: 0px 1px 3px 1px rgba(0, 0, 0, 0.15);\n",
              "      filter: drop-shadow(0px 1px 2px rgba(0, 0, 0, 0.3));\n",
              "      fill: #FFFFFF;\n",
              "    }\n",
              "  </style>\n",
              "\n",
              "      <script>\n",
              "        const buttonEl =\n",
              "          document.querySelector('#df-3323a4ba-b7f1-4b54-bfb6-4537afcb9807 button.colab-df-convert');\n",
              "        buttonEl.style.display =\n",
              "          google.colab.kernel.accessAllowed ? 'block' : 'none';\n",
              "\n",
              "        async function convertToInteractive(key) {\n",
              "          const element = document.querySelector('#df-3323a4ba-b7f1-4b54-bfb6-4537afcb9807');\n",
              "          const dataTable =\n",
              "            await google.colab.kernel.invokeFunction('convertToInteractive',\n",
              "                                                     [key], {});\n",
              "          if (!dataTable) return;\n",
              "\n",
              "          const docLinkHtml = 'Like what you see? Visit the ' +\n",
              "            '<a target=\"_blank\" href=https://colab.research.google.com/notebooks/data_table.ipynb>data table notebook</a>'\n",
              "            + ' to learn more about interactive tables.';\n",
              "          element.innerHTML = '';\n",
              "          dataTable['output_type'] = 'display_data';\n",
              "          await google.colab.output.renderOutput(dataTable, element);\n",
              "          const docLink = document.createElement('div');\n",
              "          docLink.innerHTML = docLinkHtml;\n",
              "          element.appendChild(docLink);\n",
              "        }\n",
              "      </script>\n",
              "    </div>\n",
              "  </div>\n",
              "  "
            ]
          },
          "metadata": {},
          "execution_count": 231
        }
      ]
    },
    {
      "cell_type": "code",
      "source": [
        "#5 вариант: убиваем RevolvingUtilizationOfUnsecuredLines - Общий баланс средств\n",
        "data = pd.read_csv(\"credit_scoring_output.csv\")\n",
        "data = data.drop(['RevolvingUtilizationOfUnsecuredLines'], axis=1)\n",
        "data = data[data.MonthlyIncome < 200000]\n",
        "data.describe()"
      ],
      "metadata": {
        "id": "L5S0PECvDkGi",
        "outputId": "e76b5c3e-9974-4a81-d5e3-a64be5f29e4e",
        "colab": {
          "base_uri": "https://localhost:8080/",
          "height": 381
        }
      },
      "execution_count": 233,
      "outputs": [
        {
          "output_type": "execute_result",
          "data": {
            "text/plain": [
              "       SeriousDlqin2yrs            age  NumberOfTime30-59DaysPastDueNotWorse  \\\n",
              "count     148523.000000  148523.000000                         148523.000000   \n",
              "mean           0.067188      54.192435                              0.391017   \n",
              "std            0.250349      15.112498                              3.805445   \n",
              "min            0.000000      21.000000                              0.000000   \n",
              "25%            0.000000      43.000000                              0.000000   \n",
              "50%            0.000000      54.000000                              0.000000   \n",
              "75%            0.000000      67.000000                              0.000000   \n",
              "max            1.000000      89.000000                             98.000000   \n",
              "\n",
              "           DebtRatio  MonthlyIncome  NumberOfOpenCreditLinesAndLoans  \\\n",
              "count  148523.000000  148523.000000                    148523.000000   \n",
              "mean      355.913199    6314.640170                         8.502697   \n",
              "std      2046.803895    5291.105043                         5.132822   \n",
              "min         0.000000       0.000000                         0.000000   \n",
              "25%         0.179468    3900.000000                         5.000000   \n",
              "50%         0.369063    5400.000000                         8.000000   \n",
              "75%         0.874585    7416.000000                        11.000000   \n",
              "max    329664.000000  184903.000000                        58.000000   \n",
              "\n",
              "       NumberOfDependents  RealEstateLoansOrLines  \n",
              "count       148523.000000           148523.000000  \n",
              "mean             0.744201                1.077604  \n",
              "std              1.110023                0.307257  \n",
              "min              0.000000                1.000000  \n",
              "25%              0.000000                1.000000  \n",
              "50%              0.000000                1.000000  \n",
              "75%              1.000000                1.000000  \n",
              "max             20.000000                5.000000  "
            ],
            "text/html": [
              "\n",
              "  <div id=\"df-a313d5ed-15ee-4abf-8d34-e4ca7f30d22a\">\n",
              "    <div class=\"colab-df-container\">\n",
              "      <div>\n",
              "<style scoped>\n",
              "    .dataframe tbody tr th:only-of-type {\n",
              "        vertical-align: middle;\n",
              "    }\n",
              "\n",
              "    .dataframe tbody tr th {\n",
              "        vertical-align: top;\n",
              "    }\n",
              "\n",
              "    .dataframe thead th {\n",
              "        text-align: right;\n",
              "    }\n",
              "</style>\n",
              "<table border=\"1\" class=\"dataframe\">\n",
              "  <thead>\n",
              "    <tr style=\"text-align: right;\">\n",
              "      <th></th>\n",
              "      <th>SeriousDlqin2yrs</th>\n",
              "      <th>age</th>\n",
              "      <th>NumberOfTime30-59DaysPastDueNotWorse</th>\n",
              "      <th>DebtRatio</th>\n",
              "      <th>MonthlyIncome</th>\n",
              "      <th>NumberOfOpenCreditLinesAndLoans</th>\n",
              "      <th>NumberOfDependents</th>\n",
              "      <th>RealEstateLoansOrLines</th>\n",
              "    </tr>\n",
              "  </thead>\n",
              "  <tbody>\n",
              "    <tr>\n",
              "      <th>count</th>\n",
              "      <td>148523.000000</td>\n",
              "      <td>148523.000000</td>\n",
              "      <td>148523.000000</td>\n",
              "      <td>148523.000000</td>\n",
              "      <td>148523.000000</td>\n",
              "      <td>148523.000000</td>\n",
              "      <td>148523.000000</td>\n",
              "      <td>148523.000000</td>\n",
              "    </tr>\n",
              "    <tr>\n",
              "      <th>mean</th>\n",
              "      <td>0.067188</td>\n",
              "      <td>54.192435</td>\n",
              "      <td>0.391017</td>\n",
              "      <td>355.913199</td>\n",
              "      <td>6314.640170</td>\n",
              "      <td>8.502697</td>\n",
              "      <td>0.744201</td>\n",
              "      <td>1.077604</td>\n",
              "    </tr>\n",
              "    <tr>\n",
              "      <th>std</th>\n",
              "      <td>0.250349</td>\n",
              "      <td>15.112498</td>\n",
              "      <td>3.805445</td>\n",
              "      <td>2046.803895</td>\n",
              "      <td>5291.105043</td>\n",
              "      <td>5.132822</td>\n",
              "      <td>1.110023</td>\n",
              "      <td>0.307257</td>\n",
              "    </tr>\n",
              "    <tr>\n",
              "      <th>min</th>\n",
              "      <td>0.000000</td>\n",
              "      <td>21.000000</td>\n",
              "      <td>0.000000</td>\n",
              "      <td>0.000000</td>\n",
              "      <td>0.000000</td>\n",
              "      <td>0.000000</td>\n",
              "      <td>0.000000</td>\n",
              "      <td>1.000000</td>\n",
              "    </tr>\n",
              "    <tr>\n",
              "      <th>25%</th>\n",
              "      <td>0.000000</td>\n",
              "      <td>43.000000</td>\n",
              "      <td>0.000000</td>\n",
              "      <td>0.179468</td>\n",
              "      <td>3900.000000</td>\n",
              "      <td>5.000000</td>\n",
              "      <td>0.000000</td>\n",
              "      <td>1.000000</td>\n",
              "    </tr>\n",
              "    <tr>\n",
              "      <th>50%</th>\n",
              "      <td>0.000000</td>\n",
              "      <td>54.000000</td>\n",
              "      <td>0.000000</td>\n",
              "      <td>0.369063</td>\n",
              "      <td>5400.000000</td>\n",
              "      <td>8.000000</td>\n",
              "      <td>0.000000</td>\n",
              "      <td>1.000000</td>\n",
              "    </tr>\n",
              "    <tr>\n",
              "      <th>75%</th>\n",
              "      <td>0.000000</td>\n",
              "      <td>67.000000</td>\n",
              "      <td>0.000000</td>\n",
              "      <td>0.874585</td>\n",
              "      <td>7416.000000</td>\n",
              "      <td>11.000000</td>\n",
              "      <td>1.000000</td>\n",
              "      <td>1.000000</td>\n",
              "    </tr>\n",
              "    <tr>\n",
              "      <th>max</th>\n",
              "      <td>1.000000</td>\n",
              "      <td>89.000000</td>\n",
              "      <td>98.000000</td>\n",
              "      <td>329664.000000</td>\n",
              "      <td>184903.000000</td>\n",
              "      <td>58.000000</td>\n",
              "      <td>20.000000</td>\n",
              "      <td>5.000000</td>\n",
              "    </tr>\n",
              "  </tbody>\n",
              "</table>\n",
              "</div>\n",
              "      <button class=\"colab-df-convert\" onclick=\"convertToInteractive('df-a313d5ed-15ee-4abf-8d34-e4ca7f30d22a')\"\n",
              "              title=\"Convert this dataframe to an interactive table.\"\n",
              "              style=\"display:none;\">\n",
              "        \n",
              "  <svg xmlns=\"http://www.w3.org/2000/svg\" height=\"24px\"viewBox=\"0 0 24 24\"\n",
              "       width=\"24px\">\n",
              "    <path d=\"M0 0h24v24H0V0z\" fill=\"none\"/>\n",
              "    <path d=\"M18.56 5.44l.94 2.06.94-2.06 2.06-.94-2.06-.94-.94-2.06-.94 2.06-2.06.94zm-11 1L8.5 8.5l.94-2.06 2.06-.94-2.06-.94L8.5 2.5l-.94 2.06-2.06.94zm10 10l.94 2.06.94-2.06 2.06-.94-2.06-.94-.94-2.06-.94 2.06-2.06.94z\"/><path d=\"M17.41 7.96l-1.37-1.37c-.4-.4-.92-.59-1.43-.59-.52 0-1.04.2-1.43.59L10.3 9.45l-7.72 7.72c-.78.78-.78 2.05 0 2.83L4 21.41c.39.39.9.59 1.41.59.51 0 1.02-.2 1.41-.59l7.78-7.78 2.81-2.81c.8-.78.8-2.07 0-2.86zM5.41 20L4 18.59l7.72-7.72 1.47 1.35L5.41 20z\"/>\n",
              "  </svg>\n",
              "      </button>\n",
              "      \n",
              "  <style>\n",
              "    .colab-df-container {\n",
              "      display:flex;\n",
              "      flex-wrap:wrap;\n",
              "      gap: 12px;\n",
              "    }\n",
              "\n",
              "    .colab-df-convert {\n",
              "      background-color: #E8F0FE;\n",
              "      border: none;\n",
              "      border-radius: 50%;\n",
              "      cursor: pointer;\n",
              "      display: none;\n",
              "      fill: #1967D2;\n",
              "      height: 32px;\n",
              "      padding: 0 0 0 0;\n",
              "      width: 32px;\n",
              "    }\n",
              "\n",
              "    .colab-df-convert:hover {\n",
              "      background-color: #E2EBFA;\n",
              "      box-shadow: 0px 1px 2px rgba(60, 64, 67, 0.3), 0px 1px 3px 1px rgba(60, 64, 67, 0.15);\n",
              "      fill: #174EA6;\n",
              "    }\n",
              "\n",
              "    [theme=dark] .colab-df-convert {\n",
              "      background-color: #3B4455;\n",
              "      fill: #D2E3FC;\n",
              "    }\n",
              "\n",
              "    [theme=dark] .colab-df-convert:hover {\n",
              "      background-color: #434B5C;\n",
              "      box-shadow: 0px 1px 3px 1px rgba(0, 0, 0, 0.15);\n",
              "      filter: drop-shadow(0px 1px 2px rgba(0, 0, 0, 0.3));\n",
              "      fill: #FFFFFF;\n",
              "    }\n",
              "  </style>\n",
              "\n",
              "      <script>\n",
              "        const buttonEl =\n",
              "          document.querySelector('#df-a313d5ed-15ee-4abf-8d34-e4ca7f30d22a button.colab-df-convert');\n",
              "        buttonEl.style.display =\n",
              "          google.colab.kernel.accessAllowed ? 'block' : 'none';\n",
              "\n",
              "        async function convertToInteractive(key) {\n",
              "          const element = document.querySelector('#df-a313d5ed-15ee-4abf-8d34-e4ca7f30d22a');\n",
              "          const dataTable =\n",
              "            await google.colab.kernel.invokeFunction('convertToInteractive',\n",
              "                                                     [key], {});\n",
              "          if (!dataTable) return;\n",
              "\n",
              "          const docLinkHtml = 'Like what you see? Visit the ' +\n",
              "            '<a target=\"_blank\" href=https://colab.research.google.com/notebooks/data_table.ipynb>data table notebook</a>'\n",
              "            + ' to learn more about interactive tables.';\n",
              "          element.innerHTML = '';\n",
              "          dataTable['output_type'] = 'display_data';\n",
              "          await google.colab.output.renderOutput(dataTable, element);\n",
              "          const docLink = document.createElement('div');\n",
              "          docLink.innerHTML = docLinkHtml;\n",
              "          element.appendChild(docLink);\n",
              "        }\n",
              "      </script>\n",
              "    </div>\n",
              "  </div>\n",
              "  "
            ]
          },
          "metadata": {},
          "execution_count": 233
        }
      ]
    },
    {
      "cell_type": "code",
      "source": [
        "#3 вариант: убиваем RealEstateLoansOrLines -Закодированное количество кредиов\n",
        "data = pd.read_csv(\"credit_scoring_output.csv\")\n",
        "data = data.drop(['age'], axis=1)\n",
        "data.describe()"
      ],
      "metadata": {
        "id": "0LoTzuQGEOlv",
        "outputId": "93981e8e-64df-435f-ec43-0e91dd5f99f8",
        "colab": {
          "base_uri": "https://localhost:8080/",
          "height": 381
        }
      },
      "execution_count": 241,
      "outputs": [
        {
          "output_type": "execute_result",
          "data": {
            "text/plain": [
              "       SeriousDlqin2yrs  RevolvingUtilizationOfUnsecuredLines  \\\n",
              "count     148552.000000                         148552.000000   \n",
              "mean           0.067189                              6.103981   \n",
              "std            0.250349                            250.969022   \n",
              "min            0.000000                              0.000000   \n",
              "25%            0.000000                              0.030629   \n",
              "50%            0.000000                              0.155488   \n",
              "75%            0.000000                              0.556871   \n",
              "max            1.000000                          50708.000000   \n",
              "\n",
              "       NumberOfTime30-59DaysPastDueNotWorse      DebtRatio  MonthlyIncome  \\\n",
              "count                         148552.000000  148552.000000   1.485520e+05   \n",
              "mean                               0.391015     355.843722   6.431931e+03   \n",
              "std                                3.805092    2046.610137   1.295024e+04   \n",
              "min                                0.000000       0.000000   0.000000e+00   \n",
              "25%                                0.000000       0.179362   3.900000e+03   \n",
              "50%                                0.000000       0.368980   5.400000e+03   \n",
              "75%                                0.000000       0.874328   7.417000e+03   \n",
              "max                               98.000000  329664.000000   3.008750e+06   \n",
              "\n",
              "       NumberOfOpenCreditLinesAndLoans  NumberOfDependents  \\\n",
              "count                    148552.000000       148552.000000   \n",
              "mean                          8.503110            0.744278   \n",
              "std                           5.132986            1.110060   \n",
              "min                           0.000000            0.000000   \n",
              "25%                           5.000000            0.000000   \n",
              "50%                           8.000000            0.000000   \n",
              "75%                          11.000000            1.000000   \n",
              "max                          58.000000           20.000000   \n",
              "\n",
              "       RealEstateLoansOrLines  \n",
              "count           148552.000000  \n",
              "mean                 1.077650  \n",
              "std                  0.307422  \n",
              "min                  1.000000  \n",
              "25%                  1.000000  \n",
              "50%                  1.000000  \n",
              "75%                  1.000000  \n",
              "max                  5.000000  "
            ],
            "text/html": [
              "\n",
              "  <div id=\"df-e7fb7b84-8ca9-4d23-934a-9a47e319ab76\">\n",
              "    <div class=\"colab-df-container\">\n",
              "      <div>\n",
              "<style scoped>\n",
              "    .dataframe tbody tr th:only-of-type {\n",
              "        vertical-align: middle;\n",
              "    }\n",
              "\n",
              "    .dataframe tbody tr th {\n",
              "        vertical-align: top;\n",
              "    }\n",
              "\n",
              "    .dataframe thead th {\n",
              "        text-align: right;\n",
              "    }\n",
              "</style>\n",
              "<table border=\"1\" class=\"dataframe\">\n",
              "  <thead>\n",
              "    <tr style=\"text-align: right;\">\n",
              "      <th></th>\n",
              "      <th>SeriousDlqin2yrs</th>\n",
              "      <th>RevolvingUtilizationOfUnsecuredLines</th>\n",
              "      <th>NumberOfTime30-59DaysPastDueNotWorse</th>\n",
              "      <th>DebtRatio</th>\n",
              "      <th>MonthlyIncome</th>\n",
              "      <th>NumberOfOpenCreditLinesAndLoans</th>\n",
              "      <th>NumberOfDependents</th>\n",
              "      <th>RealEstateLoansOrLines</th>\n",
              "    </tr>\n",
              "  </thead>\n",
              "  <tbody>\n",
              "    <tr>\n",
              "      <th>count</th>\n",
              "      <td>148552.000000</td>\n",
              "      <td>148552.000000</td>\n",
              "      <td>148552.000000</td>\n",
              "      <td>148552.000000</td>\n",
              "      <td>1.485520e+05</td>\n",
              "      <td>148552.000000</td>\n",
              "      <td>148552.000000</td>\n",
              "      <td>148552.000000</td>\n",
              "    </tr>\n",
              "    <tr>\n",
              "      <th>mean</th>\n",
              "      <td>0.067189</td>\n",
              "      <td>6.103981</td>\n",
              "      <td>0.391015</td>\n",
              "      <td>355.843722</td>\n",
              "      <td>6.431931e+03</td>\n",
              "      <td>8.503110</td>\n",
              "      <td>0.744278</td>\n",
              "      <td>1.077650</td>\n",
              "    </tr>\n",
              "    <tr>\n",
              "      <th>std</th>\n",
              "      <td>0.250349</td>\n",
              "      <td>250.969022</td>\n",
              "      <td>3.805092</td>\n",
              "      <td>2046.610137</td>\n",
              "      <td>1.295024e+04</td>\n",
              "      <td>5.132986</td>\n",
              "      <td>1.110060</td>\n",
              "      <td>0.307422</td>\n",
              "    </tr>\n",
              "    <tr>\n",
              "      <th>min</th>\n",
              "      <td>0.000000</td>\n",
              "      <td>0.000000</td>\n",
              "      <td>0.000000</td>\n",
              "      <td>0.000000</td>\n",
              "      <td>0.000000e+00</td>\n",
              "      <td>0.000000</td>\n",
              "      <td>0.000000</td>\n",
              "      <td>1.000000</td>\n",
              "    </tr>\n",
              "    <tr>\n",
              "      <th>25%</th>\n",
              "      <td>0.000000</td>\n",
              "      <td>0.030629</td>\n",
              "      <td>0.000000</td>\n",
              "      <td>0.179362</td>\n",
              "      <td>3.900000e+03</td>\n",
              "      <td>5.000000</td>\n",
              "      <td>0.000000</td>\n",
              "      <td>1.000000</td>\n",
              "    </tr>\n",
              "    <tr>\n",
              "      <th>50%</th>\n",
              "      <td>0.000000</td>\n",
              "      <td>0.155488</td>\n",
              "      <td>0.000000</td>\n",
              "      <td>0.368980</td>\n",
              "      <td>5.400000e+03</td>\n",
              "      <td>8.000000</td>\n",
              "      <td>0.000000</td>\n",
              "      <td>1.000000</td>\n",
              "    </tr>\n",
              "    <tr>\n",
              "      <th>75%</th>\n",
              "      <td>0.000000</td>\n",
              "      <td>0.556871</td>\n",
              "      <td>0.000000</td>\n",
              "      <td>0.874328</td>\n",
              "      <td>7.417000e+03</td>\n",
              "      <td>11.000000</td>\n",
              "      <td>1.000000</td>\n",
              "      <td>1.000000</td>\n",
              "    </tr>\n",
              "    <tr>\n",
              "      <th>max</th>\n",
              "      <td>1.000000</td>\n",
              "      <td>50708.000000</td>\n",
              "      <td>98.000000</td>\n",
              "      <td>329664.000000</td>\n",
              "      <td>3.008750e+06</td>\n",
              "      <td>58.000000</td>\n",
              "      <td>20.000000</td>\n",
              "      <td>5.000000</td>\n",
              "    </tr>\n",
              "  </tbody>\n",
              "</table>\n",
              "</div>\n",
              "      <button class=\"colab-df-convert\" onclick=\"convertToInteractive('df-e7fb7b84-8ca9-4d23-934a-9a47e319ab76')\"\n",
              "              title=\"Convert this dataframe to an interactive table.\"\n",
              "              style=\"display:none;\">\n",
              "        \n",
              "  <svg xmlns=\"http://www.w3.org/2000/svg\" height=\"24px\"viewBox=\"0 0 24 24\"\n",
              "       width=\"24px\">\n",
              "    <path d=\"M0 0h24v24H0V0z\" fill=\"none\"/>\n",
              "    <path d=\"M18.56 5.44l.94 2.06.94-2.06 2.06-.94-2.06-.94-.94-2.06-.94 2.06-2.06.94zm-11 1L8.5 8.5l.94-2.06 2.06-.94-2.06-.94L8.5 2.5l-.94 2.06-2.06.94zm10 10l.94 2.06.94-2.06 2.06-.94-2.06-.94-.94-2.06-.94 2.06-2.06.94z\"/><path d=\"M17.41 7.96l-1.37-1.37c-.4-.4-.92-.59-1.43-.59-.52 0-1.04.2-1.43.59L10.3 9.45l-7.72 7.72c-.78.78-.78 2.05 0 2.83L4 21.41c.39.39.9.59 1.41.59.51 0 1.02-.2 1.41-.59l7.78-7.78 2.81-2.81c.8-.78.8-2.07 0-2.86zM5.41 20L4 18.59l7.72-7.72 1.47 1.35L5.41 20z\"/>\n",
              "  </svg>\n",
              "      </button>\n",
              "      \n",
              "  <style>\n",
              "    .colab-df-container {\n",
              "      display:flex;\n",
              "      flex-wrap:wrap;\n",
              "      gap: 12px;\n",
              "    }\n",
              "\n",
              "    .colab-df-convert {\n",
              "      background-color: #E8F0FE;\n",
              "      border: none;\n",
              "      border-radius: 50%;\n",
              "      cursor: pointer;\n",
              "      display: none;\n",
              "      fill: #1967D2;\n",
              "      height: 32px;\n",
              "      padding: 0 0 0 0;\n",
              "      width: 32px;\n",
              "    }\n",
              "\n",
              "    .colab-df-convert:hover {\n",
              "      background-color: #E2EBFA;\n",
              "      box-shadow: 0px 1px 2px rgba(60, 64, 67, 0.3), 0px 1px 3px 1px rgba(60, 64, 67, 0.15);\n",
              "      fill: #174EA6;\n",
              "    }\n",
              "\n",
              "    [theme=dark] .colab-df-convert {\n",
              "      background-color: #3B4455;\n",
              "      fill: #D2E3FC;\n",
              "    }\n",
              "\n",
              "    [theme=dark] .colab-df-convert:hover {\n",
              "      background-color: #434B5C;\n",
              "      box-shadow: 0px 1px 3px 1px rgba(0, 0, 0, 0.15);\n",
              "      filter: drop-shadow(0px 1px 2px rgba(0, 0, 0, 0.3));\n",
              "      fill: #FFFFFF;\n",
              "    }\n",
              "  </style>\n",
              "\n",
              "      <script>\n",
              "        const buttonEl =\n",
              "          document.querySelector('#df-e7fb7b84-8ca9-4d23-934a-9a47e319ab76 button.colab-df-convert');\n",
              "        buttonEl.style.display =\n",
              "          google.colab.kernel.accessAllowed ? 'block' : 'none';\n",
              "\n",
              "        async function convertToInteractive(key) {\n",
              "          const element = document.querySelector('#df-e7fb7b84-8ca9-4d23-934a-9a47e319ab76');\n",
              "          const dataTable =\n",
              "            await google.colab.kernel.invokeFunction('convertToInteractive',\n",
              "                                                     [key], {});\n",
              "          if (!dataTable) return;\n",
              "\n",
              "          const docLinkHtml = 'Like what you see? Visit the ' +\n",
              "            '<a target=\"_blank\" href=https://colab.research.google.com/notebooks/data_table.ipynb>data table notebook</a>'\n",
              "            + ' to learn more about interactive tables.';\n",
              "          element.innerHTML = '';\n",
              "          dataTable['output_type'] = 'display_data';\n",
              "          await google.colab.output.renderOutput(dataTable, element);\n",
              "          const docLink = document.createElement('div');\n",
              "          docLink.innerHTML = docLinkHtml;\n",
              "          element.appendChild(docLink);\n",
              "        }\n",
              "      </script>\n",
              "    </div>\n",
              "  </div>\n",
              "  "
            ]
          },
          "metadata": {},
          "execution_count": 241
        }
      ]
    },
    {
      "cell_type": "markdown",
      "source": [
        "В данном случае для нас важнее recall, тк мы выдадим много невозвратных кредитов, что повлечет потери банка.\n",
        "Либо precision_score, тк банк зарабатывает на кредитах и любой отказ это упущенная выгода, а просрочки мы будем в судебном порядке взымать."
      ],
      "metadata": {
        "id": "4ynls9te450t"
      }
    },
    {
      "cell_type": "markdown",
      "source": [
        "В любом случае recall слишком мал и с этим нужно разбираться. Посмотрим на вероятности, выдаваемые моделью."
      ],
      "metadata": {
        "id": "wkHdi9b_3b-z"
      }
    },
    {
      "cell_type": "code",
      "source": [
        "probs = model.predict_proba(Xtest)\n",
        "\n",
        "probs[:10]"
      ],
      "metadata": {
        "id": "t7ASlwolO09n",
        "colab": {
          "base_uri": "https://localhost:8080/"
        },
        "outputId": "159d9a7d-b749-4c06-afce-036fe459128e"
      },
      "execution_count": 183,
      "outputs": [
        {
          "output_type": "execute_result",
          "data": {
            "text/plain": [
              "array([[0.96407927, 0.03592073],\n",
              "       [0.86116811, 0.13883189],\n",
              "       [0.92342932, 0.07657068],\n",
              "       [0.96124756, 0.03875244],\n",
              "       [0.94256992, 0.05743008],\n",
              "       [0.94075923, 0.05924077],\n",
              "       [0.9187528 , 0.0812472 ],\n",
              "       [0.90350756, 0.09649244],\n",
              "       [0.90435003, 0.09564997],\n",
              "       [0.90109214, 0.09890786]])"
            ]
          },
          "metadata": {},
          "execution_count": 183
        }
      ]
    },
    {
      "cell_type": "markdown",
      "source": [
        "Модель слишком позитивна. Она присваивает классу 0 (клиент не имеет просрочек 90+) всегда большие вероятности. \n",
        "\n",
        "<font color='blue'>Попробуем изменить **порог для перевода вероятности в классы** со стандартного 0.5 на порог поменьше.</blue>"
      ],
      "metadata": {
        "id": "MHF1dXxLQQlB"
      }
    },
    {
      "cell_type": "code",
      "source": [
        "probs_arrears = probs[:,1]\n",
        "\n",
        "classes = probs_arrears > 0.2"
      ],
      "metadata": {
        "id": "JoDNJgZ_O609"
      },
      "execution_count": 159,
      "outputs": []
    },
    {
      "cell_type": "code",
      "source": [
        "confusion_matrix(ytest, classes)"
      ],
      "metadata": {
        "id": "EPmRIHIGO_I9",
        "colab": {
          "base_uri": "https://localhost:8080/"
        },
        "outputId": "6de44859-85f4-46d0-9a37-5e51233d7d11"
      },
      "execution_count": 161,
      "outputs": [
        {
          "output_type": "execute_result",
          "data": {
            "text/plain": [
              "array([[34558,    57],\n",
              "       [ 2466,    57]])"
            ]
          },
          "metadata": {},
          "execution_count": 161
        }
      ]
    },
    {
      "cell_type": "code",
      "source": [
        "ytest.value_counts()"
      ],
      "metadata": {
        "id": "AaduyCsc6Di_",
        "colab": {
          "base_uri": "https://localhost:8080/"
        },
        "outputId": "43081aaf-b050-43a6-dd5e-a1dd3cd0c7a4"
      },
      "execution_count": 152,
      "outputs": [
        {
          "output_type": "execute_result",
          "data": {
            "text/plain": [
              "0    34615\n",
              "1     2523\n",
              "Name: SeriousDlqin2yrs, dtype: int64"
            ]
          },
          "metadata": {},
          "execution_count": 152
        }
      ]
    },
    {
      "cell_type": "code",
      "source": [
        "recall_score(ytest, classes)"
      ],
      "metadata": {
        "id": "uBPFvMlGQ11c",
        "colab": {
          "base_uri": "https://localhost:8080/"
        },
        "outputId": "7449b471-e92d-4765-8e42-b0dd08be3669"
      },
      "execution_count": 153,
      "outputs": [
        {
          "output_type": "execute_result",
          "data": {
            "text/plain": [
              "0.2845818470075307"
            ]
          },
          "metadata": {},
          "execution_count": 153
        }
      ]
    },
    {
      "cell_type": "code",
      "source": [
        "from sklearn.metrics import precision_score #точность. Из определенных, как \"имеют просрочки 90+\" сколько действительно имеют её(TN/(FP+TN)\n",
        "\n",
        "precision_score(ytest, classes)"
      ],
      "metadata": {
        "id": "Ec4laDem6xf7",
        "outputId": "cfde1872-2622-4955-b849-73d93e8d1fba",
        "colab": {
          "base_uri": "https://localhost:8080/"
        }
      },
      "execution_count": 160,
      "outputs": [
        {
          "output_type": "execute_result",
          "data": {
            "text/plain": [
              "0.5"
            ]
          },
          "metadata": {},
          "execution_count": 160
        }
      ]
    },
    {
      "cell_type": "markdown",
      "source": [
        "Теперь модель стала находить оттоковых клиентов, но и больше ошибается на тех клиентах, которые не уйдут."
      ],
      "metadata": {
        "id": "WpBpmBaHQaFH"
      }
    },
    {
      "cell_type": "markdown",
      "source": [
        "## <font color='green'>3. Интерпретация модели</font>\n",
        "\n",
        "После обучения модели можно посмотреть на её веса, то есть на коэффициенты при признаках, найденные моделью."
      ],
      "metadata": {
        "id": "N0qYwySGh9p_"
      }
    },
    {
      "cell_type": "code",
      "source": [
        "model.coef_, model.intercept_"
      ],
      "metadata": {
        "colab": {
          "base_uri": "https://localhost:8080/"
        },
        "id": "MbBhMrg9h_5o",
        "outputId": "6bbf8692-954d-4f28-e8d0-0f4db423410a"
      },
      "execution_count": 266,
      "outputs": [
        {
          "output_type": "execute_result",
          "data": {
            "text/plain": [
              "(array([[ 0.00067279, -0.34543796,  0.19354693, -0.0829788 , -0.60779576,\n",
              "         -0.0587522 ,  0.14477694,  0.1768087 ]]),\n",
              " array([-2.75253082]))"
            ]
          },
          "metadata": {},
          "execution_count": 266
        }
      ]
    },
    {
      "cell_type": "code",
      "source": [
        "import pandas as pd\n",
        "\n",
        "coef_table = pd.DataFrame({'features' : list(X.columns), 'weights' : list(model.coef_[0])})\n",
        "\n",
        "coef_table.sort_values(by='weights')"
      ],
      "metadata": {
        "colab": {
          "base_uri": "https://localhost:8080/",
          "height": 300
        },
        "id": "IaQlscwZiiUu",
        "outputId": "1a2a4166-b5bf-462a-af2c-7515a374b077"
      },
      "execution_count": 267,
      "outputs": [
        {
          "output_type": "execute_result",
          "data": {
            "text/plain": [
              "                               features   weights\n",
              "4                         MonthlyIncome -0.607796\n",
              "1                                   age -0.345438\n",
              "3                             DebtRatio -0.082979\n",
              "5       NumberOfOpenCreditLinesAndLoans -0.058752\n",
              "0  RevolvingUtilizationOfUnsecuredLines  0.000673\n",
              "6                    NumberOfDependents  0.144777\n",
              "7                RealEstateLoansOrLines  0.176809\n",
              "2  NumberOfTime30-59DaysPastDueNotWorse  0.193547"
            ],
            "text/html": [
              "\n",
              "  <div id=\"df-953f381b-1afc-41ad-a86f-7fbee2ae095b\">\n",
              "    <div class=\"colab-df-container\">\n",
              "      <div>\n",
              "<style scoped>\n",
              "    .dataframe tbody tr th:only-of-type {\n",
              "        vertical-align: middle;\n",
              "    }\n",
              "\n",
              "    .dataframe tbody tr th {\n",
              "        vertical-align: top;\n",
              "    }\n",
              "\n",
              "    .dataframe thead th {\n",
              "        text-align: right;\n",
              "    }\n",
              "</style>\n",
              "<table border=\"1\" class=\"dataframe\">\n",
              "  <thead>\n",
              "    <tr style=\"text-align: right;\">\n",
              "      <th></th>\n",
              "      <th>features</th>\n",
              "      <th>weights</th>\n",
              "    </tr>\n",
              "  </thead>\n",
              "  <tbody>\n",
              "    <tr>\n",
              "      <th>4</th>\n",
              "      <td>MonthlyIncome</td>\n",
              "      <td>-0.607796</td>\n",
              "    </tr>\n",
              "    <tr>\n",
              "      <th>1</th>\n",
              "      <td>age</td>\n",
              "      <td>-0.345438</td>\n",
              "    </tr>\n",
              "    <tr>\n",
              "      <th>3</th>\n",
              "      <td>DebtRatio</td>\n",
              "      <td>-0.082979</td>\n",
              "    </tr>\n",
              "    <tr>\n",
              "      <th>5</th>\n",
              "      <td>NumberOfOpenCreditLinesAndLoans</td>\n",
              "      <td>-0.058752</td>\n",
              "    </tr>\n",
              "    <tr>\n",
              "      <th>0</th>\n",
              "      <td>RevolvingUtilizationOfUnsecuredLines</td>\n",
              "      <td>0.000673</td>\n",
              "    </tr>\n",
              "    <tr>\n",
              "      <th>6</th>\n",
              "      <td>NumberOfDependents</td>\n",
              "      <td>0.144777</td>\n",
              "    </tr>\n",
              "    <tr>\n",
              "      <th>7</th>\n",
              "      <td>RealEstateLoansOrLines</td>\n",
              "      <td>0.176809</td>\n",
              "    </tr>\n",
              "    <tr>\n",
              "      <th>2</th>\n",
              "      <td>NumberOfTime30-59DaysPastDueNotWorse</td>\n",
              "      <td>0.193547</td>\n",
              "    </tr>\n",
              "  </tbody>\n",
              "</table>\n",
              "</div>\n",
              "      <button class=\"colab-df-convert\" onclick=\"convertToInteractive('df-953f381b-1afc-41ad-a86f-7fbee2ae095b')\"\n",
              "              title=\"Convert this dataframe to an interactive table.\"\n",
              "              style=\"display:none;\">\n",
              "        \n",
              "  <svg xmlns=\"http://www.w3.org/2000/svg\" height=\"24px\"viewBox=\"0 0 24 24\"\n",
              "       width=\"24px\">\n",
              "    <path d=\"M0 0h24v24H0V0z\" fill=\"none\"/>\n",
              "    <path d=\"M18.56 5.44l.94 2.06.94-2.06 2.06-.94-2.06-.94-.94-2.06-.94 2.06-2.06.94zm-11 1L8.5 8.5l.94-2.06 2.06-.94-2.06-.94L8.5 2.5l-.94 2.06-2.06.94zm10 10l.94 2.06.94-2.06 2.06-.94-2.06-.94-.94-2.06-.94 2.06-2.06.94z\"/><path d=\"M17.41 7.96l-1.37-1.37c-.4-.4-.92-.59-1.43-.59-.52 0-1.04.2-1.43.59L10.3 9.45l-7.72 7.72c-.78.78-.78 2.05 0 2.83L4 21.41c.39.39.9.59 1.41.59.51 0 1.02-.2 1.41-.59l7.78-7.78 2.81-2.81c.8-.78.8-2.07 0-2.86zM5.41 20L4 18.59l7.72-7.72 1.47 1.35L5.41 20z\"/>\n",
              "  </svg>\n",
              "      </button>\n",
              "      \n",
              "  <style>\n",
              "    .colab-df-container {\n",
              "      display:flex;\n",
              "      flex-wrap:wrap;\n",
              "      gap: 12px;\n",
              "    }\n",
              "\n",
              "    .colab-df-convert {\n",
              "      background-color: #E8F0FE;\n",
              "      border: none;\n",
              "      border-radius: 50%;\n",
              "      cursor: pointer;\n",
              "      display: none;\n",
              "      fill: #1967D2;\n",
              "      height: 32px;\n",
              "      padding: 0 0 0 0;\n",
              "      width: 32px;\n",
              "    }\n",
              "\n",
              "    .colab-df-convert:hover {\n",
              "      background-color: #E2EBFA;\n",
              "      box-shadow: 0px 1px 2px rgba(60, 64, 67, 0.3), 0px 1px 3px 1px rgba(60, 64, 67, 0.15);\n",
              "      fill: #174EA6;\n",
              "    }\n",
              "\n",
              "    [theme=dark] .colab-df-convert {\n",
              "      background-color: #3B4455;\n",
              "      fill: #D2E3FC;\n",
              "    }\n",
              "\n",
              "    [theme=dark] .colab-df-convert:hover {\n",
              "      background-color: #434B5C;\n",
              "      box-shadow: 0px 1px 3px 1px rgba(0, 0, 0, 0.15);\n",
              "      filter: drop-shadow(0px 1px 2px rgba(0, 0, 0, 0.3));\n",
              "      fill: #FFFFFF;\n",
              "    }\n",
              "  </style>\n",
              "\n",
              "      <script>\n",
              "        const buttonEl =\n",
              "          document.querySelector('#df-953f381b-1afc-41ad-a86f-7fbee2ae095b button.colab-df-convert');\n",
              "        buttonEl.style.display =\n",
              "          google.colab.kernel.accessAllowed ? 'block' : 'none';\n",
              "\n",
              "        async function convertToInteractive(key) {\n",
              "          const element = document.querySelector('#df-953f381b-1afc-41ad-a86f-7fbee2ae095b');\n",
              "          const dataTable =\n",
              "            await google.colab.kernel.invokeFunction('convertToInteractive',\n",
              "                                                     [key], {});\n",
              "          if (!dataTable) return;\n",
              "\n",
              "          const docLinkHtml = 'Like what you see? Visit the ' +\n",
              "            '<a target=\"_blank\" href=https://colab.research.google.com/notebooks/data_table.ipynb>data table notebook</a>'\n",
              "            + ' to learn more about interactive tables.';\n",
              "          element.innerHTML = '';\n",
              "          dataTable['output_type'] = 'display_data';\n",
              "          await google.colab.output.renderOutput(dataTable, element);\n",
              "          const docLink = document.createElement('div');\n",
              "          docLink.innerHTML = docLinkHtml;\n",
              "          element.appendChild(docLink);\n",
              "        }\n",
              "      </script>\n",
              "    </div>\n",
              "  </div>\n",
              "  "
            ]
          },
          "metadata": {},
          "execution_count": 267
        }
      ]
    },
    {
      "cell_type": "markdown",
      "source": [
        "Если вес у признака положительный, то признак вносит положительный вклад в ответ, то есть чем больше значение признака, тем больше это дает вклад в положительный класс объекта и наоборот."
      ],
      "metadata": {
        "id": "52qZjNAHix1M"
      }
    },
    {
      "cell_type": "markdown",
      "source": [
        "## Метод ближайших соседей (бонус)\n",
        "\n",
        "Существует еще один простой метод для решения задач классификации - метод ближайших соседей."
      ],
      "metadata": {
        "id": "c6GyG8VFjx1I"
      }
    },
    {
      "cell_type": "markdown",
      "source": [
        "![knn.png](data:image/png;base64,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)"
      ],
      "metadata": {
        "id": "HzNWHX71kHeV"
      }
    },
    {
      "cell_type": "markdown",
      "source": [
        "Попробуем применить метод ближайших соседей для решения поставленной задачи."
      ],
      "metadata": {
        "id": "GFH2US3bbBNq"
      }
    },
    {
      "cell_type": "code",
      "source": [
        "from sklearn.neighbors import KNeighborsClassifier\n",
        "\n",
        "knn = KNeighborsClassifier()"
      ],
      "metadata": {
        "id": "TWDlWnKQa80N"
      },
      "execution_count": 269,
      "outputs": []
    },
    {
      "cell_type": "code",
      "source": [
        "knn.fit(Xtrain, ytrain)\n",
        "\n",
        "pred_test2 = knn.predict_proba(Xtest)[:,1]\n",
        "\n",
        "classes2 = pred_test2 > 0.5\n",
        "\n",
        "confusion_matrix(ytest, classes2)"
      ],
      "metadata": {
        "colab": {
          "base_uri": "https://localhost:8080/"
        },
        "id": "vaWYtxqJbOQ0",
        "outputId": "73bb5851-45e9-4a38-f2ca-b683ad552872"
      },
      "execution_count": 276,
      "outputs": [
        {
          "output_type": "execute_result",
          "data": {
            "text/plain": [
              "array([[34233,   382],\n",
              "       [ 2322,   201]])"
            ]
          },
          "metadata": {},
          "execution_count": 276
        }
      ]
    },
    {
      "cell_type": "markdown",
      "source": [
        "## Вопрос для Quiz\n",
        "\n",
        "Вычислите recall (долю найденных моделью оттоковых клиентов) при пороге 0.1. Ответ не округляйте."
      ],
      "metadata": {
        "id": "1ujuRQW8SRyB"
      }
    },
    {
      "cell_type": "code",
      "source": [
        "# your code here\n",
        "recall_score(ytest, classes2)"
      ],
      "metadata": {
        "id": "caQw-2Vk_69O",
        "colab": {
          "base_uri": "https://localhost:8080/"
        },
        "outputId": "d0630005-a2f3-49b2-e3df-1641ca5f925c"
      },
      "execution_count": 274,
      "outputs": [
        {
          "output_type": "execute_result",
          "data": {
            "text/plain": [
              "0.21046373365041618"
            ]
          },
          "metadata": {},
          "execution_count": 274
        }
      ]
    },
    {
      "cell_type": "code",
      "source": [
        "from sklearn.metrics import precision_score #точность. Из определенных, как \"имеют просрочки 90+\" сколько действительно имеют её(TN/(FP+TN)\n",
        "\n",
        "precision_score(ytest, classes2)"
      ],
      "metadata": {
        "id": "A6V02ScKRRnJ",
        "outputId": "f7f10ef8-4540-4afe-d54a-3b40b89f6810",
        "colab": {
          "base_uri": "https://localhost:8080/"
        }
      },
      "execution_count": 275,
      "outputs": [
        {
          "output_type": "execute_result",
          "data": {
            "text/plain": [
              "0.24092558983666063"
            ]
          },
          "metadata": {},
          "execution_count": 275
        }
      ]
    },
    {
      "cell_type": "markdown",
      "source": [
        "## <font color='green'>4. Сохранение результатов экспериментов</font>\n",
        "\n",
        "Что сохраняем?\n",
        "\n",
        "* Предсказания модели\n",
        "* Эксперименты\n",
        "* Модель"
      ],
      "metadata": {
        "id": "_ezdQM9tTcW6"
      }
    },
    {
      "cell_type": "markdown",
      "source": [
        "Сначала сохраним предсказания модели в файл:"
      ],
      "metadata": {
        "id": "ACp_KXUatce-"
      }
    },
    {
      "cell_type": "code",
      "source": [
        "Xtest['predictions'] = probs_churn\n",
        "\n",
        "Xtest[['predictions']].to_csv(\"PredictionsChurn.csv\", index=False)"
      ],
      "metadata": {
        "id": "ouz9PHNZtLnb"
      },
      "execution_count": 107,
      "outputs": []
    },
    {
      "cell_type": "markdown",
      "source": [
        "Теперь сохраним саму модель:"
      ],
      "metadata": {
        "id": "oC9ZLJi0tftb"
      }
    },
    {
      "cell_type": "code",
      "source": [
        "import pickle \n",
        "\n",
        "with open('model.pickle', 'wb') as f:\n",
        "    pickle.dump(model, f)\n",
        "\n",
        "# а так модель можно загрузить из файла:  \n",
        "# with open('filename.pickle', 'rb') as f:\n",
        "#     model = pickle.load(f)"
      ],
      "metadata": {
        "id": "3HBU7ogWtfP6"
      },
      "execution_count": 108,
      "outputs": []
    },
    {
      "cell_type": "markdown",
      "source": [
        "Сохраним полученную модель, файл с предсказаниями и ноутбук с экспериментами на гитхаб."
      ],
      "metadata": {
        "id": "Jj9zwt5ds8Eh"
      }
    },
    {
      "cell_type": "markdown",
      "source": [
        "![github.png](data:image/png;base64,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)"
      ],
      "metadata": {
        "id": "fB6Tr63AuXWT"
      }
    },
    {
      "cell_type": "markdown",
      "source": [
        "## <font color='green'>5. Градиентный бустинг</font>\n",
        "\n",
        "Мы поработали с линейными моделями. Они весьма и весьма простые — предполагают независимость признаков и линейную связь между каждым признаком и целевой переменной. Конечно, в наших данных вряд ли всё так просто. Можно пытаться усложнять линейные модели: добавлять нелинейные признаки, переходить в новое признаковое пространство. Но это всё полумеры.\n",
        "\n",
        "Сейчас мы поработаем с градиентным бустингом — одним из самых мощных подходов для работы с табличными данными."
      ],
      "metadata": {
        "id": "tgIuAPbBWl1p"
      }
    },
    {
      "cell_type": "markdown",
      "source": [
        "Пока не ушли далеко — посчитаем и запомним качество логистической регрессии."
      ],
      "metadata": {
        "id": "J9PZ_7cFXXSg"
      }
    },
    {
      "cell_type": "code",
      "source": [
        "from sklearn import metrics\n",
        "\n",
        "print(\"LR quality:\")\n",
        "print(\"precision: \", metrics.precision_score(ytest, classes))\n",
        "print(\"recall: \", metrics.recall_score(ytest, classes))\n",
        "print(\"auc-roc: \", metrics.roc_auc_score(ytest, probs[:, 1]))"
      ],
      "metadata": {
        "colab": {
          "base_uri": "https://localhost:8080/"
        },
        "id": "SqKo62t0XWiE",
        "outputId": "8214d160-c4f7-4903-d439-148b220f4784"
      },
      "execution_count": 109,
      "outputs": [
        {
          "output_type": "stream",
          "name": "stdout",
          "text": [
            "LR quality:\n",
            "precision:  0.5\n",
            "recall:  0.022592152199762187\n",
            "auc-roc:  0.6584134384863933\n"
          ]
        }
      ]
    },
    {
      "cell_type": "markdown",
      "source": [
        "Есть много имплементаций градиентного бустинга. Мы будем пользоваться CatBoost — библиотекой от Яндекса, которая очень эффективно написана и широко используется в мире."
      ],
      "metadata": {
        "id": "t0aoM9aSYora"
      }
    },
    {
      "cell_type": "code",
      "source": [
        "!pip install catboost"
      ],
      "metadata": {
        "colab": {
          "base_uri": "https://localhost:8080/"
        },
        "id": "2QoLTWFrWj92",
        "outputId": "91f520a3-78c1-4a7f-802f-97c8113e026b"
      },
      "execution_count": 110,
      "outputs": [
        {
          "output_type": "stream",
          "name": "stdout",
          "text": [
            "Looking in indexes: https://pypi.org/simple, https://us-python.pkg.dev/colab-wheels/public/simple/\n",
            "Collecting catboost\n",
            "  Downloading catboost-1.2-cp310-cp310-manylinux2014_x86_64.whl (98.6 MB)\n",
            "\u001b[2K     \u001b[90m━━━━━━━━━━━━━━━━━━━━━━━━━━━━━━━━━━━━━━━━\u001b[0m \u001b[32m98.6/98.6 MB\u001b[0m \u001b[31m2.3 MB/s\u001b[0m eta \u001b[36m0:00:00\u001b[0m\n",
            "\u001b[?25hRequirement already satisfied: graphviz in /usr/local/lib/python3.10/dist-packages (from catboost) (0.20.1)\n",
            "Requirement already satisfied: matplotlib in /usr/local/lib/python3.10/dist-packages (from catboost) (3.7.1)\n",
            "Requirement already satisfied: numpy>=1.16.0 in /usr/local/lib/python3.10/dist-packages (from catboost) (1.22.4)\n",
            "Requirement already satisfied: pandas>=0.24 in /usr/local/lib/python3.10/dist-packages (from catboost) (1.5.3)\n",
            "Requirement already satisfied: scipy in /usr/local/lib/python3.10/dist-packages (from catboost) (1.10.1)\n",
            "Requirement already satisfied: plotly in /usr/local/lib/python3.10/dist-packages (from catboost) (5.13.1)\n",
            "Requirement already satisfied: six in /usr/local/lib/python3.10/dist-packages (from catboost) (1.16.0)\n",
            "Requirement already satisfied: python-dateutil>=2.8.1 in /usr/local/lib/python3.10/dist-packages (from pandas>=0.24->catboost) (2.8.2)\n",
            "Requirement already satisfied: pytz>=2020.1 in /usr/local/lib/python3.10/dist-packages (from pandas>=0.24->catboost) (2022.7.1)\n",
            "Requirement already satisfied: contourpy>=1.0.1 in /usr/local/lib/python3.10/dist-packages (from matplotlib->catboost) (1.0.7)\n",
            "Requirement already satisfied: cycler>=0.10 in /usr/local/lib/python3.10/dist-packages (from matplotlib->catboost) (0.11.0)\n",
            "Requirement already satisfied: fonttools>=4.22.0 in /usr/local/lib/python3.10/dist-packages (from matplotlib->catboost) (4.39.3)\n",
            "Requirement already satisfied: kiwisolver>=1.0.1 in /usr/local/lib/python3.10/dist-packages (from matplotlib->catboost) (1.4.4)\n",
            "Requirement already satisfied: packaging>=20.0 in /usr/local/lib/python3.10/dist-packages (from matplotlib->catboost) (23.1)\n",
            "Requirement already satisfied: pillow>=6.2.0 in /usr/local/lib/python3.10/dist-packages (from matplotlib->catboost) (8.4.0)\n",
            "Requirement already satisfied: pyparsing>=2.3.1 in /usr/local/lib/python3.10/dist-packages (from matplotlib->catboost) (3.0.9)\n",
            "Requirement already satisfied: tenacity>=6.2.0 in /usr/local/lib/python3.10/dist-packages (from plotly->catboost) (8.2.2)\n",
            "Installing collected packages: catboost\n",
            "Successfully installed catboost-1.2\n"
          ]
        }
      ]
    },
    {
      "cell_type": "code",
      "source": [
        "from catboost import CatBoostClassifier, Pool"
      ],
      "metadata": {
        "id": "WnWQilzgY_QO"
      },
      "execution_count": 115,
      "outputs": []
    },
    {
      "cell_type": "code",
      "source": [
        "train_set = Pool(Xtrain, ytrain)\n",
        "test_set = Pool(Xtest, ytest)"
      ],
      "metadata": {
        "id": "9duc2zLYJWV3"
      },
      "execution_count": 116,
      "outputs": []
    },
    {
      "cell_type": "code",
      "source": [
        "gbm = CatBoostClassifier(iterations=100,\n",
        "                          depth=2,\n",
        "                          learning_rate=0.1,\n",
        "                          loss_function='Logloss',\n",
        "                          eval_metric='AUC',\n",
        "                          verbose=False)\n",
        "gbm.fit(train_set, eval_set=test_set)\n",
        "gbm_preds = gbm.predict_proba(Xtest)"
      ],
      "metadata": {
        "id": "jsgUpP1NZYDu",
        "colab": {
          "base_uri": "https://localhost:8080/",
          "height": 484
        },
        "outputId": "d5c1c275-0598-4416-9ac4-38c098d36476"
      },
      "execution_count": 122,
      "outputs": [
        {
          "output_type": "error",
          "ename": "CatBoostError",
          "evalue": "ignored",
          "traceback": [
            "\u001b[0;31m---------------------------------------------------------------------------\u001b[0m",
            "\u001b[0;31mCatBoostError\u001b[0m                             Traceback (most recent call last)",
            "\u001b[0;32m<ipython-input-122-d81767ac2fac>\u001b[0m in \u001b[0;36m<cell line: 7>\u001b[0;34m()\u001b[0m\n\u001b[1;32m      5\u001b[0m                           \u001b[0meval_metric\u001b[0m\u001b[0;34m=\u001b[0m\u001b[0;34m'AUC'\u001b[0m\u001b[0;34m,\u001b[0m\u001b[0;34m\u001b[0m\u001b[0;34m\u001b[0m\u001b[0m\n\u001b[1;32m      6\u001b[0m                           verbose=False)\n\u001b[0;32m----> 7\u001b[0;31m \u001b[0mgbm\u001b[0m\u001b[0;34m.\u001b[0m\u001b[0mfit\u001b[0m\u001b[0;34m(\u001b[0m\u001b[0mtrain_set\u001b[0m\u001b[0;34m,\u001b[0m \u001b[0meval_set\u001b[0m\u001b[0;34m=\u001b[0m\u001b[0mtest_set\u001b[0m\u001b[0;34m)\u001b[0m\u001b[0;34m\u001b[0m\u001b[0;34m\u001b[0m\u001b[0m\n\u001b[0m\u001b[1;32m      8\u001b[0m \u001b[0mgbm_preds\u001b[0m \u001b[0;34m=\u001b[0m \u001b[0mgbm\u001b[0m\u001b[0;34m.\u001b[0m\u001b[0mpredict_proba\u001b[0m\u001b[0;34m(\u001b[0m\u001b[0mXtest\u001b[0m\u001b[0;34m)\u001b[0m\u001b[0;34m\u001b[0m\u001b[0;34m\u001b[0m\u001b[0m\n",
            "\u001b[0;32m/usr/local/lib/python3.10/dist-packages/catboost/core.py\u001b[0m in \u001b[0;36mfit\u001b[0;34m(self, X, y, cat_features, text_features, embedding_features, sample_weight, baseline, use_best_model, eval_set, verbose, logging_level, plot, plot_file, column_description, verbose_eval, metric_period, silent, early_stopping_rounds, save_snapshot, snapshot_file, snapshot_interval, init_model, callbacks, log_cout, log_cerr)\u001b[0m\n\u001b[1;32m   5129\u001b[0m             \u001b[0mCatBoostClassifier\u001b[0m\u001b[0;34m.\u001b[0m\u001b[0m_check_is_compatible_loss\u001b[0m\u001b[0;34m(\u001b[0m\u001b[0mparams\u001b[0m\u001b[0;34m[\u001b[0m\u001b[0;34m'loss_function'\u001b[0m\u001b[0;34m]\u001b[0m\u001b[0;34m)\u001b[0m\u001b[0;34m\u001b[0m\u001b[0;34m\u001b[0m\u001b[0m\n\u001b[1;32m   5130\u001b[0m \u001b[0;34m\u001b[0m\u001b[0m\n\u001b[0;32m-> 5131\u001b[0;31m         self._fit(X, y, cat_features, text_features, embedding_features, None, sample_weight, None, None, None, None, baseline, use_best_model,\n\u001b[0m\u001b[1;32m   5132\u001b[0m                   \u001b[0meval_set\u001b[0m\u001b[0;34m,\u001b[0m \u001b[0mverbose\u001b[0m\u001b[0;34m,\u001b[0m \u001b[0mlogging_level\u001b[0m\u001b[0;34m,\u001b[0m \u001b[0mplot\u001b[0m\u001b[0;34m,\u001b[0m \u001b[0mplot_file\u001b[0m\u001b[0;34m,\u001b[0m \u001b[0mcolumn_description\u001b[0m\u001b[0;34m,\u001b[0m \u001b[0mverbose_eval\u001b[0m\u001b[0;34m,\u001b[0m \u001b[0mmetric_period\u001b[0m\u001b[0;34m,\u001b[0m\u001b[0;34m\u001b[0m\u001b[0;34m\u001b[0m\u001b[0m\n\u001b[1;32m   5133\u001b[0m                   silent, early_stopping_rounds, save_snapshot, snapshot_file, snapshot_interval, init_model, callbacks, log_cout, log_cerr)\n",
            "\u001b[0;32m/usr/local/lib/python3.10/dist-packages/catboost/core.py\u001b[0m in \u001b[0;36m_fit\u001b[0;34m(self, X, y, cat_features, text_features, embedding_features, pairs, sample_weight, group_id, group_weight, subgroup_id, pairs_weight, baseline, use_best_model, eval_set, verbose, logging_level, plot, plot_file, column_description, verbose_eval, metric_period, silent, early_stopping_rounds, save_snapshot, snapshot_file, snapshot_interval, init_model, callbacks, log_cout, log_cerr)\u001b[0m\n\u001b[1;32m   2355\u001b[0m         \u001b[0;32mwith\u001b[0m \u001b[0mlog_fixup\u001b[0m\u001b[0;34m(\u001b[0m\u001b[0mlog_cout\u001b[0m\u001b[0;34m,\u001b[0m \u001b[0mlog_cerr\u001b[0m\u001b[0;34m)\u001b[0m\u001b[0;34m,\u001b[0m\u001b[0;31m \u001b[0m\u001b[0;31m\\\u001b[0m\u001b[0;34m\u001b[0m\u001b[0;34m\u001b[0m\u001b[0m\n\u001b[1;32m   2356\u001b[0m             \u001b[0mplot_wrapper\u001b[0m\u001b[0;34m(\u001b[0m\u001b[0mplot\u001b[0m\u001b[0;34m,\u001b[0m \u001b[0mplot_file\u001b[0m\u001b[0;34m,\u001b[0m \u001b[0;34m'Training plots'\u001b[0m\u001b[0;34m,\u001b[0m \u001b[0;34m[\u001b[0m\u001b[0m_get_train_dir\u001b[0m\u001b[0;34m(\u001b[0m\u001b[0mself\u001b[0m\u001b[0;34m.\u001b[0m\u001b[0mget_params\u001b[0m\u001b[0;34m(\u001b[0m\u001b[0;34m)\u001b[0m\u001b[0;34m)\u001b[0m\u001b[0;34m]\u001b[0m\u001b[0;34m)\u001b[0m\u001b[0;34m:\u001b[0m\u001b[0;34m\u001b[0m\u001b[0;34m\u001b[0m\u001b[0m\n\u001b[0;32m-> 2357\u001b[0;31m             self._train(\n\u001b[0m\u001b[1;32m   2358\u001b[0m                 \u001b[0mtrain_pool\u001b[0m\u001b[0;34m,\u001b[0m\u001b[0;34m\u001b[0m\u001b[0;34m\u001b[0m\u001b[0m\n\u001b[1;32m   2359\u001b[0m                 \u001b[0mtrain_params\u001b[0m\u001b[0;34m[\u001b[0m\u001b[0;34m\"eval_sets\"\u001b[0m\u001b[0;34m]\u001b[0m\u001b[0;34m,\u001b[0m\u001b[0;34m\u001b[0m\u001b[0;34m\u001b[0m\u001b[0m\n",
            "\u001b[0;32m/usr/local/lib/python3.10/dist-packages/catboost/core.py\u001b[0m in \u001b[0;36m_train\u001b[0;34m(self, train_pool, test_pool, params, allow_clear_pool, init_model)\u001b[0m\n\u001b[1;32m   1759\u001b[0m \u001b[0;34m\u001b[0m\u001b[0m\n\u001b[1;32m   1760\u001b[0m     \u001b[0;32mdef\u001b[0m \u001b[0m_train\u001b[0m\u001b[0;34m(\u001b[0m\u001b[0mself\u001b[0m\u001b[0;34m,\u001b[0m \u001b[0mtrain_pool\u001b[0m\u001b[0;34m,\u001b[0m \u001b[0mtest_pool\u001b[0m\u001b[0;34m,\u001b[0m \u001b[0mparams\u001b[0m\u001b[0;34m,\u001b[0m \u001b[0mallow_clear_pool\u001b[0m\u001b[0;34m,\u001b[0m \u001b[0minit_model\u001b[0m\u001b[0;34m)\u001b[0m\u001b[0;34m:\u001b[0m\u001b[0;34m\u001b[0m\u001b[0;34m\u001b[0m\u001b[0m\n\u001b[0;32m-> 1761\u001b[0;31m         \u001b[0mself\u001b[0m\u001b[0;34m.\u001b[0m\u001b[0m_object\u001b[0m\u001b[0;34m.\u001b[0m\u001b[0m_train\u001b[0m\u001b[0;34m(\u001b[0m\u001b[0mtrain_pool\u001b[0m\u001b[0;34m,\u001b[0m \u001b[0mtest_pool\u001b[0m\u001b[0;34m,\u001b[0m \u001b[0mparams\u001b[0m\u001b[0;34m,\u001b[0m \u001b[0mallow_clear_pool\u001b[0m\u001b[0;34m,\u001b[0m \u001b[0minit_model\u001b[0m\u001b[0;34m.\u001b[0m\u001b[0m_object\u001b[0m \u001b[0;32mif\u001b[0m \u001b[0minit_model\u001b[0m \u001b[0;32melse\u001b[0m \u001b[0;32mNone\u001b[0m\u001b[0;34m)\u001b[0m\u001b[0;34m\u001b[0m\u001b[0;34m\u001b[0m\u001b[0m\n\u001b[0m\u001b[1;32m   1762\u001b[0m         \u001b[0mself\u001b[0m\u001b[0;34m.\u001b[0m\u001b[0m_set_trained_model_attributes\u001b[0m\u001b[0;34m(\u001b[0m\u001b[0;34m)\u001b[0m\u001b[0;34m\u001b[0m\u001b[0;34m\u001b[0m\u001b[0m\n\u001b[1;32m   1763\u001b[0m \u001b[0;34m\u001b[0m\u001b[0m\n",
            "\u001b[0;32m_catboost.pyx\u001b[0m in \u001b[0;36m_catboost._CatBoost._train\u001b[0;34m()\u001b[0m\n",
            "\u001b[0;32m_catboost.pyx\u001b[0m in \u001b[0;36m_catboost._CatBoost._train\u001b[0;34m()\u001b[0m\n",
            "\u001b[0;31mCatBoostError\u001b[0m: /src/catboost/catboost/libs/data/features_layout.cpp:511: Feature #8 is used in data to quantize, but not available in quantized info"
          ]
        }
      ]
    },
    {
      "cell_type": "code",
      "source": [
        "eval_metrics = gbm.get_evals_result()\n",
        "plt.plot(eval_metrics['validation']['AUC'])\n",
        "plt.xlabel('n_trees')\n",
        "plt.ylabel('AUC')\n",
        "plt.grid()"
      ],
      "metadata": {
        "colab": {
          "base_uri": "https://localhost:8080/",
          "height": 235
        },
        "id": "fI6mOpzfnsZk",
        "outputId": "b143bd4a-804d-48fc-c19e-e66d8f68d87b"
      },
      "execution_count": 123,
      "outputs": [
        {
          "output_type": "error",
          "ename": "KeyError",
          "evalue": "ignored",
          "traceback": [
            "\u001b[0;31m---------------------------------------------------------------------------\u001b[0m",
            "\u001b[0;31mKeyError\u001b[0m                                  Traceback (most recent call last)",
            "\u001b[0;32m<ipython-input-123-7f60d8004698>\u001b[0m in \u001b[0;36m<cell line: 2>\u001b[0;34m()\u001b[0m\n\u001b[1;32m      1\u001b[0m \u001b[0meval_metrics\u001b[0m \u001b[0;34m=\u001b[0m \u001b[0mgbm\u001b[0m\u001b[0;34m.\u001b[0m\u001b[0mget_evals_result\u001b[0m\u001b[0;34m(\u001b[0m\u001b[0;34m)\u001b[0m\u001b[0;34m\u001b[0m\u001b[0;34m\u001b[0m\u001b[0m\n\u001b[0;32m----> 2\u001b[0;31m \u001b[0mplt\u001b[0m\u001b[0;34m.\u001b[0m\u001b[0mplot\u001b[0m\u001b[0;34m(\u001b[0m\u001b[0meval_metrics\u001b[0m\u001b[0;34m[\u001b[0m\u001b[0;34m'validation'\u001b[0m\u001b[0;34m]\u001b[0m\u001b[0;34m[\u001b[0m\u001b[0;34m'AUC'\u001b[0m\u001b[0;34m]\u001b[0m\u001b[0;34m)\u001b[0m\u001b[0;34m\u001b[0m\u001b[0;34m\u001b[0m\u001b[0m\n\u001b[0m\u001b[1;32m      3\u001b[0m \u001b[0mplt\u001b[0m\u001b[0;34m.\u001b[0m\u001b[0mxlabel\u001b[0m\u001b[0;34m(\u001b[0m\u001b[0;34m'n_trees'\u001b[0m\u001b[0;34m)\u001b[0m\u001b[0;34m\u001b[0m\u001b[0;34m\u001b[0m\u001b[0m\n\u001b[1;32m      4\u001b[0m \u001b[0mplt\u001b[0m\u001b[0;34m.\u001b[0m\u001b[0mylabel\u001b[0m\u001b[0;34m(\u001b[0m\u001b[0;34m'AUC'\u001b[0m\u001b[0;34m)\u001b[0m\u001b[0;34m\u001b[0m\u001b[0;34m\u001b[0m\u001b[0m\n\u001b[1;32m      5\u001b[0m \u001b[0mplt\u001b[0m\u001b[0;34m.\u001b[0m\u001b[0mgrid\u001b[0m\u001b[0;34m(\u001b[0m\u001b[0;34m)\u001b[0m\u001b[0;34m\u001b[0m\u001b[0;34m\u001b[0m\u001b[0m\n",
            "\u001b[0;31mKeyError\u001b[0m: 'validation'"
          ]
        }
      ]
    },
    {
      "cell_type": "code",
      "source": [
        "gbm_classes = (gbm_preds[:, 1] > 0.3)\n",
        "print(\"precision: \", metrics.precision_score(ytest, gbm_classes))\n",
        "print(\"recall: \", metrics.recall_score(ytest, gbm_classes))\n",
        "print(\"auc-roc: \", metrics.roc_auc_score(ytest, gbm_preds[:, 1]))"
      ],
      "metadata": {
        "colab": {
          "base_uri": "https://localhost:8080/",
          "height": 218
        },
        "id": "2Zo5H0DsZ26Q",
        "outputId": "8cb1a608-5671-4e35-ac0e-2c27618b28d0"
      },
      "execution_count": 119,
      "outputs": [
        {
          "output_type": "error",
          "ename": "NameError",
          "evalue": "ignored",
          "traceback": [
            "\u001b[0;31m---------------------------------------------------------------------------\u001b[0m",
            "\u001b[0;31mNameError\u001b[0m                                 Traceback (most recent call last)",
            "\u001b[0;32m<ipython-input-119-9bce039f3a72>\u001b[0m in \u001b[0;36m<cell line: 1>\u001b[0;34m()\u001b[0m\n\u001b[0;32m----> 1\u001b[0;31m \u001b[0mgbm_classes\u001b[0m \u001b[0;34m=\u001b[0m \u001b[0;34m(\u001b[0m\u001b[0mgbm_preds\u001b[0m\u001b[0;34m[\u001b[0m\u001b[0;34m:\u001b[0m\u001b[0;34m,\u001b[0m \u001b[0;36m1\u001b[0m\u001b[0;34m]\u001b[0m \u001b[0;34m>\u001b[0m \u001b[0;36m0.3\u001b[0m\u001b[0;34m)\u001b[0m\u001b[0;34m\u001b[0m\u001b[0;34m\u001b[0m\u001b[0m\n\u001b[0m\u001b[1;32m      2\u001b[0m \u001b[0mprint\u001b[0m\u001b[0;34m(\u001b[0m\u001b[0;34m\"precision: \"\u001b[0m\u001b[0;34m,\u001b[0m \u001b[0mmetrics\u001b[0m\u001b[0;34m.\u001b[0m\u001b[0mprecision_score\u001b[0m\u001b[0;34m(\u001b[0m\u001b[0mytest\u001b[0m\u001b[0;34m,\u001b[0m \u001b[0mgbm_classes\u001b[0m\u001b[0;34m)\u001b[0m\u001b[0;34m)\u001b[0m\u001b[0;34m\u001b[0m\u001b[0;34m\u001b[0m\u001b[0m\n\u001b[1;32m      3\u001b[0m \u001b[0mprint\u001b[0m\u001b[0;34m(\u001b[0m\u001b[0;34m\"recall: \"\u001b[0m\u001b[0;34m,\u001b[0m \u001b[0mmetrics\u001b[0m\u001b[0;34m.\u001b[0m\u001b[0mrecall_score\u001b[0m\u001b[0;34m(\u001b[0m\u001b[0mytest\u001b[0m\u001b[0;34m,\u001b[0m \u001b[0mgbm_classes\u001b[0m\u001b[0;34m)\u001b[0m\u001b[0;34m)\u001b[0m\u001b[0;34m\u001b[0m\u001b[0;34m\u001b[0m\u001b[0m\n\u001b[1;32m      4\u001b[0m \u001b[0mprint\u001b[0m\u001b[0;34m(\u001b[0m\u001b[0;34m\"auc-roc: \"\u001b[0m\u001b[0;34m,\u001b[0m \u001b[0mmetrics\u001b[0m\u001b[0;34m.\u001b[0m\u001b[0mroc_auc_score\u001b[0m\u001b[0;34m(\u001b[0m\u001b[0mytest\u001b[0m\u001b[0;34m,\u001b[0m \u001b[0mgbm_preds\u001b[0m\u001b[0;34m[\u001b[0m\u001b[0;34m:\u001b[0m\u001b[0;34m,\u001b[0m \u001b[0;36m1\u001b[0m\u001b[0;34m]\u001b[0m\u001b[0;34m)\u001b[0m\u001b[0;34m)\u001b[0m\u001b[0;34m\u001b[0m\u001b[0;34m\u001b[0m\u001b[0m\n",
            "\u001b[0;31mNameError\u001b[0m: name 'gbm_preds' is not defined"
          ]
        }
      ]
    },
    {
      "cell_type": "code",
      "source": [
        "coef_table = pd.DataFrame({'features' : list(X.columns), 'importances' : list(gbm.get_feature_importance())})\n",
        "\n",
        "coef_table.sort_values(by='importances')"
      ],
      "metadata": {
        "colab": {
          "base_uri": "https://localhost:8080/",
          "height": 374
        },
        "id": "D1hQWPNNw6zm",
        "outputId": "5293f68f-3b66-4403-9579-6cae0080fdfa"
      },
      "execution_count": 120,
      "outputs": [
        {
          "output_type": "error",
          "ename": "CatBoostError",
          "evalue": "ignored",
          "traceback": [
            "\u001b[0;31m---------------------------------------------------------------------------\u001b[0m",
            "\u001b[0;31mCatBoostError\u001b[0m                             Traceback (most recent call last)",
            "\u001b[0;32m<ipython-input-120-dc8397150bf0>\u001b[0m in \u001b[0;36m<cell line: 1>\u001b[0;34m()\u001b[0m\n\u001b[0;32m----> 1\u001b[0;31m \u001b[0mcoef_table\u001b[0m \u001b[0;34m=\u001b[0m \u001b[0mpd\u001b[0m\u001b[0;34m.\u001b[0m\u001b[0mDataFrame\u001b[0m\u001b[0;34m(\u001b[0m\u001b[0;34m{\u001b[0m\u001b[0;34m'features'\u001b[0m \u001b[0;34m:\u001b[0m \u001b[0mlist\u001b[0m\u001b[0;34m(\u001b[0m\u001b[0mX\u001b[0m\u001b[0;34m.\u001b[0m\u001b[0mcolumns\u001b[0m\u001b[0;34m)\u001b[0m\u001b[0;34m,\u001b[0m \u001b[0;34m'importances'\u001b[0m \u001b[0;34m:\u001b[0m \u001b[0mlist\u001b[0m\u001b[0;34m(\u001b[0m\u001b[0mgbm\u001b[0m\u001b[0;34m.\u001b[0m\u001b[0mget_feature_importance\u001b[0m\u001b[0;34m(\u001b[0m\u001b[0;34m)\u001b[0m\u001b[0;34m)\u001b[0m\u001b[0;34m}\u001b[0m\u001b[0;34m)\u001b[0m\u001b[0;34m\u001b[0m\u001b[0;34m\u001b[0m\u001b[0m\n\u001b[0m\u001b[1;32m      2\u001b[0m \u001b[0;34m\u001b[0m\u001b[0m\n\u001b[1;32m      3\u001b[0m \u001b[0mcoef_table\u001b[0m\u001b[0;34m.\u001b[0m\u001b[0msort_values\u001b[0m\u001b[0;34m(\u001b[0m\u001b[0mby\u001b[0m\u001b[0;34m=\u001b[0m\u001b[0;34m'importances'\u001b[0m\u001b[0;34m)\u001b[0m\u001b[0;34m\u001b[0m\u001b[0;34m\u001b[0m\u001b[0m\n",
            "\u001b[0;32m/usr/local/lib/python3.10/dist-packages/catboost/core.py\u001b[0m in \u001b[0;36mget_feature_importance\u001b[0;34m(self, data, type, prettified, thread_count, verbose, fstr_type, shap_mode, model_output, interaction_indices, shap_calc_type, reference_data, sage_n_samples, sage_batch_size, sage_detect_convergence, log_cout, log_cerr)\u001b[0m\n\u001b[1;32m   3148\u001b[0m             \u001b[0;32mif\u001b[0m \u001b[0mdata\u001b[0m \u001b[0;32mis\u001b[0m \u001b[0;32mNone\u001b[0m\u001b[0;34m:\u001b[0m\u001b[0;34m\u001b[0m\u001b[0;34m\u001b[0m\u001b[0m\n\u001b[1;32m   3149\u001b[0m                 \u001b[0;32mif\u001b[0m \u001b[0mneed_meta_info\u001b[0m\u001b[0;34m:\u001b[0m\u001b[0;34m\u001b[0m\u001b[0;34m\u001b[0m\u001b[0m\n\u001b[0;32m-> 3150\u001b[0;31m                     raise CatBoostError(\n\u001b[0m\u001b[1;32m   3151\u001b[0m                         \u001b[0;31m\"\u001b[0m\u001b[0mModel\u001b[0m \u001b[0mhas\u001b[0m \u001b[0mno\u001b[0m \u001b[0mmeta\u001b[0m \u001b[0minformation\u001b[0m \u001b[0mneeded\u001b[0m \u001b[0mto\u001b[0m \u001b[0mcalculate\u001b[0m \u001b[0mfeature\u001b[0m \u001b[0mimportances\u001b[0m\u001b[0;34m.\u001b[0m\u001b[0;31m \u001b[0m\u001b[0;31m\\\u001b[0m\u001b[0;34m\u001b[0m\u001b[0;34m\u001b[0m\u001b[0m\n\u001b[1;32m   3152\u001b[0m                         Pass training dataset to this function.\")\n",
            "\u001b[0;31mCatBoostError\u001b[0m: Model has no meta information needed to calculate feature importances.                         Pass training dataset to this function."
          ]
        }
      ]
    },
    {
      "cell_type": "markdown",
      "source": [
        "## Вопрос для Quiz\n",
        "\n",
        "Попробуйте обучить градиентный бустинг с другой длиной шага. Получится ли улучшить AUC-ROC на тесте?"
      ],
      "metadata": {
        "id": "koD8ZmSZG8yd"
      }
    },
    {
      "cell_type": "code",
      "source": [
        "# ваш код здесь"
      ],
      "metadata": {
        "id": "ss7fNxYhG-lt"
      },
      "execution_count": null,
      "outputs": []
    },
    {
      "cell_type": "markdown",
      "source": [
        "## <font color='green'>6. Обработка категориальных признаков</font>"
      ],
      "metadata": {
        "id": "qQ74B0pLx18c"
      }
    },
    {
      "cell_type": "markdown",
      "source": [
        "Выше мы удаляли все категориальные столбцы:\n",
        "\n",
        "`X = X.drop(['state','areacode','voicemailplan','internationalplan'], axis=1)`\n",
        "\n",
        "А вдруг там содержится много полезной информации? Попробуем её сохранить."
      ],
      "metadata": {
        "id": "OjfOCGU1BUnD"
      }
    },
    {
      "cell_type": "code",
      "source": [
        "Xtrain, Xtest, ytrain, ytest = train_test_split(X_full, y, test_size=0.25, random_state=42)"
      ],
      "metadata": {
        "id": "qAAaCQQR5Asv",
        "colab": {
          "base_uri": "https://localhost:8080/",
          "height": 165
        },
        "outputId": "7c245509-c294-4769-b4e3-9e4b03f749a8"
      },
      "execution_count": 121,
      "outputs": [
        {
          "output_type": "error",
          "ename": "NameError",
          "evalue": "ignored",
          "traceback": [
            "\u001b[0;31m---------------------------------------------------------------------------\u001b[0m",
            "\u001b[0;31mNameError\u001b[0m                                 Traceback (most recent call last)",
            "\u001b[0;32m<ipython-input-121-33547410e28e>\u001b[0m in \u001b[0;36m<cell line: 1>\u001b[0;34m()\u001b[0m\n\u001b[0;32m----> 1\u001b[0;31m \u001b[0mXtrain\u001b[0m\u001b[0;34m,\u001b[0m \u001b[0mXtest\u001b[0m\u001b[0;34m,\u001b[0m \u001b[0mytrain\u001b[0m\u001b[0;34m,\u001b[0m \u001b[0mytest\u001b[0m \u001b[0;34m=\u001b[0m \u001b[0mtrain_test_split\u001b[0m\u001b[0;34m(\u001b[0m\u001b[0mX_full\u001b[0m\u001b[0;34m,\u001b[0m \u001b[0my\u001b[0m\u001b[0;34m,\u001b[0m \u001b[0mtest_size\u001b[0m\u001b[0;34m=\u001b[0m\u001b[0;36m0.25\u001b[0m\u001b[0;34m,\u001b[0m \u001b[0mrandom_state\u001b[0m\u001b[0;34m=\u001b[0m\u001b[0;36m42\u001b[0m\u001b[0;34m)\u001b[0m\u001b[0;34m\u001b[0m\u001b[0;34m\u001b[0m\u001b[0m\n\u001b[0m",
            "\u001b[0;31mNameError\u001b[0m: name 'X_full' is not defined"
          ]
        }
      ]
    },
    {
      "cell_type": "code",
      "source": [
        "from sklearn.preprocessing import OneHotEncoder\n",
        "from sklearn.compose import ColumnTransformer\n",
        "\n",
        "categorical = ['state','areacode','voicemailplan','internationalplan']\n",
        "numeric_features = X.columns\n",
        "\n",
        "column_transformer = ColumnTransformer([\n",
        "    ('ohe', OneHotEncoder(handle_unknown=\"ignore\"), categorical),\n",
        "    ('scaling', StandardScaler(), numeric_features)\n",
        "])\n",
        "\n",
        "X_transformed = column_transformer.fit_transform(Xtrain)\n",
        "X_test_transformed = column_transformer.transform(Xtest)"
      ],
      "metadata": {
        "id": "fFA0C2fhCjZ9"
      },
      "execution_count": null,
      "outputs": []
    },
    {
      "cell_type": "code",
      "source": [
        "X_transformed.shape"
      ],
      "metadata": {
        "colab": {
          "base_uri": "https://localhost:8080/"
        },
        "id": "lL54AdU7FCZg",
        "outputId": "0fd55eaf-06fa-4042-e7a2-a57fd18f08f6"
      },
      "execution_count": null,
      "outputs": [
        {
          "output_type": "execute_result",
          "data": {
            "text/plain": [
              "(2499, 69)"
            ]
          },
          "metadata": {},
          "execution_count": 320
        }
      ]
    },
    {
      "cell_type": "code",
      "source": [
        "model = LogisticRegression()\n",
        "model.fit(X_transformed, ytrain)\n",
        "pred = model.predict_proba(X_test_transformed)"
      ],
      "metadata": {
        "id": "ur0gDWeQFLvu"
      },
      "execution_count": null,
      "outputs": []
    },
    {
      "cell_type": "code",
      "source": [
        "classes = (pred[:, 1] > 0.5)\n",
        "print(\"precision: \", metrics.precision_score(ytest, classes))\n",
        "print(\"recall: \", metrics.recall_score(ytest, classes))\n",
        "print(\"auc-roc: \", metrics.roc_auc_score(ytest, pred[:, 1]))"
      ],
      "metadata": {
        "colab": {
          "base_uri": "https://localhost:8080/"
        },
        "id": "ybwNgoSPFsSm",
        "outputId": "514dd2a6-91ed-4468-bd6d-ecce13637c52"
      },
      "execution_count": null,
      "outputs": [
        {
          "output_type": "stream",
          "name": "stdout",
          "text": [
            "precision:  0.5681818181818182\n",
            "recall:  0.2\n",
            "auc-roc:  0.8343244005641749\n"
          ]
        }
      ]
    },
    {
      "cell_type": "code",
      "source": [
        "train_set = Pool(X_transformed, ytrain)\n",
        "test_set = Pool(X_test_transformed, ytest)\n",
        "gbm = CatBoostClassifier(iterations=100,\n",
        "                          depth=2,\n",
        "                          learning_rate=0.1,\n",
        "                          loss_function='Logloss',\n",
        "                          eval_metric='AUC',\n",
        "                          verbose=False)\n",
        "gbm.fit(train_set, eval_set=test_set)\n",
        "gbm_preds = gbm.predict_proba(test_set)\n",
        "gbm_classes = (gbm_preds[:, 1] > 0.3)\n",
        "print(\"precision: \", metrics.precision_score(ytest, gbm_classes))\n",
        "print(\"recall: \", metrics.recall_score(ytest, gbm_classes))\n",
        "print(\"auc-roc: \", metrics.roc_auc_score(ytest, gbm_preds[:, 1]))"
      ],
      "metadata": {
        "colab": {
          "base_uri": "https://localhost:8080/"
        },
        "id": "KI31HXMoGMta",
        "outputId": "4ce63872-3650-40d6-851a-7024b7cca9ea"
      },
      "execution_count": null,
      "outputs": [
        {
          "output_type": "stream",
          "name": "stdout",
          "text": [
            "precision:  0.8495575221238938\n",
            "recall:  0.768\n",
            "auc-roc:  0.9301156558533146\n"
          ]
        }
      ]
    }
  ],
  "metadata": {
    "kernelspec": {
      "display_name": "Python 3",
      "language": "python",
      "name": "python3"
    },
    "language_info": {
      "codemirror_mode": {
        "name": "ipython",
        "version": 3
      },
      "file_extension": ".py",
      "mimetype": "text/x-python",
      "name": "python",
      "nbconvert_exporter": "python",
      "pygments_lexer": "ipython3",
      "version": "3.7.6"
    },
    "colab": {
      "provenance": [],
      "include_colab_link": true
    }
  },
  "nbformat": 4,
  "nbformat_minor": 0
}