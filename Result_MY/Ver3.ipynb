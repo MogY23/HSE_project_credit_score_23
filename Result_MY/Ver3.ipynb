{
  "cells": [
    {
      "cell_type": "markdown",
      "metadata": {
        "id": "view-in-github",
        "colab_type": "text"
      },
      "source": [
        "<a href=\"https://colab.research.google.com/github/MogY23/HSE_project_credit_scoring_23/blob/main/Result_MY/Ver3.ipynb\" target=\"_parent\"><img src=\"https://colab.research.google.com/assets/colab-badge.svg\" alt=\"Open In Colab\"/></a>"
      ]
    },
    {
      "cell_type": "markdown",
      "source": [
        "# Решение задачи расчета кредитного скоринга\n",
        "\n",
        "* Загрузка данных и их анализ\n",
        "* Обучение и оценка качества модели\n",
        "  + обучение модели\n",
        "  + оценка качества модели\n",
        "* Интерпретация результатов модели\n",
        "* Сохранение результатов"
      ],
      "metadata": {
        "id": "z79gbIw0bWJZ"
      }
    },
    {
      "cell_type": "markdown",
      "source": [
        "Используем следующие библиотеки Python:\n",
        "\n",
        "*   Pandas - библиотеки для работы с таблицами\n",
        "*   Numpy - библиотеки для быстрых и эффективных вычислений\n",
        "*   Matplotlib - для визуализации данных\n",
        "*   Sklearn - библиотеки с основными инструментами ML\n"
      ],
      "metadata": {
        "id": "bTDcqGDLbbRs"
      }
    },
    {
      "cell_type": "markdown",
      "source": [
        "Задача состоит в том, чтобы по различным характеристикам клиентов спрогнозировать целевую переменную - имел клиент просрочку 90 и более дней или нет (и если имел, то банк не будет выдавать кредит этому клиенту, а иначе будет)."
      ],
      "metadata": {
        "id": "9VDkBu75nCLq"
      }
    },
    {
      "cell_type": "markdown",
      "source": [
        "## <font color='green'>1. Загрузка данных и их первичный анализ</font>"
      ],
      "metadata": {
        "id": "cgXJLC1Yjpnm"
      }
    },
    {
      "cell_type": "code",
      "execution_count": 1,
      "metadata": {
        "id": "wD3LYTXnhtwZ"
      },
      "outputs": [],
      "source": [
        "import pandas as pd\n",
        "import numpy as np\n",
        "from matplotlib import pyplot as plt\n",
        "\n",
        "from sklearn.linear_model import LogisticRegression  #логистическая регрессия для задач бинарной классификации (уйдет/не уйдет)\n",
        "\n",
        "import warnings\n",
        "warnings.filterwarnings(\"ignore\")"
      ]
    },
    {
      "cell_type": "markdown",
      "source": [
        "Подключаемся к БД и загружаем данные"
      ],
      "metadata": {
        "id": "yfZEhlAVEup_"
      }
    },
    {
      "cell_type": "code",
      "execution_count": 2,
      "metadata": {
        "id": "HWwIJ2AQhtwb",
        "colab": {
          "base_uri": "https://localhost:8080/"
        },
        "outputId": "8cbddca2-350a-44b5-b91b-aa3403bb5c7a"
      },
      "outputs": [
        {
          "output_type": "stream",
          "name": "stdout",
          "text": [
            "--2023-05-30 12:51:26--  https://storage.yandexcloud.net/cloud-certs/CA.pem\n",
            "Resolving storage.yandexcloud.net (storage.yandexcloud.net)... 213.180.193.243, 2a02:6b8::1d9\n",
            "Connecting to storage.yandexcloud.net (storage.yandexcloud.net)|213.180.193.243|:443... connected.\n",
            "HTTP request sent, awaiting response... 200 OK\n",
            "Length: 3579 (3.5K) [application/x-x509-ca-cert]\n",
            "Saving to: ‘/root/.postgresql/root.crt’\n",
            "\n",
            "/root/.postgresql/r 100%[===================>]   3.50K  --.-KB/s    in 0s      \n",
            "\n",
            "2023-05-30 12:51:27 (574 MB/s) - ‘/root/.postgresql/root.crt’ saved [3579/3579]\n",
            "\n"
          ]
        }
      ],
      "source": [
        "!mkdir -p ~/.postgresql && \\\n",
        "wget \"https://storage.yandexcloud.net/cloud-certs/CA.pem\" \\\n",
        "    --output-document ~/.postgresql/root.crt && \\\n",
        "chmod 0600 ~/.postgresql/root.crt"
      ]
    },
    {
      "cell_type": "code",
      "source": [
        "!sudo apt update && sudo apt install --yes python3 python3-pip && \\ #загрузка вспомогательных ячеек для работы с БД (обновляем библиотеки)\n",
        "!pip3 install psycopg2-binary"
      ],
      "metadata": {
        "id": "OAFi6whWi-so",
        "colab": {
          "base_uri": "https://localhost:8080/"
        },
        "outputId": "738a398d-a1c0-4d65-fcca-f5f0d95ddef8"
      },
      "execution_count": 3,
      "outputs": [
        {
          "output_type": "stream",
          "name": "stdout",
          "text": [
            "/bin/bash: -c: line 0: syntax error near unexpected token `('\n",
            "/bin/bash: -c: line 0: `sudo apt update && sudo apt install --yes python3 python3-pip && \\ #загрузка вспомогательных ячеек для работы с БД (обновляем библиотеки)'\n",
            "Looking in indexes: https://pypi.org/simple, https://us-python.pkg.dev/colab-wheels/public/simple/\n",
            "Collecting psycopg2-binary\n",
            "  Downloading psycopg2_binary-2.9.6-cp310-cp310-manylinux_2_17_x86_64.manylinux2014_x86_64.whl (3.0 MB)\n",
            "\u001b[2K     \u001b[90m━━━━━━━━━━━━━━━━━━━━━━━━━━━━━━━━━━━━━━━━\u001b[0m \u001b[32m3.0/3.0 MB\u001b[0m \u001b[31m16.0 MB/s\u001b[0m eta \u001b[36m0:00:00\u001b[0m\n",
            "\u001b[?25hInstalling collected packages: psycopg2-binary\n",
            "Successfully installed psycopg2-binary-2.9.6\n"
          ]
        }
      ]
    },
    {
      "cell_type": "code",
      "source": [
        "import psycopg2 #подключение к БД\n",
        "#параметры для подключения прописаны в БД заранее\n",
        "conn = psycopg2.connect(\"\"\"  \n",
        "    host=rc1b-70q90cunwkzx49mj.mdb.yandexcloud.net\n",
        "    port=6432\n",
        "    sslmode=verify-full\n",
        "    dbname=db_clients\n",
        "    user=mlhs_student\n",
        "    password=mlhs_student\n",
        "    target_session_attrs=read-write\n",
        "\"\"\") "
      ],
      "metadata": {
        "id": "7efd5Dz0jBYo"
      },
      "execution_count": 4,
      "outputs": []
    },
    {
      "cell_type": "code",
      "source": [
        "query = \"SELECT * from public.credit_scoring\"\n",
        "\n",
        "data = pd.read_sql_query(query, conn) #записываем из базы нужную таблицу к себе в объект data \n",
        "\n",
        "conn.close() #отключаемся от базы"
      ],
      "metadata": {
        "id": "Z4QXHJtvjG5G"
      },
      "execution_count": 5,
      "outputs": []
    },
    {
      "cell_type": "markdown",
      "source": [
        "Описание данных клиентов:\n",
        "* Целевая переменная **SeriousDlqin2yrs**: Клиент имел просрочку 90 и более дней\n",
        "* RevolvingUtilizationOfUnsecuredLines: Общий баланс средств (total balance on credit cards and personal lines of credit except real estate and no installment debt like car loans divided by the sum of credit limits). \n",
        "* age: Возраст заемщика \n",
        "* NumberOfTime30-59DaysPastDueNotWorse: Сколько раз за последние 2 года наблюдалась просрочка 30-59 дней. \n",
        "* DebtRatio: Ежемесячные расходы (платеж по долгам, алиментам, расходы на проживания) деленные на месячный доход. \n",
        "* MonthlyIncome: Ежемесячный доход. \n",
        "* NumberOfOpenCreditLinesAndLoans: Количество открытых кредитов (напрмер, автокредит или ипотека) и кредитных карт. \n",
        "* NumberOfTimes90DaysLate: Сколько раз наблюдалась просрочка (90 и более дней)\n",
        "* NumberOfTime60-89DaysPastDueNotWorse: Сколько раз за последние 2 года заемщик задержал платеж на 60-89 дней.\n",
        "* NumberOfDependents: Количество иждивенцев на попечении (супруги, дети и др). \n",
        "* RealEstateLoansOrLines: Закодированное количество кредиов (в том числе под залог жилья) - чем больше код буквы, тем больше кредитов \n",
        "* GroupAge: закодированная возрастная группа - чем больше код, тем больше возраст.\n",
        "\n",
        "\n"
      ],
      "metadata": {
        "id": "SW_Rpf6HRZH0"
      }
    },
    {
      "cell_type": "code",
      "source": [
        "data=data.drop_duplicates() #сразу убираем дубликаты\n",
        "data.head(20) # голова таблицы, первые 5 строчек по умолчанию или сколько нужно, если укажешь в скобках"
      ],
      "metadata": {
        "id": "Md4hzBbl2QxB",
        "outputId": "2461a48e-a2c4-4cfd-bb55-e949aaa40862",
        "colab": {
          "base_uri": "https://localhost:8080/",
          "height": 758
        }
      },
      "execution_count": 6,
      "outputs": [
        {
          "output_type": "execute_result",
          "data": {
            "text/plain": [
              "    SeriousDlqin2yrs  RevolvingUtilizationOfUnsecuredLines   age  \\\n",
              "0                  0                              0.221813  43.0   \n",
              "1                  0                              0.602794  25.0   \n",
              "2                  1                              0.025656  38.0   \n",
              "3                  0                              0.075427  32.0   \n",
              "4                  0                              0.046560  58.0   \n",
              "5                  1                              0.392248  50.0   \n",
              "6                  0                              0.034421  69.0   \n",
              "7                  0                              0.392995  58.0   \n",
              "8                  1                              0.695321  38.0   \n",
              "9                  0                              0.055950  53.0   \n",
              "10                 0                              0.006146   NaN   \n",
              "11                 0                              0.583236  29.0   \n",
              "12                 1                              0.957570  54.0   \n",
              "13                 0                              0.035870  54.0   \n",
              "14                 0                              0.058729  73.0   \n",
              "15                 0                              0.003072  61.0   \n",
              "16                 0                              0.326949  55.0   \n",
              "17                 0                              0.043612  61.0   \n",
              "18                 0                              0.498797  43.0   \n",
              "19                 0                              0.476731  46.0   \n",
              "\n",
              "    NumberOfTime30-59DaysPastDueNotWorse    DebtRatio  MonthlyIncome  \\\n",
              "0                                      0     0.527888         3280.0   \n",
              "1                                      0     0.065868          333.0   \n",
              "2                                      0     0.475841         3000.0   \n",
              "3                                      0     0.085512         7916.0   \n",
              "4                                      0     0.241622         2416.0   \n",
              "5                                      0     1.595253         4676.0   \n",
              "6                                      0     0.042383         2500.0   \n",
              "7                                      2     0.436103         5500.0   \n",
              "8                                      0     0.618575         7859.0   \n",
              "9                                      0     0.052868         2666.0   \n",
              "10                                     0     3.000000            NaN   \n",
              "11                                     2     0.323709         1800.0   \n",
              "12                                     0     0.371126         5000.0   \n",
              "13                                     0     0.022099         3800.0   \n",
              "14                                     0     0.142523         6833.0   \n",
              "15                                     0     0.000971         5150.0   \n",
              "16                                     0     0.389145        18000.0   \n",
              "17                                     0  2820.000000            NaN   \n",
              "18                                     0     0.269735         4800.0   \n",
              "19                                     0     1.404538         5200.0   \n",
              "\n",
              "    NumberOfOpenCreditLinesAndLoans  NumberOfTimes90DaysLate  \\\n",
              "0                                 7                        0   \n",
              "1                                 2                        0   \n",
              "2                                 7                        0   \n",
              "3                                 6                        0   \n",
              "4                                 9                        0   \n",
              "5                                14                        0   \n",
              "6                                17                        0   \n",
              "7                                15                        0   \n",
              "8                                 8                        0   \n",
              "9                                 7                        0   \n",
              "10                                2                        0   \n",
              "11                               13                        0   \n",
              "12                               11                        2   \n",
              "13                                4                        0   \n",
              "14                                6                        0   \n",
              "15                                9                        0   \n",
              "16                               13                        0   \n",
              "17                               12                        0   \n",
              "18                                6                        0   \n",
              "19                               11                        0   \n",
              "\n",
              "    NumberOfTime60-89DaysPastDueNotWorse  NumberOfDependents  \\\n",
              "0                                      0                 2.0   \n",
              "1                                      0                 0.0   \n",
              "2                                      0                 2.0   \n",
              "3                                      0                 0.0   \n",
              "4                                      0                 0.0   \n",
              "5                                      0                 1.0   \n",
              "6                                      0                 1.0   \n",
              "7                                      0                 0.0   \n",
              "8                                      0                 3.0   \n",
              "9                                      0                 0.0   \n",
              "10                                     0                 NaN   \n",
              "11                                     1                 3.0   \n",
              "12                                     1                 2.0   \n",
              "13                                     0                 1.0   \n",
              "14                                     0                 0.0   \n",
              "15                                     0                 1.0   \n",
              "16                                     0                 0.0   \n",
              "17                                     0                 0.0   \n",
              "18                                     0                 0.0   \n",
              "19                                     0                 1.0   \n",
              "\n",
              "   RealEstateLoansOrLines GroupAge  \n",
              "0                       A        c  \n",
              "1                       A        b  \n",
              "2                       A        c  \n",
              "3                       A        b  \n",
              "4                       A        d  \n",
              "5                       B        d  \n",
              "6                       A        e  \n",
              "7                       A        d  \n",
              "8                       A        c  \n",
              "9                       A        d  \n",
              "10                      A        e  \n",
              "11                      A        b  \n",
              "12                      A        d  \n",
              "13                      A        d  \n",
              "14                      A        e  \n",
              "15                      A        d  \n",
              "16                      B        d  \n",
              "17                      A        d  \n",
              "18                      A        c  \n",
              "19                      B        c  "
            ],
            "text/html": [
              "\n",
              "  <div id=\"df-8ca3a55f-b99a-4b46-b62c-0f749beeff9b\">\n",
              "    <div class=\"colab-df-container\">\n",
              "      <div>\n",
              "<style scoped>\n",
              "    .dataframe tbody tr th:only-of-type {\n",
              "        vertical-align: middle;\n",
              "    }\n",
              "\n",
              "    .dataframe tbody tr th {\n",
              "        vertical-align: top;\n",
              "    }\n",
              "\n",
              "    .dataframe thead th {\n",
              "        text-align: right;\n",
              "    }\n",
              "</style>\n",
              "<table border=\"1\" class=\"dataframe\">\n",
              "  <thead>\n",
              "    <tr style=\"text-align: right;\">\n",
              "      <th></th>\n",
              "      <th>SeriousDlqin2yrs</th>\n",
              "      <th>RevolvingUtilizationOfUnsecuredLines</th>\n",
              "      <th>age</th>\n",
              "      <th>NumberOfTime30-59DaysPastDueNotWorse</th>\n",
              "      <th>DebtRatio</th>\n",
              "      <th>MonthlyIncome</th>\n",
              "      <th>NumberOfOpenCreditLinesAndLoans</th>\n",
              "      <th>NumberOfTimes90DaysLate</th>\n",
              "      <th>NumberOfTime60-89DaysPastDueNotWorse</th>\n",
              "      <th>NumberOfDependents</th>\n",
              "      <th>RealEstateLoansOrLines</th>\n",
              "      <th>GroupAge</th>\n",
              "    </tr>\n",
              "  </thead>\n",
              "  <tbody>\n",
              "    <tr>\n",
              "      <th>0</th>\n",
              "      <td>0</td>\n",
              "      <td>0.221813</td>\n",
              "      <td>43.0</td>\n",
              "      <td>0</td>\n",
              "      <td>0.527888</td>\n",
              "      <td>3280.0</td>\n",
              "      <td>7</td>\n",
              "      <td>0</td>\n",
              "      <td>0</td>\n",
              "      <td>2.0</td>\n",
              "      <td>A</td>\n",
              "      <td>c</td>\n",
              "    </tr>\n",
              "    <tr>\n",
              "      <th>1</th>\n",
              "      <td>0</td>\n",
              "      <td>0.602794</td>\n",
              "      <td>25.0</td>\n",
              "      <td>0</td>\n",
              "      <td>0.065868</td>\n",
              "      <td>333.0</td>\n",
              "      <td>2</td>\n",
              "      <td>0</td>\n",
              "      <td>0</td>\n",
              "      <td>0.0</td>\n",
              "      <td>A</td>\n",
              "      <td>b</td>\n",
              "    </tr>\n",
              "    <tr>\n",
              "      <th>2</th>\n",
              "      <td>1</td>\n",
              "      <td>0.025656</td>\n",
              "      <td>38.0</td>\n",
              "      <td>0</td>\n",
              "      <td>0.475841</td>\n",
              "      <td>3000.0</td>\n",
              "      <td>7</td>\n",
              "      <td>0</td>\n",
              "      <td>0</td>\n",
              "      <td>2.0</td>\n",
              "      <td>A</td>\n",
              "      <td>c</td>\n",
              "    </tr>\n",
              "    <tr>\n",
              "      <th>3</th>\n",
              "      <td>0</td>\n",
              "      <td>0.075427</td>\n",
              "      <td>32.0</td>\n",
              "      <td>0</td>\n",
              "      <td>0.085512</td>\n",
              "      <td>7916.0</td>\n",
              "      <td>6</td>\n",
              "      <td>0</td>\n",
              "      <td>0</td>\n",
              "      <td>0.0</td>\n",
              "      <td>A</td>\n",
              "      <td>b</td>\n",
              "    </tr>\n",
              "    <tr>\n",
              "      <th>4</th>\n",
              "      <td>0</td>\n",
              "      <td>0.046560</td>\n",
              "      <td>58.0</td>\n",
              "      <td>0</td>\n",
              "      <td>0.241622</td>\n",
              "      <td>2416.0</td>\n",
              "      <td>9</td>\n",
              "      <td>0</td>\n",
              "      <td>0</td>\n",
              "      <td>0.0</td>\n",
              "      <td>A</td>\n",
              "      <td>d</td>\n",
              "    </tr>\n",
              "    <tr>\n",
              "      <th>5</th>\n",
              "      <td>1</td>\n",
              "      <td>0.392248</td>\n",
              "      <td>50.0</td>\n",
              "      <td>0</td>\n",
              "      <td>1.595253</td>\n",
              "      <td>4676.0</td>\n",
              "      <td>14</td>\n",
              "      <td>0</td>\n",
              "      <td>0</td>\n",
              "      <td>1.0</td>\n",
              "      <td>B</td>\n",
              "      <td>d</td>\n",
              "    </tr>\n",
              "    <tr>\n",
              "      <th>6</th>\n",
              "      <td>0</td>\n",
              "      <td>0.034421</td>\n",
              "      <td>69.0</td>\n",
              "      <td>0</td>\n",
              "      <td>0.042383</td>\n",
              "      <td>2500.0</td>\n",
              "      <td>17</td>\n",
              "      <td>0</td>\n",
              "      <td>0</td>\n",
              "      <td>1.0</td>\n",
              "      <td>A</td>\n",
              "      <td>e</td>\n",
              "    </tr>\n",
              "    <tr>\n",
              "      <th>7</th>\n",
              "      <td>0</td>\n",
              "      <td>0.392995</td>\n",
              "      <td>58.0</td>\n",
              "      <td>2</td>\n",
              "      <td>0.436103</td>\n",
              "      <td>5500.0</td>\n",
              "      <td>15</td>\n",
              "      <td>0</td>\n",
              "      <td>0</td>\n",
              "      <td>0.0</td>\n",
              "      <td>A</td>\n",
              "      <td>d</td>\n",
              "    </tr>\n",
              "    <tr>\n",
              "      <th>8</th>\n",
              "      <td>1</td>\n",
              "      <td>0.695321</td>\n",
              "      <td>38.0</td>\n",
              "      <td>0</td>\n",
              "      <td>0.618575</td>\n",
              "      <td>7859.0</td>\n",
              "      <td>8</td>\n",
              "      <td>0</td>\n",
              "      <td>0</td>\n",
              "      <td>3.0</td>\n",
              "      <td>A</td>\n",
              "      <td>c</td>\n",
              "    </tr>\n",
              "    <tr>\n",
              "      <th>9</th>\n",
              "      <td>0</td>\n",
              "      <td>0.055950</td>\n",
              "      <td>53.0</td>\n",
              "      <td>0</td>\n",
              "      <td>0.052868</td>\n",
              "      <td>2666.0</td>\n",
              "      <td>7</td>\n",
              "      <td>0</td>\n",
              "      <td>0</td>\n",
              "      <td>0.0</td>\n",
              "      <td>A</td>\n",
              "      <td>d</td>\n",
              "    </tr>\n",
              "    <tr>\n",
              "      <th>10</th>\n",
              "      <td>0</td>\n",
              "      <td>0.006146</td>\n",
              "      <td>NaN</td>\n",
              "      <td>0</td>\n",
              "      <td>3.000000</td>\n",
              "      <td>NaN</td>\n",
              "      <td>2</td>\n",
              "      <td>0</td>\n",
              "      <td>0</td>\n",
              "      <td>NaN</td>\n",
              "      <td>A</td>\n",
              "      <td>e</td>\n",
              "    </tr>\n",
              "    <tr>\n",
              "      <th>11</th>\n",
              "      <td>0</td>\n",
              "      <td>0.583236</td>\n",
              "      <td>29.0</td>\n",
              "      <td>2</td>\n",
              "      <td>0.323709</td>\n",
              "      <td>1800.0</td>\n",
              "      <td>13</td>\n",
              "      <td>0</td>\n",
              "      <td>1</td>\n",
              "      <td>3.0</td>\n",
              "      <td>A</td>\n",
              "      <td>b</td>\n",
              "    </tr>\n",
              "    <tr>\n",
              "      <th>12</th>\n",
              "      <td>1</td>\n",
              "      <td>0.957570</td>\n",
              "      <td>54.0</td>\n",
              "      <td>0</td>\n",
              "      <td>0.371126</td>\n",
              "      <td>5000.0</td>\n",
              "      <td>11</td>\n",
              "      <td>2</td>\n",
              "      <td>1</td>\n",
              "      <td>2.0</td>\n",
              "      <td>A</td>\n",
              "      <td>d</td>\n",
              "    </tr>\n",
              "    <tr>\n",
              "      <th>13</th>\n",
              "      <td>0</td>\n",
              "      <td>0.035870</td>\n",
              "      <td>54.0</td>\n",
              "      <td>0</td>\n",
              "      <td>0.022099</td>\n",
              "      <td>3800.0</td>\n",
              "      <td>4</td>\n",
              "      <td>0</td>\n",
              "      <td>0</td>\n",
              "      <td>1.0</td>\n",
              "      <td>A</td>\n",
              "      <td>d</td>\n",
              "    </tr>\n",
              "    <tr>\n",
              "      <th>14</th>\n",
              "      <td>0</td>\n",
              "      <td>0.058729</td>\n",
              "      <td>73.0</td>\n",
              "      <td>0</td>\n",
              "      <td>0.142523</td>\n",
              "      <td>6833.0</td>\n",
              "      <td>6</td>\n",
              "      <td>0</td>\n",
              "      <td>0</td>\n",
              "      <td>0.0</td>\n",
              "      <td>A</td>\n",
              "      <td>e</td>\n",
              "    </tr>\n",
              "    <tr>\n",
              "      <th>15</th>\n",
              "      <td>0</td>\n",
              "      <td>0.003072</td>\n",
              "      <td>61.0</td>\n",
              "      <td>0</td>\n",
              "      <td>0.000971</td>\n",
              "      <td>5150.0</td>\n",
              "      <td>9</td>\n",
              "      <td>0</td>\n",
              "      <td>0</td>\n",
              "      <td>1.0</td>\n",
              "      <td>A</td>\n",
              "      <td>d</td>\n",
              "    </tr>\n",
              "    <tr>\n",
              "      <th>16</th>\n",
              "      <td>0</td>\n",
              "      <td>0.326949</td>\n",
              "      <td>55.0</td>\n",
              "      <td>0</td>\n",
              "      <td>0.389145</td>\n",
              "      <td>18000.0</td>\n",
              "      <td>13</td>\n",
              "      <td>0</td>\n",
              "      <td>0</td>\n",
              "      <td>0.0</td>\n",
              "      <td>B</td>\n",
              "      <td>d</td>\n",
              "    </tr>\n",
              "    <tr>\n",
              "      <th>17</th>\n",
              "      <td>0</td>\n",
              "      <td>0.043612</td>\n",
              "      <td>61.0</td>\n",
              "      <td>0</td>\n",
              "      <td>2820.000000</td>\n",
              "      <td>NaN</td>\n",
              "      <td>12</td>\n",
              "      <td>0</td>\n",
              "      <td>0</td>\n",
              "      <td>0.0</td>\n",
              "      <td>A</td>\n",
              "      <td>d</td>\n",
              "    </tr>\n",
              "    <tr>\n",
              "      <th>18</th>\n",
              "      <td>0</td>\n",
              "      <td>0.498797</td>\n",
              "      <td>43.0</td>\n",
              "      <td>0</td>\n",
              "      <td>0.269735</td>\n",
              "      <td>4800.0</td>\n",
              "      <td>6</td>\n",
              "      <td>0</td>\n",
              "      <td>0</td>\n",
              "      <td>0.0</td>\n",
              "      <td>A</td>\n",
              "      <td>c</td>\n",
              "    </tr>\n",
              "    <tr>\n",
              "      <th>19</th>\n",
              "      <td>0</td>\n",
              "      <td>0.476731</td>\n",
              "      <td>46.0</td>\n",
              "      <td>0</td>\n",
              "      <td>1.404538</td>\n",
              "      <td>5200.0</td>\n",
              "      <td>11</td>\n",
              "      <td>0</td>\n",
              "      <td>0</td>\n",
              "      <td>1.0</td>\n",
              "      <td>B</td>\n",
              "      <td>c</td>\n",
              "    </tr>\n",
              "  </tbody>\n",
              "</table>\n",
              "</div>\n",
              "      <button class=\"colab-df-convert\" onclick=\"convertToInteractive('df-8ca3a55f-b99a-4b46-b62c-0f749beeff9b')\"\n",
              "              title=\"Convert this dataframe to an interactive table.\"\n",
              "              style=\"display:none;\">\n",
              "        \n",
              "  <svg xmlns=\"http://www.w3.org/2000/svg\" height=\"24px\"viewBox=\"0 0 24 24\"\n",
              "       width=\"24px\">\n",
              "    <path d=\"M0 0h24v24H0V0z\" fill=\"none\"/>\n",
              "    <path d=\"M18.56 5.44l.94 2.06.94-2.06 2.06-.94-2.06-.94-.94-2.06-.94 2.06-2.06.94zm-11 1L8.5 8.5l.94-2.06 2.06-.94-2.06-.94L8.5 2.5l-.94 2.06-2.06.94zm10 10l.94 2.06.94-2.06 2.06-.94-2.06-.94-.94-2.06-.94 2.06-2.06.94z\"/><path d=\"M17.41 7.96l-1.37-1.37c-.4-.4-.92-.59-1.43-.59-.52 0-1.04.2-1.43.59L10.3 9.45l-7.72 7.72c-.78.78-.78 2.05 0 2.83L4 21.41c.39.39.9.59 1.41.59.51 0 1.02-.2 1.41-.59l7.78-7.78 2.81-2.81c.8-.78.8-2.07 0-2.86zM5.41 20L4 18.59l7.72-7.72 1.47 1.35L5.41 20z\"/>\n",
              "  </svg>\n",
              "      </button>\n",
              "      \n",
              "  <style>\n",
              "    .colab-df-container {\n",
              "      display:flex;\n",
              "      flex-wrap:wrap;\n",
              "      gap: 12px;\n",
              "    }\n",
              "\n",
              "    .colab-df-convert {\n",
              "      background-color: #E8F0FE;\n",
              "      border: none;\n",
              "      border-radius: 50%;\n",
              "      cursor: pointer;\n",
              "      display: none;\n",
              "      fill: #1967D2;\n",
              "      height: 32px;\n",
              "      padding: 0 0 0 0;\n",
              "      width: 32px;\n",
              "    }\n",
              "\n",
              "    .colab-df-convert:hover {\n",
              "      background-color: #E2EBFA;\n",
              "      box-shadow: 0px 1px 2px rgba(60, 64, 67, 0.3), 0px 1px 3px 1px rgba(60, 64, 67, 0.15);\n",
              "      fill: #174EA6;\n",
              "    }\n",
              "\n",
              "    [theme=dark] .colab-df-convert {\n",
              "      background-color: #3B4455;\n",
              "      fill: #D2E3FC;\n",
              "    }\n",
              "\n",
              "    [theme=dark] .colab-df-convert:hover {\n",
              "      background-color: #434B5C;\n",
              "      box-shadow: 0px 1px 3px 1px rgba(0, 0, 0, 0.15);\n",
              "      filter: drop-shadow(0px 1px 2px rgba(0, 0, 0, 0.3));\n",
              "      fill: #FFFFFF;\n",
              "    }\n",
              "  </style>\n",
              "\n",
              "      <script>\n",
              "        const buttonEl =\n",
              "          document.querySelector('#df-8ca3a55f-b99a-4b46-b62c-0f749beeff9b button.colab-df-convert');\n",
              "        buttonEl.style.display =\n",
              "          google.colab.kernel.accessAllowed ? 'block' : 'none';\n",
              "\n",
              "        async function convertToInteractive(key) {\n",
              "          const element = document.querySelector('#df-8ca3a55f-b99a-4b46-b62c-0f749beeff9b');\n",
              "          const dataTable =\n",
              "            await google.colab.kernel.invokeFunction('convertToInteractive',\n",
              "                                                     [key], {});\n",
              "          if (!dataTable) return;\n",
              "\n",
              "          const docLinkHtml = 'Like what you see? Visit the ' +\n",
              "            '<a target=\"_blank\" href=https://colab.research.google.com/notebooks/data_table.ipynb>data table notebook</a>'\n",
              "            + ' to learn more about interactive tables.';\n",
              "          element.innerHTML = '';\n",
              "          dataTable['output_type'] = 'display_data';\n",
              "          await google.colab.output.renderOutput(dataTable, element);\n",
              "          const docLink = document.createElement('div');\n",
              "          docLink.innerHTML = docLinkHtml;\n",
              "          element.appendChild(docLink);\n",
              "        }\n",
              "      </script>\n",
              "    </div>\n",
              "  </div>\n",
              "  "
            ]
          },
          "metadata": {},
          "execution_count": 6
        }
      ]
    },
    {
      "cell_type": "markdown",
      "source": [
        "RealEstateLoansOrLines - закодированное кол-во кредитов. Чем больше код буквы, тем больше кредитов. Тк показатель количественный, попробуем его перевести в числовой вид"
      ],
      "metadata": {
        "id": "7tWUh5rGmfYg"
      }
    },
    {
      "cell_type": "code",
      "source": [
        "data = data.replace('A', '1')\n",
        "data = data.replace('B', '2')\n",
        "data = data.replace('C', '3')\n",
        "data = data.replace('D', '4')\n",
        "data = data.replace('E', '5')\n",
        "data['RealEstateLoansOrLines']=pd.to_numeric(data['RealEstateLoansOrLines']) #меняем тип столбца"
      ],
      "metadata": {
        "id": "X5lbtfIbfgad"
      },
      "execution_count": 7,
      "outputs": []
    },
    {
      "cell_type": "markdown",
      "source": [
        "Проверяем"
      ],
      "metadata": {
        "id": "h01eQh9rnU7p"
      }
    },
    {
      "cell_type": "code",
      "source": [
        "data.tail() #конец таблицы, последние 5 строчек по умолчанию или сколько нужно, если укажешь в скобках"
      ],
      "metadata": {
        "id": "3WWFMf7BRYFq",
        "colab": {
          "base_uri": "https://localhost:8080/",
          "height": 287
        },
        "outputId": "4b2ab99e-dd2e-4be1-cfc9-9b66929b1ca8"
      },
      "execution_count": null,
      "outputs": [
        {
          "output_type": "execute_result",
          "data": {
            "text/plain": [
              "        SeriousDlqin2yrs  RevolvingUtilizationOfUnsecuredLines   age  \\\n",
              "149995                 0                              0.977899  63.0   \n",
              "149996                 0                              0.025449  58.0   \n",
              "149997                 0                              0.058001  83.0   \n",
              "149998                 0                              0.071273  42.0   \n",
              "149999                 0                              1.026395  44.0   \n",
              "\n",
              "        NumberOfTime30-59DaysPastDueNotWorse   DebtRatio  MonthlyIncome  \\\n",
              "149995                                     0  517.000000         5400.0   \n",
              "149996                                     0    0.253855        15500.0   \n",
              "149997                                     0    0.013997         5000.0   \n",
              "149998                                     0    0.008638         6945.0   \n",
              "149999                                     0    0.494819         5500.0   \n",
              "\n",
              "        NumberOfOpenCreditLinesAndLoans  NumberOfDependents  \\\n",
              "149995                                5                 0.0   \n",
              "149996                                7                 2.0   \n",
              "149997                                6                 0.0   \n",
              "149998                                3                 1.0   \n",
              "149999                                7                 1.0   \n",
              "\n",
              "        RealEstateLoansOrLines GroupAge  \n",
              "149995                       1        d  \n",
              "149996                       1        d  \n",
              "149997                       1        e  \n",
              "149998                       1        c  \n",
              "149999                       1        c  "
            ],
            "text/html": [
              "\n",
              "  <div id=\"df-24973d67-3aa8-4190-a4b9-eadf14c5f43a\">\n",
              "    <div class=\"colab-df-container\">\n",
              "      <div>\n",
              "<style scoped>\n",
              "    .dataframe tbody tr th:only-of-type {\n",
              "        vertical-align: middle;\n",
              "    }\n",
              "\n",
              "    .dataframe tbody tr th {\n",
              "        vertical-align: top;\n",
              "    }\n",
              "\n",
              "    .dataframe thead th {\n",
              "        text-align: right;\n",
              "    }\n",
              "</style>\n",
              "<table border=\"1\" class=\"dataframe\">\n",
              "  <thead>\n",
              "    <tr style=\"text-align: right;\">\n",
              "      <th></th>\n",
              "      <th>SeriousDlqin2yrs</th>\n",
              "      <th>RevolvingUtilizationOfUnsecuredLines</th>\n",
              "      <th>age</th>\n",
              "      <th>NumberOfTime30-59DaysPastDueNotWorse</th>\n",
              "      <th>DebtRatio</th>\n",
              "      <th>MonthlyIncome</th>\n",
              "      <th>NumberOfOpenCreditLinesAndLoans</th>\n",
              "      <th>NumberOfDependents</th>\n",
              "      <th>RealEstateLoansOrLines</th>\n",
              "      <th>GroupAge</th>\n",
              "    </tr>\n",
              "  </thead>\n",
              "  <tbody>\n",
              "    <tr>\n",
              "      <th>149995</th>\n",
              "      <td>0</td>\n",
              "      <td>0.977899</td>\n",
              "      <td>63.0</td>\n",
              "      <td>0</td>\n",
              "      <td>517.000000</td>\n",
              "      <td>5400.0</td>\n",
              "      <td>5</td>\n",
              "      <td>0.0</td>\n",
              "      <td>1</td>\n",
              "      <td>d</td>\n",
              "    </tr>\n",
              "    <tr>\n",
              "      <th>149996</th>\n",
              "      <td>0</td>\n",
              "      <td>0.025449</td>\n",
              "      <td>58.0</td>\n",
              "      <td>0</td>\n",
              "      <td>0.253855</td>\n",
              "      <td>15500.0</td>\n",
              "      <td>7</td>\n",
              "      <td>2.0</td>\n",
              "      <td>1</td>\n",
              "      <td>d</td>\n",
              "    </tr>\n",
              "    <tr>\n",
              "      <th>149997</th>\n",
              "      <td>0</td>\n",
              "      <td>0.058001</td>\n",
              "      <td>83.0</td>\n",
              "      <td>0</td>\n",
              "      <td>0.013997</td>\n",
              "      <td>5000.0</td>\n",
              "      <td>6</td>\n",
              "      <td>0.0</td>\n",
              "      <td>1</td>\n",
              "      <td>e</td>\n",
              "    </tr>\n",
              "    <tr>\n",
              "      <th>149998</th>\n",
              "      <td>0</td>\n",
              "      <td>0.071273</td>\n",
              "      <td>42.0</td>\n",
              "      <td>0</td>\n",
              "      <td>0.008638</td>\n",
              "      <td>6945.0</td>\n",
              "      <td>3</td>\n",
              "      <td>1.0</td>\n",
              "      <td>1</td>\n",
              "      <td>c</td>\n",
              "    </tr>\n",
              "    <tr>\n",
              "      <th>149999</th>\n",
              "      <td>0</td>\n",
              "      <td>1.026395</td>\n",
              "      <td>44.0</td>\n",
              "      <td>0</td>\n",
              "      <td>0.494819</td>\n",
              "      <td>5500.0</td>\n",
              "      <td>7</td>\n",
              "      <td>1.0</td>\n",
              "      <td>1</td>\n",
              "      <td>c</td>\n",
              "    </tr>\n",
              "  </tbody>\n",
              "</table>\n",
              "</div>\n",
              "      <button class=\"colab-df-convert\" onclick=\"convertToInteractive('df-24973d67-3aa8-4190-a4b9-eadf14c5f43a')\"\n",
              "              title=\"Convert this dataframe to an interactive table.\"\n",
              "              style=\"display:none;\">\n",
              "        \n",
              "  <svg xmlns=\"http://www.w3.org/2000/svg\" height=\"24px\"viewBox=\"0 0 24 24\"\n",
              "       width=\"24px\">\n",
              "    <path d=\"M0 0h24v24H0V0z\" fill=\"none\"/>\n",
              "    <path d=\"M18.56 5.44l.94 2.06.94-2.06 2.06-.94-2.06-.94-.94-2.06-.94 2.06-2.06.94zm-11 1L8.5 8.5l.94-2.06 2.06-.94-2.06-.94L8.5 2.5l-.94 2.06-2.06.94zm10 10l.94 2.06.94-2.06 2.06-.94-2.06-.94-.94-2.06-.94 2.06-2.06.94z\"/><path d=\"M17.41 7.96l-1.37-1.37c-.4-.4-.92-.59-1.43-.59-.52 0-1.04.2-1.43.59L10.3 9.45l-7.72 7.72c-.78.78-.78 2.05 0 2.83L4 21.41c.39.39.9.59 1.41.59.51 0 1.02-.2 1.41-.59l7.78-7.78 2.81-2.81c.8-.78.8-2.07 0-2.86zM5.41 20L4 18.59l7.72-7.72 1.47 1.35L5.41 20z\"/>\n",
              "  </svg>\n",
              "      </button>\n",
              "      \n",
              "  <style>\n",
              "    .colab-df-container {\n",
              "      display:flex;\n",
              "      flex-wrap:wrap;\n",
              "      gap: 12px;\n",
              "    }\n",
              "\n",
              "    .colab-df-convert {\n",
              "      background-color: #E8F0FE;\n",
              "      border: none;\n",
              "      border-radius: 50%;\n",
              "      cursor: pointer;\n",
              "      display: none;\n",
              "      fill: #1967D2;\n",
              "      height: 32px;\n",
              "      padding: 0 0 0 0;\n",
              "      width: 32px;\n",
              "    }\n",
              "\n",
              "    .colab-df-convert:hover {\n",
              "      background-color: #E2EBFA;\n",
              "      box-shadow: 0px 1px 2px rgba(60, 64, 67, 0.3), 0px 1px 3px 1px rgba(60, 64, 67, 0.15);\n",
              "      fill: #174EA6;\n",
              "    }\n",
              "\n",
              "    [theme=dark] .colab-df-convert {\n",
              "      background-color: #3B4455;\n",
              "      fill: #D2E3FC;\n",
              "    }\n",
              "\n",
              "    [theme=dark] .colab-df-convert:hover {\n",
              "      background-color: #434B5C;\n",
              "      box-shadow: 0px 1px 3px 1px rgba(0, 0, 0, 0.15);\n",
              "      filter: drop-shadow(0px 1px 2px rgba(0, 0, 0, 0.3));\n",
              "      fill: #FFFFFF;\n",
              "    }\n",
              "  </style>\n",
              "\n",
              "      <script>\n",
              "        const buttonEl =\n",
              "          document.querySelector('#df-24973d67-3aa8-4190-a4b9-eadf14c5f43a button.colab-df-convert');\n",
              "        buttonEl.style.display =\n",
              "          google.colab.kernel.accessAllowed ? 'block' : 'none';\n",
              "\n",
              "        async function convertToInteractive(key) {\n",
              "          const element = document.querySelector('#df-24973d67-3aa8-4190-a4b9-eadf14c5f43a');\n",
              "          const dataTable =\n",
              "            await google.colab.kernel.invokeFunction('convertToInteractive',\n",
              "                                                     [key], {});\n",
              "          if (!dataTable) return;\n",
              "\n",
              "          const docLinkHtml = 'Like what you see? Visit the ' +\n",
              "            '<a target=\"_blank\" href=https://colab.research.google.com/notebooks/data_table.ipynb>data table notebook</a>'\n",
              "            + ' to learn more about interactive tables.';\n",
              "          element.innerHTML = '';\n",
              "          dataTable['output_type'] = 'display_data';\n",
              "          await google.colab.output.renderOutput(dataTable, element);\n",
              "          const docLink = document.createElement('div');\n",
              "          docLink.innerHTML = docLinkHtml;\n",
              "          element.appendChild(docLink);\n",
              "        }\n",
              "      </script>\n",
              "    </div>\n",
              "  </div>\n",
              "  "
            ]
          },
          "metadata": {},
          "execution_count": 234
        }
      ]
    },
    {
      "cell_type": "code",
      "source": [
        "data.info() #детальная информация по данным"
      ],
      "metadata": {
        "colab": {
          "base_uri": "https://localhost:8080/"
        },
        "id": "WTbym9zJIPLh",
        "outputId": "019e5d4e-cc26-4796-8b1e-51420b00f084"
      },
      "execution_count": 8,
      "outputs": [
        {
          "output_type": "stream",
          "name": "stdout",
          "text": [
            "<class 'pandas.core.frame.DataFrame'>\n",
            "Int64Index: 149366 entries, 0 to 149999\n",
            "Data columns (total 12 columns):\n",
            " #   Column                                Non-Null Count   Dtype  \n",
            "---  ------                                --------------   -----  \n",
            " 0   SeriousDlqin2yrs                      149366 non-null  int64  \n",
            " 1   RevolvingUtilizationOfUnsecuredLines  149366 non-null  float64\n",
            " 2   age                                   134633 non-null  float64\n",
            " 3   NumberOfTime30-59DaysPastDueNotWorse  149366 non-null  int64  \n",
            " 4   DebtRatio                             149366 non-null  float64\n",
            " 5   MonthlyIncome                         120171 non-null  float64\n",
            " 6   NumberOfOpenCreditLinesAndLoans       149366 non-null  int64  \n",
            " 7   NumberOfTimes90DaysLate               149366 non-null  int64  \n",
            " 8   NumberOfTime60-89DaysPastDueNotWorse  149366 non-null  int64  \n",
            " 9   NumberOfDependents                    145542 non-null  float64\n",
            " 10  RealEstateLoansOrLines                149366 non-null  int64  \n",
            " 11  GroupAge                              149366 non-null  object \n",
            "dtypes: float64(5), int64(6), object(1)\n",
            "memory usage: 14.8+ MB\n"
          ]
        }
      ]
    },
    {
      "cell_type": "markdown",
      "source": [
        "11 признаков + целевая переменная"
      ],
      "metadata": {
        "id": "9Ku2D-ow4UGU"
      }
    },
    {
      "cell_type": "markdown",
      "source": [
        "# Разведочный анализ данных"
      ],
      "metadata": {
        "id": "9u5kjESXjg-s"
      }
    },
    {
      "cell_type": "markdown",
      "source": [
        "## 1. Оценка качества данных\n",
        "Посмотрим, есть ли в данных пропущенные значения."
      ],
      "metadata": {
        "id": "ORzwrTOrltqs"
      }
    },
    {
      "cell_type": "code",
      "source": [
        "data.isna().sum()"
      ],
      "metadata": {
        "id": "rM92inoDURTx",
        "colab": {
          "base_uri": "https://localhost:8080/"
        },
        "outputId": "c130d583-cc94-4187-f87f-d5fb5f3bcd28"
      },
      "execution_count": 9,
      "outputs": [
        {
          "output_type": "execute_result",
          "data": {
            "text/plain": [
              "SeriousDlqin2yrs                            0\n",
              "RevolvingUtilizationOfUnsecuredLines        0\n",
              "age                                     14733\n",
              "NumberOfTime30-59DaysPastDueNotWorse        0\n",
              "DebtRatio                                   0\n",
              "MonthlyIncome                           29195\n",
              "NumberOfOpenCreditLinesAndLoans             0\n",
              "NumberOfTimes90DaysLate                     0\n",
              "NumberOfTime60-89DaysPastDueNotWorse        0\n",
              "NumberOfDependents                       3824\n",
              "RealEstateLoansOrLines                      0\n",
              "GroupAge                                    0\n",
              "dtype: int64"
            ]
          },
          "metadata": {},
          "execution_count": 9
        }
      ]
    },
    {
      "cell_type": "markdown",
      "source": [
        "Не хватает данных по возрасту клиентов, ежемесячному доходу и кол-ву иждивенцев."
      ],
      "metadata": {
        "id": "FhUrDn1A3xpM"
      }
    },
    {
      "cell_type": "markdown",
      "source": [
        "### Обработка пропущенных значений\n"
      ],
      "metadata": {
        "id": "O6MtU1LSjlM5"
      }
    },
    {
      "cell_type": "markdown",
      "source": [
        "  \n",
        "\n",
        "*   NumberOfDependents - **числовой признак**. Количество иждивенцев на попечении (супруги, дети и др). \n",
        "\n",
        "\n"
      ],
      "metadata": {
        "id": "ice8EMXxA9V0"
      }
    },
    {
      "cell_type": "code",
      "source": [
        "data.NumberOfDependents.value_counts(dropna=False)"
      ],
      "metadata": {
        "id": "P5gTueoAk-U9",
        "colab": {
          "base_uri": "https://localhost:8080/"
        },
        "outputId": "eb9c6cfa-35a8-4a2f-db9b-4e41a4927021"
      },
      "execution_count": 10,
      "outputs": [
        {
          "output_type": "execute_result",
          "data": {
            "text/plain": [
              "0.0     86370\n",
              "1.0     26314\n",
              "2.0     19522\n",
              "3.0      9483\n",
              "NaN      3824\n",
              "4.0      2862\n",
              "5.0       746\n",
              "6.0       158\n",
              "7.0        51\n",
              "8.0        24\n",
              "10.0        5\n",
              "9.0         5\n",
              "13.0        1\n",
              "20.0        1\n",
              "Name: NumberOfDependents, dtype: int64"
            ]
          },
          "metadata": {},
          "execution_count": 10
        }
      ]
    },
    {
      "cell_type": "markdown",
      "source": [
        "Пропусков **2,6%**. Можно заполнить наиболее частым значением: 0."
      ],
      "metadata": {
        "id": "Dg4BPrA8_-kL"
      }
    },
    {
      "cell_type": "code",
      "source": [
        "data['NumberOfDependents'] = data['NumberOfDependents'].fillna(0) #строки с пропусками заполняем 0"
      ],
      "metadata": {
        "id": "-x8rUA5FlIGF"
      },
      "execution_count": 11,
      "outputs": []
    },
    {
      "cell_type": "markdown",
      "source": [
        " \n",
        "\n",
        "*   Age - числовой признак. Возраст заемщика.Пропущено **9,86%** данных. Убираем, будем опираться на возрастные групп"
      ],
      "metadata": {
        "id": "3VGVPm8zLa_w"
      }
    },
    {
      "cell_type": "code",
      "source": [
        "data = data.drop(['age'], axis=1)"
      ],
      "metadata": {
        "id": "DMy_eBWoH1b7"
      },
      "execution_count": 12,
      "outputs": []
    },
    {
      "cell_type": "markdown",
      "source": [
        "\n",
        "*   MonthlyIncome - **числовой признак**. Ежемесячный доход. Пропущено 19,82% данных. Визуализируем содержание столбца"
      ],
      "metadata": {
        "id": "oqDbD5YvBTma"
      }
    },
    {
      "cell_type": "code",
      "source": [
        "sr=data[data['MonthlyIncome']>0] #исключаем пустые, они помешают построить график\n",
        "plt.boxplot(sr.MonthlyIncome)"
      ],
      "metadata": {
        "id": "NSHdptrNOUA1",
        "outputId": "e5420626-b60f-4451-d1d5-3cb7413c9a33",
        "colab": {
          "base_uri": "https://localhost:8080/",
          "height": 591
        }
      },
      "execution_count": 13,
      "outputs": [
        {
          "output_type": "execute_result",
          "data": {
            "text/plain": [
              "{'whiskers': [<matplotlib.lines.Line2D at 0x7fa02627d330>,\n",
              "  <matplotlib.lines.Line2D at 0x7fa02627d5d0>],\n",
              " 'caps': [<matplotlib.lines.Line2D at 0x7fa02627d870>,\n",
              "  <matplotlib.lines.Line2D at 0x7fa02627db10>],\n",
              " 'boxes': [<matplotlib.lines.Line2D at 0x7fa02627d090>],\n",
              " 'medians': [<matplotlib.lines.Line2D at 0x7fa02627ddb0>],\n",
              " 'fliers': [<matplotlib.lines.Line2D at 0x7fa02627e050>],\n",
              " 'means': []}"
            ]
          },
          "metadata": {},
          "execution_count": 13
        },
        {
          "output_type": "display_data",
          "data": {
            "text/plain": [
              "<Figure size 640x480 with 1 Axes>"
            ],
            "image/png": "[encoded data removed]"
          },
          "metadata": {}
        }
      ]
    },
    {
      "cell_type": "code",
      "source": [
        "sr=data[data['MonthlyIncome']>0] #исключаем пустые, они помешают построить график\n",
        "plt.boxplot(np.log(sr.MonthlyIncome))\n"
      ],
      "metadata": {
        "colab": {
          "base_uri": "https://localhost:8080/",
          "height": 576
        },
        "id": "3Ue5cY7plLdU",
        "outputId": "15c5fe03-6a82-490c-e132-4b5be45848c3"
      },
      "execution_count": 14,
      "outputs": [
        {
          "output_type": "execute_result",
          "data": {
            "text/plain": [
              "{'whiskers': [<matplotlib.lines.Line2D at 0x7fa0261f1120>,\n",
              "  <matplotlib.lines.Line2D at 0x7fa0261f13c0>],\n",
              " 'caps': [<matplotlib.lines.Line2D at 0x7fa0261be410>,\n",
              "  <matplotlib.lines.Line2D at 0x7fa06234b1c0>],\n",
              " 'boxes': [<matplotlib.lines.Line2D at 0x7fa0261f0e80>],\n",
              " 'medians': [<matplotlib.lines.Line2D at 0x7fa0261f1600>],\n",
              " 'fliers': [<matplotlib.lines.Line2D at 0x7fa0261f18a0>],\n",
              " 'means': []}"
            ]
          },
          "metadata": {},
          "execution_count": 14
        },
        {
          "output_type": "display_data",
          "data": {
            "text/plain": [
              "<Figure size 640x480 with 1 Axes>"
            ],
            "image/png": "[encoded data removed]"
          },
          "metadata": {}
        }
      ]
    },
    {
      "cell_type": "markdown",
      "source": [
        "Большинство данных лежат в пределах 1млн руб. Посчитаем медиану"
      ],
      "metadata": {
        "id": "idSHgnIBqVzd"
      }
    },
    {
      "cell_type": "code",
      "source": [
        "median =  data['MonthlyIncome'].median()\n",
        "print(median)"
      ],
      "metadata": {
        "colab": {
          "base_uri": "https://localhost:8080/"
        },
        "id": "KSaDQuG-dDUJ",
        "outputId": "1d86fd92-2cfe-401c-95c1-b5e1bbf01965"
      },
      "execution_count": 15,
      "outputs": [
        {
          "output_type": "stream",
          "name": "stdout",
          "text": [
            "5400.0\n"
          ]
        }
      ]
    },
    {
      "cell_type": "markdown",
      "source": [
        "Данным значением заполним пустые строки"
      ],
      "metadata": {
        "id": "ASmp9fgtq9_u"
      }
    },
    {
      "cell_type": "code",
      "source": [
        "data['MonthlyIncome'].fillna(median, inplace=True)"
      ],
      "metadata": {
        "id": "uy-55pFplg7R"
      },
      "execution_count": 16,
      "outputs": []
    },
    {
      "cell_type": "markdown",
      "source": [
        "Проверяем все ли данные были исправлены"
      ],
      "metadata": {
        "id": "AO-BaBlXrNXe"
      }
    },
    {
      "cell_type": "code",
      "source": [
        "data.isna().sum()"
      ],
      "metadata": {
        "id": "M9qGZ_kYlpUT",
        "colab": {
          "base_uri": "https://localhost:8080/"
        },
        "outputId": "36697690-1cd5-4805-f0c2-46cb6f15e0ee"
      },
      "execution_count": 17,
      "outputs": [
        {
          "output_type": "execute_result",
          "data": {
            "text/plain": [
              "SeriousDlqin2yrs                        0\n",
              "RevolvingUtilizationOfUnsecuredLines    0\n",
              "NumberOfTime30-59DaysPastDueNotWorse    0\n",
              "DebtRatio                               0\n",
              "MonthlyIncome                           0\n",
              "NumberOfOpenCreditLinesAndLoans         0\n",
              "NumberOfTimes90DaysLate                 0\n",
              "NumberOfTime60-89DaysPastDueNotWorse    0\n",
              "NumberOfDependents                      0\n",
              "RealEstateLoansOrLines                  0\n",
              "GroupAge                                0\n",
              "dtype: int64"
            ]
          },
          "metadata": {},
          "execution_count": 17
        }
      ]
    },
    {
      "cell_type": "markdown",
      "source": [
        "## Сохранение данных"
      ],
      "metadata": {
        "id": "0ALQi-Vf2rYb"
      }
    },
    {
      "cell_type": "code",
      "source": [
        "data.to_csv(\"credit_scoring_output.csv\", index=False) #сохраняем табличку к себе"
      ],
      "metadata": {
        "id": "nAFYRh072trA"
      },
      "execution_count": null,
      "outputs": []
    },
    {
      "cell_type": "markdown",
      "source": [
        "## Основные числовые характеристики"
      ],
      "metadata": {
        "id": "2nouWWLZl6oA"
      }
    },
    {
      "cell_type": "markdown",
      "source": [
        "Смотрим, что из себя представляют данные"
      ],
      "metadata": {
        "id": "zGott2ujQ-_g"
      }
    },
    {
      "cell_type": "code",
      "source": [
        "data.describe()"
      ],
      "metadata": {
        "id": "B5qadSUDl-vu",
        "colab": {
          "base_uri": "https://localhost:8080/",
          "height": 381
        },
        "outputId": "f230e1bb-7006-4d25-d0ff-246bb3c8b8bd"
      },
      "execution_count": 19,
      "outputs": [
        {
          "output_type": "execute_result",
          "data": {
            "text/plain": [
              "       SeriousDlqin2yrs  RevolvingUtilizationOfUnsecuredLines  \\\n",
              "count      149366.00000                         149366.000000   \n",
              "mean            0.06701                              6.072049   \n",
              "std             0.25004                            250.284604   \n",
              "min             0.00000                              0.000000   \n",
              "25%             0.00000                              0.030149   \n",
              "50%             0.00000                              0.154252   \n",
              "75%             0.00000                              0.556480   \n",
              "max             1.00000                          50708.000000   \n",
              "\n",
              "       NumberOfTime30-59DaysPastDueNotWorse      DebtRatio  MonthlyIncome  \\\n",
              "count                         149366.000000  149366.000000   1.493660e+05   \n",
              "mean                               0.395913     354.495057   6.425788e+03   \n",
              "std                                3.878021    2042.009339   1.291676e+04   \n",
              "min                                0.000000       0.000000   0.000000e+00   \n",
              "25%                                0.000000       0.177489   3.900000e+03   \n",
              "50%                                0.000000       0.368275   5.400000e+03   \n",
              "75%                                0.000000       0.875333   7.400000e+03   \n",
              "max                               98.000000  329664.000000   3.008750e+06   \n",
              "\n",
              "       NumberOfOpenCreditLinesAndLoans  NumberOfTimes90DaysLate  \\\n",
              "count                    149366.000000            149366.000000   \n",
              "mean                          8.481823                 0.240075   \n",
              "std                           5.136322                 3.851472   \n",
              "min                           0.000000                 0.000000   \n",
              "25%                           5.000000                 0.000000   \n",
              "50%                           8.000000                 0.000000   \n",
              "75%                          11.000000                 0.000000   \n",
              "max                          58.000000                98.000000   \n",
              "\n",
              "       NumberOfTime60-89DaysPastDueNotWorse  NumberOfDependents  \\\n",
              "count                         149366.000000       149366.000000   \n",
              "mean                               0.214507            0.740530   \n",
              "std                                3.835957            1.108326   \n",
              "min                                0.000000            0.000000   \n",
              "25%                                0.000000            0.000000   \n",
              "50%                                0.000000            0.000000   \n",
              "75%                                0.000000            1.000000   \n",
              "max                               98.000000           20.000000   \n",
              "\n",
              "       RealEstateLoansOrLines  \n",
              "count           149366.000000  \n",
              "mean                 1.077246  \n",
              "std                  0.306664  \n",
              "min                  1.000000  \n",
              "25%                  1.000000  \n",
              "50%                  1.000000  \n",
              "75%                  1.000000  \n",
              "max                  5.000000  "
            ],
            "text/html": [
              "\n",
              "  <div id=\"df-32cf7744-0268-4ffb-85e6-b34328d8de9d\">\n",
              "    <div class=\"colab-df-container\">\n",
              "      <div>\n",
              "<style scoped>\n",
              "    .dataframe tbody tr th:only-of-type {\n",
              "        vertical-align: middle;\n",
              "    }\n",
              "\n",
              "    .dataframe tbody tr th {\n",
              "        vertical-align: top;\n",
              "    }\n",
              "\n",
              "    .dataframe thead th {\n",
              "        text-align: right;\n",
              "    }\n",
              "</style>\n",
              "<table border=\"1\" class=\"dataframe\">\n",
              "  <thead>\n",
              "    <tr style=\"text-align: right;\">\n",
              "      <th></th>\n",
              "      <th>SeriousDlqin2yrs</th>\n",
              "      <th>RevolvingUtilizationOfUnsecuredLines</th>\n",
              "      <th>NumberOfTime30-59DaysPastDueNotWorse</th>\n",
              "      <th>DebtRatio</th>\n",
              "      <th>MonthlyIncome</th>\n",
              "      <th>NumberOfOpenCreditLinesAndLoans</th>\n",
              "      <th>NumberOfTimes90DaysLate</th>\n",
              "      <th>NumberOfTime60-89DaysPastDueNotWorse</th>\n",
              "      <th>NumberOfDependents</th>\n",
              "      <th>RealEstateLoansOrLines</th>\n",
              "    </tr>\n",
              "  </thead>\n",
              "  <tbody>\n",
              "    <tr>\n",
              "      <th>count</th>\n",
              "      <td>149366.00000</td>\n",
              "      <td>149366.000000</td>\n",
              "      <td>149366.000000</td>\n",
              "      <td>149366.000000</td>\n",
              "      <td>1.493660e+05</td>\n",
              "      <td>149366.000000</td>\n",
              "      <td>149366.000000</td>\n",
              "      <td>149366.000000</td>\n",
              "      <td>149366.000000</td>\n",
              "      <td>149366.000000</td>\n",
              "    </tr>\n",
              "    <tr>\n",
              "      <th>mean</th>\n",
              "      <td>0.06701</td>\n",
              "      <td>6.072049</td>\n",
              "      <td>0.395913</td>\n",
              "      <td>354.495057</td>\n",
              "      <td>6.425788e+03</td>\n",
              "      <td>8.481823</td>\n",
              "      <td>0.240075</td>\n",
              "      <td>0.214507</td>\n",
              "      <td>0.740530</td>\n",
              "      <td>1.077246</td>\n",
              "    </tr>\n",
              "    <tr>\n",
              "      <th>std</th>\n",
              "      <td>0.25004</td>\n",
              "      <td>250.284604</td>\n",
              "      <td>3.878021</td>\n",
              "      <td>2042.009339</td>\n",
              "      <td>1.291676e+04</td>\n",
              "      <td>5.136322</td>\n",
              "      <td>3.851472</td>\n",
              "      <td>3.835957</td>\n",
              "      <td>1.108326</td>\n",
              "      <td>0.306664</td>\n",
              "    </tr>\n",
              "    <tr>\n",
              "      <th>min</th>\n",
              "      <td>0.00000</td>\n",
              "      <td>0.000000</td>\n",
              "      <td>0.000000</td>\n",
              "      <td>0.000000</td>\n",
              "      <td>0.000000e+00</td>\n",
              "      <td>0.000000</td>\n",
              "      <td>0.000000</td>\n",
              "      <td>0.000000</td>\n",
              "      <td>0.000000</td>\n",
              "      <td>1.000000</td>\n",
              "    </tr>\n",
              "    <tr>\n",
              "      <th>25%</th>\n",
              "      <td>0.00000</td>\n",
              "      <td>0.030149</td>\n",
              "      <td>0.000000</td>\n",
              "      <td>0.177489</td>\n",
              "      <td>3.900000e+03</td>\n",
              "      <td>5.000000</td>\n",
              "      <td>0.000000</td>\n",
              "      <td>0.000000</td>\n",
              "      <td>0.000000</td>\n",
              "      <td>1.000000</td>\n",
              "    </tr>\n",
              "    <tr>\n",
              "      <th>50%</th>\n",
              "      <td>0.00000</td>\n",
              "      <td>0.154252</td>\n",
              "      <td>0.000000</td>\n",
              "      <td>0.368275</td>\n",
              "      <td>5.400000e+03</td>\n",
              "      <td>8.000000</td>\n",
              "      <td>0.000000</td>\n",
              "      <td>0.000000</td>\n",
              "      <td>0.000000</td>\n",
              "      <td>1.000000</td>\n",
              "    </tr>\n",
              "    <tr>\n",
              "      <th>75%</th>\n",
              "      <td>0.00000</td>\n",
              "      <td>0.556480</td>\n",
              "      <td>0.000000</td>\n",
              "      <td>0.875333</td>\n",
              "      <td>7.400000e+03</td>\n",
              "      <td>11.000000</td>\n",
              "      <td>0.000000</td>\n",
              "      <td>0.000000</td>\n",
              "      <td>1.000000</td>\n",
              "      <td>1.000000</td>\n",
              "    </tr>\n",
              "    <tr>\n",
              "      <th>max</th>\n",
              "      <td>1.00000</td>\n",
              "      <td>50708.000000</td>\n",
              "      <td>98.000000</td>\n",
              "      <td>329664.000000</td>\n",
              "      <td>3.008750e+06</td>\n",
              "      <td>58.000000</td>\n",
              "      <td>98.000000</td>\n",
              "      <td>98.000000</td>\n",
              "      <td>20.000000</td>\n",
              "      <td>5.000000</td>\n",
              "    </tr>\n",
              "  </tbody>\n",
              "</table>\n",
              "</div>\n",
              "      <button class=\"colab-df-convert\" onclick=\"convertToInteractive('df-32cf7744-0268-4ffb-85e6-b34328d8de9d')\"\n",
              "              title=\"Convert this dataframe to an interactive table.\"\n",
              "              style=\"display:none;\">\n",
              "        \n",
              "  <svg xmlns=\"http://www.w3.org/2000/svg\" height=\"24px\"viewBox=\"0 0 24 24\"\n",
              "       width=\"24px\">\n",
              "    <path d=\"M0 0h24v24H0V0z\" fill=\"none\"/>\n",
              "    <path d=\"M18.56 5.44l.94 2.06.94-2.06 2.06-.94-2.06-.94-.94-2.06-.94 2.06-2.06.94zm-11 1L8.5 8.5l.94-2.06 2.06-.94-2.06-.94L8.5 2.5l-.94 2.06-2.06.94zm10 10l.94 2.06.94-2.06 2.06-.94-2.06-.94-.94-2.06-.94 2.06-2.06.94z\"/><path d=\"M17.41 7.96l-1.37-1.37c-.4-.4-.92-.59-1.43-.59-.52 0-1.04.2-1.43.59L10.3 9.45l-7.72 7.72c-.78.78-.78 2.05 0 2.83L4 21.41c.39.39.9.59 1.41.59.51 0 1.02-.2 1.41-.59l7.78-7.78 2.81-2.81c.8-.78.8-2.07 0-2.86zM5.41 20L4 18.59l7.72-7.72 1.47 1.35L5.41 20z\"/>\n",
              "  </svg>\n",
              "      </button>\n",
              "      \n",
              "  <style>\n",
              "    .colab-df-container {\n",
              "      display:flex;\n",
              "      flex-wrap:wrap;\n",
              "      gap: 12px;\n",
              "    }\n",
              "\n",
              "    .colab-df-convert {\n",
              "      background-color: #E8F0FE;\n",
              "      border: none;\n",
              "      border-radius: 50%;\n",
              "      cursor: pointer;\n",
              "      display: none;\n",
              "      fill: #1967D2;\n",
              "      height: 32px;\n",
              "      padding: 0 0 0 0;\n",
              "      width: 32px;\n",
              "    }\n",
              "\n",
              "    .colab-df-convert:hover {\n",
              "      background-color: #E2EBFA;\n",
              "      box-shadow: 0px 1px 2px rgba(60, 64, 67, 0.3), 0px 1px 3px 1px rgba(60, 64, 67, 0.15);\n",
              "      fill: #174EA6;\n",
              "    }\n",
              "\n",
              "    [theme=dark] .colab-df-convert {\n",
              "      background-color: #3B4455;\n",
              "      fill: #D2E3FC;\n",
              "    }\n",
              "\n",
              "    [theme=dark] .colab-df-convert:hover {\n",
              "      background-color: #434B5C;\n",
              "      box-shadow: 0px 1px 3px 1px rgba(0, 0, 0, 0.15);\n",
              "      filter: drop-shadow(0px 1px 2px rgba(0, 0, 0, 0.3));\n",
              "      fill: #FFFFFF;\n",
              "    }\n",
              "  </style>\n",
              "\n",
              "      <script>\n",
              "        const buttonEl =\n",
              "          document.querySelector('#df-32cf7744-0268-4ffb-85e6-b34328d8de9d button.colab-df-convert');\n",
              "        buttonEl.style.display =\n",
              "          google.colab.kernel.accessAllowed ? 'block' : 'none';\n",
              "\n",
              "        async function convertToInteractive(key) {\n",
              "          const element = document.querySelector('#df-32cf7744-0268-4ffb-85e6-b34328d8de9d');\n",
              "          const dataTable =\n",
              "            await google.colab.kernel.invokeFunction('convertToInteractive',\n",
              "                                                     [key], {});\n",
              "          if (!dataTable) return;\n",
              "\n",
              "          const docLinkHtml = 'Like what you see? Visit the ' +\n",
              "            '<a target=\"_blank\" href=https://colab.research.google.com/notebooks/data_table.ipynb>data table notebook</a>'\n",
              "            + ' to learn more about interactive tables.';\n",
              "          element.innerHTML = '';\n",
              "          dataTable['output_type'] = 'display_data';\n",
              "          await google.colab.output.renderOutput(dataTable, element);\n",
              "          const docLink = document.createElement('div');\n",
              "          docLink.innerHTML = docLinkHtml;\n",
              "          element.appendChild(docLink);\n",
              "        }\n",
              "      </script>\n",
              "    </div>\n",
              "  </div>\n",
              "  "
            ]
          },
          "metadata": {},
          "execution_count": 19
        }
      ]
    },
    {
      "cell_type": "code",
      "source": [
        "corr = data.corr() # строим матрицу корреляций\n",
        "\n",
        "corr.style.background_gradient(cmap='coolwarm')"
      ],
      "metadata": {
        "id": "ba6wxZGjx50Y",
        "colab": {
          "base_uri": "https://localhost:8080/",
          "height": 435
        },
        "outputId": "b818d4f0-e050-4df5-a41d-fffbc7ac5030"
      },
      "execution_count": 18,
      "outputs": [
        {
          "output_type": "execute_result",
          "data": {
            "text/plain": [
              "<pandas.io.formats.style.Styler at 0x7fa0262df0a0>"
            ],
            "text/html": [
              "<style type=\"text/css\">\n",
              "#T_a51c1_row0_col0, #T_a51c1_row1_col1, #T_a51c1_row2_col2, #T_a51c1_row3_col3, #T_a51c1_row4_col4, #T_a51c1_row5_col5, #T_a51c1_row6_col6, #T_a51c1_row7_col7, #T_a51c1_row8_col8, #T_a51c1_row9_col9 {\n",
              "  background-color: #b40426;\n",
              "  color: #f1f1f1;\n",
              "}\n",
              "#T_a51c1_row0_col1, #T_a51c1_row1_col9, #T_a51c1_row2_col1, #T_a51c1_row2_col4, #T_a51c1_row2_col9, #T_a51c1_row6_col1, #T_a51c1_row7_col1, #T_a51c1_row7_col4, #T_a51c1_row7_col5, #T_a51c1_row9_col1 {\n",
              "  background-color: #3d50c3;\n",
              "  color: #f1f1f1;\n",
              "}\n",
              "#T_a51c1_row0_col2 {\n",
              "  background-color: #7295f4;\n",
              "  color: #f1f1f1;\n",
              "}\n",
              "#T_a51c1_row0_col3, #T_a51c1_row2_col3, #T_a51c1_row4_col2, #T_a51c1_row6_col3, #T_a51c1_row7_col3 {\n",
              "  background-color: #455cce;\n",
              "  color: #f1f1f1;\n",
              "}\n",
              "#T_a51c1_row0_col4, #T_a51c1_row3_col4, #T_a51c1_row3_col8, #T_a51c1_row5_col0, #T_a51c1_row5_col1, #T_a51c1_row5_col2, #T_a51c1_row5_col6, #T_a51c1_row5_col7, #T_a51c1_row6_col5, #T_a51c1_row6_col9, #T_a51c1_row7_col9, #T_a51c1_row8_col3 {\n",
              "  background-color: #3b4cc0;\n",
              "  color: #f1f1f1;\n",
              "}\n",
              "#T_a51c1_row0_col5, #T_a51c1_row0_col9, #T_a51c1_row2_col8, #T_a51c1_row3_col2 {\n",
              "  background-color: #465ecf;\n",
              "  color: #f1f1f1;\n",
              "}\n",
              "#T_a51c1_row0_col6 {\n",
              "  background-color: #7699f6;\n",
              "  color: #f1f1f1;\n",
              "}\n",
              "#T_a51c1_row0_col7 {\n",
              "  background-color: #6e90f2;\n",
              "  color: #f1f1f1;\n",
              "}\n",
              "#T_a51c1_row0_col8, #T_a51c1_row5_col3 {\n",
              "  background-color: #5572df;\n",
              "  color: #f1f1f1;\n",
              "}\n",
              "#T_a51c1_row1_col0 {\n",
              "  background-color: #4358cb;\n",
              "  color: #f1f1f1;\n",
              "}\n",
              "#T_a51c1_row1_col2, #T_a51c1_row1_col3, #T_a51c1_row1_col8, #T_a51c1_row8_col2, #T_a51c1_row9_col2 {\n",
              "  background-color: #485fd1;\n",
              "  color: #f1f1f1;\n",
              "}\n",
              "#T_a51c1_row1_col4, #T_a51c1_row2_col5, #T_a51c1_row4_col3 {\n",
              "  background-color: #4257c9;\n",
              "  color: #f1f1f1;\n",
              "}\n",
              "#T_a51c1_row1_col5, #T_a51c1_row1_col7, #T_a51c1_row4_col6, #T_a51c1_row8_col9, #T_a51c1_row9_col6 {\n",
              "  background-color: #4c66d6;\n",
              "  color: #f1f1f1;\n",
              "}\n",
              "#T_a51c1_row1_col6 {\n",
              "  background-color: #4f69d9;\n",
              "  color: #f1f1f1;\n",
              "}\n",
              "#T_a51c1_row2_col0 {\n",
              "  background-color: #6c8ff1;\n",
              "  color: #f1f1f1;\n",
              "}\n",
              "#T_a51c1_row2_col6, #T_a51c1_row6_col2 {\n",
              "  background-color: #ba162b;\n",
              "  color: #f1f1f1;\n",
              "}\n",
              "#T_a51c1_row2_col7, #T_a51c1_row7_col2 {\n",
              "  background-color: #b8122a;\n",
              "  color: #f1f1f1;\n",
              "}\n",
              "#T_a51c1_row3_col0 {\n",
              "  background-color: #4055c8;\n",
              "  color: #f1f1f1;\n",
              "}\n",
              "#T_a51c1_row3_col1, #T_a51c1_row4_col0, #T_a51c1_row8_col1 {\n",
              "  background-color: #3e51c5;\n",
              "  color: #f1f1f1;\n",
              "}\n",
              "#T_a51c1_row3_col5 {\n",
              "  background-color: #5e7de7;\n",
              "  color: #f1f1f1;\n",
              "}\n",
              "#T_a51c1_row3_col6, #T_a51c1_row8_col6 {\n",
              "  background-color: #4e68d8;\n",
              "  color: #f1f1f1;\n",
              "}\n",
              "#T_a51c1_row3_col7, #T_a51c1_row9_col0 {\n",
              "  background-color: #4b64d5;\n",
              "  color: #f1f1f1;\n",
              "}\n",
              "#T_a51c1_row3_col9, #T_a51c1_row4_col9 {\n",
              "  background-color: #5875e1;\n",
              "  color: #f1f1f1;\n",
              "}\n",
              "#T_a51c1_row4_col1 {\n",
              "  background-color: #3f53c6;\n",
              "  color: #f1f1f1;\n",
              "}\n",
              "#T_a51c1_row4_col5 {\n",
              "  background-color: #6a8bef;\n",
              "  color: #f1f1f1;\n",
              "}\n",
              "#T_a51c1_row4_col7, #T_a51c1_row8_col7, #T_a51c1_row9_col7 {\n",
              "  background-color: #4a63d3;\n",
              "  color: #f1f1f1;\n",
              "}\n",
              "#T_a51c1_row4_col8 {\n",
              "  background-color: #5b7ae5;\n",
              "  color: #f1f1f1;\n",
              "}\n",
              "#T_a51c1_row5_col4 {\n",
              "  background-color: #5a78e4;\n",
              "  color: #f1f1f1;\n",
              "}\n",
              "#T_a51c1_row5_col8 {\n",
              "  background-color: #5d7ce6;\n",
              "  color: #f1f1f1;\n",
              "}\n",
              "#T_a51c1_row5_col9 {\n",
              "  background-color: #94b6ff;\n",
              "  color: #000000;\n",
              "}\n",
              "#T_a51c1_row6_col0 {\n",
              "  background-color: #688aef;\n",
              "  color: #f1f1f1;\n",
              "}\n",
              "#T_a51c1_row6_col4 {\n",
              "  background-color: #3c4ec2;\n",
              "  color: #f1f1f1;\n",
              "}\n",
              "#T_a51c1_row6_col7, #T_a51c1_row7_col6 {\n",
              "  background-color: #b70d28;\n",
              "  color: #f1f1f1;\n",
              "}\n",
              "#T_a51c1_row6_col8, #T_a51c1_row7_col8 {\n",
              "  background-color: #445acc;\n",
              "  color: #f1f1f1;\n",
              "}\n",
              "#T_a51c1_row7_col0 {\n",
              "  background-color: #6384eb;\n",
              "  color: #f1f1f1;\n",
              "}\n",
              "#T_a51c1_row8_col0 {\n",
              "  background-color: #516ddb;\n",
              "  color: #f1f1f1;\n",
              "}\n",
              "#T_a51c1_row8_col4 {\n",
              "  background-color: #5470de;\n",
              "  color: #f1f1f1;\n",
              "}\n",
              "#T_a51c1_row8_col5 {\n",
              "  background-color: #6485ec;\n",
              "  color: #f1f1f1;\n",
              "}\n",
              "#T_a51c1_row9_col3 {\n",
              "  background-color: #6282ea;\n",
              "  color: #f1f1f1;\n",
              "}\n",
              "#T_a51c1_row9_col4 {\n",
              "  background-color: #5977e3;\n",
              "  color: #f1f1f1;\n",
              "}\n",
              "#T_a51c1_row9_col5 {\n",
              "  background-color: #a3c2fe;\n",
              "  color: #000000;\n",
              "}\n",
              "#T_a51c1_row9_col8 {\n",
              "  background-color: #5673e0;\n",
              "  color: #f1f1f1;\n",
              "}\n",
              "</style>\n",
              "<table id=\"T_a51c1\" class=\"dataframe\">\n",
              "  <thead>\n",
              "    <tr>\n",
              "      <th class=\"blank level0\" >&nbsp;</th>\n",
              "      <th id=\"T_a51c1_level0_col0\" class=\"col_heading level0 col0\" >SeriousDlqin2yrs</th>\n",
              "      <th id=\"T_a51c1_level0_col1\" class=\"col_heading level0 col1\" >RevolvingUtilizationOfUnsecuredLines</th>\n",
              "      <th id=\"T_a51c1_level0_col2\" class=\"col_heading level0 col2\" >NumberOfTime30-59DaysPastDueNotWorse</th>\n",
              "      <th id=\"T_a51c1_level0_col3\" class=\"col_heading level0 col3\" >DebtRatio</th>\n",
              "      <th id=\"T_a51c1_level0_col4\" class=\"col_heading level0 col4\" >MonthlyIncome</th>\n",
              "      <th id=\"T_a51c1_level0_col5\" class=\"col_heading level0 col5\" >NumberOfOpenCreditLinesAndLoans</th>\n",
              "      <th id=\"T_a51c1_level0_col6\" class=\"col_heading level0 col6\" >NumberOfTimes90DaysLate</th>\n",
              "      <th id=\"T_a51c1_level0_col7\" class=\"col_heading level0 col7\" >NumberOfTime60-89DaysPastDueNotWorse</th>\n",
              "      <th id=\"T_a51c1_level0_col8\" class=\"col_heading level0 col8\" >NumberOfDependents</th>\n",
              "      <th id=\"T_a51c1_level0_col9\" class=\"col_heading level0 col9\" >RealEstateLoansOrLines</th>\n",
              "    </tr>\n",
              "  </thead>\n",
              "  <tbody>\n",
              "    <tr>\n",
              "      <th id=\"T_a51c1_level0_row0\" class=\"row_heading level0 row0\" >SeriousDlqin2yrs</th>\n",
              "      <td id=\"T_a51c1_row0_col0\" class=\"data row0 col0\" >1.000000</td>\n",
              "      <td id=\"T_a51c1_row0_col1\" class=\"data row0 col1\" >-0.001819</td>\n",
              "      <td id=\"T_a51c1_row0_col2\" class=\"data row0 col2\" >0.131215</td>\n",
              "      <td id=\"T_a51c1_row0_col3\" class=\"data row0 col3\" >-0.007727</td>\n",
              "      <td id=\"T_a51c1_row0_col4\" class=\"data row0 col4\" >-0.017264</td>\n",
              "      <td id=\"T_a51c1_row0_col5\" class=\"data row0 col5\" >-0.030588</td>\n",
              "      <td id=\"T_a51c1_row0_col6\" class=\"data row0 col6\" >0.122239</td>\n",
              "      <td id=\"T_a51c1_row0_col7\" class=\"data row0 col7\" >0.106106</td>\n",
              "      <td id=\"T_a51c1_row0_col8\" class=\"data row0 col8\" >0.046506</td>\n",
              "      <td id=\"T_a51c1_row0_col9\" class=\"data row0 col9\" >0.027577</td>\n",
              "    </tr>\n",
              "    <tr>\n",
              "      <th id=\"T_a51c1_level0_row1\" class=\"row_heading level0 row1\" >RevolvingUtilizationOfUnsecuredLines</th>\n",
              "      <td id=\"T_a51c1_row1_col0\" class=\"data row1 col0\" >-0.001819</td>\n",
              "      <td id=\"T_a51c1_row1_col1\" class=\"data row1 col1\" >1.000000</td>\n",
              "      <td id=\"T_a51c1_row1_col2\" class=\"data row1 col2\" >-0.001293</td>\n",
              "      <td id=\"T_a51c1_row1_col3\" class=\"data row1 col3\" >0.003945</td>\n",
              "      <td id=\"T_a51c1_row1_col4\" class=\"data row1 col4\" >0.006501</td>\n",
              "      <td id=\"T_a51c1_row1_col5\" class=\"data row1 col5\" >-0.011450</td>\n",
              "      <td id=\"T_a51c1_row1_col6\" class=\"data row1 col6\" >-0.001016</td>\n",
              "      <td id=\"T_a51c1_row1_col7\" class=\"data row1 col7\" >-0.001001</td>\n",
              "      <td id=\"T_a51c1_row1_col8\" class=\"data row1 col8\" >0.001131</td>\n",
              "      <td id=\"T_a51c1_row1_col9\" class=\"data row1 col9\" >-0.000900</td>\n",
              "    </tr>\n",
              "    <tr>\n",
              "      <th id=\"T_a51c1_level0_row2\" class=\"row_heading level0 row2\" >NumberOfTime30-59DaysPastDueNotWorse</th>\n",
              "      <td id=\"T_a51c1_row2_col0\" class=\"data row2 col0\" >0.131215</td>\n",
              "      <td id=\"T_a51c1_row2_col1\" class=\"data row2 col1\" >-0.001293</td>\n",
              "      <td id=\"T_a51c1_row2_col2\" class=\"data row2 col2\" >1.000000</td>\n",
              "      <td id=\"T_a51c1_row2_col3\" class=\"data row2 col3\" >-0.005965</td>\n",
              "      <td id=\"T_a51c1_row2_col4\" class=\"data row2 col4\" >-0.008367</td>\n",
              "      <td id=\"T_a51c1_row2_col5\" class=\"data row2 col5\" >-0.049328</td>\n",
              "      <td id=\"T_a51c1_row2_col6\" class=\"data row2 col6\" >0.980744</td>\n",
              "      <td id=\"T_a51c1_row2_col7\" class=\"data row2 col7\" >0.984734</td>\n",
              "      <td id=\"T_a51c1_row2_col8\" class=\"data row2 col8\" >-0.000648</td>\n",
              "      <td id=\"T_a51c1_row2_col9\" class=\"data row2 col9\" >-0.003620</td>\n",
              "    </tr>\n",
              "    <tr>\n",
              "      <th id=\"T_a51c1_level0_row3\" class=\"row_heading level0 row3\" >DebtRatio</th>\n",
              "      <td id=\"T_a51c1_row3_col0\" class=\"data row3 col0\" >-0.007727</td>\n",
              "      <td id=\"T_a51c1_row3_col1\" class=\"data row3 col1\" >0.003945</td>\n",
              "      <td id=\"T_a51c1_row3_col2\" class=\"data row3 col2\" >-0.005965</td>\n",
              "      <td id=\"T_a51c1_row3_col3\" class=\"data row3 col3\" >1.000000</td>\n",
              "      <td id=\"T_a51c1_row3_col4\" class=\"data row3 col4\" >-0.018107</td>\n",
              "      <td id=\"T_a51c1_row3_col5\" class=\"data row3 col5\" >0.048790</td>\n",
              "      <td id=\"T_a51c1_row3_col6\" class=\"data row3 col6\" >-0.007860</td>\n",
              "      <td id=\"T_a51c1_row3_col7\" class=\"data row3 col7\" >-0.007008</td>\n",
              "      <td id=\"T_a51c1_row3_col8\" class=\"data row3 col8\" >-0.045006</td>\n",
              "      <td id=\"T_a51c1_row3_col9\" class=\"data row3 col9\" >0.086314</td>\n",
              "    </tr>\n",
              "    <tr>\n",
              "      <th id=\"T_a51c1_level0_row4\" class=\"row_heading level0 row4\" >MonthlyIncome</th>\n",
              "      <td id=\"T_a51c1_row4_col0\" class=\"data row4 col0\" >-0.017264</td>\n",
              "      <td id=\"T_a51c1_row4_col1\" class=\"data row4 col1\" >0.006501</td>\n",
              "      <td id=\"T_a51c1_row4_col2\" class=\"data row4 col2\" >-0.008367</td>\n",
              "      <td id=\"T_a51c1_row4_col3\" class=\"data row4 col3\" >-0.018107</td>\n",
              "      <td id=\"T_a51c1_row4_col4\" class=\"data row4 col4\" >1.000000</td>\n",
              "      <td id=\"T_a51c1_row4_col5\" class=\"data row4 col5\" >0.086531</td>\n",
              "      <td id=\"T_a51c1_row4_col6\" class=\"data row4 col6\" >-0.010660</td>\n",
              "      <td id=\"T_a51c1_row4_col7\" class=\"data row4 col7\" >-0.009308</td>\n",
              "      <td id=\"T_a51c1_row4_col8\" class=\"data row4 col8\" >0.066003</td>\n",
              "      <td id=\"T_a51c1_row4_col9\" class=\"data row4 col9\" >0.083959</td>\n",
              "    </tr>\n",
              "    <tr>\n",
              "      <th id=\"T_a51c1_level0_row5\" class=\"row_heading level0 row5\" >NumberOfOpenCreditLinesAndLoans</th>\n",
              "      <td id=\"T_a51c1_row5_col0\" class=\"data row5 col0\" >-0.030588</td>\n",
              "      <td id=\"T_a51c1_row5_col1\" class=\"data row5 col1\" >-0.011450</td>\n",
              "      <td id=\"T_a51c1_row5_col2\" class=\"data row5 col2\" >-0.049328</td>\n",
              "      <td id=\"T_a51c1_row5_col3\" class=\"data row5 col3\" >0.048790</td>\n",
              "      <td id=\"T_a51c1_row5_col4\" class=\"data row5 col4\" >0.086531</td>\n",
              "      <td id=\"T_a51c1_row5_col5\" class=\"data row5 col5\" >1.000000</td>\n",
              "      <td id=\"T_a51c1_row5_col6\" class=\"data row5 col6\" >-0.075921</td>\n",
              "      <td id=\"T_a51c1_row5_col7\" class=\"data row5 col7\" >-0.066239</td>\n",
              "      <td id=\"T_a51c1_row5_col8\" class=\"data row5 col8\" >0.070630</td>\n",
              "      <td id=\"T_a51c1_row5_col9\" class=\"data row5 col9\" >0.262635</td>\n",
              "    </tr>\n",
              "    <tr>\n",
              "      <th id=\"T_a51c1_level0_row6\" class=\"row_heading level0 row6\" >NumberOfTimes90DaysLate</th>\n",
              "      <td id=\"T_a51c1_row6_col0\" class=\"data row6 col0\" >0.122239</td>\n",
              "      <td id=\"T_a51c1_row6_col1\" class=\"data row6 col1\" >-0.001016</td>\n",
              "      <td id=\"T_a51c1_row6_col2\" class=\"data row6 col2\" >0.980744</td>\n",
              "      <td id=\"T_a51c1_row6_col3\" class=\"data row6 col3\" >-0.007860</td>\n",
              "      <td id=\"T_a51c1_row6_col4\" class=\"data row6 col4\" >-0.010660</td>\n",
              "      <td id=\"T_a51c1_row6_col5\" class=\"data row6 col5\" >-0.075921</td>\n",
              "      <td id=\"T_a51c1_row6_col6\" class=\"data row6 col6\" >1.000000</td>\n",
              "      <td id=\"T_a51c1_row6_col7\" class=\"data row6 col7\" >0.991525</td>\n",
              "      <td id=\"T_a51c1_row6_col8\" class=\"data row6 col8\" >-0.008495</td>\n",
              "      <td id=\"T_a51c1_row6_col9\" class=\"data row6 col9\" >-0.012334</td>\n",
              "    </tr>\n",
              "    <tr>\n",
              "      <th id=\"T_a51c1_level0_row7\" class=\"row_heading level0 row7\" >NumberOfTime60-89DaysPastDueNotWorse</th>\n",
              "      <td id=\"T_a51c1_row7_col0\" class=\"data row7 col0\" >0.106106</td>\n",
              "      <td id=\"T_a51c1_row7_col1\" class=\"data row7 col1\" >-0.001001</td>\n",
              "      <td id=\"T_a51c1_row7_col2\" class=\"data row7 col2\" >0.984734</td>\n",
              "      <td id=\"T_a51c1_row7_col3\" class=\"data row7 col3\" >-0.007008</td>\n",
              "      <td id=\"T_a51c1_row7_col4\" class=\"data row7 col4\" >-0.009308</td>\n",
              "      <td id=\"T_a51c1_row7_col5\" class=\"data row7 col5\" >-0.066239</td>\n",
              "      <td id=\"T_a51c1_row7_col6\" class=\"data row7 col6\" >0.991525</td>\n",
              "      <td id=\"T_a51c1_row7_col7\" class=\"data row7 col7\" >1.000000</td>\n",
              "      <td id=\"T_a51c1_row7_col8\" class=\"data row7 col8\" >-0.009267</td>\n",
              "      <td id=\"T_a51c1_row7_col9\" class=\"data row7 col9\" >-0.010227</td>\n",
              "    </tr>\n",
              "    <tr>\n",
              "      <th id=\"T_a51c1_level0_row8\" class=\"row_heading level0 row8\" >NumberOfDependents</th>\n",
              "      <td id=\"T_a51c1_row8_col0\" class=\"data row8 col0\" >0.046506</td>\n",
              "      <td id=\"T_a51c1_row8_col1\" class=\"data row8 col1\" >0.001131</td>\n",
              "      <td id=\"T_a51c1_row8_col2\" class=\"data row8 col2\" >-0.000648</td>\n",
              "      <td id=\"T_a51c1_row8_col3\" class=\"data row8 col3\" >-0.045006</td>\n",
              "      <td id=\"T_a51c1_row8_col4\" class=\"data row8 col4\" >0.066003</td>\n",
              "      <td id=\"T_a51c1_row8_col5\" class=\"data row8 col5\" >0.070630</td>\n",
              "      <td id=\"T_a51c1_row8_col6\" class=\"data row8 col6\" >-0.008495</td>\n",
              "      <td id=\"T_a51c1_row8_col7\" class=\"data row8 col7\" >-0.009267</td>\n",
              "      <td id=\"T_a51c1_row8_col8\" class=\"data row8 col8\" >1.000000</td>\n",
              "      <td id=\"T_a51c1_row8_col9\" class=\"data row8 col9\" >0.049024</td>\n",
              "    </tr>\n",
              "    <tr>\n",
              "      <th id=\"T_a51c1_level0_row9\" class=\"row_heading level0 row9\" >RealEstateLoansOrLines</th>\n",
              "      <td id=\"T_a51c1_row9_col0\" class=\"data row9 col0\" >0.027577</td>\n",
              "      <td id=\"T_a51c1_row9_col1\" class=\"data row9 col1\" >-0.000900</td>\n",
              "      <td id=\"T_a51c1_row9_col2\" class=\"data row9 col2\" >-0.003620</td>\n",
              "      <td id=\"T_a51c1_row9_col3\" class=\"data row9 col3\" >0.086314</td>\n",
              "      <td id=\"T_a51c1_row9_col4\" class=\"data row9 col4\" >0.083959</td>\n",
              "      <td id=\"T_a51c1_row9_col5\" class=\"data row9 col5\" >0.262635</td>\n",
              "      <td id=\"T_a51c1_row9_col6\" class=\"data row9 col6\" >-0.012334</td>\n",
              "      <td id=\"T_a51c1_row9_col7\" class=\"data row9 col7\" >-0.010227</td>\n",
              "      <td id=\"T_a51c1_row9_col8\" class=\"data row9 col8\" >0.049024</td>\n",
              "      <td id=\"T_a51c1_row9_col9\" class=\"data row9 col9\" >1.000000</td>\n",
              "    </tr>\n",
              "  </tbody>\n",
              "</table>\n"
            ]
          },
          "metadata": {},
          "execution_count": 18
        }
      ]
    },
    {
      "cell_type": "markdown",
      "source": [
        "Очень большая корреляция между сроками просрочки. Необходимо удалить 2 лишних "
      ],
      "metadata": {
        "id": "NJd_ZqZjSu-8"
      }
    },
    {
      "cell_type": "code",
      "source": [
        "data = data.drop(['NumberOfTimes90DaysLate','NumberOfTime60-89DaysPastDueNotWorse'],axis=1)"
      ],
      "metadata": {
        "id": "XNaV0HfQzQns"
      },
      "execution_count": 20,
      "outputs": []
    },
    {
      "cell_type": "code",
      "source": [
        "for col in data.columns:\n",
        "    try:\n",
        "        print(col, np.corrcoef(data[col], data['SeriousDlqin2yrs'])[0][1])\n",
        "    except:\n",
        "        pass"
      ],
      "metadata": {
        "colab": {
          "base_uri": "https://localhost:8080/"
        },
        "id": "5RShtvn0SYHo",
        "outputId": "8e26a040-d008-4883-9664-c3e669a00eb8"
      },
      "execution_count": 21,
      "outputs": [
        {
          "output_type": "stream",
          "name": "stdout",
          "text": [
            "SeriousDlqin2yrs 1.0\n",
            "RevolvingUtilizationOfUnsecuredLines -0.0018192986071417195\n",
            "NumberOfTime30-59DaysPastDueNotWorse 0.13121500401141908\n",
            "DebtRatio -0.007726896864004403\n",
            "MonthlyIncome -0.01726411065578203\n",
            "NumberOfOpenCreditLinesAndLoans -0.030587755622646307\n",
            "NumberOfDependents 0.04650641941765794\n",
            "RealEstateLoansOrLines 0.027576898263311153\n"
          ]
        }
      ]
    },
    {
      "cell_type": "markdown",
      "source": [
        "Логично, что больше всего с показателем просрочки 90+ коррелируют возраст клиента и наличие просрочек ранее."
      ],
      "metadata": {
        "id": "bbAw4uemuA13"
      }
    },
    {
      "cell_type": "markdown",
      "source": [
        "## <font color='green'>2.1. Обучение модели</font>\n",
        "\n"
      ],
      "metadata": {
        "id": "YKqPYfZ3N1Bp"
      }
    },
    {
      "cell_type": "markdown",
      "source": [
        "Сформируем матрицу X объект-признак и вектор y целевой переменной."
      ],
      "metadata": {
        "id": "YXUwlNSx49ZS"
      }
    },
    {
      "cell_type": "code",
      "source": [
        "X_full = data.drop('SeriousDlqin2yrs', axis=1) # матрица объект-признак\n",
        "y = data['SeriousDlqin2yrs'] # целевая переменная"
      ],
      "metadata": {
        "id": "cgetIc6vRgMi"
      },
      "execution_count": 22,
      "outputs": []
    },
    {
      "cell_type": "code",
      "source": [
        "X = X_full.drop(['GroupAge'], axis=1)"
      ],
      "metadata": {
        "id": "zqFlCTSYtxcL"
      },
      "execution_count": 23,
      "outputs": []
    },
    {
      "cell_type": "markdown",
      "source": [
        "Давайте применим логистическую регрессию для поиска клиентов с просрочками 90+\n",
        "\n",
        "Данные разбиваем на train и test (test — 25% от всех данных)."
      ],
      "metadata": {
        "id": "kLfG720Fi4eh"
      }
    },
    {
      "cell_type": "code",
      "execution_count": 24,
      "metadata": {
        "id": "O4IcPGEOhtwe"
      },
      "outputs": [],
      "source": [
        "from sklearn.metrics import accuracy_score\n",
        "from sklearn.model_selection import train_test_split\n",
        "\n",
        "Xtrain, Xtest, ytrain, ytest = train_test_split(X, y, test_size=0.25, random_state=42)"
      ]
    },
    {
      "cell_type": "markdown",
      "source": [
        "Для линейных моделей очень важно масштабирование признаков. У нас часть данных представлена десятками, а часть тысячами и тд, это негативно влияет на модель. Для привидения к одному масштабу используем StandardScaler, обучив метод на тренировочных данных и применив его и к трейну, и к тесту."
      ],
      "metadata": {
        "id": "GbuDWle1z2Uh"
      }
    },
    {
      "cell_type": "code",
      "source": [
        "import pandas as pd\n",
        "from sklearn.preprocessing import StandardScaler\n",
        "\n",
        "ss = StandardScaler()\n",
        "ss.fit(Xtrain)\n",
        "\n",
        "Xtrain = pd.DataFrame(ss.transform(Xtrain), columns=X.columns)\n",
        "Xtest = pd.DataFrame(ss.transform(Xtest), columns=X.columns)\n",
        "\n",
        "Xtrain.head()"
      ],
      "metadata": {
        "id": "69H1fh7VzaZf",
        "colab": {
          "base_uri": "https://localhost:8080/",
          "height": 287
        },
        "outputId": "a655fd29-5095-42fd-fffb-c6c3d79a9051"
      },
      "execution_count": 25,
      "outputs": [
        {
          "output_type": "execute_result",
          "data": {
            "text/plain": [
              "   RevolvingUtilizationOfUnsecuredLines  NumberOfTime30-59DaysPastDueNotWorse  \\\n",
              "0                             -0.020226                             -0.101742   \n",
              "1                             -0.025334                             -0.101742   \n",
              "2                             -0.024850                             -0.101742   \n",
              "3                             -0.025293                             -0.101742   \n",
              "4                             -0.025031                             -0.101742   \n",
              "\n",
              "   DebtRatio  MonthlyIncome  NumberOfOpenCreditLinesAndLoans  \\\n",
              "0  -0.158580      -0.101718                        -0.678116   \n",
              "1  -0.158434      -0.292379                        -0.873086   \n",
              "2  -0.158422      -0.163436                         1.271585   \n",
              "3  -0.158567      -0.200580                        -0.483145   \n",
              "4  -0.158225      -0.372880                         3.416256   \n",
              "\n",
              "   NumberOfDependents  RealEstateLoansOrLines  \n",
              "0            1.139480               -0.252764  \n",
              "1           -0.666918               -0.252764  \n",
              "2            2.042678               -0.252764  \n",
              "3           -0.666918               -0.252764  \n",
              "4           -0.666918               -0.252764  "
            ],
            "text/html": [
              "\n",
              "  <div id=\"df-9cb618b5-2434-46bc-889c-bfad1cda03ac\">\n",
              "    <div class=\"colab-df-container\">\n",
              "      <div>\n",
              "<style scoped>\n",
              "    .dataframe tbody tr th:only-of-type {\n",
              "        vertical-align: middle;\n",
              "    }\n",
              "\n",
              "    .dataframe tbody tr th {\n",
              "        vertical-align: top;\n",
              "    }\n",
              "\n",
              "    .dataframe thead th {\n",
              "        text-align: right;\n",
              "    }\n",
              "</style>\n",
              "<table border=\"1\" class=\"dataframe\">\n",
              "  <thead>\n",
              "    <tr style=\"text-align: right;\">\n",
              "      <th></th>\n",
              "      <th>RevolvingUtilizationOfUnsecuredLines</th>\n",
              "      <th>NumberOfTime30-59DaysPastDueNotWorse</th>\n",
              "      <th>DebtRatio</th>\n",
              "      <th>MonthlyIncome</th>\n",
              "      <th>NumberOfOpenCreditLinesAndLoans</th>\n",
              "      <th>NumberOfDependents</th>\n",
              "      <th>RealEstateLoansOrLines</th>\n",
              "    </tr>\n",
              "  </thead>\n",
              "  <tbody>\n",
              "    <tr>\n",
              "      <th>0</th>\n",
              "      <td>-0.020226</td>\n",
              "      <td>-0.101742</td>\n",
              "      <td>-0.158580</td>\n",
              "      <td>-0.101718</td>\n",
              "      <td>-0.678116</td>\n",
              "      <td>1.139480</td>\n",
              "      <td>-0.252764</td>\n",
              "    </tr>\n",
              "    <tr>\n",
              "      <th>1</th>\n",
              "      <td>-0.025334</td>\n",
              "      <td>-0.101742</td>\n",
              "      <td>-0.158434</td>\n",
              "      <td>-0.292379</td>\n",
              "      <td>-0.873086</td>\n",
              "      <td>-0.666918</td>\n",
              "      <td>-0.252764</td>\n",
              "    </tr>\n",
              "    <tr>\n",
              "      <th>2</th>\n",
              "      <td>-0.024850</td>\n",
              "      <td>-0.101742</td>\n",
              "      <td>-0.158422</td>\n",
              "      <td>-0.163436</td>\n",
              "      <td>1.271585</td>\n",
              "      <td>2.042678</td>\n",
              "      <td>-0.252764</td>\n",
              "    </tr>\n",
              "    <tr>\n",
              "      <th>3</th>\n",
              "      <td>-0.025293</td>\n",
              "      <td>-0.101742</td>\n",
              "      <td>-0.158567</td>\n",
              "      <td>-0.200580</td>\n",
              "      <td>-0.483145</td>\n",
              "      <td>-0.666918</td>\n",
              "      <td>-0.252764</td>\n",
              "    </tr>\n",
              "    <tr>\n",
              "      <th>4</th>\n",
              "      <td>-0.025031</td>\n",
              "      <td>-0.101742</td>\n",
              "      <td>-0.158225</td>\n",
              "      <td>-0.372880</td>\n",
              "      <td>3.416256</td>\n",
              "      <td>-0.666918</td>\n",
              "      <td>-0.252764</td>\n",
              "    </tr>\n",
              "  </tbody>\n",
              "</table>\n",
              "</div>\n",
              "      <button class=\"colab-df-convert\" onclick=\"convertToInteractive('df-9cb618b5-2434-46bc-889c-bfad1cda03ac')\"\n",
              "              title=\"Convert this dataframe to an interactive table.\"\n",
              "              style=\"display:none;\">\n",
              "        \n",
              "  <svg xmlns=\"http://www.w3.org/2000/svg\" height=\"24px\"viewBox=\"0 0 24 24\"\n",
              "       width=\"24px\">\n",
              "    <path d=\"M0 0h24v24H0V0z\" fill=\"none\"/>\n",
              "    <path d=\"M18.56 5.44l.94 2.06.94-2.06 2.06-.94-2.06-.94-.94-2.06-.94 2.06-2.06.94zm-11 1L8.5 8.5l.94-2.06 2.06-.94-2.06-.94L8.5 2.5l-.94 2.06-2.06.94zm10 10l.94 2.06.94-2.06 2.06-.94-2.06-.94-.94-2.06-.94 2.06-2.06.94z\"/><path d=\"M17.41 7.96l-1.37-1.37c-.4-.4-.92-.59-1.43-.59-.52 0-1.04.2-1.43.59L10.3 9.45l-7.72 7.72c-.78.78-.78 2.05 0 2.83L4 21.41c.39.39.9.59 1.41.59.51 0 1.02-.2 1.41-.59l7.78-7.78 2.81-2.81c.8-.78.8-2.07 0-2.86zM5.41 20L4 18.59l7.72-7.72 1.47 1.35L5.41 20z\"/>\n",
              "  </svg>\n",
              "      </button>\n",
              "      \n",
              "  <style>\n",
              "    .colab-df-container {\n",
              "      display:flex;\n",
              "      flex-wrap:wrap;\n",
              "      gap: 12px;\n",
              "    }\n",
              "\n",
              "    .colab-df-convert {\n",
              "      background-color: #E8F0FE;\n",
              "      border: none;\n",
              "      border-radius: 50%;\n",
              "      cursor: pointer;\n",
              "      display: none;\n",
              "      fill: #1967D2;\n",
              "      height: 32px;\n",
              "      padding: 0 0 0 0;\n",
              "      width: 32px;\n",
              "    }\n",
              "\n",
              "    .colab-df-convert:hover {\n",
              "      background-color: #E2EBFA;\n",
              "      box-shadow: 0px 1px 2px rgba(60, 64, 67, 0.3), 0px 1px 3px 1px rgba(60, 64, 67, 0.15);\n",
              "      fill: #174EA6;\n",
              "    }\n",
              "\n",
              "    [theme=dark] .colab-df-convert {\n",
              "      background-color: #3B4455;\n",
              "      fill: #D2E3FC;\n",
              "    }\n",
              "\n",
              "    [theme=dark] .colab-df-convert:hover {\n",
              "      background-color: #434B5C;\n",
              "      box-shadow: 0px 1px 3px 1px rgba(0, 0, 0, 0.15);\n",
              "      filter: drop-shadow(0px 1px 2px rgba(0, 0, 0, 0.3));\n",
              "      fill: #FFFFFF;\n",
              "    }\n",
              "  </style>\n",
              "\n",
              "      <script>\n",
              "        const buttonEl =\n",
              "          document.querySelector('#df-9cb618b5-2434-46bc-889c-bfad1cda03ac button.colab-df-convert');\n",
              "        buttonEl.style.display =\n",
              "          google.colab.kernel.accessAllowed ? 'block' : 'none';\n",
              "\n",
              "        async function convertToInteractive(key) {\n",
              "          const element = document.querySelector('#df-9cb618b5-2434-46bc-889c-bfad1cda03ac');\n",
              "          const dataTable =\n",
              "            await google.colab.kernel.invokeFunction('convertToInteractive',\n",
              "                                                     [key], {});\n",
              "          if (!dataTable) return;\n",
              "\n",
              "          const docLinkHtml = 'Like what you see? Visit the ' +\n",
              "            '<a target=\"_blank\" href=https://colab.research.google.com/notebooks/data_table.ipynb>data table notebook</a>'\n",
              "            + ' to learn more about interactive tables.';\n",
              "          element.innerHTML = '';\n",
              "          dataTable['output_type'] = 'display_data';\n",
              "          await google.colab.output.renderOutput(dataTable, element);\n",
              "          const docLink = document.createElement('div');\n",
              "          docLink.innerHTML = docLinkHtml;\n",
              "          element.appendChild(docLink);\n",
              "        }\n",
              "      </script>\n",
              "    </div>\n",
              "  </div>\n",
              "  "
            ]
          },
          "metadata": {},
          "execution_count": 25
        }
      ]
    },
    {
      "cell_type": "markdown",
      "metadata": {
        "id": "jjPL8ZlJhtwf"
      },
      "source": [
        "Обучим логистическую регрессию на train и сделаем предсказание на новых для нее данных (test)."
      ]
    },
    {
      "cell_type": "code",
      "execution_count": 26,
      "metadata": {
        "colab": {
          "base_uri": "https://localhost:8080/",
          "height": 74
        },
        "id": "mmOb1h0Chtwf",
        "outputId": "01621eb3-0e66-4d41-bcd0-d20accdb906d"
      },
      "outputs": [
        {
          "output_type": "execute_result",
          "data": {
            "text/plain": [
              "LogisticRegression()"
            ],
            "text/html": [
              "<style>#sk-container-id-1 {color: black;background-color: white;}#sk-container-id-1 pre{padding: 0;}#sk-container-id-1 div.sk-toggleable {background-color: white;}#sk-container-id-1 label.sk-toggleable__label {cursor: pointer;display: block;width: 100%;margin-bottom: 0;padding: 0.3em;box-sizing: border-box;text-align: center;}#sk-container-id-1 label.sk-toggleable__label-arrow:before {content: \"▸\";float: left;margin-right: 0.25em;color: #696969;}#sk-container-id-1 label.sk-toggleable__label-arrow:hover:before {color: black;}#sk-container-id-1 div.sk-estimator:hover label.sk-toggleable__label-arrow:before {color: black;}#sk-container-id-1 div.sk-toggleable__content {max-height: 0;max-width: 0;overflow: hidden;text-align: left;background-color: #f0f8ff;}#sk-container-id-1 div.sk-toggleable__content pre {margin: 0.2em;color: black;border-radius: 0.25em;background-color: #f0f8ff;}#sk-container-id-1 input.sk-toggleable__control:checked~div.sk-toggleable__content {max-height: 200px;max-width: 100%;overflow: auto;}#sk-container-id-1 input.sk-toggleable__control:checked~label.sk-toggleable__label-arrow:before {content: \"▾\";}#sk-container-id-1 div.sk-estimator input.sk-toggleable__control:checked~label.sk-toggleable__label {background-color: #d4ebff;}#sk-container-id-1 div.sk-label input.sk-toggleable__control:checked~label.sk-toggleable__label {background-color: #d4ebff;}#sk-container-id-1 input.sk-hidden--visually {border: 0;clip: rect(1px 1px 1px 1px);clip: rect(1px, 1px, 1px, 1px);height: 1px;margin: -1px;overflow: hidden;padding: 0;position: absolute;width: 1px;}#sk-container-id-1 div.sk-estimator {font-family: monospace;background-color: #f0f8ff;border: 1px dotted black;border-radius: 0.25em;box-sizing: border-box;margin-bottom: 0.5em;}#sk-container-id-1 div.sk-estimator:hover {background-color: #d4ebff;}#sk-container-id-1 div.sk-parallel-item::after {content: \"\";width: 100%;border-bottom: 1px solid gray;flex-grow: 1;}#sk-container-id-1 div.sk-label:hover label.sk-toggleable__label {background-color: #d4ebff;}#sk-container-id-1 div.sk-serial::before {content: \"\";position: absolute;border-left: 1px solid gray;box-sizing: border-box;top: 0;bottom: 0;left: 50%;z-index: 0;}#sk-container-id-1 div.sk-serial {display: flex;flex-direction: column;align-items: center;background-color: white;padding-right: 0.2em;padding-left: 0.2em;position: relative;}#sk-container-id-1 div.sk-item {position: relative;z-index: 1;}#sk-container-id-1 div.sk-parallel {display: flex;align-items: stretch;justify-content: center;background-color: white;position: relative;}#sk-container-id-1 div.sk-item::before, #sk-container-id-1 div.sk-parallel-item::before {content: \"\";position: absolute;border-left: 1px solid gray;box-sizing: border-box;top: 0;bottom: 0;left: 50%;z-index: -1;}#sk-container-id-1 div.sk-parallel-item {display: flex;flex-direction: column;z-index: 1;position: relative;background-color: white;}#sk-container-id-1 div.sk-parallel-item:first-child::after {align-self: flex-end;width: 50%;}#sk-container-id-1 div.sk-parallel-item:last-child::after {align-self: flex-start;width: 50%;}#sk-container-id-1 div.sk-parallel-item:only-child::after {width: 0;}#sk-container-id-1 div.sk-dashed-wrapped {border: 1px dashed gray;margin: 0 0.4em 0.5em 0.4em;box-sizing: border-box;padding-bottom: 0.4em;background-color: white;}#sk-container-id-1 div.sk-label label {font-family: monospace;font-weight: bold;display: inline-block;line-height: 1.2em;}#sk-container-id-1 div.sk-label-container {text-align: center;}#sk-container-id-1 div.sk-container {/* jupyter's `normalize.less` sets `[hidden] { display: none; }` but bootstrap.min.css set `[hidden] { display: none !important; }` so we also need the `!important` here to be able to override the default hidden behavior on the sphinx rendered scikit-learn.org. See: https://github.com/scikit-learn/scikit-learn/issues/21755 */display: inline-block !important;position: relative;}#sk-container-id-1 div.sk-text-repr-fallback {display: none;}</style><div id=\"sk-container-id-1\" class=\"sk-top-container\"><div class=\"sk-text-repr-fallback\"><pre>LogisticRegression()</pre><b>In a Jupyter environment, please rerun this cell to show the HTML representation or trust the notebook. <br />On GitHub, the HTML representation is unable to render, please try loading this page with nbviewer.org.</b></div><div class=\"sk-container\" hidden><div class=\"sk-item\"><div class=\"sk-estimator sk-toggleable\"><input class=\"sk-toggleable__control sk-hidden--visually\" id=\"sk-estimator-id-1\" type=\"checkbox\" checked><label for=\"sk-estimator-id-1\" class=\"sk-toggleable__label sk-toggleable__label-arrow\">LogisticRegression</label><div class=\"sk-toggleable__content\"><pre>LogisticRegression()</pre></div></div></div></div></div>"
            ]
          },
          "metadata": {},
          "execution_count": 26
        }
      ],
      "source": [
        "from sklearn.linear_model import LogisticRegression # линейная модель для задачи классификации\n",
        "\n",
        "model = LogisticRegression() # объявление модели\n",
        "\n",
        "model.fit(Xtrain, ytrain) # обучение модели"
      ]
    },
    {
      "cell_type": "code",
      "source": [
        "pred_test = model.predict(Xtest) # предсказание классов"
      ],
      "metadata": {
        "id": "zsk3tPv5ia4F"
      },
      "execution_count": 27,
      "outputs": []
    },
    {
      "cell_type": "code",
      "source": [
        "accuracy_score(ytest, pred_test) #доля верных ответов на тестовой выборке"
      ],
      "metadata": {
        "colab": {
          "base_uri": "https://localhost:8080/"
        },
        "id": "cVaD2VwskQGY",
        "outputId": "03600fb3-8f8d-4720-fd52-b026fe9cda4a"
      },
      "execution_count": 28,
      "outputs": [
        {
          "output_type": "execute_result",
          "data": {
            "text/plain": [
              "0.9333993894274544"
            ]
          },
          "metadata": {},
          "execution_count": 28
        }
      ]
    },
    {
      "cell_type": "markdown",
      "source": [
        "Проверим, сбалансирована ли выборка."
      ],
      "metadata": {
        "id": "LzXLHJNGmNg6"
      }
    },
    {
      "cell_type": "code",
      "source": [
        "y.value_counts()"
      ],
      "metadata": {
        "colab": {
          "base_uri": "https://localhost:8080/"
        },
        "id": "NB4xFH1LiiSh",
        "outputId": "4ce047d6-68cf-4dfb-e9bc-6c249a235b96"
      },
      "execution_count": 29,
      "outputs": [
        {
          "output_type": "execute_result",
          "data": {
            "text/plain": [
              "0    139357\n",
              "1     10009\n",
              "Name: SeriousDlqin2yrs, dtype: int64"
            ]
          },
          "metadata": {},
          "execution_count": 29
        }
      ]
    },
    {
      "cell_type": "markdown",
      "source": [
        "Баланса классов нет: большинство клиентов не имеют просрочек ($y=0$). Если я \"в лоб\" проставлю всем константу 0, то угадаю 138571 из 148552 (это как раз 93,3%)."
      ],
      "metadata": {
        "id": "epmPo_TAPvEe"
      }
    },
    {
      "cell_type": "markdown",
      "source": [
        "## <font color='green'>2.2. Валидация модели</font>\n",
        "\n",
        "Для оценки качества модели используются различные метрики качества. Построим матрицу ошибок\n",
        "![image.png](data:image/png;base64,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)\n"
      ],
      "metadata": {
        "id": "0WKy0qt2QHw-"
      }
    },
    {
      "cell_type": "code",
      "source": [
        "from sklearn.metrics import confusion_matrix\n",
        "\n",
        "confusion_matrix(ytest, pred_test)"
      ],
      "metadata": {
        "id": "P3XkIHpJQJjv",
        "colab": {
          "base_uri": "https://localhost:8080/"
        },
        "outputId": "8f97827d-3573-42b0-bd36-ce685f7c328d"
      },
      "execution_count": 30,
      "outputs": [
        {
          "output_type": "execute_result",
          "data": {
            "text/plain": [
              "array([[34827,    19],\n",
              "       [ 2468,    28]])"
            ]
          },
          "metadata": {},
          "execution_count": 30
        }
      ]
    },
    {
      "cell_type": "markdown",
      "source": [
        "\n",
        "\n",
        "Также можно посмотреть на метрику **recall (полнота)** - она показывает, какую долю клиентов с просрочками 90+ дней (объектов положительного класса) определила модель.(TN/(FN+TN))</font>"
      ],
      "metadata": {
        "id": "xeBZEYHnPW34"
      }
    },
    {
      "cell_type": "code",
      "source": [
        "from sklearn.metrics import recall_score\n",
        "\n",
        "recall_score(ytest, pred_test)"
      ],
      "metadata": {
        "id": "rs1crUP3Qvsh",
        "colab": {
          "base_uri": "https://localhost:8080/"
        },
        "outputId": "f2ab899c-27d3-45e0-ad87-94f58225b3d3"
      },
      "execution_count": 31,
      "outputs": [
        {
          "output_type": "execute_result",
          "data": {
            "text/plain": [
              "0.011217948717948718"
            ]
          },
          "metadata": {},
          "execution_count": 31
        }
      ]
    },
    {
      "cell_type": "markdown",
      "source": [
        "Пропустили 98,6% клиентов, которые с просрочками 90+ дней.\n",
        "\n",
        "Посмотрим precision (**точность**) - показывает сколько клиентов, определенных, как \"имеют просрочки 90+\", действительно являются таковыми (TN/(FP+TN)"
      ],
      "metadata": {
        "id": "BM2VnGLqu69C"
      }
    },
    {
      "cell_type": "code",
      "source": [
        "from sklearn.metrics import precision_score #точность. Из определенных, как \"имеют просрочки 90+\" сколько действительно имеют её(TN/(FP+TN)\n",
        "\n",
        "precision_score(ytest, pred_test)"
      ],
      "metadata": {
        "colab": {
          "base_uri": "https://localhost:8080/"
        },
        "id": "mS0tOH-8vLYk",
        "outputId": "5f5b5b2c-d285-4533-bdd3-dd08e0775583"
      },
      "execution_count": 32,
      "outputs": [
        {
          "output_type": "execute_result",
          "data": {
            "text/plain": [
              "0.5957446808510638"
            ]
          },
          "metadata": {},
          "execution_count": 32
        }
      ]
    },
    {
      "cell_type": "markdown",
      "source": [
        "С одной стороны recall очень мал, следовательно, мы выдадим много невозвратных кредитов. Но в данном случае нам гораздо важнее precision_score, тк банк зарабатывает на кредитах и любой ложный отказ это упущенная выгода, а просрочки Банк взымает в судебном порядке ."
      ],
      "metadata": {
        "id": "4ynls9te450t"
      }
    },
    {
      "cell_type": "markdown",
      "source": [
        "\n",
        "<font color='blue'>Попробуем изменить **порог для перевода вероятности в классы** со стандартного 0.5 </blue>"
      ],
      "metadata": {
        "id": "MHF1dXxLQQlB"
      }
    },
    {
      "cell_type": "code",
      "source": [
        "probs = model.predict_proba(Xtest)\n",
        "\n",
        "probs[:10]"
      ],
      "metadata": {
        "colab": {
          "base_uri": "https://localhost:8080/"
        },
        "id": "byxAyLHr_HP7",
        "outputId": "c12d6504-1613-4709-e10d-4dee5d2a4941"
      },
      "execution_count": 33,
      "outputs": [
        {
          "output_type": "execute_result",
          "data": {
            "text/plain": [
              "array([[0.93581217, 0.06418783],\n",
              "       [0.93061339, 0.06938661],\n",
              "       [0.93124707, 0.06875293],\n",
              "       [0.93906215, 0.06093785],\n",
              "       [0.94846468, 0.05153532],\n",
              "       [0.93899111, 0.06100889],\n",
              "       [0.94495631, 0.05504369],\n",
              "       [0.93010155, 0.06989845],\n",
              "       [0.95159392, 0.04840608],\n",
              "       [0.96070622, 0.03929378]])"
            ]
          },
          "metadata": {},
          "execution_count": 33
        }
      ]
    },
    {
      "cell_type": "code",
      "source": [
        "probs_arrears = probs[:,1]\n",
        "\n",
        "classes = probs_arrears > 0.7 #по умолчанию 0,5 было"
      ],
      "metadata": {
        "id": "JoDNJgZ_O609"
      },
      "execution_count": 66,
      "outputs": []
    },
    {
      "cell_type": "code",
      "source": [
        "confusion_matrix(ytest, classes)"
      ],
      "metadata": {
        "id": "EPmRIHIGO_I9",
        "colab": {
          "base_uri": "https://localhost:8080/"
        },
        "outputId": "59823628-faa0-4550-ea1e-bf1a3bc7889a"
      },
      "execution_count": 67,
      "outputs": [
        {
          "output_type": "execute_result",
          "data": {
            "text/plain": [
              "array([[34827,    19],\n",
              "       [ 2468,    28]])"
            ]
          },
          "metadata": {},
          "execution_count": 67
        }
      ]
    },
    {
      "cell_type": "code",
      "source": [
        "recall_score(ytest, classes)"
      ],
      "metadata": {
        "id": "uBPFvMlGQ11c",
        "colab": {
          "base_uri": "https://localhost:8080/"
        },
        "outputId": "f8608df6-084e-4107-b1fe-5bc6d6f2af05"
      },
      "execution_count": 68,
      "outputs": [
        {
          "output_type": "execute_result",
          "data": {
            "text/plain": [
              "0.011217948717948718"
            ]
          },
          "metadata": {},
          "execution_count": 68
        }
      ]
    },
    {
      "cell_type": "code",
      "source": [
        "from sklearn.metrics import precision_score #точность. Из определенных, как \"имеют просрочки 90+\" сколько действительно имеют её(TN/(FP+TN)\n",
        "\n",
        "precision_score(ytest, classes)"
      ],
      "metadata": {
        "colab": {
          "base_uri": "https://localhost:8080/"
        },
        "id": "Ec4laDem6xf7",
        "outputId": "1037c1c3-dbff-4973-e88d-958ccde0877f"
      },
      "execution_count": 69,
      "outputs": [
        {
          "output_type": "execute_result",
          "data": {
            "text/plain": [
              "0.5957446808510638"
            ]
          },
          "metadata": {},
          "execution_count": 69
        }
      ]
    },
    {
      "cell_type": "markdown",
      "source": [
        "Незначительный рост recall и precision."
      ],
      "metadata": {
        "id": "WpBpmBaHQaFH"
      }
    },
    {
      "cell_type": "markdown",
      "source": [
        "## <font color='green'>3. Интерпретация модели</font>\n",
        "\n",
        "После обучения модели можно посмотреть на её веса, то есть на коэффициенты при признаках, найденные моделью."
      ],
      "metadata": {
        "id": "N0qYwySGh9p_"
      }
    },
    {
      "cell_type": "code",
      "source": [
        "model.coef_, model.intercept_"
      ],
      "metadata": {
        "colab": {
          "base_uri": "https://localhost:8080/"
        },
        "id": "MbBhMrg9h_5o",
        "outputId": "8c35c448-1bb9-4d90-92da-8393b6e3f0e0"
      },
      "execution_count": 70,
      "outputs": [
        {
          "output_type": "execute_result",
          "data": {
            "text/plain": [
              "(array([[-0.00496483,  0.18718483, -0.0848452 , -0.82284453, -0.11686562,\n",
              "          0.20285908,  0.17996027]]),\n",
              " array([-2.70766059]))"
            ]
          },
          "metadata": {},
          "execution_count": 70
        }
      ]
    },
    {
      "cell_type": "code",
      "source": [
        "import pandas as pd\n",
        "\n",
        "coef_table = pd.DataFrame({'features' : list(X.columns), 'weights' : list(model.coef_[0])})\n",
        "\n",
        "coef_table.sort_values(by='weights')"
      ],
      "metadata": {
        "colab": {
          "base_uri": "https://localhost:8080/",
          "height": 269
        },
        "id": "IaQlscwZiiUu",
        "outputId": "6038388a-3736-4e5b-85e8-0095f308d4e5"
      },
      "execution_count": 71,
      "outputs": [
        {
          "output_type": "execute_result",
          "data": {
            "text/plain": [
              "                               features   weights\n",
              "3                         MonthlyIncome -0.822845\n",
              "4       NumberOfOpenCreditLinesAndLoans -0.116866\n",
              "2                             DebtRatio -0.084845\n",
              "0  RevolvingUtilizationOfUnsecuredLines -0.004965\n",
              "6                RealEstateLoansOrLines  0.179960\n",
              "1  NumberOfTime30-59DaysPastDueNotWorse  0.187185\n",
              "5                    NumberOfDependents  0.202859"
            ],
            "text/html": [
              "\n",
              "  <div id=\"df-7db049bf-d57c-432e-be9d-e1d0088c0d6c\">\n",
              "    <div class=\"colab-df-container\">\n",
              "      <div>\n",
              "<style scoped>\n",
              "    .dataframe tbody tr th:only-of-type {\n",
              "        vertical-align: middle;\n",
              "    }\n",
              "\n",
              "    .dataframe tbody tr th {\n",
              "        vertical-align: top;\n",
              "    }\n",
              "\n",
              "    .dataframe thead th {\n",
              "        text-align: right;\n",
              "    }\n",
              "</style>\n",
              "<table border=\"1\" class=\"dataframe\">\n",
              "  <thead>\n",
              "    <tr style=\"text-align: right;\">\n",
              "      <th></th>\n",
              "      <th>features</th>\n",
              "      <th>weights</th>\n",
              "    </tr>\n",
              "  </thead>\n",
              "  <tbody>\n",
              "    <tr>\n",
              "      <th>3</th>\n",
              "      <td>MonthlyIncome</td>\n",
              "      <td>-0.822845</td>\n",
              "    </tr>\n",
              "    <tr>\n",
              "      <th>4</th>\n",
              "      <td>NumberOfOpenCreditLinesAndLoans</td>\n",
              "      <td>-0.116866</td>\n",
              "    </tr>\n",
              "    <tr>\n",
              "      <th>2</th>\n",
              "      <td>DebtRatio</td>\n",
              "      <td>-0.084845</td>\n",
              "    </tr>\n",
              "    <tr>\n",
              "      <th>0</th>\n",
              "      <td>RevolvingUtilizationOfUnsecuredLines</td>\n",
              "      <td>-0.004965</td>\n",
              "    </tr>\n",
              "    <tr>\n",
              "      <th>6</th>\n",
              "      <td>RealEstateLoansOrLines</td>\n",
              "      <td>0.179960</td>\n",
              "    </tr>\n",
              "    <tr>\n",
              "      <th>1</th>\n",
              "      <td>NumberOfTime30-59DaysPastDueNotWorse</td>\n",
              "      <td>0.187185</td>\n",
              "    </tr>\n",
              "    <tr>\n",
              "      <th>5</th>\n",
              "      <td>NumberOfDependents</td>\n",
              "      <td>0.202859</td>\n",
              "    </tr>\n",
              "  </tbody>\n",
              "</table>\n",
              "</div>\n",
              "      <button class=\"colab-df-convert\" onclick=\"convertToInteractive('df-7db049bf-d57c-432e-be9d-e1d0088c0d6c')\"\n",
              "              title=\"Convert this dataframe to an interactive table.\"\n",
              "              style=\"display:none;\">\n",
              "        \n",
              "  <svg xmlns=\"http://www.w3.org/2000/svg\" height=\"24px\"viewBox=\"0 0 24 24\"\n",
              "       width=\"24px\">\n",
              "    <path d=\"M0 0h24v24H0V0z\" fill=\"none\"/>\n",
              "    <path d=\"M18.56 5.44l.94 2.06.94-2.06 2.06-.94-2.06-.94-.94-2.06-.94 2.06-2.06.94zm-11 1L8.5 8.5l.94-2.06 2.06-.94-2.06-.94L8.5 2.5l-.94 2.06-2.06.94zm10 10l.94 2.06.94-2.06 2.06-.94-2.06-.94-.94-2.06-.94 2.06-2.06.94z\"/><path d=\"M17.41 7.96l-1.37-1.37c-.4-.4-.92-.59-1.43-.59-.52 0-1.04.2-1.43.59L10.3 9.45l-7.72 7.72c-.78.78-.78 2.05 0 2.83L4 21.41c.39.39.9.59 1.41.59.51 0 1.02-.2 1.41-.59l7.78-7.78 2.81-2.81c.8-.78.8-2.07 0-2.86zM5.41 20L4 18.59l7.72-7.72 1.47 1.35L5.41 20z\"/>\n",
              "  </svg>\n",
              "      </button>\n",
              "      \n",
              "  <style>\n",
              "    .colab-df-container {\n",
              "      display:flex;\n",
              "      flex-wrap:wrap;\n",
              "      gap: 12px;\n",
              "    }\n",
              "\n",
              "    .colab-df-convert {\n",
              "      background-color: #E8F0FE;\n",
              "      border: none;\n",
              "      border-radius: 50%;\n",
              "      cursor: pointer;\n",
              "      display: none;\n",
              "      fill: #1967D2;\n",
              "      height: 32px;\n",
              "      padding: 0 0 0 0;\n",
              "      width: 32px;\n",
              "    }\n",
              "\n",
              "    .colab-df-convert:hover {\n",
              "      background-color: #E2EBFA;\n",
              "      box-shadow: 0px 1px 2px rgba(60, 64, 67, 0.3), 0px 1px 3px 1px rgba(60, 64, 67, 0.15);\n",
              "      fill: #174EA6;\n",
              "    }\n",
              "\n",
              "    [theme=dark] .colab-df-convert {\n",
              "      background-color: #3B4455;\n",
              "      fill: #D2E3FC;\n",
              "    }\n",
              "\n",
              "    [theme=dark] .colab-df-convert:hover {\n",
              "      background-color: #434B5C;\n",
              "      box-shadow: 0px 1px 3px 1px rgba(0, 0, 0, 0.15);\n",
              "      filter: drop-shadow(0px 1px 2px rgba(0, 0, 0, 0.3));\n",
              "      fill: #FFFFFF;\n",
              "    }\n",
              "  </style>\n",
              "\n",
              "      <script>\n",
              "        const buttonEl =\n",
              "          document.querySelector('#df-7db049bf-d57c-432e-be9d-e1d0088c0d6c button.colab-df-convert');\n",
              "        buttonEl.style.display =\n",
              "          google.colab.kernel.accessAllowed ? 'block' : 'none';\n",
              "\n",
              "        async function convertToInteractive(key) {\n",
              "          const element = document.querySelector('#df-7db049bf-d57c-432e-be9d-e1d0088c0d6c');\n",
              "          const dataTable =\n",
              "            await google.colab.kernel.invokeFunction('convertToInteractive',\n",
              "                                                     [key], {});\n",
              "          if (!dataTable) return;\n",
              "\n",
              "          const docLinkHtml = 'Like what you see? Visit the ' +\n",
              "            '<a target=\"_blank\" href=https://colab.research.google.com/notebooks/data_table.ipynb>data table notebook</a>'\n",
              "            + ' to learn more about interactive tables.';\n",
              "          element.innerHTML = '';\n",
              "          dataTable['output_type'] = 'display_data';\n",
              "          await google.colab.output.renderOutput(dataTable, element);\n",
              "          const docLink = document.createElement('div');\n",
              "          docLink.innerHTML = docLinkHtml;\n",
              "          element.appendChild(docLink);\n",
              "        }\n",
              "      </script>\n",
              "    </div>\n",
              "  </div>\n",
              "  "
            ]
          },
          "metadata": {},
          "execution_count": 71
        }
      ]
    },
    {
      "cell_type": "markdown",
      "source": [
        "Если вес у признака положительный, то признак вносит положительный вклад в ответ, то есть чем больше значение признака, тем больше это дает вклад в положительный класс объекта и наоборот.\n",
        "\n",
        "*Пример:* \n",
        "\n",
        "чем **выше** ежемесячный доход, тем **меньше** вероятность просрочки 90+, \n",
        "\n",
        "но чем **больше** просрочек за 2 года, тем **больше** верочтность просрочки 90+"
      ],
      "metadata": {
        "id": "52qZjNAHix1M"
      }
    },
    {
      "cell_type": "markdown",
      "source": [
        "## <font color='green'>4. Сохранение результатов экспериментов</font>\n",
        "\n",
        "Что сохраняем?\n",
        "\n",
        "* Предсказания модели\n",
        "* Эксперименты\n",
        "* Модель"
      ],
      "metadata": {
        "id": "_ezdQM9tTcW6"
      }
    },
    {
      "cell_type": "markdown",
      "source": [
        "Сначала сохраним предсказания модели в файл:"
      ],
      "metadata": {
        "id": "ACp_KXUatce-"
      }
    },
    {
      "cell_type": "code",
      "source": [
        "Xtest['predictions'] = probs_arrears\n",
        "\n",
        "Xtest[['predictions']].to_csv(\"PredictionsArrears.csv\", index=False)"
      ],
      "metadata": {
        "id": "mJ4WVFhKAnOC"
      },
      "execution_count": 72,
      "outputs": []
    },
    {
      "cell_type": "code",
      "source": [
        "Xtest.head().T"
      ],
      "metadata": {
        "colab": {
          "base_uri": "https://localhost:8080/",
          "height": 300
        },
        "id": "zccmQvgS6ohB",
        "outputId": "7edde058-1d1d-4a0d-9e18-3519b23d28ec"
      },
      "execution_count": 53,
      "outputs": [
        {
          "output_type": "execute_result",
          "data": {
            "text/plain": [
              "                                             0         1         2         3  \\\n",
              "RevolvingUtilizationOfUnsecuredLines -0.023249 -0.024253 -0.025293 -0.023682   \n",
              "NumberOfTime30-59DaysPastDueNotWorse -0.101742 -0.101742  0.901891 -0.101742   \n",
              "DebtRatio                            -0.158078 -0.158465 -0.158243 -0.116069   \n",
              "MonthlyIncome                        -0.052288 -0.042896  0.086612 -0.073472   \n",
              "NumberOfOpenCreditLinesAndLoans       0.101765 -0.678116  0.101765 -0.873086   \n",
              "NumberOfDependents                    0.236281  0.236281  0.236281 -0.666918   \n",
              "RealEstateLoansOrLines               -0.252764 -0.252764 -0.252764 -0.252764   \n",
              "predictions                           0.064188  0.069387  0.068753  0.060938   \n",
              "\n",
              "                                             4  \n",
              "RevolvingUtilizationOfUnsecuredLines -0.023561  \n",
              "NumberOfTime30-59DaysPastDueNotWorse  0.149166  \n",
              "DebtRatio                            -0.158236  \n",
              "MonthlyIncome                         0.233703  \n",
              "NumberOfOpenCreditLinesAndLoans       2.051466  \n",
              "NumberOfDependents                    1.139480  \n",
              "RealEstateLoansOrLines               -0.252764  \n",
              "predictions                           0.051535  "
            ],
            "text/html": [
              "\n",
              "  <div id=\"df-966cf833-926a-436d-bf0a-0ff5b2665f61\">\n",
              "    <div class=\"colab-df-container\">\n",
              "      <div>\n",
              "<style scoped>\n",
              "    .dataframe tbody tr th:only-of-type {\n",
              "        vertical-align: middle;\n",
              "    }\n",
              "\n",
              "    .dataframe tbody tr th {\n",
              "        vertical-align: top;\n",
              "    }\n",
              "\n",
              "    .dataframe thead th {\n",
              "        text-align: right;\n",
              "    }\n",
              "</style>\n",
              "<table border=\"1\" class=\"dataframe\">\n",
              "  <thead>\n",
              "    <tr style=\"text-align: right;\">\n",
              "      <th></th>\n",
              "      <th>0</th>\n",
              "      <th>1</th>\n",
              "      <th>2</th>\n",
              "      <th>3</th>\n",
              "      <th>4</th>\n",
              "    </tr>\n",
              "  </thead>\n",
              "  <tbody>\n",
              "    <tr>\n",
              "      <th>RevolvingUtilizationOfUnsecuredLines</th>\n",
              "      <td>-0.023249</td>\n",
              "      <td>-0.024253</td>\n",
              "      <td>-0.025293</td>\n",
              "      <td>-0.023682</td>\n",
              "      <td>-0.023561</td>\n",
              "    </tr>\n",
              "    <tr>\n",
              "      <th>NumberOfTime30-59DaysPastDueNotWorse</th>\n",
              "      <td>-0.101742</td>\n",
              "      <td>-0.101742</td>\n",
              "      <td>0.901891</td>\n",
              "      <td>-0.101742</td>\n",
              "      <td>0.149166</td>\n",
              "    </tr>\n",
              "    <tr>\n",
              "      <th>DebtRatio</th>\n",
              "      <td>-0.158078</td>\n",
              "      <td>-0.158465</td>\n",
              "      <td>-0.158243</td>\n",
              "      <td>-0.116069</td>\n",
              "      <td>-0.158236</td>\n",
              "    </tr>\n",
              "    <tr>\n",
              "      <th>MonthlyIncome</th>\n",
              "      <td>-0.052288</td>\n",
              "      <td>-0.042896</td>\n",
              "      <td>0.086612</td>\n",
              "      <td>-0.073472</td>\n",
              "      <td>0.233703</td>\n",
              "    </tr>\n",
              "    <tr>\n",
              "      <th>NumberOfOpenCreditLinesAndLoans</th>\n",
              "      <td>0.101765</td>\n",
              "      <td>-0.678116</td>\n",
              "      <td>0.101765</td>\n",
              "      <td>-0.873086</td>\n",
              "      <td>2.051466</td>\n",
              "    </tr>\n",
              "    <tr>\n",
              "      <th>NumberOfDependents</th>\n",
              "      <td>0.236281</td>\n",
              "      <td>0.236281</td>\n",
              "      <td>0.236281</td>\n",
              "      <td>-0.666918</td>\n",
              "      <td>1.139480</td>\n",
              "    </tr>\n",
              "    <tr>\n",
              "      <th>RealEstateLoansOrLines</th>\n",
              "      <td>-0.252764</td>\n",
              "      <td>-0.252764</td>\n",
              "      <td>-0.252764</td>\n",
              "      <td>-0.252764</td>\n",
              "      <td>-0.252764</td>\n",
              "    </tr>\n",
              "    <tr>\n",
              "      <th>predictions</th>\n",
              "      <td>0.064188</td>\n",
              "      <td>0.069387</td>\n",
              "      <td>0.068753</td>\n",
              "      <td>0.060938</td>\n",
              "      <td>0.051535</td>\n",
              "    </tr>\n",
              "  </tbody>\n",
              "</table>\n",
              "</div>\n",
              "      <button class=\"colab-df-convert\" onclick=\"convertToInteractive('df-966cf833-926a-436d-bf0a-0ff5b2665f61')\"\n",
              "              title=\"Convert this dataframe to an interactive table.\"\n",
              "              style=\"display:none;\">\n",
              "        \n",
              "  <svg xmlns=\"http://www.w3.org/2000/svg\" height=\"24px\"viewBox=\"0 0 24 24\"\n",
              "       width=\"24px\">\n",
              "    <path d=\"M0 0h24v24H0V0z\" fill=\"none\"/>\n",
              "    <path d=\"M18.56 5.44l.94 2.06.94-2.06 2.06-.94-2.06-.94-.94-2.06-.94 2.06-2.06.94zm-11 1L8.5 8.5l.94-2.06 2.06-.94-2.06-.94L8.5 2.5l-.94 2.06-2.06.94zm10 10l.94 2.06.94-2.06 2.06-.94-2.06-.94-.94-2.06-.94 2.06-2.06.94z\"/><path d=\"M17.41 7.96l-1.37-1.37c-.4-.4-.92-.59-1.43-.59-.52 0-1.04.2-1.43.59L10.3 9.45l-7.72 7.72c-.78.78-.78 2.05 0 2.83L4 21.41c.39.39.9.59 1.41.59.51 0 1.02-.2 1.41-.59l7.78-7.78 2.81-2.81c.8-.78.8-2.07 0-2.86zM5.41 20L4 18.59l7.72-7.72 1.47 1.35L5.41 20z\"/>\n",
              "  </svg>\n",
              "      </button>\n",
              "      \n",
              "  <style>\n",
              "    .colab-df-container {\n",
              "      display:flex;\n",
              "      flex-wrap:wrap;\n",
              "      gap: 12px;\n",
              "    }\n",
              "\n",
              "    .colab-df-convert {\n",
              "      background-color: #E8F0FE;\n",
              "      border: none;\n",
              "      border-radius: 50%;\n",
              "      cursor: pointer;\n",
              "      display: none;\n",
              "      fill: #1967D2;\n",
              "      height: 32px;\n",
              "      padding: 0 0 0 0;\n",
              "      width: 32px;\n",
              "    }\n",
              "\n",
              "    .colab-df-convert:hover {\n",
              "      background-color: #E2EBFA;\n",
              "      box-shadow: 0px 1px 2px rgba(60, 64, 67, 0.3), 0px 1px 3px 1px rgba(60, 64, 67, 0.15);\n",
              "      fill: #174EA6;\n",
              "    }\n",
              "\n",
              "    [theme=dark] .colab-df-convert {\n",
              "      background-color: #3B4455;\n",
              "      fill: #D2E3FC;\n",
              "    }\n",
              "\n",
              "    [theme=dark] .colab-df-convert:hover {\n",
              "      background-color: #434B5C;\n",
              "      box-shadow: 0px 1px 3px 1px rgba(0, 0, 0, 0.15);\n",
              "      filter: drop-shadow(0px 1px 2px rgba(0, 0, 0, 0.3));\n",
              "      fill: #FFFFFF;\n",
              "    }\n",
              "  </style>\n",
              "\n",
              "      <script>\n",
              "        const buttonEl =\n",
              "          document.querySelector('#df-966cf833-926a-436d-bf0a-0ff5b2665f61 button.colab-df-convert');\n",
              "        buttonEl.style.display =\n",
              "          google.colab.kernel.accessAllowed ? 'block' : 'none';\n",
              "\n",
              "        async function convertToInteractive(key) {\n",
              "          const element = document.querySelector('#df-966cf833-926a-436d-bf0a-0ff5b2665f61');\n",
              "          const dataTable =\n",
              "            await google.colab.kernel.invokeFunction('convertToInteractive',\n",
              "                                                     [key], {});\n",
              "          if (!dataTable) return;\n",
              "\n",
              "          const docLinkHtml = 'Like what you see? Visit the ' +\n",
              "            '<a target=\"_blank\" href=https://colab.research.google.com/notebooks/data_table.ipynb>data table notebook</a>'\n",
              "            + ' to learn more about interactive tables.';\n",
              "          element.innerHTML = '';\n",
              "          dataTable['output_type'] = 'display_data';\n",
              "          await google.colab.output.renderOutput(dataTable, element);\n",
              "          const docLink = document.createElement('div');\n",
              "          docLink.innerHTML = docLinkHtml;\n",
              "          element.appendChild(docLink);\n",
              "        }\n",
              "      </script>\n",
              "    </div>\n",
              "  </div>\n",
              "  "
            ]
          },
          "metadata": {},
          "execution_count": 53
        }
      ]
    },
    {
      "cell_type": "markdown",
      "source": [
        "Теперь сохраним модель:"
      ],
      "metadata": {
        "id": "oC9ZLJi0tftb"
      }
    },
    {
      "cell_type": "code",
      "source": [
        "import pickle \n",
        "\n",
        "with open('model.pickle', 'wb') as f:\n",
        "    pickle.dump(model, f)\n",
        "\n",
        "# а так модель можно загрузить из файла:  \n",
        "# with open('filename.pickle', 'rb') as f:\n",
        "#     model = pickle.load(f)"
      ],
      "metadata": {
        "id": "3HBU7ogWtfP6"
      },
      "execution_count": null,
      "outputs": []
    },
    {
      "cell_type": "markdown",
      "source": [
        "Сохраним полученную модель, файл с предсказаниями и ноутбук с экспериментами на гитхаб."
      ],
      "metadata": {
        "id": "Jj9zwt5ds8Eh"
      }
    },
    {
      "cell_type": "markdown",
      "source": [
        "![github.png](data:image/png;base64,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)"
      ],
      "metadata": {
        "id": "fB6Tr63AuXWT"
      }
    },
    {
      "cell_type": "markdown",
      "source": [
        "## <font color='green'>5. Градиентный бустинг</font>\n",
        "\n",
        "Мы поработали с линейными моделями. Они весьма и весьма простые — предполагают независимость признаков и линейную связь между каждым признаком и целевой переменной. Конечно, в наших данных вряд ли всё так просто. Можно пытаться усложнять линейные модели: добавлять нелинейные признаки, переходить в новое признаковое пространство. Но это всё полумеры.\n",
        "\n",
        "Сейчас мы поработаем с градиентным бустингом — одним из самых мощных подходов для работы с табличными данными."
      ],
      "metadata": {
        "id": "tgIuAPbBWl1p"
      }
    },
    {
      "cell_type": "markdown",
      "source": [
        "Пока не ушли далеко — посчитаем и запомним качество логистической регрессии."
      ],
      "metadata": {
        "id": "J9PZ_7cFXXSg"
      }
    },
    {
      "cell_type": "code",
      "source": [
        "from sklearn import metrics\n",
        "\n",
        "print(\"LR quality:\")\n",
        "print(\"precision: \", metrics.precision_score(ytest, classes))\n",
        "print(\"recall: \", metrics.recall_score(ytest, classes))\n",
        "print(\"auc-roc: \", metrics.roc_auc_score(ytest, probs[:, 1]))"
      ],
      "metadata": {
        "colab": {
          "base_uri": "https://localhost:8080/"
        },
        "id": "SqKo62t0XWiE",
        "outputId": "96603a9c-8b49-4f09-a308-fd157a8cf52f"
      },
      "execution_count": 73,
      "outputs": [
        {
          "output_type": "stream",
          "name": "stdout",
          "text": [
            "LR quality:\n",
            "precision:  0.5957446808510638\n",
            "recall:  0.011217948717948718\n",
            "auc-roc:  0.6349340313956501\n"
          ]
        }
      ]
    },
    {
      "cell_type": "markdown",
      "source": [
        "Есть много имплементаций градиентного бустинга. Мы будем пользоваться CatBoost — библиотекой от Яндекса, которая очень эффективно написана и широко используется в мире."
      ],
      "metadata": {
        "id": "t0aoM9aSYora"
      }
    },
    {
      "cell_type": "code",
      "source": [
        "!pip install catboost"
      ],
      "metadata": {
        "colab": {
          "base_uri": "https://localhost:8080/"
        },
        "id": "2QoLTWFrWj92",
        "outputId": "d2d17f2d-4ebf-48f7-8461-2f2179f58322"
      },
      "execution_count": 75,
      "outputs": [
        {
          "output_type": "stream",
          "name": "stdout",
          "text": [
            "Looking in indexes: https://pypi.org/simple, https://us-python.pkg.dev/colab-wheels/public/simple/\n",
            "Collecting catboost\n",
            "  Downloading catboost-1.2-cp310-cp310-manylinux2014_x86_64.whl (98.6 MB)\n",
            "\u001b[2K     \u001b[90m━━━━━━━━━━━━━━━━━━━━━━━━━━━━━━━━━━━━━━━━\u001b[0m \u001b[32m98.6/98.6 MB\u001b[0m \u001b[31m10.6 MB/s\u001b[0m eta \u001b[36m0:00:00\u001b[0m\n",
            "\u001b[?25hRequirement already satisfied: graphviz in /usr/local/lib/python3.10/dist-packages (from catboost) (0.20.1)\n",
            "Requirement already satisfied: matplotlib in /usr/local/lib/python3.10/dist-packages (from catboost) (3.7.1)\n",
            "Requirement already satisfied: numpy>=1.16.0 in /usr/local/lib/python3.10/dist-packages (from catboost) (1.22.4)\n",
            "Requirement already satisfied: pandas>=0.24 in /usr/local/lib/python3.10/dist-packages (from catboost) (1.5.3)\n",
            "Requirement already satisfied: scipy in /usr/local/lib/python3.10/dist-packages (from catboost) (1.10.1)\n",
            "Requirement already satisfied: plotly in /usr/local/lib/python3.10/dist-packages (from catboost) (5.13.1)\n",
            "Requirement already satisfied: six in /usr/local/lib/python3.10/dist-packages (from catboost) (1.16.0)\n",
            "Requirement already satisfied: python-dateutil>=2.8.1 in /usr/local/lib/python3.10/dist-packages (from pandas>=0.24->catboost) (2.8.2)\n",
            "Requirement already satisfied: pytz>=2020.1 in /usr/local/lib/python3.10/dist-packages (from pandas>=0.24->catboost) (2022.7.1)\n",
            "Requirement already satisfied: contourpy>=1.0.1 in /usr/local/lib/python3.10/dist-packages (from matplotlib->catboost) (1.0.7)\n",
            "Requirement already satisfied: cycler>=0.10 in /usr/local/lib/python3.10/dist-packages (from matplotlib->catboost) (0.11.0)\n",
            "Requirement already satisfied: fonttools>=4.22.0 in /usr/local/lib/python3.10/dist-packages (from matplotlib->catboost) (4.39.3)\n",
            "Requirement already satisfied: kiwisolver>=1.0.1 in /usr/local/lib/python3.10/dist-packages (from matplotlib->catboost) (1.4.4)\n",
            "Requirement already satisfied: packaging>=20.0 in /usr/local/lib/python3.10/dist-packages (from matplotlib->catboost) (23.1)\n",
            "Requirement already satisfied: pillow>=6.2.0 in /usr/local/lib/python3.10/dist-packages (from matplotlib->catboost) (8.4.0)\n",
            "Requirement already satisfied: pyparsing>=2.3.1 in /usr/local/lib/python3.10/dist-packages (from matplotlib->catboost) (3.0.9)\n",
            "Requirement already satisfied: tenacity>=6.2.0 in /usr/local/lib/python3.10/dist-packages (from plotly->catboost) (8.2.2)\n",
            "Installing collected packages: catboost\n",
            "Successfully installed catboost-1.2\n"
          ]
        }
      ]
    },
    {
      "cell_type": "code",
      "source": [
        "from catboost import CatBoostClassifier, Pool"
      ],
      "metadata": {
        "id": "WnWQilzgY_QO"
      },
      "execution_count": 76,
      "outputs": []
    },
    {
      "cell_type": "code",
      "source": [
        "Xtest = Xtest.drop(['predictions'],axis=1)"
      ],
      "metadata": {
        "id": "WtjPi8m9c-Ui"
      },
      "execution_count": 77,
      "outputs": []
    },
    {
      "cell_type": "code",
      "source": [
        "Xtrain.head().T"
      ],
      "metadata": {
        "colab": {
          "base_uri": "https://localhost:8080/",
          "height": 269
        },
        "id": "5dMCPVJhgazl",
        "outputId": "469a2807-a14b-41ee-fc41-56311fbc85ba"
      },
      "execution_count": 78,
      "outputs": [
        {
          "output_type": "execute_result",
          "data": {
            "text/plain": [
              "                                             0         1         2         3  \\\n",
              "RevolvingUtilizationOfUnsecuredLines -0.020226 -0.025334 -0.024850 -0.025293   \n",
              "NumberOfTime30-59DaysPastDueNotWorse -0.101742 -0.101742 -0.101742 -0.101742   \n",
              "DebtRatio                            -0.158580 -0.158434 -0.158422 -0.158567   \n",
              "MonthlyIncome                        -0.101718 -0.292379 -0.163436 -0.200580   \n",
              "NumberOfOpenCreditLinesAndLoans      -0.678116 -0.873086  1.271585 -0.483145   \n",
              "NumberOfDependents                    1.139480 -0.666918  2.042678 -0.666918   \n",
              "RealEstateLoansOrLines               -0.252764 -0.252764 -0.252764 -0.252764   \n",
              "\n",
              "                                             4  \n",
              "RevolvingUtilizationOfUnsecuredLines -0.025031  \n",
              "NumberOfTime30-59DaysPastDueNotWorse -0.101742  \n",
              "DebtRatio                            -0.158225  \n",
              "MonthlyIncome                        -0.372880  \n",
              "NumberOfOpenCreditLinesAndLoans       3.416256  \n",
              "NumberOfDependents                   -0.666918  \n",
              "RealEstateLoansOrLines               -0.252764  "
            ],
            "text/html": [
              "\n",
              "  <div id=\"df-d63ed077-38e7-4b88-9460-cab737010741\">\n",
              "    <div class=\"colab-df-container\">\n",
              "      <div>\n",
              "<style scoped>\n",
              "    .dataframe tbody tr th:only-of-type {\n",
              "        vertical-align: middle;\n",
              "    }\n",
              "\n",
              "    .dataframe tbody tr th {\n",
              "        vertical-align: top;\n",
              "    }\n",
              "\n",
              "    .dataframe thead th {\n",
              "        text-align: right;\n",
              "    }\n",
              "</style>\n",
              "<table border=\"1\" class=\"dataframe\">\n",
              "  <thead>\n",
              "    <tr style=\"text-align: right;\">\n",
              "      <th></th>\n",
              "      <th>0</th>\n",
              "      <th>1</th>\n",
              "      <th>2</th>\n",
              "      <th>3</th>\n",
              "      <th>4</th>\n",
              "    </tr>\n",
              "  </thead>\n",
              "  <tbody>\n",
              "    <tr>\n",
              "      <th>RevolvingUtilizationOfUnsecuredLines</th>\n",
              "      <td>-0.020226</td>\n",
              "      <td>-0.025334</td>\n",
              "      <td>-0.024850</td>\n",
              "      <td>-0.025293</td>\n",
              "      <td>-0.025031</td>\n",
              "    </tr>\n",
              "    <tr>\n",
              "      <th>NumberOfTime30-59DaysPastDueNotWorse</th>\n",
              "      <td>-0.101742</td>\n",
              "      <td>-0.101742</td>\n",
              "      <td>-0.101742</td>\n",
              "      <td>-0.101742</td>\n",
              "      <td>-0.101742</td>\n",
              "    </tr>\n",
              "    <tr>\n",
              "      <th>DebtRatio</th>\n",
              "      <td>-0.158580</td>\n",
              "      <td>-0.158434</td>\n",
              "      <td>-0.158422</td>\n",
              "      <td>-0.158567</td>\n",
              "      <td>-0.158225</td>\n",
              "    </tr>\n",
              "    <tr>\n",
              "      <th>MonthlyIncome</th>\n",
              "      <td>-0.101718</td>\n",
              "      <td>-0.292379</td>\n",
              "      <td>-0.163436</td>\n",
              "      <td>-0.200580</td>\n",
              "      <td>-0.372880</td>\n",
              "    </tr>\n",
              "    <tr>\n",
              "      <th>NumberOfOpenCreditLinesAndLoans</th>\n",
              "      <td>-0.678116</td>\n",
              "      <td>-0.873086</td>\n",
              "      <td>1.271585</td>\n",
              "      <td>-0.483145</td>\n",
              "      <td>3.416256</td>\n",
              "    </tr>\n",
              "    <tr>\n",
              "      <th>NumberOfDependents</th>\n",
              "      <td>1.139480</td>\n",
              "      <td>-0.666918</td>\n",
              "      <td>2.042678</td>\n",
              "      <td>-0.666918</td>\n",
              "      <td>-0.666918</td>\n",
              "    </tr>\n",
              "    <tr>\n",
              "      <th>RealEstateLoansOrLines</th>\n",
              "      <td>-0.252764</td>\n",
              "      <td>-0.252764</td>\n",
              "      <td>-0.252764</td>\n",
              "      <td>-0.252764</td>\n",
              "      <td>-0.252764</td>\n",
              "    </tr>\n",
              "  </tbody>\n",
              "</table>\n",
              "</div>\n",
              "      <button class=\"colab-df-convert\" onclick=\"convertToInteractive('df-d63ed077-38e7-4b88-9460-cab737010741')\"\n",
              "              title=\"Convert this dataframe to an interactive table.\"\n",
              "              style=\"display:none;\">\n",
              "        \n",
              "  <svg xmlns=\"http://www.w3.org/2000/svg\" height=\"24px\"viewBox=\"0 0 24 24\"\n",
              "       width=\"24px\">\n",
              "    <path d=\"M0 0h24v24H0V0z\" fill=\"none\"/>\n",
              "    <path d=\"M18.56 5.44l.94 2.06.94-2.06 2.06-.94-2.06-.94-.94-2.06-.94 2.06-2.06.94zm-11 1L8.5 8.5l.94-2.06 2.06-.94-2.06-.94L8.5 2.5l-.94 2.06-2.06.94zm10 10l.94 2.06.94-2.06 2.06-.94-2.06-.94-.94-2.06-.94 2.06-2.06.94z\"/><path d=\"M17.41 7.96l-1.37-1.37c-.4-.4-.92-.59-1.43-.59-.52 0-1.04.2-1.43.59L10.3 9.45l-7.72 7.72c-.78.78-.78 2.05 0 2.83L4 21.41c.39.39.9.59 1.41.59.51 0 1.02-.2 1.41-.59l7.78-7.78 2.81-2.81c.8-.78.8-2.07 0-2.86zM5.41 20L4 18.59l7.72-7.72 1.47 1.35L5.41 20z\"/>\n",
              "  </svg>\n",
              "      </button>\n",
              "      \n",
              "  <style>\n",
              "    .colab-df-container {\n",
              "      display:flex;\n",
              "      flex-wrap:wrap;\n",
              "      gap: 12px;\n",
              "    }\n",
              "\n",
              "    .colab-df-convert {\n",
              "      background-color: #E8F0FE;\n",
              "      border: none;\n",
              "      border-radius: 50%;\n",
              "      cursor: pointer;\n",
              "      display: none;\n",
              "      fill: #1967D2;\n",
              "      height: 32px;\n",
              "      padding: 0 0 0 0;\n",
              "      width: 32px;\n",
              "    }\n",
              "\n",
              "    .colab-df-convert:hover {\n",
              "      background-color: #E2EBFA;\n",
              "      box-shadow: 0px 1px 2px rgba(60, 64, 67, 0.3), 0px 1px 3px 1px rgba(60, 64, 67, 0.15);\n",
              "      fill: #174EA6;\n",
              "    }\n",
              "\n",
              "    [theme=dark] .colab-df-convert {\n",
              "      background-color: #3B4455;\n",
              "      fill: #D2E3FC;\n",
              "    }\n",
              "\n",
              "    [theme=dark] .colab-df-convert:hover {\n",
              "      background-color: #434B5C;\n",
              "      box-shadow: 0px 1px 3px 1px rgba(0, 0, 0, 0.15);\n",
              "      filter: drop-shadow(0px 1px 2px rgba(0, 0, 0, 0.3));\n",
              "      fill: #FFFFFF;\n",
              "    }\n",
              "  </style>\n",
              "\n",
              "      <script>\n",
              "        const buttonEl =\n",
              "          document.querySelector('#df-d63ed077-38e7-4b88-9460-cab737010741 button.colab-df-convert');\n",
              "        buttonEl.style.display =\n",
              "          google.colab.kernel.accessAllowed ? 'block' : 'none';\n",
              "\n",
              "        async function convertToInteractive(key) {\n",
              "          const element = document.querySelector('#df-d63ed077-38e7-4b88-9460-cab737010741');\n",
              "          const dataTable =\n",
              "            await google.colab.kernel.invokeFunction('convertToInteractive',\n",
              "                                                     [key], {});\n",
              "          if (!dataTable) return;\n",
              "\n",
              "          const docLinkHtml = 'Like what you see? Visit the ' +\n",
              "            '<a target=\"_blank\" href=https://colab.research.google.com/notebooks/data_table.ipynb>data table notebook</a>'\n",
              "            + ' to learn more about interactive tables.';\n",
              "          element.innerHTML = '';\n",
              "          dataTable['output_type'] = 'display_data';\n",
              "          await google.colab.output.renderOutput(dataTable, element);\n",
              "          const docLink = document.createElement('div');\n",
              "          docLink.innerHTML = docLinkHtml;\n",
              "          element.appendChild(docLink);\n",
              "        }\n",
              "      </script>\n",
              "    </div>\n",
              "  </div>\n",
              "  "
            ]
          },
          "metadata": {},
          "execution_count": 78
        }
      ]
    },
    {
      "cell_type": "code",
      "source": [
        "train_set = Pool(Xtrain, ytrain)\n",
        "test_set = Pool(Xtest, ytest)"
      ],
      "metadata": {
        "id": "9duc2zLYJWV3"
      },
      "execution_count": 79,
      "outputs": []
    },
    {
      "cell_type": "code",
      "source": [
        "gbm = CatBoostClassifier(iterations=900,#сколько деревьев строим\n",
        "                          depth=2, #глубина 1го дерева\n",
        "                          learning_rate=0.1,\n",
        "                          loss_function='Logloss',\n",
        "                          eval_metric='AUC',\n",
        "                          verbose=False)\n",
        "gbm.fit(train_set, eval_set=test_set)\n",
        "gbm_preds = gbm.predict_proba(Xtest)"
      ],
      "metadata": {
        "id": "jsgUpP1NZYDu"
      },
      "execution_count": 95,
      "outputs": []
    },
    {
      "cell_type": "code",
      "source": [
        "eval_metrics = gbm.get_evals_result()\n",
        "plt.plot(eval_metrics['validation']['AUC'])\n",
        "plt.xlabel('n_trees')\n",
        "plt.ylabel('AUC')\n",
        "plt.grid()"
      ],
      "metadata": {
        "colab": {
          "base_uri": "https://localhost:8080/",
          "height": 449
        },
        "id": "fI6mOpzfnsZk",
        "outputId": "fe7b1ba0-dae1-466a-b229-c7a9c47a243a"
      },
      "execution_count": 96,
      "outputs": [
        {
          "output_type": "display_data",
          "data": {
            "text/plain": [
              "<Figure size 640x480 with 1 Axes>"
            ],
            "image/png": "[encoded data removed]"
          },
          "metadata": {}
        }
      ]
    },
    {
      "cell_type": "code",
      "source": [
        "gbm_classes = (gbm_preds[:, 1] > 0.3)\n",
        "print(\"precision: \", metrics.precision_score(ytest, gbm_classes))\n",
        "print(\"recall: \", metrics.recall_score(ytest, gbm_classes))\n",
        "print(\"auc-roc: \", metrics.roc_auc_score(ytest, gbm_preds[:, 1]))"
      ],
      "metadata": {
        "colab": {
          "base_uri": "https://localhost:8080/"
        },
        "id": "2Zo5H0DsZ26Q",
        "outputId": "773c5702-1e05-441a-84ac-479c19f8d311"
      },
      "execution_count": 97,
      "outputs": [
        {
          "output_type": "stream",
          "name": "stdout",
          "text": [
            "precision:  0.42233632862644416\n",
            "recall:  0.2636217948717949\n",
            "auc-roc:  0.8336552971352338\n"
          ]
        }
      ]
    },
    {
      "cell_type": "code",
      "source": [
        "coef_table = pd.DataFrame({'features' : list(X.columns), 'importances' : list(gbm.get_feature_importance())})\n",
        "\n",
        "coef_table.sort_values(by='importances')"
      ],
      "metadata": {
        "colab": {
          "base_uri": "https://localhost:8080/",
          "height": 269
        },
        "id": "D1hQWPNNw6zm",
        "outputId": "ba4a2cb7-f34e-46aa-a1e9-826e149c066a"
      },
      "execution_count": 98,
      "outputs": [
        {
          "output_type": "execute_result",
          "data": {
            "text/plain": [
              "                               features  importances\n",
              "5                    NumberOfDependents     1.291088\n",
              "6                RealEstateLoansOrLines     1.734125\n",
              "4       NumberOfOpenCreditLinesAndLoans     3.630363\n",
              "3                         MonthlyIncome     4.310783\n",
              "2                             DebtRatio     6.189481\n",
              "1  NumberOfTime30-59DaysPastDueNotWorse    24.023287\n",
              "0  RevolvingUtilizationOfUnsecuredLines    58.820873"
            ],
            "text/html": [
              "\n",
              "  <div id=\"df-0042dee8-7300-46e4-8351-706c8026307e\">\n",
              "    <div class=\"colab-df-container\">\n",
              "      <div>\n",
              "<style scoped>\n",
              "    .dataframe tbody tr th:only-of-type {\n",
              "        vertical-align: middle;\n",
              "    }\n",
              "\n",
              "    .dataframe tbody tr th {\n",
              "        vertical-align: top;\n",
              "    }\n",
              "\n",
              "    .dataframe thead th {\n",
              "        text-align: right;\n",
              "    }\n",
              "</style>\n",
              "<table border=\"1\" class=\"dataframe\">\n",
              "  <thead>\n",
              "    <tr style=\"text-align: right;\">\n",
              "      <th></th>\n",
              "      <th>features</th>\n",
              "      <th>importances</th>\n",
              "    </tr>\n",
              "  </thead>\n",
              "  <tbody>\n",
              "    <tr>\n",
              "      <th>5</th>\n",
              "      <td>NumberOfDependents</td>\n",
              "      <td>1.291088</td>\n",
              "    </tr>\n",
              "    <tr>\n",
              "      <th>6</th>\n",
              "      <td>RealEstateLoansOrLines</td>\n",
              "      <td>1.734125</td>\n",
              "    </tr>\n",
              "    <tr>\n",
              "      <th>4</th>\n",
              "      <td>NumberOfOpenCreditLinesAndLoans</td>\n",
              "      <td>3.630363</td>\n",
              "    </tr>\n",
              "    <tr>\n",
              "      <th>3</th>\n",
              "      <td>MonthlyIncome</td>\n",
              "      <td>4.310783</td>\n",
              "    </tr>\n",
              "    <tr>\n",
              "      <th>2</th>\n",
              "      <td>DebtRatio</td>\n",
              "      <td>6.189481</td>\n",
              "    </tr>\n",
              "    <tr>\n",
              "      <th>1</th>\n",
              "      <td>NumberOfTime30-59DaysPastDueNotWorse</td>\n",
              "      <td>24.023287</td>\n",
              "    </tr>\n",
              "    <tr>\n",
              "      <th>0</th>\n",
              "      <td>RevolvingUtilizationOfUnsecuredLines</td>\n",
              "      <td>58.820873</td>\n",
              "    </tr>\n",
              "  </tbody>\n",
              "</table>\n",
              "</div>\n",
              "      <button class=\"colab-df-convert\" onclick=\"convertToInteractive('df-0042dee8-7300-46e4-8351-706c8026307e')\"\n",
              "              title=\"Convert this dataframe to an interactive table.\"\n",
              "              style=\"display:none;\">\n",
              "        \n",
              "  <svg xmlns=\"http://www.w3.org/2000/svg\" height=\"24px\"viewBox=\"0 0 24 24\"\n",
              "       width=\"24px\">\n",
              "    <path d=\"M0 0h24v24H0V0z\" fill=\"none\"/>\n",
              "    <path d=\"M18.56 5.44l.94 2.06.94-2.06 2.06-.94-2.06-.94-.94-2.06-.94 2.06-2.06.94zm-11 1L8.5 8.5l.94-2.06 2.06-.94-2.06-.94L8.5 2.5l-.94 2.06-2.06.94zm10 10l.94 2.06.94-2.06 2.06-.94-2.06-.94-.94-2.06-.94 2.06-2.06.94z\"/><path d=\"M17.41 7.96l-1.37-1.37c-.4-.4-.92-.59-1.43-.59-.52 0-1.04.2-1.43.59L10.3 9.45l-7.72 7.72c-.78.78-.78 2.05 0 2.83L4 21.41c.39.39.9.59 1.41.59.51 0 1.02-.2 1.41-.59l7.78-7.78 2.81-2.81c.8-.78.8-2.07 0-2.86zM5.41 20L4 18.59l7.72-7.72 1.47 1.35L5.41 20z\"/>\n",
              "  </svg>\n",
              "      </button>\n",
              "      \n",
              "  <style>\n",
              "    .colab-df-container {\n",
              "      display:flex;\n",
              "      flex-wrap:wrap;\n",
              "      gap: 12px;\n",
              "    }\n",
              "\n",
              "    .colab-df-convert {\n",
              "      background-color: #E8F0FE;\n",
              "      border: none;\n",
              "      border-radius: 50%;\n",
              "      cursor: pointer;\n",
              "      display: none;\n",
              "      fill: #1967D2;\n",
              "      height: 32px;\n",
              "      padding: 0 0 0 0;\n",
              "      width: 32px;\n",
              "    }\n",
              "\n",
              "    .colab-df-convert:hover {\n",
              "      background-color: #E2EBFA;\n",
              "      box-shadow: 0px 1px 2px rgba(60, 64, 67, 0.3), 0px 1px 3px 1px rgba(60, 64, 67, 0.15);\n",
              "      fill: #174EA6;\n",
              "    }\n",
              "\n",
              "    [theme=dark] .colab-df-convert {\n",
              "      background-color: #3B4455;\n",
              "      fill: #D2E3FC;\n",
              "    }\n",
              "\n",
              "    [theme=dark] .colab-df-convert:hover {\n",
              "      background-color: #434B5C;\n",
              "      box-shadow: 0px 1px 3px 1px rgba(0, 0, 0, 0.15);\n",
              "      filter: drop-shadow(0px 1px 2px rgba(0, 0, 0, 0.3));\n",
              "      fill: #FFFFFF;\n",
              "    }\n",
              "  </style>\n",
              "\n",
              "      <script>\n",
              "        const buttonEl =\n",
              "          document.querySelector('#df-0042dee8-7300-46e4-8351-706c8026307e button.colab-df-convert');\n",
              "        buttonEl.style.display =\n",
              "          google.colab.kernel.accessAllowed ? 'block' : 'none';\n",
              "\n",
              "        async function convertToInteractive(key) {\n",
              "          const element = document.querySelector('#df-0042dee8-7300-46e4-8351-706c8026307e');\n",
              "          const dataTable =\n",
              "            await google.colab.kernel.invokeFunction('convertToInteractive',\n",
              "                                                     [key], {});\n",
              "          if (!dataTable) return;\n",
              "\n",
              "          const docLinkHtml = 'Like what you see? Visit the ' +\n",
              "            '<a target=\"_blank\" href=https://colab.research.google.com/notebooks/data_table.ipynb>data table notebook</a>'\n",
              "            + ' to learn more about interactive tables.';\n",
              "          element.innerHTML = '';\n",
              "          dataTable['output_type'] = 'display_data';\n",
              "          await google.colab.output.renderOutput(dataTable, element);\n",
              "          const docLink = document.createElement('div');\n",
              "          docLink.innerHTML = docLinkHtml;\n",
              "          element.appendChild(docLink);\n",
              "        }\n",
              "      </script>\n",
              "    </div>\n",
              "  </div>\n",
              "  "
            ]
          },
          "metadata": {},
          "execution_count": 98
        }
      ]
    },
    {
      "cell_type": "markdown",
      "source": [
        "## <font color='green'>6. Обработка категориальных признаков</font>"
      ],
      "metadata": {
        "id": "qQ74B0pLx18c"
      }
    },
    {
      "cell_type": "markdown",
      "source": [
        "Выше мы удаляли все категориальные столбцы:\n",
        "\n",
        "`X = X.drop(['GroupAge'], axis=1)`\n",
        "\n",
        "А вдруг там содержится много полезной информации? Попробуем её сохранить."
      ],
      "metadata": {
        "id": "OjfOCGU1BUnD"
      }
    },
    {
      "cell_type": "code",
      "source": [
        "Xtrain, Xtest, ytrain, ytest = train_test_split(X_full, y, test_size=0.25, random_state=42)"
      ],
      "metadata": {
        "id": "qAAaCQQR5Asv"
      },
      "execution_count": 99,
      "outputs": []
    },
    {
      "cell_type": "code",
      "source": [
        "from sklearn.preprocessing import OneHotEncoder\n",
        "from sklearn.compose import ColumnTransformer\n",
        "\n",
        "categorical = ['GroupAge']\n",
        "numeric_features = X.columns\n",
        "\n",
        "column_transformer = ColumnTransformer([\n",
        "    ('ohe', OneHotEncoder(handle_unknown=\"ignore\"), categorical),\n",
        "    ('scaling', StandardScaler(), numeric_features)\n",
        "])\n",
        "\n",
        "X_transformed = column_transformer.fit_transform(Xtrain)\n",
        "X_test_transformed = column_transformer.transform(Xtest)"
      ],
      "metadata": {
        "id": "fFA0C2fhCjZ9"
      },
      "execution_count": 100,
      "outputs": []
    },
    {
      "cell_type": "code",
      "source": [
        "X_transformed.shape"
      ],
      "metadata": {
        "colab": {
          "base_uri": "https://localhost:8080/"
        },
        "id": "lL54AdU7FCZg",
        "outputId": "36eec087-7371-49a2-d495-83756f14ad04"
      },
      "execution_count": 101,
      "outputs": [
        {
          "output_type": "execute_result",
          "data": {
            "text/plain": [
              "(112024, 12)"
            ]
          },
          "metadata": {},
          "execution_count": 101
        }
      ]
    },
    {
      "cell_type": "code",
      "source": [
        "model = LogisticRegression()\n",
        "model.fit(X_transformed, ytrain)\n",
        "pred = model.predict_proba(X_test_transformed)"
      ],
      "metadata": {
        "id": "ur0gDWeQFLvu"
      },
      "execution_count": 102,
      "outputs": []
    },
    {
      "cell_type": "code",
      "source": [
        "classes = (pred[:, 1] > 0.5)\n",
        "print(\"precision: \", metrics.precision_score(ytest, classes))\n",
        "print(\"recall: \", metrics.recall_score(ytest, classes))\n",
        "print(\"auc-roc: \", metrics.roc_auc_score(ytest, pred[:, 1]))"
      ],
      "metadata": {
        "colab": {
          "base_uri": "https://localhost:8080/"
        },
        "id": "ybwNgoSPFsSm",
        "outputId": "8c293ad5-cfab-4537-9ff3-d701bcfd5d06"
      },
      "execution_count": 103,
      "outputs": [
        {
          "output_type": "stream",
          "name": "stdout",
          "text": [
            "precision:  0.5957446808510638\n",
            "recall:  0.011217948717948718\n",
            "auc-roc:  0.6556376962021171\n"
          ]
        }
      ]
    },
    {
      "cell_type": "code",
      "source": [
        "train_set = Pool(X_transformed, ytrain)\n",
        "test_set = Pool(X_test_transformed, ytest)\n",
        "gbm = CatBoostClassifier(iterations=100,\n",
        "                          depth=2,\n",
        "                          learning_rate=0.1,\n",
        "                          loss_function='Logloss',\n",
        "                          eval_metric='AUC',\n",
        "                          verbose=False)\n",
        "gbm.fit(train_set, eval_set=test_set)\n",
        "gbm_preds = gbm.predict_proba(test_set)\n",
        "gbm_classes = (gbm_preds[:, 1] > 0.3)\n",
        "print(\"precision: \", metrics.precision_score(ytest, gbm_classes))\n",
        "print(\"recall: \", metrics.recall_score(ytest, gbm_classes))\n",
        "print(\"auc-roc: \", metrics.roc_auc_score(ytest, gbm_preds[:, 1]))"
      ],
      "metadata": {
        "colab": {
          "base_uri": "https://localhost:8080/"
        },
        "id": "KI31HXMoGMta",
        "outputId": "7a1ec0f5-44d2-47b2-c965-0143f8078a17"
      },
      "execution_count": 104,
      "outputs": [
        {
          "output_type": "stream",
          "name": "stdout",
          "text": [
            "precision:  0.43547224224945924\n",
            "recall:  0.2419871794871795\n",
            "auc-roc:  0.8293620018741804\n"
          ]
        }
      ]
    }
  ],
  "metadata": {
    "kernelspec": {
      "display_name": "Python 3",
      "language": "python",
      "name": "python3"
    },
    "language_info": {
      "codemirror_mode": {
        "name": "ipython",
        "version": 3
      },
      "file_extension": ".py",
      "mimetype": "text/x-python",
      "name": "python",
      "nbconvert_exporter": "python",
      "pygments_lexer": "ipython3",
      "version": "3.7.6"
    },
    "colab": {
      "provenance": [],
      "include_colab_link": true
    }
  },
  "nbformat": 4,
  "nbformat_minor": 0
}