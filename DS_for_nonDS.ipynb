{
  "nbformat": 4,
  "nbformat_minor": 0,
  "metadata": {
    "colab": {
      "provenance": [],
      "authorship_tag": "ABX9TyOTlS8FMp0U5z8FlRt2tZsF",
      "include_colab_link": true
    },
    "kernelspec": {
      "name": "python3",
      "display_name": "Python 3"
    },
    "language_info": {
      "name": "python"
    }
  },
  "cells": [
    {
      "cell_type": "markdown",
      "metadata": {
        "id": "view-in-github",
        "colab_type": "text"
      },
      "source": [
        "<a href=\"https://colab.research.google.com/github/MogY23/HSE_project_credit_scoring_23/blob/main/DS_for_nonDS.ipynb\" target=\"_parent\"><img src=\"https://colab.research.google.com/assets/colab-badge.svg\" alt=\"Open In Colab\"/></a>"
      ]
    },
    {
      "cell_type": "markdown",
      "source": [
        "## Подключение библиотек"
      ],
      "metadata": {
        "id": "_IxqhiBJDs96"
      }
    },
    {
      "cell_type": "code",
      "source": [
        "!pip install catboost"
      ],
      "metadata": {
        "colab": {
          "base_uri": "https://localhost:8080/"
        },
        "id": "WgnlowFakrvj",
        "outputId": "3de0b470-8153-4660-d5cf-b3d2c3691754"
      },
      "execution_count": 79,
      "outputs": [
        {
          "output_type": "stream",
          "name": "stdout",
          "text": [
            "Looking in indexes: https://pypi.org/simple, https://us-python.pkg.dev/colab-wheels/public/simple/\n",
            "Collecting catboost\n",
            "  Downloading catboost-1.2-cp310-cp310-manylinux2014_x86_64.whl (98.6 MB)\n",
            "\u001b[2K     \u001b[90m━━━━━━━━━━━━━━━━━━━━━━━━━━━━━━━━━━━━━━━━\u001b[0m \u001b[32m98.6/98.6 MB\u001b[0m \u001b[31m2.6 MB/s\u001b[0m eta \u001b[36m0:00:00\u001b[0m\n",
            "\u001b[?25hRequirement already satisfied: graphviz in /usr/local/lib/python3.10/dist-packages (from catboost) (0.20.1)\n",
            "Requirement already satisfied: matplotlib in /usr/local/lib/python3.10/dist-packages (from catboost) (3.7.1)\n",
            "Requirement already satisfied: numpy>=1.16.0 in /usr/local/lib/python3.10/dist-packages (from catboost) (1.22.4)\n",
            "Requirement already satisfied: pandas>=0.24 in /usr/local/lib/python3.10/dist-packages (from catboost) (1.5.3)\n",
            "Requirement already satisfied: scipy in /usr/local/lib/python3.10/dist-packages (from catboost) (1.10.1)\n",
            "Requirement already satisfied: plotly in /usr/local/lib/python3.10/dist-packages (from catboost) (5.13.1)\n",
            "Requirement already satisfied: six in /usr/local/lib/python3.10/dist-packages (from catboost) (1.16.0)\n",
            "Requirement already satisfied: python-dateutil>=2.8.1 in /usr/local/lib/python3.10/dist-packages (from pandas>=0.24->catboost) (2.8.2)\n",
            "Requirement already satisfied: pytz>=2020.1 in /usr/local/lib/python3.10/dist-packages (from pandas>=0.24->catboost) (2022.7.1)\n",
            "Requirement already satisfied: contourpy>=1.0.1 in /usr/local/lib/python3.10/dist-packages (from matplotlib->catboost) (1.0.7)\n",
            "Requirement already satisfied: cycler>=0.10 in /usr/local/lib/python3.10/dist-packages (from matplotlib->catboost) (0.11.0)\n",
            "Requirement already satisfied: fonttools>=4.22.0 in /usr/local/lib/python3.10/dist-packages (from matplotlib->catboost) (4.39.3)\n",
            "Requirement already satisfied: kiwisolver>=1.0.1 in /usr/local/lib/python3.10/dist-packages (from matplotlib->catboost) (1.4.4)\n",
            "Requirement already satisfied: packaging>=20.0 in /usr/local/lib/python3.10/dist-packages (from matplotlib->catboost) (23.1)\n",
            "Requirement already satisfied: pillow>=6.2.0 in /usr/local/lib/python3.10/dist-packages (from matplotlib->catboost) (8.4.0)\n",
            "Requirement already satisfied: pyparsing>=2.3.1 in /usr/local/lib/python3.10/dist-packages (from matplotlib->catboost) (3.0.9)\n",
            "Requirement already satisfied: tenacity>=6.2.0 in /usr/local/lib/python3.10/dist-packages (from plotly->catboost) (8.2.2)\n",
            "Installing collected packages: catboost\n",
            "Successfully installed catboost-1.2\n"
          ]
        }
      ]
    },
    {
      "cell_type": "code",
      "execution_count": 80,
      "metadata": {
        "id": "FIx3wek6DgrT"
      },
      "outputs": [],
      "source": [
        "import pandas as pd\n",
        "import numpy as np\n",
        "from matplotlib import pyplot as plt\n",
        "import psycopg2\n",
        "import seaborn as sns\n",
        "from sklearn.linear_model import LogisticRegression\n",
        "from sklearn.model_selection import train_test_split\n",
        "from sklearn.metrics import accuracy_score, precision_score, recall_score, f1_score\n",
        "from sklearn.metrics import confusion_matrix\n",
        "from sklearn.metrics import roc_auc_score,roc_curve,auc\n",
        "from sklearn.preprocessing import StandardScaler\n",
        "from sklearn.preprocessing import OneHotEncoder\n",
        "from sklearn.compose import ColumnTransformer\n",
        "from catboost import CatBoostClassifier, Pool\n"
      ]
    },
    {
      "cell_type": "markdown",
      "source": [
        "## Подключение к БД. Скачивание данных и сохранение их в формате csv"
      ],
      "metadata": {
        "id": "Xvun9dNGEKa5"
      }
    },
    {
      "cell_type": "code",
      "source": [
        "!mkdir -p ~/.postgresql && \\\n",
        "wget \"https://storage.yandexcloud.net/cloud-certs/CA.pem\" \\\n",
        "    --output-document ~/.postgresql/root.crt && \\\n",
        "chmod 0600 ~/.postgresql/root.crt"
      ],
      "metadata": {
        "colab": {
          "base_uri": "https://localhost:8080/"
        },
        "id": "nac6sgYyHbAz",
        "outputId": "6f0ac456-7389-4482-c8de-8f60bdbfdb13"
      },
      "execution_count": null,
      "outputs": [
        {
          "output_type": "stream",
          "name": "stdout",
          "text": [
            "--2023-06-04 16:53:09--  https://storage.yandexcloud.net/cloud-certs/CA.pem\n",
            "Resolving storage.yandexcloud.net (storage.yandexcloud.net)... 213.180.193.243, 2a02:6b8::1d9\n",
            "Connecting to storage.yandexcloud.net (storage.yandexcloud.net)|213.180.193.243|:443... connected.\n",
            "HTTP request sent, awaiting response... 200 OK\n",
            "Length: 3579 (3.5K) [application/x-x509-ca-cert]\n",
            "Saving to: ‘/root/.postgresql/root.crt’\n",
            "\n",
            "/root/.postgresql/r 100%[===================>]   3.50K  --.-KB/s    in 0s      \n",
            "\n",
            "2023-06-04 16:53:10 (617 MB/s) - ‘/root/.postgresql/root.crt’ saved [3579/3579]\n",
            "\n"
          ]
        }
      ]
    },
    {
      "cell_type": "code",
      "source": [
        "!sudo apt update && sudo apt install --yes python3 python3-pip && \\\n",
        "!pip3 install psycopg2-binary"
      ],
      "metadata": {
        "colab": {
          "base_uri": "https://localhost:8080/"
        },
        "id": "_8B6PShwHc13",
        "outputId": "f4935c07-9659-47c0-eafe-7e4c71e15548"
      },
      "execution_count": null,
      "outputs": [
        {
          "output_type": "stream",
          "name": "stdout",
          "text": [
            "\u001b[33m\r0% [Working]\u001b[0m\r            \rGet:1 https://cloud.r-project.org/bin/linux/ubuntu focal-cran40/ InRelease [3,622 B]\n",
            "\u001b[33m\r0% [Connecting to archive.ubuntu.com (185.125.190.36)] [Waiting for headers] [1\u001b[0m\u001b[33m\r0% [Connecting to archive.ubuntu.com (185.125.190.36)] [Waiting for headers] [C\u001b[0m\r                                                                               \rHit:2 https://developer.download.nvidia.com/compute/cuda/repos/ubuntu2004/x86_64  InRelease\n",
            "Get:3 http://security.ubuntu.com/ubuntu focal-security InRelease [114 kB]\n",
            "Get:4 http://ppa.launchpad.net/c2d4u.team/c2d4u4.0+/ubuntu focal InRelease [18.1 kB]\n",
            "Hit:5 http://archive.ubuntu.com/ubuntu focal InRelease\n",
            "Get:6 http://archive.ubuntu.com/ubuntu focal-updates InRelease [114 kB]\n",
            "Get:7 https://cloud.r-project.org/bin/linux/ubuntu focal-cran40/ Packages [78.0 kB]\n",
            "Hit:8 http://ppa.launchpad.net/cran/libgit2/ubuntu focal InRelease\n",
            "Hit:9 http://ppa.launchpad.net/deadsnakes/ppa/ubuntu focal InRelease\n",
            "Get:10 http://archive.ubuntu.com/ubuntu focal-backports InRelease [108 kB]\n",
            "Get:11 http://security.ubuntu.com/ubuntu focal-security/main amd64 Packages [2,773 kB]\n",
            "Hit:12 http://ppa.launchpad.net/graphics-drivers/ppa/ubuntu focal InRelease\n",
            "Hit:13 http://ppa.launchpad.net/ubuntugis/ppa/ubuntu focal InRelease\n",
            "Get:14 http://archive.ubuntu.com/ubuntu focal-updates/main amd64 Packages [3,252 kB]\n",
            "Get:15 http://ppa.launchpad.net/c2d4u.team/c2d4u4.0+/ubuntu focal/main Sources [2,586 kB]\n",
            "Get:16 http://archive.ubuntu.com/ubuntu focal-updates/universe amd64 Packages [1,351 kB]\n",
            "Get:17 http://ppa.launchpad.net/c2d4u.team/c2d4u4.0+/ubuntu focal/main amd64 Packages [1,220 kB]\n",
            "Fetched 11.6 MB in 4s (2,810 kB/s)\n",
            "Reading package lists... Done\n",
            "Building dependency tree       \n",
            "Reading state information... Done\n",
            "37 packages can be upgraded. Run 'apt list --upgradable' to see them.\n",
            "Reading package lists... Done\n",
            "Building dependency tree       \n",
            "Reading state information... Done\n",
            "python3 is already the newest version (3.8.2-0ubuntu2).\n",
            "python3 set to manually installed.\n",
            "The following additional packages will be installed:\n",
            "  python-pip-whl python3-setuptools python3-wheel\n",
            "Suggested packages:\n",
            "  python-setuptools-doc\n",
            "The following NEW packages will be installed:\n",
            "  python-pip-whl python3-pip python3-setuptools python3-wheel\n",
            "0 upgraded, 4 newly installed, 0 to remove and 37 not upgraded.\n",
            "Need to get 2,389 kB of archives.\n",
            "After this operation, 4,933 kB of additional disk space will be used.\n",
            "Get:1 http://archive.ubuntu.com/ubuntu focal-updates/universe amd64 python-pip-whl all 20.0.2-5ubuntu1.8 [1,805 kB]\n",
            "Get:2 http://archive.ubuntu.com/ubuntu focal-updates/main amd64 python3-setuptools all 45.2.0-1ubuntu0.1 [330 kB]\n",
            "Get:3 http://archive.ubuntu.com/ubuntu focal-updates/universe amd64 python3-wheel all 0.34.2-1ubuntu0.1 [23.9 kB]\n",
            "Get:4 http://archive.ubuntu.com/ubuntu focal-updates/universe amd64 python3-pip all 20.0.2-5ubuntu1.8 [231 kB]\n",
            "Fetched 2,389 kB in 1s (1,637 kB/s)\n",
            "debconf: unable to initialize frontend: Dialog\n",
            "debconf: (No usable dialog-like program is installed, so the dialog based frontend cannot be used. at /usr/share/perl5/Debconf/FrontEnd/Dialog.pm line 76, <> line 4.)\n",
            "debconf: falling back to frontend: Readline\n",
            "debconf: unable to initialize frontend: Readline\n",
            "debconf: (This frontend requires a controlling tty.)\n",
            "debconf: falling back to frontend: Teletype\n",
            "dpkg-preconfigure: unable to re-open stdin: \n",
            "Selecting previously unselected package python-pip-whl.\n",
            "(Reading database ... 122542 files and directories currently installed.)\n",
            "Preparing to unpack .../python-pip-whl_20.0.2-5ubuntu1.8_all.deb ...\n",
            "Unpacking python-pip-whl (20.0.2-5ubuntu1.8) ...\n",
            "Selecting previously unselected package python3-setuptools.\n",
            "Preparing to unpack .../python3-setuptools_45.2.0-1ubuntu0.1_all.deb ...\n",
            "Unpacking python3-setuptools (45.2.0-1ubuntu0.1) ...\n",
            "Selecting previously unselected package python3-wheel.\n",
            "Preparing to unpack .../python3-wheel_0.34.2-1ubuntu0.1_all.deb ...\n",
            "Unpacking python3-wheel (0.34.2-1ubuntu0.1) ...\n",
            "Selecting previously unselected package python3-pip.\n",
            "Preparing to unpack .../python3-pip_20.0.2-5ubuntu1.8_all.deb ...\n",
            "Unpacking python3-pip (20.0.2-5ubuntu1.8) ...\n",
            "Setting up python3-setuptools (45.2.0-1ubuntu0.1) ...\n",
            "Setting up python3-wheel (0.34.2-1ubuntu0.1) ...\n",
            "Setting up python-pip-whl (20.0.2-5ubuntu1.8) ...\n",
            "Setting up python3-pip (20.0.2-5ubuntu1.8) ...\n",
            "Processing triggers for man-db (2.9.1-1) ...\n",
            "/bin/bash: !pip3: command not found\n"
          ]
        }
      ]
    },
    {
      "cell_type": "code",
      "source": [
        "conn = psycopg2.connect(\"\"\"\n",
        "    host=rc1b-70q90cunwkzx49mj.mdb.yandexcloud.net\n",
        "    port=6432\n",
        "    sslmode=verify-full\n",
        "    dbname=db_clients\n",
        "    user=mlhs_student\n",
        "    password=mlhs_student\n",
        "    target_session_attrs=read-write\n",
        "\"\"\")\n",
        "\n",
        "# получаем сырые данные\n",
        "\n",
        "query = '''\n",
        "SELECT * from public.credit_scoring\n",
        "        '''\n"
      ],
      "metadata": {
        "id": "Ongm5SzzECZ7"
      },
      "execution_count": null,
      "outputs": []
    },
    {
      "cell_type": "code",
      "source": [
        "raw_data = pd.read_sql_query(query, con = conn)"
      ],
      "metadata": {
        "colab": {
          "base_uri": "https://localhost:8080/"
        },
        "id": "D0mwIGiWE9iz",
        "outputId": "91f1583d-96e6-4cda-e4cd-d9512b268f31"
      },
      "execution_count": null,
      "outputs": [
        {
          "output_type": "stream",
          "name": "stderr",
          "text": [
            "<ipython-input-16-b29b82c53af5>:1: UserWarning: pandas only supports SQLAlchemy connectable (engine/connection) or database string URI or sqlite3 DBAPI2 connection. Other DBAPI2 objects are not tested. Please consider using SQLAlchemy.\n",
            "  raw_data = pd.read_sql_query(query, con = conn)\n"
          ]
        }
      ]
    },
    {
      "cell_type": "code",
      "source": [
        "raw_data.head(2)"
      ],
      "metadata": {
        "colab": {
          "base_uri": "https://localhost:8080/",
          "height": 193
        },
        "id": "7iPrtH3yFEsY",
        "outputId": "c526b6fc-2ae7-4a6c-c1a7-f9fc17800679"
      },
      "execution_count": null,
      "outputs": [
        {
          "output_type": "execute_result",
          "data": {
            "text/plain": [
              "   SeriousDlqin2yrs  RevolvingUtilizationOfUnsecuredLines   age  \\\n",
              "0                 0                              0.221813  43.0   \n",
              "1                 0                              0.602794  25.0   \n",
              "\n",
              "   NumberOfTime30-59DaysPastDueNotWorse  DebtRatio  MonthlyIncome  \\\n",
              "0                                     0   0.527888         3280.0   \n",
              "1                                     0   0.065868          333.0   \n",
              "\n",
              "   NumberOfOpenCreditLinesAndLoans  NumberOfTimes90DaysLate  \\\n",
              "0                                7                        0   \n",
              "1                                2                        0   \n",
              "\n",
              "   NumberOfTime60-89DaysPastDueNotWorse  NumberOfDependents  \\\n",
              "0                                     0                 2.0   \n",
              "1                                     0                 0.0   \n",
              "\n",
              "  RealEstateLoansOrLines GroupAge  \n",
              "0                      A        c  \n",
              "1                      A        b  "
            ],
            "text/html": [
              "\n",
              "  <div id=\"df-10bf012a-c3c7-46d5-80a5-369981095925\">\n",
              "    <div class=\"colab-df-container\">\n",
              "      <div>\n",
              "<style scoped>\n",
              "    .dataframe tbody tr th:only-of-type {\n",
              "        vertical-align: middle;\n",
              "    }\n",
              "\n",
              "    .dataframe tbody tr th {\n",
              "        vertical-align: top;\n",
              "    }\n",
              "\n",
              "    .dataframe thead th {\n",
              "        text-align: right;\n",
              "    }\n",
              "</style>\n",
              "<table border=\"1\" class=\"dataframe\">\n",
              "  <thead>\n",
              "    <tr style=\"text-align: right;\">\n",
              "      <th></th>\n",
              "      <th>SeriousDlqin2yrs</th>\n",
              "      <th>RevolvingUtilizationOfUnsecuredLines</th>\n",
              "      <th>age</th>\n",
              "      <th>NumberOfTime30-59DaysPastDueNotWorse</th>\n",
              "      <th>DebtRatio</th>\n",
              "      <th>MonthlyIncome</th>\n",
              "      <th>NumberOfOpenCreditLinesAndLoans</th>\n",
              "      <th>NumberOfTimes90DaysLate</th>\n",
              "      <th>NumberOfTime60-89DaysPastDueNotWorse</th>\n",
              "      <th>NumberOfDependents</th>\n",
              "      <th>RealEstateLoansOrLines</th>\n",
              "      <th>GroupAge</th>\n",
              "    </tr>\n",
              "  </thead>\n",
              "  <tbody>\n",
              "    <tr>\n",
              "      <th>0</th>\n",
              "      <td>0</td>\n",
              "      <td>0.221813</td>\n",
              "      <td>43.0</td>\n",
              "      <td>0</td>\n",
              "      <td>0.527888</td>\n",
              "      <td>3280.0</td>\n",
              "      <td>7</td>\n",
              "      <td>0</td>\n",
              "      <td>0</td>\n",
              "      <td>2.0</td>\n",
              "      <td>A</td>\n",
              "      <td>c</td>\n",
              "    </tr>\n",
              "    <tr>\n",
              "      <th>1</th>\n",
              "      <td>0</td>\n",
              "      <td>0.602794</td>\n",
              "      <td>25.0</td>\n",
              "      <td>0</td>\n",
              "      <td>0.065868</td>\n",
              "      <td>333.0</td>\n",
              "      <td>2</td>\n",
              "      <td>0</td>\n",
              "      <td>0</td>\n",
              "      <td>0.0</td>\n",
              "      <td>A</td>\n",
              "      <td>b</td>\n",
              "    </tr>\n",
              "  </tbody>\n",
              "</table>\n",
              "</div>\n",
              "      <button class=\"colab-df-convert\" onclick=\"convertToInteractive('df-10bf012a-c3c7-46d5-80a5-369981095925')\"\n",
              "              title=\"Convert this dataframe to an interactive table.\"\n",
              "              style=\"display:none;\">\n",
              "        \n",
              "  <svg xmlns=\"http://www.w3.org/2000/svg\" height=\"24px\"viewBox=\"0 0 24 24\"\n",
              "       width=\"24px\">\n",
              "    <path d=\"M0 0h24v24H0V0z\" fill=\"none\"/>\n",
              "    <path d=\"M18.56 5.44l.94 2.06.94-2.06 2.06-.94-2.06-.94-.94-2.06-.94 2.06-2.06.94zm-11 1L8.5 8.5l.94-2.06 2.06-.94-2.06-.94L8.5 2.5l-.94 2.06-2.06.94zm10 10l.94 2.06.94-2.06 2.06-.94-2.06-.94-.94-2.06-.94 2.06-2.06.94z\"/><path d=\"M17.41 7.96l-1.37-1.37c-.4-.4-.92-.59-1.43-.59-.52 0-1.04.2-1.43.59L10.3 9.45l-7.72 7.72c-.78.78-.78 2.05 0 2.83L4 21.41c.39.39.9.59 1.41.59.51 0 1.02-.2 1.41-.59l7.78-7.78 2.81-2.81c.8-.78.8-2.07 0-2.86zM5.41 20L4 18.59l7.72-7.72 1.47 1.35L5.41 20z\"/>\n",
              "  </svg>\n",
              "      </button>\n",
              "      \n",
              "  <style>\n",
              "    .colab-df-container {\n",
              "      display:flex;\n",
              "      flex-wrap:wrap;\n",
              "      gap: 12px;\n",
              "    }\n",
              "\n",
              "    .colab-df-convert {\n",
              "      background-color: #E8F0FE;\n",
              "      border: none;\n",
              "      border-radius: 50%;\n",
              "      cursor: pointer;\n",
              "      display: none;\n",
              "      fill: #1967D2;\n",
              "      height: 32px;\n",
              "      padding: 0 0 0 0;\n",
              "      width: 32px;\n",
              "    }\n",
              "\n",
              "    .colab-df-convert:hover {\n",
              "      background-color: #E2EBFA;\n",
              "      box-shadow: 0px 1px 2px rgba(60, 64, 67, 0.3), 0px 1px 3px 1px rgba(60, 64, 67, 0.15);\n",
              "      fill: #174EA6;\n",
              "    }\n",
              "\n",
              "    [theme=dark] .colab-df-convert {\n",
              "      background-color: #3B4455;\n",
              "      fill: #D2E3FC;\n",
              "    }\n",
              "\n",
              "    [theme=dark] .colab-df-convert:hover {\n",
              "      background-color: #434B5C;\n",
              "      box-shadow: 0px 1px 3px 1px rgba(0, 0, 0, 0.15);\n",
              "      filter: drop-shadow(0px 1px 2px rgba(0, 0, 0, 0.3));\n",
              "      fill: #FFFFFF;\n",
              "    }\n",
              "  </style>\n",
              "\n",
              "      <script>\n",
              "        const buttonEl =\n",
              "          document.querySelector('#df-10bf012a-c3c7-46d5-80a5-369981095925 button.colab-df-convert');\n",
              "        buttonEl.style.display =\n",
              "          google.colab.kernel.accessAllowed ? 'block' : 'none';\n",
              "\n",
              "        async function convertToInteractive(key) {\n",
              "          const element = document.querySelector('#df-10bf012a-c3c7-46d5-80a5-369981095925');\n",
              "          const dataTable =\n",
              "            await google.colab.kernel.invokeFunction('convertToInteractive',\n",
              "                                                     [key], {});\n",
              "          if (!dataTable) return;\n",
              "\n",
              "          const docLinkHtml = 'Like what you see? Visit the ' +\n",
              "            '<a target=\"_blank\" href=https://colab.research.google.com/notebooks/data_table.ipynb>data table notebook</a>'\n",
              "            + ' to learn more about interactive tables.';\n",
              "          element.innerHTML = '';\n",
              "          dataTable['output_type'] = 'display_data';\n",
              "          await google.colab.output.renderOutput(dataTable, element);\n",
              "          const docLink = document.createElement('div');\n",
              "          docLink.innerHTML = docLinkHtml;\n",
              "          element.appendChild(docLink);\n",
              "        }\n",
              "      </script>\n",
              "    </div>\n",
              "  </div>\n",
              "  "
            ]
          },
          "metadata": {},
          "execution_count": 17
        }
      ]
    },
    {
      "cell_type": "code",
      "source": [
        "#Выгружаем данные в csv\n",
        "raw_data.to_csv('raw_data_scoring.csv')"
      ],
      "metadata": {
        "id": "iEFTKpDQHsRX"
      },
      "execution_count": null,
      "outputs": []
    },
    {
      "cell_type": "markdown",
      "source": [
        "## EDA"
      ],
      "metadata": {
        "id": "2RjeZKXCH7TX"
      }
    },
    {
      "cell_type": "code",
      "source": [
        "raw_data.info()"
      ],
      "metadata": {
        "colab": {
          "base_uri": "https://localhost:8080/"
        },
        "id": "lnfzCzbhHoji",
        "outputId": "8a64283c-715a-4aed-be48-af6c4f4f9672"
      },
      "execution_count": null,
      "outputs": [
        {
          "output_type": "stream",
          "name": "stdout",
          "text": [
            "<class 'pandas.core.frame.DataFrame'>\n",
            "RangeIndex: 150000 entries, 0 to 149999\n",
            "Data columns (total 12 columns):\n",
            " #   Column                                Non-Null Count   Dtype  \n",
            "---  ------                                --------------   -----  \n",
            " 0   SeriousDlqin2yrs                      150000 non-null  int64  \n",
            " 1   RevolvingUtilizationOfUnsecuredLines  150000 non-null  float64\n",
            " 2   age                                   135155 non-null  float64\n",
            " 3   NumberOfTime30-59DaysPastDueNotWorse  150000 non-null  int64  \n",
            " 4   DebtRatio                             150000 non-null  float64\n",
            " 5   MonthlyIncome                         120269 non-null  float64\n",
            " 6   NumberOfOpenCreditLinesAndLoans       150000 non-null  int64  \n",
            " 7   NumberOfTimes90DaysLate               150000 non-null  int64  \n",
            " 8   NumberOfTime60-89DaysPastDueNotWorse  150000 non-null  int64  \n",
            " 9   NumberOfDependents                    146076 non-null  float64\n",
            " 10  RealEstateLoansOrLines                150000 non-null  object \n",
            " 11  GroupAge                              150000 non-null  object \n",
            "dtypes: float64(5), int64(5), object(2)\n",
            "memory usage: 13.7+ MB\n"
          ]
        }
      ]
    },
    {
      "cell_type": "markdown",
      "source": [
        "В датасете 150 000 наблюдений и 12 признаков. В 3 признаках присутствуют пропуски\n"
      ],
      "metadata": {
        "id": "gukIJEsjIMgs"
      }
    },
    {
      "cell_type": "code",
      "source": [
        "data.describe()"
      ],
      "metadata": {
        "colab": {
          "base_uri": "https://localhost:8080/",
          "height": 382
        },
        "id": "3ifyXGm4IBlp",
        "outputId": "1bcab5fd-9564-49db-b85c-7aa90566183e"
      },
      "execution_count": null,
      "outputs": [
        {
          "output_type": "execute_result",
          "data": {
            "text/plain": [
              "       SeriousDlqin2yrs  RevolvingUtilizationOfUnsecuredLines            age  \\\n",
              "count     149911.000000                         149911.000000  135066.000000   \n",
              "mean           0.066866                              6.051702      52.312033   \n",
              "std            0.249791                            249.829462      14.758593   \n",
              "min            0.000000                              0.000000       0.000000   \n",
              "25%            0.000000                              0.029898      41.000000   \n",
              "50%            0.000000                              0.154161      52.000000   \n",
              "75%            0.000000                              0.558637      63.000000   \n",
              "max            1.000000                          50708.000000     109.000000   \n",
              "\n",
              "       NumberOfTime30-59DaysPastDueNotWorse      DebtRatio  MonthlyIncome  \\\n",
              "count                         149911.000000  149911.000000   1.201800e+05   \n",
              "mean                               0.419322     353.214646   6.674619e+03   \n",
              "std                                4.171235    2038.405192   1.438908e+04   \n",
              "min                                0.000000       0.000000   0.000000e+00   \n",
              "25%                                0.000000       0.175433   3.400000e+03   \n",
              "50%                                0.000000       0.366733   5.400000e+03   \n",
              "75%                                0.000000       0.869267   8.250000e+03   \n",
              "max                               98.000000  329664.000000   3.008750e+06   \n",
              "\n",
              "       NumberOfOpenCreditLinesAndLoans  NumberOfTimes90DaysLate  \\\n",
              "count                    149911.000000            149911.000000   \n",
              "mean                          8.456991                 0.264163   \n",
              "std                           5.144516                 4.147555   \n",
              "min                           0.000000                 0.000000   \n",
              "25%                           5.000000                 0.000000   \n",
              "50%                           8.000000                 0.000000   \n",
              "75%                          11.000000                 0.000000   \n",
              "max                          58.000000                98.000000   \n",
              "\n",
              "       NumberOfTime60-89DaysPastDueNotWorse  NumberOfDependents  \n",
              "count                         149911.000000       145987.000000  \n",
              "mean                               0.238568            0.757684  \n",
              "std                                4.133337            1.115269  \n",
              "min                                0.000000            0.000000  \n",
              "25%                                0.000000            0.000000  \n",
              "50%                                0.000000            0.000000  \n",
              "75%                                0.000000            1.000000  \n",
              "max                               98.000000           20.000000  "
            ],
            "text/html": [
              "\n",
              "  <div id=\"df-e20d99ec-e734-46bc-9632-c6085ee43fd7\">\n",
              "    <div class=\"colab-df-container\">\n",
              "      <div>\n",
              "<style scoped>\n",
              "    .dataframe tbody tr th:only-of-type {\n",
              "        vertical-align: middle;\n",
              "    }\n",
              "\n",
              "    .dataframe tbody tr th {\n",
              "        vertical-align: top;\n",
              "    }\n",
              "\n",
              "    .dataframe thead th {\n",
              "        text-align: right;\n",
              "    }\n",
              "</style>\n",
              "<table border=\"1\" class=\"dataframe\">\n",
              "  <thead>\n",
              "    <tr style=\"text-align: right;\">\n",
              "      <th></th>\n",
              "      <th>SeriousDlqin2yrs</th>\n",
              "      <th>RevolvingUtilizationOfUnsecuredLines</th>\n",
              "      <th>age</th>\n",
              "      <th>NumberOfTime30-59DaysPastDueNotWorse</th>\n",
              "      <th>DebtRatio</th>\n",
              "      <th>MonthlyIncome</th>\n",
              "      <th>NumberOfOpenCreditLinesAndLoans</th>\n",
              "      <th>NumberOfTimes90DaysLate</th>\n",
              "      <th>NumberOfTime60-89DaysPastDueNotWorse</th>\n",
              "      <th>NumberOfDependents</th>\n",
              "    </tr>\n",
              "  </thead>\n",
              "  <tbody>\n",
              "    <tr>\n",
              "      <th>count</th>\n",
              "      <td>149911.000000</td>\n",
              "      <td>149911.000000</td>\n",
              "      <td>135066.000000</td>\n",
              "      <td>149911.000000</td>\n",
              "      <td>149911.000000</td>\n",
              "      <td>1.201800e+05</td>\n",
              "      <td>149911.000000</td>\n",
              "      <td>149911.000000</td>\n",
              "      <td>149911.000000</td>\n",
              "      <td>145987.000000</td>\n",
              "    </tr>\n",
              "    <tr>\n",
              "      <th>mean</th>\n",
              "      <td>0.066866</td>\n",
              "      <td>6.051702</td>\n",
              "      <td>52.312033</td>\n",
              "      <td>0.419322</td>\n",
              "      <td>353.214646</td>\n",
              "      <td>6.674619e+03</td>\n",
              "      <td>8.456991</td>\n",
              "      <td>0.264163</td>\n",
              "      <td>0.238568</td>\n",
              "      <td>0.757684</td>\n",
              "    </tr>\n",
              "    <tr>\n",
              "      <th>std</th>\n",
              "      <td>0.249791</td>\n",
              "      <td>249.829462</td>\n",
              "      <td>14.758593</td>\n",
              "      <td>4.171235</td>\n",
              "      <td>2038.405192</td>\n",
              "      <td>1.438908e+04</td>\n",
              "      <td>5.144516</td>\n",
              "      <td>4.147555</td>\n",
              "      <td>4.133337</td>\n",
              "      <td>1.115269</td>\n",
              "    </tr>\n",
              "    <tr>\n",
              "      <th>min</th>\n",
              "      <td>0.000000</td>\n",
              "      <td>0.000000</td>\n",
              "      <td>0.000000</td>\n",
              "      <td>0.000000</td>\n",
              "      <td>0.000000</td>\n",
              "      <td>0.000000e+00</td>\n",
              "      <td>0.000000</td>\n",
              "      <td>0.000000</td>\n",
              "      <td>0.000000</td>\n",
              "      <td>0.000000</td>\n",
              "    </tr>\n",
              "    <tr>\n",
              "      <th>25%</th>\n",
              "      <td>0.000000</td>\n",
              "      <td>0.029898</td>\n",
              "      <td>41.000000</td>\n",
              "      <td>0.000000</td>\n",
              "      <td>0.175433</td>\n",
              "      <td>3.400000e+03</td>\n",
              "      <td>5.000000</td>\n",
              "      <td>0.000000</td>\n",
              "      <td>0.000000</td>\n",
              "      <td>0.000000</td>\n",
              "    </tr>\n",
              "    <tr>\n",
              "      <th>50%</th>\n",
              "      <td>0.000000</td>\n",
              "      <td>0.154161</td>\n",
              "      <td>52.000000</td>\n",
              "      <td>0.000000</td>\n",
              "      <td>0.366733</td>\n",
              "      <td>5.400000e+03</td>\n",
              "      <td>8.000000</td>\n",
              "      <td>0.000000</td>\n",
              "      <td>0.000000</td>\n",
              "      <td>0.000000</td>\n",
              "    </tr>\n",
              "    <tr>\n",
              "      <th>75%</th>\n",
              "      <td>0.000000</td>\n",
              "      <td>0.558637</td>\n",
              "      <td>63.000000</td>\n",
              "      <td>0.000000</td>\n",
              "      <td>0.869267</td>\n",
              "      <td>8.250000e+03</td>\n",
              "      <td>11.000000</td>\n",
              "      <td>0.000000</td>\n",
              "      <td>0.000000</td>\n",
              "      <td>1.000000</td>\n",
              "    </tr>\n",
              "    <tr>\n",
              "      <th>max</th>\n",
              "      <td>1.000000</td>\n",
              "      <td>50708.000000</td>\n",
              "      <td>109.000000</td>\n",
              "      <td>98.000000</td>\n",
              "      <td>329664.000000</td>\n",
              "      <td>3.008750e+06</td>\n",
              "      <td>58.000000</td>\n",
              "      <td>98.000000</td>\n",
              "      <td>98.000000</td>\n",
              "      <td>20.000000</td>\n",
              "    </tr>\n",
              "  </tbody>\n",
              "</table>\n",
              "</div>\n",
              "      <button class=\"colab-df-convert\" onclick=\"convertToInteractive('df-e20d99ec-e734-46bc-9632-c6085ee43fd7')\"\n",
              "              title=\"Convert this dataframe to an interactive table.\"\n",
              "              style=\"display:none;\">\n",
              "        \n",
              "  <svg xmlns=\"http://www.w3.org/2000/svg\" height=\"24px\"viewBox=\"0 0 24 24\"\n",
              "       width=\"24px\">\n",
              "    <path d=\"M0 0h24v24H0V0z\" fill=\"none\"/>\n",
              "    <path d=\"M18.56 5.44l.94 2.06.94-2.06 2.06-.94-2.06-.94-.94-2.06-.94 2.06-2.06.94zm-11 1L8.5 8.5l.94-2.06 2.06-.94-2.06-.94L8.5 2.5l-.94 2.06-2.06.94zm10 10l.94 2.06.94-2.06 2.06-.94-2.06-.94-.94-2.06-.94 2.06-2.06.94z\"/><path d=\"M17.41 7.96l-1.37-1.37c-.4-.4-.92-.59-1.43-.59-.52 0-1.04.2-1.43.59L10.3 9.45l-7.72 7.72c-.78.78-.78 2.05 0 2.83L4 21.41c.39.39.9.59 1.41.59.51 0 1.02-.2 1.41-.59l7.78-7.78 2.81-2.81c.8-.78.8-2.07 0-2.86zM5.41 20L4 18.59l7.72-7.72 1.47 1.35L5.41 20z\"/>\n",
              "  </svg>\n",
              "      </button>\n",
              "      \n",
              "  <style>\n",
              "    .colab-df-container {\n",
              "      display:flex;\n",
              "      flex-wrap:wrap;\n",
              "      gap: 12px;\n",
              "    }\n",
              "\n",
              "    .colab-df-convert {\n",
              "      background-color: #E8F0FE;\n",
              "      border: none;\n",
              "      border-radius: 50%;\n",
              "      cursor: pointer;\n",
              "      display: none;\n",
              "      fill: #1967D2;\n",
              "      height: 32px;\n",
              "      padding: 0 0 0 0;\n",
              "      width: 32px;\n",
              "    }\n",
              "\n",
              "    .colab-df-convert:hover {\n",
              "      background-color: #E2EBFA;\n",
              "      box-shadow: 0px 1px 2px rgba(60, 64, 67, 0.3), 0px 1px 3px 1px rgba(60, 64, 67, 0.15);\n",
              "      fill: #174EA6;\n",
              "    }\n",
              "\n",
              "    [theme=dark] .colab-df-convert {\n",
              "      background-color: #3B4455;\n",
              "      fill: #D2E3FC;\n",
              "    }\n",
              "\n",
              "    [theme=dark] .colab-df-convert:hover {\n",
              "      background-color: #434B5C;\n",
              "      box-shadow: 0px 1px 3px 1px rgba(0, 0, 0, 0.15);\n",
              "      filter: drop-shadow(0px 1px 2px rgba(0, 0, 0, 0.3));\n",
              "      fill: #FFFFFF;\n",
              "    }\n",
              "  </style>\n",
              "\n",
              "      <script>\n",
              "        const buttonEl =\n",
              "          document.querySelector('#df-e20d99ec-e734-46bc-9632-c6085ee43fd7 button.colab-df-convert');\n",
              "        buttonEl.style.display =\n",
              "          google.colab.kernel.accessAllowed ? 'block' : 'none';\n",
              "\n",
              "        async function convertToInteractive(key) {\n",
              "          const element = document.querySelector('#df-e20d99ec-e734-46bc-9632-c6085ee43fd7');\n",
              "          const dataTable =\n",
              "            await google.colab.kernel.invokeFunction('convertToInteractive',\n",
              "                                                     [key], {});\n",
              "          if (!dataTable) return;\n",
              "\n",
              "          const docLinkHtml = 'Like what you see? Visit the ' +\n",
              "            '<a target=\"_blank\" href=https://colab.research.google.com/notebooks/data_table.ipynb>data table notebook</a>'\n",
              "            + ' to learn more about interactive tables.';\n",
              "          element.innerHTML = '';\n",
              "          dataTable['output_type'] = 'display_data';\n",
              "          await google.colab.output.renderOutput(dataTable, element);\n",
              "          const docLink = document.createElement('div');\n",
              "          docLink.innerHTML = docLinkHtml;\n",
              "          element.appendChild(docLink);\n",
              "        }\n",
              "      </script>\n",
              "    </div>\n",
              "  </div>\n",
              "  "
            ]
          },
          "metadata": {},
          "execution_count": 19
        }
      ]
    },
    {
      "cell_type": "markdown",
      "source": [
        "* SeriousDlqin2yrs - не сбалансировано. Клиентов, имеющих просрочу меньше, \n",
        "чем тех, которые платили во время, как миниму, 75% клиентов не имели просрочки\n",
        "\n",
        "* RevolvingUtilizationOfUnsecuredLines - балансы клиентов скошены вправо\n",
        "\n",
        "* В данных возраста age есть некорректные значения максимальное 109 под вопросом минимальное в 0 точно ошибочно. При этом 75% клиентов не младше 41 лет\n",
        "\n",
        "* У большинства клиентов нет иждевенцев и просрочек"
      ],
      "metadata": {
        "id": "ITxHRrbpJY0V"
      }
    },
    {
      "cell_type": "code",
      "source": [
        "raw_data.duplicated().sum()"
      ],
      "metadata": {
        "colab": {
          "base_uri": "https://localhost:8080/"
        },
        "id": "I6FwG6pOVTjh",
        "outputId": "8a40f196-51c0-4843-9a3a-899dd2936be3"
      },
      "execution_count": null,
      "outputs": [
        {
          "output_type": "execute_result",
          "data": {
            "text/plain": [
              "634"
            ]
          },
          "metadata": {},
          "execution_count": 20
        }
      ]
    },
    {
      "cell_type": "markdown",
      "source": [
        "Потенциально возможны дубликаты, но туда попадают только строки с пропусками. А в остальных значениях как раз много совпадений. Для большинства нет просрочек, иждивенцев"
      ],
      "metadata": {
        "id": "y2MM3tpyWEsV"
      }
    },
    {
      "cell_type": "code",
      "source": [
        "raw_data.query('age==age and MonthlyIncome==MonthlyIncome and NumberOfDependents==NumberOfDependents').duplicated().sum()"
      ],
      "metadata": {
        "colab": {
          "base_uri": "https://localhost:8080/"
        },
        "id": "yXhB-GNtV2Rd",
        "outputId": "67e544d3-e369-4e69-9541-52e85192854e"
      },
      "execution_count": null,
      "outputs": [
        {
          "output_type": "execute_result",
          "data": {
            "text/plain": [
              "89"
            ]
          },
          "metadata": {},
          "execution_count": 21
        }
      ]
    },
    {
      "cell_type": "code",
      "source": [
        "temp=raw_data.query('age==age and MonthlyIncome==MonthlyIncome and NumberOfDependents==NumberOfDependents').duplicated()\n"
      ],
      "metadata": {
        "id": "0oi_XEQeXCaA"
      },
      "execution_count": null,
      "outputs": []
    },
    {
      "cell_type": "code",
      "source": [
        "temp=pd.DataFrame(temp)\n"
      ],
      "metadata": {
        "id": "NyrfbJSyYu27"
      },
      "execution_count": null,
      "outputs": []
    },
    {
      "cell_type": "code",
      "source": [
        "index_del=temp[temp[0]==True].index\n",
        "data=raw_data.drop(index=index_del)"
      ],
      "metadata": {
        "id": "yT6V4HkSZKE2"
      },
      "execution_count": null,
      "outputs": []
    },
    {
      "cell_type": "code",
      "source": [
        "data.query('age==age and MonthlyIncome==MonthlyIncome and NumberOfDependents==NumberOfDependents').duplicated().sum()"
      ],
      "metadata": {
        "colab": {
          "base_uri": "https://localhost:8080/"
        },
        "id": "AqFPdqRSZcOY",
        "outputId": "cd60ad99-d88f-4622-dbe4-0bc0f207ae6e"
      },
      "execution_count": null,
      "outputs": [
        {
          "output_type": "execute_result",
          "data": {
            "text/plain": [
              "0"
            ]
          },
          "metadata": {},
          "execution_count": 25
        }
      ]
    },
    {
      "cell_type": "code",
      "source": [
        "data['SeriousDlqin2yrs'].value_counts(normalize=True)"
      ],
      "metadata": {
        "colab": {
          "base_uri": "https://localhost:8080/"
        },
        "id": "Xhz-LYNzMc0n",
        "outputId": "98d52926-0aba-4875-ea84-7750ba529615"
      },
      "execution_count": null,
      "outputs": [
        {
          "output_type": "execute_result",
          "data": {
            "text/plain": [
              "0    0.933134\n",
              "1    0.066866\n",
              "Name: SeriousDlqin2yrs, dtype: float64"
            ]
          },
          "metadata": {},
          "execution_count": 26
        }
      ]
    },
    {
      "cell_type": "code",
      "source": [
        "data['RevolvingUtilizationOfUnsecuredLines'].plot(kind='box')"
      ],
      "metadata": {
        "colab": {
          "base_uri": "https://localhost:8080/",
          "height": 448
        },
        "id": "PyRP5T1fMoDv",
        "outputId": "79ac2c87-4898-4b66-9deb-67a61461334e"
      },
      "execution_count": null,
      "outputs": [
        {
          "output_type": "execute_result",
          "data": {
            "text/plain": [
              "<Axes: >"
            ]
          },
          "metadata": {},
          "execution_count": 27
        },
        {
          "output_type": "display_data",
          "data": {
            "text/plain": [
              "<Figure size 640x480 with 1 Axes>"
            ],
            "image/png": "[encoded data removed]"
          },
          "metadata": {}
        }
      ]
    },
    {
      "cell_type": "code",
      "source": [
        "#Посмотрим нулевые значения в трех разных полях у одних и тех же клиентов или нет\n",
        "temp=data.query('age!=age and MonthlyIncome!=MonthlyIncome and NumberOfDependents!=NumberOfDependents').shape[0]\n",
        "temp"
      ],
      "metadata": {
        "colab": {
          "base_uri": "https://localhost:8080/"
        },
        "id": "QBCjELn7SDJP",
        "outputId": "a4da44b5-6b54-4462-9bbc-c818f1273e8a"
      },
      "execution_count": null,
      "outputs": [
        {
          "output_type": "execute_result",
          "data": {
            "text/plain": [
              "376"
            ]
          },
          "metadata": {},
          "execution_count": 28
        }
      ]
    },
    {
      "cell_type": "code",
      "source": [
        "#Пересечение небольшое\n",
        "print(f'При удалении просто нулевых данных потеряем\\\n",
        " {(data.age.isna().sum()+data.MonthlyIncome.isna().sum()+data.NumberOfDependents.isna().sum()-2*temp)/data.shape[0]:.1%}')"
      ],
      "metadata": {
        "colab": {
          "base_uri": "https://localhost:8080/"
        },
        "id": "YG4CBf_9SgFh",
        "outputId": "7c594bd9-84b3-49b2-ace3-237eba240f18"
      },
      "execution_count": null,
      "outputs": [
        {
          "output_type": "stream",
          "name": "stdout",
          "text": [
            "При удалении просто нулевых данных потеряем 31.9%\n"
          ]
        }
      ]
    },
    {
      "cell_type": "code",
      "source": [
        "#Посмотрим распределение возраста, без нулевых значений\n",
        "data.query('age!=0')['age'].describe()"
      ],
      "metadata": {
        "colab": {
          "base_uri": "https://localhost:8080/"
        },
        "id": "xDBmpeLLMtJg",
        "outputId": "25658cc7-cd26-4ddf-d3b4-5d1538316196"
      },
      "execution_count": null,
      "outputs": [
        {
          "output_type": "execute_result",
          "data": {
            "text/plain": [
              "count    135065.000000\n",
              "mean         52.312420\n",
              "std          14.757961\n",
              "min          21.000000\n",
              "25%          41.000000\n",
              "50%          52.000000\n",
              "75%          63.000000\n",
              "max         109.000000\n",
              "Name: age, dtype: float64"
            ]
          },
          "metadata": {},
          "execution_count": 30
        }
      ]
    },
    {
      "cell_type": "code",
      "source": [
        "print(f'Количество клиентов с возрастом = 0 - {data.query(\"age==0\").shape[0]}')"
      ],
      "metadata": {
        "colab": {
          "base_uri": "https://localhost:8080/"
        },
        "id": "2qmUZarSNOZY",
        "outputId": "1f6687dc-d448-4213-9db0-8bfb348b4db8"
      },
      "execution_count": null,
      "outputs": [
        {
          "output_type": "stream",
          "name": "stdout",
          "text": [
            "Количество клиентов с возрастом = 0 - 1\n"
          ]
        }
      ]
    },
    {
      "cell_type": "markdown",
      "source": [
        "У нас есть возрастная группа попробуем по ней восстановить возраст. Посомтрим сколько таких групп"
      ],
      "metadata": {
        "id": "xUByTGw5NsOo"
      }
    },
    {
      "cell_type": "code",
      "source": [
        "data['GroupAge'].value_counts(normalize=True)"
      ],
      "metadata": {
        "colab": {
          "base_uri": "https://localhost:8080/"
        },
        "id": "VB3-jGp7NlBE",
        "outputId": "be2e09c3-f20f-4b2d-a58c-09d7ec08f0b4"
      },
      "execution_count": null,
      "outputs": [
        {
          "output_type": "execute_result",
          "data": {
            "text/plain": [
              "d    0.315300\n",
              "e    0.286357\n",
              "c    0.283215\n",
              "b    0.115122\n",
              "a    0.000007\n",
              "Name: GroupAge, dtype: float64"
            ]
          },
          "metadata": {},
          "execution_count": 32
        }
      ]
    },
    {
      "cell_type": "code",
      "source": [
        "#Посмотрим минимальное и максимальное значение в каждой группе\n",
        "data.pivot_table(index='GroupAge',values='age',aggfunc=['min','max'])"
      ],
      "metadata": {
        "colab": {
          "base_uri": "https://localhost:8080/",
          "height": 269
        },
        "id": "9z1O7p96N7Q3",
        "outputId": "e318b7e3-fbff-487f-99c6-401ec575639f"
      },
      "execution_count": null,
      "outputs": [
        {
          "output_type": "execute_result",
          "data": {
            "text/plain": [
              "           min    max\n",
              "           age    age\n",
              "GroupAge             \n",
              "a          0.0    0.0\n",
              "b         21.0   34.0\n",
              "c         35.0   49.0\n",
              "d         50.0   64.0\n",
              "e         65.0  109.0"
            ],
            "text/html": [
              "\n",
              "  <div id=\"df-975a1423-c89f-4a5f-ba35-b2ba93a504e3\">\n",
              "    <div class=\"colab-df-container\">\n",
              "      <div>\n",
              "<style scoped>\n",
              "    .dataframe tbody tr th:only-of-type {\n",
              "        vertical-align: middle;\n",
              "    }\n",
              "\n",
              "    .dataframe tbody tr th {\n",
              "        vertical-align: top;\n",
              "    }\n",
              "\n",
              "    .dataframe thead tr th {\n",
              "        text-align: left;\n",
              "    }\n",
              "\n",
              "    .dataframe thead tr:last-of-type th {\n",
              "        text-align: right;\n",
              "    }\n",
              "</style>\n",
              "<table border=\"1\" class=\"dataframe\">\n",
              "  <thead>\n",
              "    <tr>\n",
              "      <th></th>\n",
              "      <th>min</th>\n",
              "      <th>max</th>\n",
              "    </tr>\n",
              "    <tr>\n",
              "      <th></th>\n",
              "      <th>age</th>\n",
              "      <th>age</th>\n",
              "    </tr>\n",
              "    <tr>\n",
              "      <th>GroupAge</th>\n",
              "      <th></th>\n",
              "      <th></th>\n",
              "    </tr>\n",
              "  </thead>\n",
              "  <tbody>\n",
              "    <tr>\n",
              "      <th>a</th>\n",
              "      <td>0.0</td>\n",
              "      <td>0.0</td>\n",
              "    </tr>\n",
              "    <tr>\n",
              "      <th>b</th>\n",
              "      <td>21.0</td>\n",
              "      <td>34.0</td>\n",
              "    </tr>\n",
              "    <tr>\n",
              "      <th>c</th>\n",
              "      <td>35.0</td>\n",
              "      <td>49.0</td>\n",
              "    </tr>\n",
              "    <tr>\n",
              "      <th>d</th>\n",
              "      <td>50.0</td>\n",
              "      <td>64.0</td>\n",
              "    </tr>\n",
              "    <tr>\n",
              "      <th>e</th>\n",
              "      <td>65.0</td>\n",
              "      <td>109.0</td>\n",
              "    </tr>\n",
              "  </tbody>\n",
              "</table>\n",
              "</div>\n",
              "      <button class=\"colab-df-convert\" onclick=\"convertToInteractive('df-975a1423-c89f-4a5f-ba35-b2ba93a504e3')\"\n",
              "              title=\"Convert this dataframe to an interactive table.\"\n",
              "              style=\"display:none;\">\n",
              "        \n",
              "  <svg xmlns=\"http://www.w3.org/2000/svg\" height=\"24px\"viewBox=\"0 0 24 24\"\n",
              "       width=\"24px\">\n",
              "    <path d=\"M0 0h24v24H0V0z\" fill=\"none\"/>\n",
              "    <path d=\"M18.56 5.44l.94 2.06.94-2.06 2.06-.94-2.06-.94-.94-2.06-.94 2.06-2.06.94zm-11 1L8.5 8.5l.94-2.06 2.06-.94-2.06-.94L8.5 2.5l-.94 2.06-2.06.94zm10 10l.94 2.06.94-2.06 2.06-.94-2.06-.94-.94-2.06-.94 2.06-2.06.94z\"/><path d=\"M17.41 7.96l-1.37-1.37c-.4-.4-.92-.59-1.43-.59-.52 0-1.04.2-1.43.59L10.3 9.45l-7.72 7.72c-.78.78-.78 2.05 0 2.83L4 21.41c.39.39.9.59 1.41.59.51 0 1.02-.2 1.41-.59l7.78-7.78 2.81-2.81c.8-.78.8-2.07 0-2.86zM5.41 20L4 18.59l7.72-7.72 1.47 1.35L5.41 20z\"/>\n",
              "  </svg>\n",
              "      </button>\n",
              "      \n",
              "  <style>\n",
              "    .colab-df-container {\n",
              "      display:flex;\n",
              "      flex-wrap:wrap;\n",
              "      gap: 12px;\n",
              "    }\n",
              "\n",
              "    .colab-df-convert {\n",
              "      background-color: #E8F0FE;\n",
              "      border: none;\n",
              "      border-radius: 50%;\n",
              "      cursor: pointer;\n",
              "      display: none;\n",
              "      fill: #1967D2;\n",
              "      height: 32px;\n",
              "      padding: 0 0 0 0;\n",
              "      width: 32px;\n",
              "    }\n",
              "\n",
              "    .colab-df-convert:hover {\n",
              "      background-color: #E2EBFA;\n",
              "      box-shadow: 0px 1px 2px rgba(60, 64, 67, 0.3), 0px 1px 3px 1px rgba(60, 64, 67, 0.15);\n",
              "      fill: #174EA6;\n",
              "    }\n",
              "\n",
              "    [theme=dark] .colab-df-convert {\n",
              "      background-color: #3B4455;\n",
              "      fill: #D2E3FC;\n",
              "    }\n",
              "\n",
              "    [theme=dark] .colab-df-convert:hover {\n",
              "      background-color: #434B5C;\n",
              "      box-shadow: 0px 1px 3px 1px rgba(0, 0, 0, 0.15);\n",
              "      filter: drop-shadow(0px 1px 2px rgba(0, 0, 0, 0.3));\n",
              "      fill: #FFFFFF;\n",
              "    }\n",
              "  </style>\n",
              "\n",
              "      <script>\n",
              "        const buttonEl =\n",
              "          document.querySelector('#df-975a1423-c89f-4a5f-ba35-b2ba93a504e3 button.colab-df-convert');\n",
              "        buttonEl.style.display =\n",
              "          google.colab.kernel.accessAllowed ? 'block' : 'none';\n",
              "\n",
              "        async function convertToInteractive(key) {\n",
              "          const element = document.querySelector('#df-975a1423-c89f-4a5f-ba35-b2ba93a504e3');\n",
              "          const dataTable =\n",
              "            await google.colab.kernel.invokeFunction('convertToInteractive',\n",
              "                                                     [key], {});\n",
              "          if (!dataTable) return;\n",
              "\n",
              "          const docLinkHtml = 'Like what you see? Visit the ' +\n",
              "            '<a target=\"_blank\" href=https://colab.research.google.com/notebooks/data_table.ipynb>data table notebook</a>'\n",
              "            + ' to learn more about interactive tables.';\n",
              "          element.innerHTML = '';\n",
              "          dataTable['output_type'] = 'display_data';\n",
              "          await google.colab.output.renderOutput(dataTable, element);\n",
              "          const docLink = document.createElement('div');\n",
              "          docLink.innerHTML = docLinkHtml;\n",
              "          element.appendChild(docLink);\n",
              "        }\n",
              "      </script>\n",
              "    </div>\n",
              "  </div>\n",
              "  "
            ]
          },
          "metadata": {},
          "execution_count": 33
        }
      ]
    },
    {
      "cell_type": "code",
      "source": [
        "data.query(\"age==0\")['SeriousDlqin2yrs']"
      ],
      "metadata": {
        "colab": {
          "base_uri": "https://localhost:8080/"
        },
        "id": "444Fvy69QZ9H",
        "outputId": "c6ec2656-ad73-489f-94ba-3702ec108319"
      },
      "execution_count": null,
      "outputs": [
        {
          "output_type": "execute_result",
          "data": {
            "text/plain": [
              "41655    0\n",
              "Name: SeriousDlqin2yrs, dtype: int64"
            ]
          },
          "metadata": {},
          "execution_count": 34
        }
      ]
    },
    {
      "cell_type": "markdown",
      "source": [
        "В будущем можно будет удалить данные с 0 возрастом"
      ],
      "metadata": {
        "id": "jZ9YyONHTvtC"
      }
    },
    {
      "cell_type": "code",
      "source": [
        "#Посмотрим какие группы в пропусках указаны\n",
        "data.query('age!=age')['GroupAge'].value_counts(normalize=True)"
      ],
      "metadata": {
        "colab": {
          "base_uri": "https://localhost:8080/"
        },
        "id": "F3xx4QFIOXlM",
        "outputId": "c87b02ef-7da7-45a6-aeee-ce24eac3f8d0"
      },
      "execution_count": null,
      "outputs": [
        {
          "output_type": "execute_result",
          "data": {
            "text/plain": [
              "e    1.0\n",
              "Name: GroupAge, dtype: float64"
            ]
          },
          "metadata": {},
          "execution_count": 35
        }
      ]
    },
    {
      "cell_type": "code",
      "source": [
        "data.query('age!=age')['SeriousDlqin2yrs'].value_counts(normalize=True)"
      ],
      "metadata": {
        "colab": {
          "base_uri": "https://localhost:8080/"
        },
        "id": "717AznFfQ6hm",
        "outputId": "120a607c-c5a0-488d-f825-eb0fd43e56ec"
      },
      "execution_count": null,
      "outputs": [
        {
          "output_type": "execute_result",
          "data": {
            "text/plain": [
              "0    0.932637\n",
              "1    0.067363\n",
              "Name: SeriousDlqin2yrs, dtype: float64"
            ]
          },
          "metadata": {},
          "execution_count": 36
        }
      ]
    },
    {
      "cell_type": "markdown",
      "source": [
        "данные со значением целевой переменной распределены также,как и во всем датасете. В идеале проверить и по другим переменным. Но в общем, выглядит так, что можно удалить было бы значения, но попробуем восстановить"
      ],
      "metadata": {
        "id": "_XY2Y1qSRFIQ"
      }
    },
    {
      "cell_type": "code",
      "source": [
        "data.query('GroupAge==\"e\"')['age'].hist()"
      ],
      "metadata": {
        "colab": {
          "base_uri": "https://localhost:8080/",
          "height": 448
        },
        "id": "I7xT15hTPVz8",
        "outputId": "8b69fea4-faa0-42da-b963-7cccee5ef40b"
      },
      "execution_count": null,
      "outputs": [
        {
          "output_type": "execute_result",
          "data": {
            "text/plain": [
              "<Axes: >"
            ]
          },
          "metadata": {},
          "execution_count": 37
        },
        {
          "output_type": "display_data",
          "data": {
            "text/plain": [
              "<Figure size 640x480 with 1 Axes>"
            ],
            "image/png": "[encoded data removed]"
          },
          "metadata": {}
        }
      ]
    },
    {
      "cell_type": "code",
      "source": [
        "#Действуем из предположения, что возрастную группу заполняли нормально, а не ставили всем с пропусками группу e. \n",
        "#Можно было бы поисследовать, но некогда)\n",
        "#Заполним медианным значением, так как медина устойчивее к выбросам\n",
        "data['age']=data['age'].fillna(data.query('GroupAge==\"e\"')['age'].median())"
      ],
      "metadata": {
        "id": "0ASaIQidOuRY"
      },
      "execution_count": null,
      "outputs": []
    },
    {
      "cell_type": "code",
      "source": [
        "data['GroupAge'].value_counts(normalize=True)"
      ],
      "metadata": {
        "colab": {
          "base_uri": "https://localhost:8080/"
        },
        "id": "tDlNMAmyPxp1",
        "outputId": "eb35fdfa-952d-41b3-b0db-583d17d341cc"
      },
      "execution_count": null,
      "outputs": [
        {
          "output_type": "execute_result",
          "data": {
            "text/plain": [
              "d    0.315300\n",
              "e    0.286357\n",
              "c    0.283215\n",
              "b    0.115122\n",
              "a    0.000007\n",
              "Name: GroupAge, dtype: float64"
            ]
          },
          "metadata": {},
          "execution_count": 39
        }
      ]
    },
    {
      "cell_type": "code",
      "source": [
        "data=data.drop(index=data.query(\"age==0\").index)"
      ],
      "metadata": {
        "id": "QPf7t-BkQms8"
      },
      "execution_count": null,
      "outputs": []
    },
    {
      "cell_type": "markdown",
      "source": [
        "Попробуем понять можем ли мы восстановить пропуски в месячном доходе"
      ],
      "metadata": {
        "id": "Yvp591Pl1oAa"
      }
    },
    {
      "cell_type": "code",
      "source": [
        "data.query('MonthlyIncome!=MonthlyIncome')['SeriousDlqin2yrs'].value_counts(normalize=True)"
      ],
      "metadata": {
        "colab": {
          "base_uri": "https://localhost:8080/"
        },
        "id": "5edMt4YGP4QA",
        "outputId": "e69059b9-ea5e-4c08-a2af-c36909f1158f"
      },
      "execution_count": null,
      "outputs": [
        {
          "output_type": "execute_result",
          "data": {
            "text/plain": [
              "0    0.943863\n",
              "1    0.056137\n",
              "Name: SeriousDlqin2yrs, dtype: float64"
            ]
          },
          "metadata": {},
          "execution_count": 41
        }
      ]
    },
    {
      "cell_type": "code",
      "source": [
        "data.query('MonthlyIncome!=MonthlyIncome')['GroupAge'].value_counts(normalize=True)"
      ],
      "metadata": {
        "colab": {
          "base_uri": "https://localhost:8080/"
        },
        "id": "Jap4inQCRrMg",
        "outputId": "c236f041-991a-4519-d4be-9ee7a0ad8e5d"
      },
      "execution_count": null,
      "outputs": [
        {
          "output_type": "execute_result",
          "data": {
            "text/plain": [
              "e    0.370018\n",
              "d    0.330329\n",
              "c    0.214490\n",
              "b    0.085164\n",
              "Name: GroupAge, dtype: float64"
            ]
          },
          "metadata": {},
          "execution_count": 42
        }
      ]
    },
    {
      "cell_type": "code",
      "source": [
        "data['NumberOfOpenCreditLinesAndLoans'].describe()"
      ],
      "metadata": {
        "colab": {
          "base_uri": "https://localhost:8080/"
        },
        "id": "CpXPyKdaUSi8",
        "outputId": "2471764a-8cda-450a-b9b9-2f4436e242e3"
      },
      "execution_count": null,
      "outputs": [
        {
          "output_type": "execute_result",
          "data": {
            "text/plain": [
              "count    149910.000000\n",
              "mean          8.457008\n",
              "std           5.144529\n",
              "min           0.000000\n",
              "25%           5.000000\n",
              "50%           8.000000\n",
              "75%          11.000000\n",
              "max          58.000000\n",
              "Name: NumberOfOpenCreditLinesAndLoans, dtype: float64"
            ]
          },
          "metadata": {},
          "execution_count": 43
        }
      ]
    },
    {
      "cell_type": "code",
      "source": [
        "data.query('MonthlyIncome!=MonthlyIncome')['NumberOfOpenCreditLinesAndLoans'].describe()"
      ],
      "metadata": {
        "colab": {
          "base_uri": "https://localhost:8080/"
        },
        "id": "M2P3ry1KU0hj",
        "outputId": "d4cbe6a5-d2dd-466f-8283-0d7a9b61bf8b"
      },
      "execution_count": null,
      "outputs": [
        {
          "output_type": "execute_result",
          "data": {
            "text/plain": [
              "count    29731.000000\n",
              "mean         7.216071\n",
              "std          4.842720\n",
              "min          0.000000\n",
              "25%          4.000000\n",
              "50%          6.000000\n",
              "75%         10.000000\n",
              "max         45.000000\n",
              "Name: NumberOfOpenCreditLinesAndLoans, dtype: float64"
            ]
          },
          "metadata": {},
          "execution_count": 44
        }
      ]
    },
    {
      "cell_type": "code",
      "source": [
        "cm=data.corr()\n",
        "cm.style.background_gradient(cmap='coolwarm')"
      ],
      "metadata": {
        "colab": {
          "base_uri": "https://localhost:8080/",
          "height": 471
        },
        "id": "Ie8tDPuJ2k26",
        "outputId": "e3bf43ed-bb4d-4502-8320-8f95d0f95033"
      },
      "execution_count": null,
      "outputs": [
        {
          "output_type": "stream",
          "name": "stderr",
          "text": [
            "<ipython-input-45-0d734a94b1c3>:1: FutureWarning: The default value of numeric_only in DataFrame.corr is deprecated. In a future version, it will default to False. Select only valid columns or specify the value of numeric_only to silence this warning.\n",
            "  cm=data.corr()\n"
          ]
        },
        {
          "output_type": "execute_result",
          "data": {
            "text/plain": [
              "<pandas.io.formats.style.Styler at 0x7fbcf14db010>"
            ],
            "text/html": [
              "<style type=\"text/css\">\n",
              "#T_5fd55_row0_col0, #T_5fd55_row1_col1, #T_5fd55_row2_col2, #T_5fd55_row3_col3, #T_5fd55_row4_col4, #T_5fd55_row5_col5, #T_5fd55_row6_col6, #T_5fd55_row7_col7, #T_5fd55_row8_col8, #T_5fd55_row9_col9 {\n",
              "  background-color: #b40426;\n",
              "  color: #f1f1f1;\n",
              "}\n",
              "#T_5fd55_row0_col1, #T_5fd55_row0_col5, #T_5fd55_row2_col1, #T_5fd55_row3_col1, #T_5fd55_row5_col4, #T_5fd55_row7_col1, #T_5fd55_row8_col1, #T_5fd55_row8_col6 {\n",
              "  background-color: #3d50c3;\n",
              "  color: #f1f1f1;\n",
              "}\n",
              "#T_5fd55_row0_col2, #T_5fd55_row1_col7 {\n",
              "  background-color: #506bda;\n",
              "  color: #f1f1f1;\n",
              "}\n",
              "#T_5fd55_row0_col3 {\n",
              "  background-color: #7093f3;\n",
              "  color: #f1f1f1;\n",
              "}\n",
              "#T_5fd55_row0_col4, #T_5fd55_row1_col5, #T_5fd55_row3_col4, #T_5fd55_row8_col4 {\n",
              "  background-color: #445acc;\n",
              "  color: #f1f1f1;\n",
              "}\n",
              "#T_5fd55_row0_col6, #T_5fd55_row4_col3 {\n",
              "  background-color: #485fd1;\n",
              "  color: #f1f1f1;\n",
              "}\n",
              "#T_5fd55_row0_col7 {\n",
              "  background-color: #7597f6;\n",
              "  color: #f1f1f1;\n",
              "}\n",
              "#T_5fd55_row0_col8 {\n",
              "  background-color: #6e90f2;\n",
              "  color: #f1f1f1;\n",
              "}\n",
              "#T_5fd55_row0_col9, #T_5fd55_row7_col0 {\n",
              "  background-color: #7a9df8;\n",
              "  color: #f1f1f1;\n",
              "}\n",
              "#T_5fd55_row1_col0 {\n",
              "  background-color: #5673e0;\n",
              "  color: #f1f1f1;\n",
              "}\n",
              "#T_5fd55_row1_col2 {\n",
              "  background-color: #6b8df0;\n",
              "  color: #f1f1f1;\n",
              "}\n",
              "#T_5fd55_row1_col3 {\n",
              "  background-color: #4a63d3;\n",
              "  color: #f1f1f1;\n",
              "}\n",
              "#T_5fd55_row1_col4, #T_5fd55_row5_col3 {\n",
              "  background-color: #465ecf;\n",
              "  color: #f1f1f1;\n",
              "}\n",
              "#T_5fd55_row1_col6, #T_5fd55_row1_col8, #T_5fd55_row4_col7, #T_5fd55_row6_col0, #T_5fd55_row9_col7 {\n",
              "  background-color: #4e68d8;\n",
              "  color: #f1f1f1;\n",
              "}\n",
              "#T_5fd55_row1_col9, #T_5fd55_row3_col9, #T_5fd55_row5_col6 {\n",
              "  background-color: #6c8ff1;\n",
              "  color: #f1f1f1;\n",
              "}\n",
              "#T_5fd55_row2_col0, #T_5fd55_row2_col3, #T_5fd55_row2_col9, #T_5fd55_row4_col5, #T_5fd55_row6_col1, #T_5fd55_row6_col3, #T_5fd55_row6_col7, #T_5fd55_row6_col8, #T_5fd55_row7_col6, #T_5fd55_row9_col2, #T_5fd55_row9_col4 {\n",
              "  background-color: #3b4cc0;\n",
              "  color: #f1f1f1;\n",
              "}\n",
              "#T_5fd55_row2_col4, #T_5fd55_row2_col5, #T_5fd55_row5_col8, #T_5fd55_row9_col8 {\n",
              "  background-color: #4b64d5;\n",
              "  color: #f1f1f1;\n",
              "}\n",
              "#T_5fd55_row2_col6 {\n",
              "  background-color: #799cf8;\n",
              "  color: #f1f1f1;\n",
              "}\n",
              "#T_5fd55_row2_col7 {\n",
              "  background-color: #4257c9;\n",
              "  color: #f1f1f1;\n",
              "}\n",
              "#T_5fd55_row2_col8, #T_5fd55_row3_col6 {\n",
              "  background-color: #4055c8;\n",
              "  color: #f1f1f1;\n",
              "}\n",
              "#T_5fd55_row3_col0 {\n",
              "  background-color: #7da0f9;\n",
              "  color: #f1f1f1;\n",
              "}\n",
              "#T_5fd55_row3_col2 {\n",
              "  background-color: #5d7ce6;\n",
              "  color: #f1f1f1;\n",
              "}\n",
              "#T_5fd55_row3_col5, #T_5fd55_row5_col1, #T_5fd55_row7_col5, #T_5fd55_row8_col5 {\n",
              "  background-color: #3f53c6;\n",
              "  color: #f1f1f1;\n",
              "}\n",
              "#T_5fd55_row3_col7, #T_5fd55_row3_col8, #T_5fd55_row8_col3 {\n",
              "  background-color: #b8122a;\n",
              "  color: #f1f1f1;\n",
              "}\n",
              "#T_5fd55_row4_col0 {\n",
              "  background-color: #5470de;\n",
              "  color: #f1f1f1;\n",
              "}\n",
              "#T_5fd55_row4_col1, #T_5fd55_row9_col1 {\n",
              "  background-color: #3e51c5;\n",
              "  color: #f1f1f1;\n",
              "}\n",
              "#T_5fd55_row4_col2 {\n",
              "  background-color: #7295f4;\n",
              "  color: #f1f1f1;\n",
              "}\n",
              "#T_5fd55_row4_col6 {\n",
              "  background-color: #5f7fe8;\n",
              "  color: #f1f1f1;\n",
              "}\n",
              "#T_5fd55_row4_col8, #T_5fd55_row5_col7 {\n",
              "  background-color: #4c66d6;\n",
              "  color: #f1f1f1;\n",
              "}\n",
              "#T_5fd55_row4_col9 {\n",
              "  background-color: #6180e9;\n",
              "  color: #f1f1f1;\n",
              "}\n",
              "#T_5fd55_row5_col0 {\n",
              "  background-color: #516ddb;\n",
              "  color: #f1f1f1;\n",
              "}\n",
              "#T_5fd55_row5_col2, #T_5fd55_row8_col0 {\n",
              "  background-color: #7699f6;\n",
              "  color: #f1f1f1;\n",
              "}\n",
              "#T_5fd55_row5_col9 {\n",
              "  background-color: #7ea1fa;\n",
              "  color: #f1f1f1;\n",
              "}\n",
              "#T_5fd55_row6_col2 {\n",
              "  background-color: #93b5fe;\n",
              "  color: #000000;\n",
              "}\n",
              "#T_5fd55_row6_col4, #T_5fd55_row9_col5 {\n",
              "  background-color: #5572df;\n",
              "  color: #f1f1f1;\n",
              "}\n",
              "#T_5fd55_row6_col5, #T_5fd55_row7_col2, #T_5fd55_row8_col2 {\n",
              "  background-color: #5e7de7;\n",
              "  color: #f1f1f1;\n",
              "}\n",
              "#T_5fd55_row6_col9 {\n",
              "  background-color: #80a3fa;\n",
              "  color: #f1f1f1;\n",
              "}\n",
              "#T_5fd55_row7_col3 {\n",
              "  background-color: #ba162b;\n",
              "  color: #f1f1f1;\n",
              "}\n",
              "#T_5fd55_row7_col4 {\n",
              "  background-color: #4358cb;\n",
              "  color: #f1f1f1;\n",
              "}\n",
              "#T_5fd55_row7_col8, #T_5fd55_row8_col7 {\n",
              "  background-color: #b50927;\n",
              "  color: #f1f1f1;\n",
              "}\n",
              "#T_5fd55_row7_col9, #T_5fd55_row8_col9 {\n",
              "  background-color: #6a8bef;\n",
              "  color: #f1f1f1;\n",
              "}\n",
              "#T_5fd55_row9_col0, #T_5fd55_row9_col6 {\n",
              "  background-color: #6485ec;\n",
              "  color: #f1f1f1;\n",
              "}\n",
              "#T_5fd55_row9_col3 {\n",
              "  background-color: #4961d2;\n",
              "  color: #f1f1f1;\n",
              "}\n",
              "</style>\n",
              "<table id=\"T_5fd55\" class=\"dataframe\">\n",
              "  <thead>\n",
              "    <tr>\n",
              "      <th class=\"blank level0\" >&nbsp;</th>\n",
              "      <th id=\"T_5fd55_level0_col0\" class=\"col_heading level0 col0\" >SeriousDlqin2yrs</th>\n",
              "      <th id=\"T_5fd55_level0_col1\" class=\"col_heading level0 col1\" >RevolvingUtilizationOfUnsecuredLines</th>\n",
              "      <th id=\"T_5fd55_level0_col2\" class=\"col_heading level0 col2\" >age</th>\n",
              "      <th id=\"T_5fd55_level0_col3\" class=\"col_heading level0 col3\" >NumberOfTime30-59DaysPastDueNotWorse</th>\n",
              "      <th id=\"T_5fd55_level0_col4\" class=\"col_heading level0 col4\" >DebtRatio</th>\n",
              "      <th id=\"T_5fd55_level0_col5\" class=\"col_heading level0 col5\" >MonthlyIncome</th>\n",
              "      <th id=\"T_5fd55_level0_col6\" class=\"col_heading level0 col6\" >NumberOfOpenCreditLinesAndLoans</th>\n",
              "      <th id=\"T_5fd55_level0_col7\" class=\"col_heading level0 col7\" >NumberOfTimes90DaysLate</th>\n",
              "      <th id=\"T_5fd55_level0_col8\" class=\"col_heading level0 col8\" >NumberOfTime60-89DaysPastDueNotWorse</th>\n",
              "      <th id=\"T_5fd55_level0_col9\" class=\"col_heading level0 col9\" >NumberOfDependents</th>\n",
              "    </tr>\n",
              "  </thead>\n",
              "  <tbody>\n",
              "    <tr>\n",
              "      <th id=\"T_5fd55_level0_row0\" class=\"row_heading level0 row0\" >SeriousDlqin2yrs</th>\n",
              "      <td id=\"T_5fd55_row0_col0\" class=\"data row0 col0\" >1.000000</td>\n",
              "      <td id=\"T_5fd55_row0_col1\" class=\"data row0 col1\" >-0.001804</td>\n",
              "      <td id=\"T_5fd55_row0_col2\" class=\"data row0 col2\" >-0.101671</td>\n",
              "      <td id=\"T_5fd55_row0_col3\" class=\"data row0 col3\" >0.125776</td>\n",
              "      <td id=\"T_5fd55_row0_col4\" class=\"data row0 col4\" >-0.007622</td>\n",
              "      <td id=\"T_5fd55_row0_col5\" class=\"data row0 col5\" >-0.019805</td>\n",
              "      <td id=\"T_5fd55_row0_col6\" class=\"data row0 col6\" >-0.029822</td>\n",
              "      <td id=\"T_5fd55_row0_col7\" class=\"data row0 col7\" >0.117320</td>\n",
              "      <td id=\"T_5fd55_row0_col8\" class=\"data row0 col8\" >0.102331</td>\n",
              "      <td id=\"T_5fd55_row0_col9\" class=\"data row0 col9\" >0.045988</td>\n",
              "    </tr>\n",
              "    <tr>\n",
              "      <th id=\"T_5fd55_level0_row1\" class=\"row_heading level0 row1\" >RevolvingUtilizationOfUnsecuredLines</th>\n",
              "      <td id=\"T_5fd55_row1_col0\" class=\"data row1 col0\" >-0.001804</td>\n",
              "      <td id=\"T_5fd55_row1_col1\" class=\"data row1 col1\" >1.000000</td>\n",
              "      <td id=\"T_5fd55_row1_col2\" class=\"data row1 col2\" >-0.002777</td>\n",
              "      <td id=\"T_5fd55_row1_col3\" class=\"data row1 col3\" >-0.001312</td>\n",
              "      <td id=\"T_5fd55_row1_col4\" class=\"data row1 col4\" >0.003959</td>\n",
              "      <td id=\"T_5fd55_row1_col5\" class=\"data row1 col5\" >0.007118</td>\n",
              "      <td id=\"T_5fd55_row1_col6\" class=\"data row1 col6\" >-0.011305</td>\n",
              "      <td id=\"T_5fd55_row1_col7\" class=\"data row1 col7\" >-0.001058</td>\n",
              "      <td id=\"T_5fd55_row1_col8\" class=\"data row1 col8\" >-0.001045</td>\n",
              "      <td id=\"T_5fd55_row1_col9\" class=\"data row1 col9\" >0.001549</td>\n",
              "    </tr>\n",
              "    <tr>\n",
              "      <th id=\"T_5fd55_level0_row2\" class=\"row_heading level0 row2\" >age</th>\n",
              "      <td id=\"T_5fd55_row2_col0\" class=\"data row2 col0\" >-0.101671</td>\n",
              "      <td id=\"T_5fd55_row2_col1\" class=\"data row2 col1\" >-0.002777</td>\n",
              "      <td id=\"T_5fd55_row2_col2\" class=\"data row2 col2\" >1.000000</td>\n",
              "      <td id=\"T_5fd55_row2_col3\" class=\"data row2 col3\" >-0.054495</td>\n",
              "      <td id=\"T_5fd55_row2_col4\" class=\"data row2 col4\" >0.019505</td>\n",
              "      <td id=\"T_5fd55_row2_col5\" class=\"data row2 col5\" >0.030104</td>\n",
              "      <td id=\"T_5fd55_row2_col6\" class=\"data row2 col6\" >0.129399</td>\n",
              "      <td id=\"T_5fd55_row2_col7\" class=\"data row2 col7\" >-0.052462</td>\n",
              "      <td id=\"T_5fd55_row2_col8\" class=\"data row2 col8\" >-0.049026</td>\n",
              "      <td id=\"T_5fd55_row2_col9\" class=\"data row2 col9\" >-0.188112</td>\n",
              "    </tr>\n",
              "    <tr>\n",
              "      <th id=\"T_5fd55_level0_row3\" class=\"row_heading level0 row3\" >NumberOfTime30-59DaysPastDueNotWorse</th>\n",
              "      <td id=\"T_5fd55_row3_col0\" class=\"data row3 col0\" >0.125776</td>\n",
              "      <td id=\"T_5fd55_row3_col1\" class=\"data row3 col1\" >-0.001312</td>\n",
              "      <td id=\"T_5fd55_row3_col2\" class=\"data row3 col2\" >-0.054495</td>\n",
              "      <td id=\"T_5fd55_row3_col3\" class=\"data row3 col3\" >1.000000</td>\n",
              "      <td id=\"T_5fd55_row3_col4\" class=\"data row3 col4\" >-0.006506</td>\n",
              "      <td id=\"T_5fd55_row3_col5\" class=\"data row3 col5\" >-0.010025</td>\n",
              "      <td id=\"T_5fd55_row3_col6\" class=\"data row3 col6\" >-0.054956</td>\n",
              "      <td id=\"T_5fd55_row3_col7\" class=\"data row3 col7\" >0.983423</td>\n",
              "      <td id=\"T_5fd55_row3_col8\" class=\"data row3 col8\" >0.986863</td>\n",
              "      <td id=\"T_5fd55_row3_col9\" class=\"data row3 col9\" >-0.002397</td>\n",
              "    </tr>\n",
              "    <tr>\n",
              "      <th id=\"T_5fd55_level0_row4\" class=\"row_heading level0 row4\" >DebtRatio</th>\n",
              "      <td id=\"T_5fd55_row4_col0\" class=\"data row4 col0\" >-0.007622</td>\n",
              "      <td id=\"T_5fd55_row4_col1\" class=\"data row4 col1\" >0.003959</td>\n",
              "      <td id=\"T_5fd55_row4_col2\" class=\"data row4 col2\" >0.019505</td>\n",
              "      <td id=\"T_5fd55_row4_col3\" class=\"data row4 col3\" >-0.006506</td>\n",
              "      <td id=\"T_5fd55_row4_col4\" class=\"data row4 col4\" >1.000000</td>\n",
              "      <td id=\"T_5fd55_row4_col5\" class=\"data row4 col5\" >-0.028733</td>\n",
              "      <td id=\"T_5fd55_row4_col6\" class=\"data row4 col6\" >0.049451</td>\n",
              "      <td id=\"T_5fd55_row4_col7\" class=\"data row4 col7\" >-0.008290</td>\n",
              "      <td id=\"T_5fd55_row4_col8\" class=\"data row4 col8\" >-0.007499</td>\n",
              "      <td id=\"T_5fd55_row4_col9\" class=\"data row4 col9\" >-0.040749</td>\n",
              "    </tr>\n",
              "    <tr>\n",
              "      <th id=\"T_5fd55_level0_row5\" class=\"row_heading level0 row5\" >MonthlyIncome</th>\n",
              "      <td id=\"T_5fd55_row5_col0\" class=\"data row5 col0\" >-0.019805</td>\n",
              "      <td id=\"T_5fd55_row5_col1\" class=\"data row5 col1\" >0.007118</td>\n",
              "      <td id=\"T_5fd55_row5_col2\" class=\"data row5 col2\" >0.030104</td>\n",
              "      <td id=\"T_5fd55_row5_col3\" class=\"data row5 col3\" >-0.010025</td>\n",
              "      <td id=\"T_5fd55_row5_col4\" class=\"data row5 col4\" >-0.028733</td>\n",
              "      <td id=\"T_5fd55_row5_col5\" class=\"data row5 col5\" >1.000000</td>\n",
              "      <td id=\"T_5fd55_row5_col6\" class=\"data row5 col6\" >0.091090</td>\n",
              "      <td id=\"T_5fd55_row5_col7\" class=\"data row5 col7\" >-0.012559</td>\n",
              "      <td id=\"T_5fd55_row5_col8\" class=\"data row5 col8\" >-0.010914</td>\n",
              "      <td id=\"T_5fd55_row5_col9\" class=\"data row5 col9\" >0.062438</td>\n",
              "    </tr>\n",
              "    <tr>\n",
              "      <th id=\"T_5fd55_level0_row6\" class=\"row_heading level0 row6\" >NumberOfOpenCreditLinesAndLoans</th>\n",
              "      <td id=\"T_5fd55_row6_col0\" class=\"data row6 col0\" >-0.029822</td>\n",
              "      <td id=\"T_5fd55_row6_col1\" class=\"data row6 col1\" >-0.011305</td>\n",
              "      <td id=\"T_5fd55_row6_col2\" class=\"data row6 col2\" >0.129399</td>\n",
              "      <td id=\"T_5fd55_row6_col3\" class=\"data row6 col3\" >-0.054956</td>\n",
              "      <td id=\"T_5fd55_row6_col4\" class=\"data row6 col4\" >0.049451</td>\n",
              "      <td id=\"T_5fd55_row6_col5\" class=\"data row6 col5\" >0.091090</td>\n",
              "      <td id=\"T_5fd55_row6_col6\" class=\"data row6 col6\" >1.000000</td>\n",
              "      <td id=\"T_5fd55_row6_col7\" class=\"data row6 col7\" >-0.079747</td>\n",
              "      <td id=\"T_5fd55_row6_col8\" class=\"data row6 col8\" >-0.070783</td>\n",
              "      <td id=\"T_5fd55_row6_col9\" class=\"data row6 col9\" >0.064795</td>\n",
              "    </tr>\n",
              "    <tr>\n",
              "      <th id=\"T_5fd55_level0_row7\" class=\"row_heading level0 row7\" >NumberOfTimes90DaysLate</th>\n",
              "      <td id=\"T_5fd55_row7_col0\" class=\"data row7 col0\" >0.117320</td>\n",
              "      <td id=\"T_5fd55_row7_col1\" class=\"data row7 col1\" >-0.001058</td>\n",
              "      <td id=\"T_5fd55_row7_col2\" class=\"data row7 col2\" >-0.052462</td>\n",
              "      <td id=\"T_5fd55_row7_col3\" class=\"data row7 col3\" >0.983423</td>\n",
              "      <td id=\"T_5fd55_row7_col4\" class=\"data row7 col4\" >-0.008290</td>\n",
              "      <td id=\"T_5fd55_row7_col5\" class=\"data row7 col5\" >-0.012559</td>\n",
              "      <td id=\"T_5fd55_row7_col6\" class=\"data row7 col6\" >-0.079747</td>\n",
              "      <td id=\"T_5fd55_row7_col7\" class=\"data row7 col7\" >1.000000</td>\n",
              "      <td id=\"T_5fd55_row7_col8\" class=\"data row7 col8\" >0.992716</td>\n",
              "      <td id=\"T_5fd55_row7_col9\" class=\"data row7 col9\" >-0.009920</td>\n",
              "    </tr>\n",
              "    <tr>\n",
              "      <th id=\"T_5fd55_level0_row8\" class=\"row_heading level0 row8\" >NumberOfTime60-89DaysPastDueNotWorse</th>\n",
              "      <td id=\"T_5fd55_row8_col0\" class=\"data row8 col0\" >0.102331</td>\n",
              "      <td id=\"T_5fd55_row8_col1\" class=\"data row8 col1\" >-0.001045</td>\n",
              "      <td id=\"T_5fd55_row8_col2\" class=\"data row8 col2\" >-0.049026</td>\n",
              "      <td id=\"T_5fd55_row8_col3\" class=\"data row8 col3\" >0.986863</td>\n",
              "      <td id=\"T_5fd55_row8_col4\" class=\"data row8 col4\" >-0.007499</td>\n",
              "      <td id=\"T_5fd55_row8_col5\" class=\"data row8 col5\" >-0.010914</td>\n",
              "      <td id=\"T_5fd55_row8_col6\" class=\"data row8 col6\" >-0.070783</td>\n",
              "      <td id=\"T_5fd55_row8_col7\" class=\"data row8 col7\" >0.992716</td>\n",
              "      <td id=\"T_5fd55_row8_col8\" class=\"data row8 col8\" >1.000000</td>\n",
              "      <td id=\"T_5fd55_row8_col9\" class=\"data row8 col9\" >-0.010668</td>\n",
              "    </tr>\n",
              "    <tr>\n",
              "      <th id=\"T_5fd55_level0_row9\" class=\"row_heading level0 row9\" >NumberOfDependents</th>\n",
              "      <td id=\"T_5fd55_row9_col0\" class=\"data row9 col0\" >0.045988</td>\n",
              "      <td id=\"T_5fd55_row9_col1\" class=\"data row9 col1\" >0.001549</td>\n",
              "      <td id=\"T_5fd55_row9_col2\" class=\"data row9 col2\" >-0.188112</td>\n",
              "      <td id=\"T_5fd55_row9_col3\" class=\"data row9 col3\" >-0.002397</td>\n",
              "      <td id=\"T_5fd55_row9_col4\" class=\"data row9 col4\" >-0.040749</td>\n",
              "      <td id=\"T_5fd55_row9_col5\" class=\"data row9 col5\" >0.062438</td>\n",
              "      <td id=\"T_5fd55_row9_col6\" class=\"data row9 col6\" >0.064795</td>\n",
              "      <td id=\"T_5fd55_row9_col7\" class=\"data row9 col7\" >-0.009920</td>\n",
              "      <td id=\"T_5fd55_row9_col8\" class=\"data row9 col8\" >-0.010668</td>\n",
              "      <td id=\"T_5fd55_row9_col9\" class=\"data row9 col9\" >1.000000</td>\n",
              "    </tr>\n",
              "  </tbody>\n",
              "</table>\n"
            ]
          },
          "metadata": {},
          "execution_count": 45
        }
      ]
    },
    {
      "cell_type": "markdown",
      "source": [
        "Сколько раз за последние 2 года заемщик задержал платеж на 60-89 дней и сколько раз наблюдалась просрочка (90 и более дней) и Сколько раз за последние 2 года наблюдалась просрочка 30-59 дней.. сильно скоррелированны, что ожидаемо\n"
      ],
      "metadata": {
        "id": "tYLs2Rq23NzW"
      }
    },
    {
      "cell_type": "code",
      "source": [
        "temp=data.query('age!=age and MonthlyIncome!=MonthlyIncome and NumberOfDependents!=NumberOfDependents').shape[0]\n",
        "temp\n",
        "print(f'При удалении просто нулевых данных потеряем\\\n",
        " {(data.age.isna().sum()+data.MonthlyIncome.isna().sum()+data.NumberOfDependents.isna().sum()-2*temp)/data.shape[0]:.1%}')"
      ],
      "metadata": {
        "id": "5caayn1eRu-n",
        "colab": {
          "base_uri": "https://localhost:8080/"
        },
        "outputId": "4586a60c-43ee-4dfc-ef4a-dbd63ef044ba"
      },
      "execution_count": null,
      "outputs": [
        {
          "output_type": "stream",
          "name": "stdout",
          "text": [
            "При удалении просто нулевых данных потеряем 22.5%\n"
          ]
        }
      ]
    },
    {
      "cell_type": "code",
      "source": [
        "(data['MonthlyIncome']/1000).describe()"
      ],
      "metadata": {
        "colab": {
          "base_uri": "https://localhost:8080/"
        },
        "id": "OyEQcxET18EL",
        "outputId": "d0db4d39-b887-4c33-91fd-9507107fe281"
      },
      "execution_count": null,
      "outputs": [
        {
          "output_type": "execute_result",
          "data": {
            "text/plain": [
              "count    120179.000000\n",
              "mean          6.674625\n",
              "std          14.389141\n",
              "min           0.000000\n",
              "25%           3.400000\n",
              "50%           5.400000\n",
              "75%           8.250000\n",
              "max        3008.750000\n",
              "Name: MonthlyIncome, dtype: float64"
            ]
          },
          "metadata": {},
          "execution_count": 47
        }
      ]
    },
    {
      "cell_type": "code",
      "source": [
        "(data.query('SeriousDlqin2yrs==1')['MonthlyIncome']/1000).describe()"
      ],
      "metadata": {
        "colab": {
          "base_uri": "https://localhost:8080/"
        },
        "id": "7yGPqdA734D9",
        "outputId": "c951c6d2-511e-477a-953a-b738bdf31d61"
      },
      "execution_count": null,
      "outputs": [
        {
          "output_type": "execute_result",
          "data": {
            "text/plain": [
              "count    8355.000000\n",
              "mean        5.632055\n",
              "std         6.171943\n",
              "min         0.000000\n",
              "25%         2.967500\n",
              "50%         4.500000\n",
              "75%         6.801000\n",
              "max       250.000000\n",
              "Name: MonthlyIncome, dtype: float64"
            ]
          },
          "metadata": {},
          "execution_count": 48
        }
      ]
    },
    {
      "cell_type": "code",
      "source": [
        "(data.query('SeriousDlqin2yrs==0')['MonthlyIncome']/1000).describe()"
      ],
      "metadata": {
        "colab": {
          "base_uri": "https://localhost:8080/"
        },
        "id": "0J_cphsV4kmY",
        "outputId": "fd2057bd-5dc6-4220-ac5e-a57cca3e48d8"
      },
      "execution_count": null,
      "outputs": [
        {
          "output_type": "execute_result",
          "data": {
            "text/plain": [
              "count    111824.000000\n",
              "mean          6.752521\n",
              "std          14.818370\n",
              "min           0.000000\n",
              "25%           3.470000\n",
              "50%           5.474000\n",
              "75%           8.333000\n",
              "max        3008.750000\n",
              "Name: MonthlyIncome, dtype: float64"
            ]
          },
          "metadata": {},
          "execution_count": 49
        }
      ]
    },
    {
      "cell_type": "code",
      "source": [
        "plt.scatter(data['MonthlyIncome'], data['SeriousDlqin2yrs'], c=data['SeriousDlqin2yrs'])"
      ],
      "metadata": {
        "colab": {
          "base_uri": "https://localhost:8080/",
          "height": 466
        },
        "id": "KizifUyB65EP",
        "outputId": "aba6b805-ef5d-4630-8db4-001ab9a7f59a"
      },
      "execution_count": null,
      "outputs": [
        {
          "output_type": "execute_result",
          "data": {
            "text/plain": [
              "<matplotlib.collections.PathCollection at 0x7fbcef08c610>"
            ]
          },
          "metadata": {},
          "execution_count": 50
        },
        {
          "output_type": "display_data",
          "data": {
            "text/plain": [
              "<Figure size 640x480 with 1 Axes>"
            ],
            "image/png": "[encoded data removed]"
          },
          "metadata": {}
        }
      ]
    },
    {
      "cell_type": "markdown",
      "source": [
        "Среди тех, кто просрочил кредит более, чем на 90 дней ежемесячный доход ниже"
      ],
      "metadata": {
        "id": "HaMhF84c_6ws"
      }
    },
    {
      "cell_type": "code",
      "source": [
        "leg=[]\n",
        "for i,g in enumerate(data.SeriousDlqin2yrs.unique()):\n",
        "  data.query('SeriousDlqin2yrs==@g')['MonthlyIncome'].plot(kind='hist',title='MonthlyIncome',grid=True,alpha=0.7,sharex=True)\n",
        "  leg.append(g)\n",
        "plt.legend(leg)\n",
        "plt.show()"
      ],
      "metadata": {
        "colab": {
          "base_uri": "https://localhost:8080/",
          "height": 470
        },
        "id": "mt8UXVrq4m1X",
        "outputId": "0f41de65-fc28-46b1-ac30-d0f5d3aa1c79"
      },
      "execution_count": null,
      "outputs": [
        {
          "output_type": "display_data",
          "data": {
            "text/plain": [
              "<Figure size 640x480 with 1 Axes>"
            ],
            "image/png": "[encoded data removed]"
          },
          "metadata": {}
        }
      ]
    },
    {
      "cell_type": "code",
      "source": [
        "gr=[]\n",
        "for i,g in enumerate(data.GroupAge.unique()):\n",
        "  data.query('GroupAge==@g')['MonthlyIncome'].plot(kind='hist',title='MonthlyIncome',grid=True,alpha=0.7,sharex=True)\n",
        "  gr.append(g)\n",
        "plt.legend(gr)\n",
        "plt.show()\n"
      ],
      "metadata": {
        "id": "qgdUiLQV5KTZ",
        "colab": {
          "base_uri": "https://localhost:8080/",
          "height": 488
        },
        "outputId": "7aa8facc-05af-4caf-9f74-77b49fa98f4e"
      },
      "execution_count": null,
      "outputs": [
        {
          "output_type": "display_data",
          "data": {
            "text/plain": [
              "<Figure size 640x480 with 1 Axes>"
            ],
            "image/png": "[encoded data removed]"
          },
          "metadata": {}
        },
        {
          "output_type": "stream",
          "name": "stdout",
          "text": [
            "['c', 'b', 'd', 'e']\n"
          ]
        }
      ]
    },
    {
      "cell_type": "code",
      "source": [
        "ax = sns.boxplot(y='MonthlyIncome', x='GroupAge',hue='SeriousDlqin2yrs', data=data) \n",
        "name=f'Распределение дохода в разных возрастных группах'\n",
        "plt.title(name)\n",
        "plt.grid(True)\n",
        "plt.figure(figsize=(10,15))\n",
        "\n",
        "plt.show()"
      ],
      "metadata": {
        "colab": {
          "base_uri": "https://localhost:8080/",
          "height": 490
        },
        "id": "vQsHpJhtey3I",
        "outputId": "6cc48764-a0c0-44a4-9f49-5fa47f0b7753"
      },
      "execution_count": 68,
      "outputs": [
        {
          "output_type": "display_data",
          "data": {
            "text/plain": [
              "<Figure size 640x480 with 1 Axes>"
            ],
            "image/png": "[encoded data removed]"
          },
          "metadata": {}
        },
        {
          "output_type": "display_data",
          "data": {
            "text/plain": [
              "<Figure size 1000x1500 with 0 Axes>"
            ]
          },
          "metadata": {}
        }
      ]
    },
    {
      "cell_type": "code",
      "source": [
        "\n",
        "ax = sns.boxplot(y='MonthlyIncome', x='GroupAge',hue='SeriousDlqin2yrs', data=data) \n",
        "name=f'Распределение дохода в разных возрастных группах'\n",
        "plt.title(name)\n",
        "plt.grid(True)\n",
        "plt.figure(figsize=(10,15))\n",
        "ax.set_ylim([0, 100000])\n",
        "plt.show()"
      ],
      "metadata": {
        "id": "ybD0ET3oZQg3",
        "colab": {
          "base_uri": "https://localhost:8080/",
          "height": 490
        },
        "outputId": "b56279d0-bd13-4955-d061-97bb0e70c49f"
      },
      "execution_count": 70,
      "outputs": [
        {
          "output_type": "display_data",
          "data": {
            "text/plain": [
              "<Figure size 640x480 with 1 Axes>"
            ],
            "image/png": "[encoded data removed]"
          },
          "metadata": {}
        },
        {
          "output_type": "display_data",
          "data": {
            "text/plain": [
              "<Figure size 1000x1500 with 0 Axes>"
            ]
          },
          "metadata": {}
        }
      ]
    },
    {
      "cell_type": "markdown",
      "source": [
        "Видим, что доход  d, например,выше дохода гурппы b. Данные по доходы во всех группах имеют выбросы. Пропуски будем заполнять медианой, орииентируясь на возраст и просроку у клиента"
      ],
      "metadata": {
        "id": "AirkjfpkfJqj"
      }
    },
    {
      "cell_type": "code",
      "source": [
        "def income_fill (row):\n",
        "  group=row['GroupAge']\n",
        "  SeriousDlqin2yrs=row['SeriousDlqin2yrs']\n",
        "  MI=row['MonthlyIncome']\n",
        "  if MI!=MI:\n",
        "    return data.query('SeriousDlqin2yrs==@SeriousDlqin2yrs and GroupAge==@group')['MonthlyIncome'].median(skipna=True)\n",
        "  else:\n",
        "     return MI\n"
      ],
      "metadata": {
        "id": "YKhrQljEdA2h"
      },
      "execution_count": 72,
      "outputs": []
    },
    {
      "cell_type": "code",
      "source": [
        "data['MonthlyIncome']=data.apply(income_fill,axis=1)"
      ],
      "metadata": {
        "id": "qi9iUoZLgo_F"
      },
      "execution_count": 73,
      "outputs": []
    },
    {
      "cell_type": "code",
      "source": [
        "data.info()"
      ],
      "metadata": {
        "colab": {
          "base_uri": "https://localhost:8080/"
        },
        "id": "aMnnuQKDhW5k",
        "outputId": "770d8b87-a44b-48cc-f0d5-b6dafed8fc67"
      },
      "execution_count": 74,
      "outputs": [
        {
          "output_type": "stream",
          "name": "stdout",
          "text": [
            "<class 'pandas.core.frame.DataFrame'>\n",
            "Int64Index: 149910 entries, 0 to 149999\n",
            "Data columns (total 12 columns):\n",
            " #   Column                                Non-Null Count   Dtype  \n",
            "---  ------                                --------------   -----  \n",
            " 0   SeriousDlqin2yrs                      149910 non-null  int64  \n",
            " 1   RevolvingUtilizationOfUnsecuredLines  149910 non-null  float64\n",
            " 2   age                                   149910 non-null  float64\n",
            " 3   NumberOfTime30-59DaysPastDueNotWorse  149910 non-null  int64  \n",
            " 4   DebtRatio                             149910 non-null  float64\n",
            " 5   MonthlyIncome                         149910 non-null  float64\n",
            " 6   NumberOfOpenCreditLinesAndLoans       149910 non-null  int64  \n",
            " 7   NumberOfTimes90DaysLate               149910 non-null  int64  \n",
            " 8   NumberOfTime60-89DaysPastDueNotWorse  149910 non-null  int64  \n",
            " 9   NumberOfDependents                    145986 non-null  float64\n",
            " 10  RealEstateLoansOrLines                149910 non-null  object \n",
            " 11  GroupAge                              149910 non-null  object \n",
            "dtypes: float64(5), int64(5), object(2)\n",
            "memory usage: 14.9+ MB\n"
          ]
        }
      ]
    },
    {
      "cell_type": "code",
      "source": [
        "(data['MonthlyIncome']/1000).describe()"
      ],
      "metadata": {
        "colab": {
          "base_uri": "https://localhost:8080/"
        },
        "id": "KZl4Ma0WizyO",
        "outputId": "e05b3e72-15be-46c2-cc19-0b6e9698b3a5"
      },
      "execution_count": 76,
      "outputs": [
        {
          "output_type": "execute_result",
          "data": {
            "text/plain": [
              "count    149910.000000\n",
              "mean          6.437611\n",
              "std          12.897685\n",
              "min           0.000000\n",
              "25%           3.734000\n",
              "50%           5.416000\n",
              "75%           7.400000\n",
              "max        3008.750000\n",
              "Name: MonthlyIncome, dtype: float64"
            ]
          },
          "metadata": {},
          "execution_count": 76
        }
      ]
    },
    {
      "cell_type": "code",
      "source": [
        "temp=data.query('age!=age and MonthlyIncome!=MonthlyIncome and NumberOfDependents!=NumberOfDependents').shape[0]\n",
        "temp\n",
        "print(f'При удалении просто нулевых данных потеряем\\\n",
        " {(data.age.isna().sum()+data.MonthlyIncome.isna().sum()+data.NumberOfDependents.isna().sum()-2*temp)/data.shape[0]:.1%}')"
      ],
      "metadata": {
        "colab": {
          "base_uri": "https://localhost:8080/"
        },
        "id": "uFi0pRvsi7lR",
        "outputId": "62aa7a69-9f31-45ca-ca0f-489dd15d57af"
      },
      "execution_count": 77,
      "outputs": [
        {
          "output_type": "stream",
          "name": "stdout",
          "text": [
            "При удалении просто нулевых данных потеряем 2.6%\n"
          ]
        }
      ]
    },
    {
      "cell_type": "code",
      "source": [
        "data=data.dropna(subset=['NumberOfDependents'])"
      ],
      "metadata": {
        "id": "31jy2iYrjPVt"
      },
      "execution_count": 78,
      "outputs": []
    },
    {
      "cell_type": "code",
      "source": [
        "data.duplicated().sum()"
      ],
      "metadata": {
        "colab": {
          "base_uri": "https://localhost:8080/"
        },
        "id": "dvicbhq_rAfK",
        "outputId": "223f3c38-a808-4c00-9599-973c78bfbfc5"
      },
      "execution_count": 100,
      "outputs": [
        {
          "output_type": "execute_result",
          "data": {
            "text/plain": [
              "454"
            ]
          },
          "metadata": {},
          "execution_count": 100
        }
      ]
    },
    {
      "cell_type": "code",
      "source": [
        "data=data.drop_duplicates()\n",
        "data.duplicated().sum()"
      ],
      "metadata": {
        "colab": {
          "base_uri": "https://localhost:8080/"
        },
        "id": "iu_V-dRrrMr6",
        "outputId": "316d09aa-86d9-4711-b1fa-78dba25a6484"
      },
      "execution_count": 101,
      "outputs": [
        {
          "output_type": "execute_result",
          "data": {
            "text/plain": [
              "0"
            ]
          },
          "metadata": {},
          "execution_count": 101
        }
      ]
    },
    {
      "cell_type": "markdown",
      "source": [
        "## Обучение модели"
      ],
      "metadata": {
        "id": "xy1DKrRQjrOq"
      }
    },
    {
      "cell_type": "code",
      "source": [
        "data.columns"
      ],
      "metadata": {
        "colab": {
          "base_uri": "https://localhost:8080/"
        },
        "id": "wNcFOHVFlfhE",
        "outputId": "0c6b8f52-1a3c-49d4-bb55-ab8a3a9149c5"
      },
      "execution_count": 102,
      "outputs": [
        {
          "output_type": "execute_result",
          "data": {
            "text/plain": [
              "Index(['SeriousDlqin2yrs', 'RevolvingUtilizationOfUnsecuredLines', 'age',\n",
              "       'NumberOfTime30-59DaysPastDueNotWorse', 'DebtRatio', 'MonthlyIncome',\n",
              "       'NumberOfOpenCreditLinesAndLoans', 'NumberOfTimes90DaysLate',\n",
              "       'NumberOfTime60-89DaysPastDueNotWorse', 'NumberOfDependents',\n",
              "       'RealEstateLoansOrLines', 'GroupAge'],\n",
              "      dtype='object')"
            ]
          },
          "metadata": {},
          "execution_count": 102
        }
      ]
    },
    {
      "cell_type": "markdown",
      "source": [
        "так как у нас сильно скореллированы значения 'NumberOfTime30-59DaysPastDueNotWorse','NumberOfTimes90DaysLate',\n",
        "       'NumberOfTime60-89DaysPastDueNotWorse' оставим только один признак\n",
        "разделим признаки на категориальные и числовые, выделем целевую переменную"
      ],
      "metadata": {
        "id": "uEfQNt8imsdm"
      }
    },
    {
      "cell_type": "code",
      "source": [
        "categorical = ['RealEstateLoansOrLines','GroupAge']\n",
        "numeric_features = ['RevolvingUtilizationOfUnsecuredLines','age','NumberOfTime30-59DaysPastDueNotWorse','DebtRatio','MonthlyIncome','NumberOfOpenCreditLinesAndLoans','NumberOfDependents']\n",
        "column_transformer = ColumnTransformer([\n",
        "    ('ohe', OneHotEncoder(handle_unknown=\"ignore\"), categorical),\n",
        "    ('scaling', StandardScaler(), numeric_features)\n",
        "])\n",
        "y=data['SeriousDlqin2yrs']\n",
        "X=data.drop(['SeriousDlqin2yrs','NumberOfTimes90DaysLate','NumberOfTime60-89DaysPastDueNotWorse'],axis=1)"
      ],
      "metadata": {
        "id": "tKsl7pTejjz8"
      },
      "execution_count": 116,
      "outputs": []
    },
    {
      "cell_type": "code",
      "source": [
        "X_train, X_test, y_train, y_test = train_test_split(X, y, stratify=data['SeriousDlqin2yrs'],test_size=0.25, random_state=255)"
      ],
      "metadata": {
        "id": "kCf-1o8yjimf"
      },
      "execution_count": 117,
      "outputs": []
    },
    {
      "cell_type": "code",
      "source": [
        "y_train.value_counts(normalize=True)"
      ],
      "metadata": {
        "colab": {
          "base_uri": "https://localhost:8080/"
        },
        "id": "elhD1PbzpBFV",
        "outputId": "b3e6da0e-472d-4d1b-8100-631f9aeabb1d"
      },
      "execution_count": 118,
      "outputs": [
        {
          "output_type": "execute_result",
          "data": {
            "text/plain": [
              "0    0.932459\n",
              "1    0.067541\n",
              "Name: SeriousDlqin2yrs, dtype: float64"
            ]
          },
          "metadata": {},
          "execution_count": 118
        }
      ]
    },
    {
      "cell_type": "code",
      "source": [
        "y_test.value_counts(normalize=True)"
      ],
      "metadata": {
        "colab": {
          "base_uri": "https://localhost:8080/"
        },
        "id": "N6JcGtpqpKxE",
        "outputId": "49295d7b-0b46-47f4-840c-667f3fdab36b"
      },
      "execution_count": 119,
      "outputs": [
        {
          "output_type": "execute_result",
          "data": {
            "text/plain": [
              "0    0.932441\n",
              "1    0.067559\n",
              "Name: SeriousDlqin2yrs, dtype: float64"
            ]
          },
          "metadata": {},
          "execution_count": 119
        }
      ]
    },
    {
      "cell_type": "code",
      "source": [
        "y.value_counts(normalize=True)"
      ],
      "metadata": {
        "colab": {
          "base_uri": "https://localhost:8080/"
        },
        "id": "78C8ANZOpbUf",
        "outputId": "dc2f298e-ccad-4e89-acaf-fbfbf323d4bb"
      },
      "execution_count": 120,
      "outputs": [
        {
          "output_type": "execute_result",
          "data": {
            "text/plain": [
              "0    0.932455\n",
              "1    0.067545\n",
              "Name: SeriousDlqin2yrs, dtype: float64"
            ]
          },
          "metadata": {},
          "execution_count": 120
        }
      ]
    },
    {
      "cell_type": "code",
      "source": [
        "X.info()"
      ],
      "metadata": {
        "colab": {
          "base_uri": "https://localhost:8080/"
        },
        "id": "p5q2cNmRqJF5",
        "outputId": "f6ccf778-6a45-4ee2-8aae-ff1c810b701b"
      },
      "execution_count": 121,
      "outputs": [
        {
          "output_type": "stream",
          "name": "stdout",
          "text": [
            "<class 'pandas.core.frame.DataFrame'>\n",
            "Int64Index: 145532 entries, 0 to 149999\n",
            "Data columns (total 9 columns):\n",
            " #   Column                                Non-Null Count   Dtype  \n",
            "---  ------                                --------------   -----  \n",
            " 0   RevolvingUtilizationOfUnsecuredLines  145532 non-null  float64\n",
            " 1   age                                   145532 non-null  float64\n",
            " 2   NumberOfTime30-59DaysPastDueNotWorse  145532 non-null  int64  \n",
            " 3   DebtRatio                             145532 non-null  float64\n",
            " 4   MonthlyIncome                         145532 non-null  float64\n",
            " 5   NumberOfOpenCreditLinesAndLoans       145532 non-null  int64  \n",
            " 6   NumberOfDependents                    145532 non-null  float64\n",
            " 7   RealEstateLoansOrLines                145532 non-null  object \n",
            " 8   GroupAge                              145532 non-null  object \n",
            "dtypes: float64(5), int64(2), object(2)\n",
            "memory usage: 11.1+ MB\n"
          ]
        }
      ]
    },
    {
      "cell_type": "code",
      "source": [
        "X_train_tr= column_transformer.fit_transform(X_train)\n",
        "X_test_tr = column_transformer.transform(X_test)"
      ],
      "metadata": {
        "id": "hHkUJwUfpe1h"
      },
      "execution_count": 122,
      "outputs": []
    },
    {
      "cell_type": "markdown",
      "source": [
        "###  Логистическая регрессия"
      ],
      "metadata": {
        "id": "YQhPQ-yJtJzE"
      }
    },
    {
      "cell_type": "code",
      "source": [
        "model = LogisticRegression()\n",
        "model.fit(X_train_tr, y_train)\n",
        "predictions_base = model.predict(X_test_tr) #пропускаем тестовые данные и сохраням предсказания целевой переменной\n",
        "probabilities= model.predict_proba(X_test_tr)[:,1] #сохраняем вероятности отнесесния к классу 1 -умер"
      ],
      "metadata": {
        "colab": {
          "base_uri": "https://localhost:8080/"
        },
        "id": "HNHuuj3kpr3D",
        "outputId": "b4e1b36c-8770-4e7a-bc19-762834381039"
      },
      "execution_count": 123,
      "outputs": [
        {
          "output_type": "stream",
          "name": "stderr",
          "text": [
            "/usr/local/lib/python3.10/dist-packages/sklearn/linear_model/_logistic.py:458: ConvergenceWarning: lbfgs failed to converge (status=1):\n",
            "STOP: TOTAL NO. of ITERATIONS REACHED LIMIT.\n",
            "\n",
            "Increase the number of iterations (max_iter) or scale the data as shown in:\n",
            "    https://scikit-learn.org/stable/modules/preprocessing.html\n",
            "Please also refer to the documentation for alternative solver options:\n",
            "    https://scikit-learn.org/stable/modules/linear_model.html#logistic-regression\n",
            "  n_iter_i = _check_optimize_result(\n"
          ]
        }
      ]
    },
    {
      "cell_type": "code",
      "source": [
        "print('ROC_AUC: {:.2f}'.format(roc_auc_score(y_test, probabilities)))"
      ],
      "metadata": {
        "colab": {
          "base_uri": "https://localhost:8080/"
        },
        "id": "KsRhZXyjp1bA",
        "outputId": "9d23eb69-b2dc-4627-f551-5f3dd0d89d09"
      },
      "execution_count": 124,
      "outputs": [
        {
          "output_type": "stream",
          "name": "stdout",
          "text": [
            "ROC_AUC: 0.67\n"
          ]
        }
      ]
    },
    {
      "cell_type": "markdown",
      "source": [
        "невысокий ROC_AUC для несбалансированных классов, скорее всего говорит о том, что сложно подобрать порог так, чтоб сильно повлиять на качество моделии"
      ],
      "metadata": {
        "id": "V-4Cls5Zt6Vs"
      }
    },
    {
      "cell_type": "code",
      "source": [
        "threshold = 0.5# здесь можно поиграться с порогом\n",
        "\n",
        "predictions = [1 if i>= threshold else 0 for i in probabilities]"
      ],
      "metadata": {
        "id": "saycwC2ItwXy"
      },
      "execution_count": 126,
      "outputs": []
    },
    {
      "cell_type": "code",
      "source": [
        "#Тут выводим основыне метрики\n",
        "print('Accuracy (Доля правильных ответов): {:.2f}'.format(accuracy_score(y_test,predictions)))\n",
        "print('Precision (Доля правильных ответов только среди целевого класса ): {:.2f}'.format(precision_score(y_test,predictions)))\n",
        "print('Recall (сколько реальных объектов \"1\" класса  обнаружено): {:.2f}'.format(recall_score(y_test,predictions)))\n",
        "print('F1 (метрика Precision и Recall как бы направлены на избежание противоположных рисков,это их баланс ): {:.2f}'.format(f1_score(y_test,predictions)))"
      ],
      "metadata": {
        "colab": {
          "base_uri": "https://localhost:8080/"
        },
        "id": "ymfzk8HfuFgz",
        "outputId": "c722e436-e5a4-4928-e624-88ab143b7916"
      },
      "execution_count": 127,
      "outputs": [
        {
          "output_type": "stream",
          "name": "stdout",
          "text": [
            "Accuracy (Доля правильных ответов): 0.93\n",
            "Precision (Доля правильных ответов только среди целевого класса ): 0.62\n",
            "Recall (сколько реальных объектов \"1\" класса  обнаружено): 0.01\n",
            "F1 (метрика Precision и Recall как бы направлены на избежание противоположных рисков,это их баланс ): 0.02\n"
          ]
        }
      ]
    },
    {
      "cell_type": "code",
      "source": [
        "for i in range(2,9):\n",
        "  threshold = i/10# здесь можно поиграться с порогом\n",
        "  predictions = [1 if i>= threshold else 0 for i in probabilities]\n",
        "  print(f'THRESHOLD = {threshold}')\n",
        "  print('Accuracy (Доля правильных ответов): {:.2f}'.format(accuracy_score(y_test,predictions)))\n",
        "  print('Precision (Доля правильных ответов только среди целевого класса ): {:.2f}'.format(precision_score(y_test,predictions)))\n",
        "  print('Recall (сколько реальных объектов \"1\" класса  обнаружено): {:.2f}'.format(recall_score(y_test,predictions)))\n",
        "  print('F1 (метрика Precision и Recall как бы направлены на избежание противоположных рисков,это их баланс ): {:.2f}'.format(f1_score(y_test,predictions)))\n",
        "  print('_____________________')"
      ],
      "metadata": {
        "colab": {
          "base_uri": "https://localhost:8080/"
        },
        "id": "L3iSo88uuSq0",
        "outputId": "42e5a922-8aab-447f-e429-774e3eafb9ed"
      },
      "execution_count": 133,
      "outputs": [
        {
          "output_type": "stream",
          "name": "stdout",
          "text": [
            "THRESHOLD = 0.2\n",
            "Accuracy (Доля правильных ответов): 0.93\n",
            "Precision (Доля правильных ответов только среди целевого класса ): 0.35\n",
            "Recall (сколько реальных объектов \"1\" класса  обнаружено): 0.02\n",
            "F1 (метрика Precision и Recall как бы направлены на избежание противоположных рисков,это их баланс ): 0.04\n",
            "_____________________\n",
            "THRESHOLD = 0.3\n",
            "Accuracy (Доля правильных ответов): 0.93\n",
            "Precision (Доля правильных ответов только среди целевого класса ): 0.57\n",
            "Recall (сколько реальных объектов \"1\" класса  обнаружено): 0.01\n",
            "F1 (метрика Precision и Recall как бы направлены на избежание противоположных рисков,это их баланс ): 0.03\n",
            "_____________________\n",
            "THRESHOLD = 0.4\n",
            "Accuracy (Доля правильных ответов): 0.93\n",
            "Precision (Доля правильных ответов только среди целевого класса ): 0.62\n",
            "Recall (сколько реальных объектов \"1\" класса  обнаружено): 0.01\n",
            "F1 (метрика Precision и Recall как бы направлены на избежание противоположных рисков,это их баланс ): 0.02\n",
            "_____________________\n",
            "THRESHOLD = 0.5\n",
            "Accuracy (Доля правильных ответов): 0.93\n",
            "Precision (Доля правильных ответов только среди целевого класса ): 0.62\n",
            "Recall (сколько реальных объектов \"1\" класса  обнаружено): 0.01\n",
            "F1 (метрика Precision и Recall как бы направлены на избежание противоположных рисков,это их баланс ): 0.02\n",
            "_____________________\n",
            "THRESHOLD = 0.6\n",
            "Accuracy (Доля правильных ответов): 0.93\n",
            "Precision (Доля правильных ответов только среди целевого класса ): 0.62\n",
            "Recall (сколько реальных объектов \"1\" класса  обнаружено): 0.01\n",
            "F1 (метрика Precision и Recall как бы направлены на избежание противоположных рисков,это их баланс ): 0.02\n",
            "_____________________\n",
            "THRESHOLD = 0.7\n",
            "Accuracy (Доля правильных ответов): 0.93\n",
            "Precision (Доля правильных ответов только среди целевого класса ): 0.62\n",
            "Recall (сколько реальных объектов \"1\" класса  обнаружено): 0.01\n",
            "F1 (метрика Precision и Recall как бы направлены на избежание противоположных рисков,это их баланс ): 0.02\n",
            "_____________________\n",
            "THRESHOLD = 0.8\n",
            "Accuracy (Доля правильных ответов): 0.93\n",
            "Precision (Доля правильных ответов только среди целевого класса ): 0.65\n",
            "Recall (сколько реальных объектов \"1\" класса  обнаружено): 0.01\n",
            "F1 (метрика Precision и Recall как бы направлены на избежание противоположных рисков,это их баланс ): 0.02\n",
            "_____________________\n"
          ]
        }
      ]
    },
    {
      "cell_type": "markdown",
      "source": [
        "### Градиентный бустинг"
      ],
      "metadata": {
        "id": "P9vYG200v5YJ"
      }
    },
    {
      "cell_type": "code",
      "source": [
        "train_set = Pool(X_train_tr, y_train)\n",
        "test_set = Pool(X_test_tr, y_test)"
      ],
      "metadata": {
        "id": "cgodJBsCuhtU"
      },
      "execution_count": 134,
      "outputs": []
    },
    {
      "cell_type": "code",
      "source": [
        "gbm = CatBoostClassifier(iterations=700,\n",
        "                          depth=3,\n",
        "                          learning_rate=0.1,\n",
        "                          loss_function='Logloss',\n",
        "                          eval_metric='AUC',\n",
        "                          verbose=False)\n",
        "gbm.fit(train_set, eval_set=test_set)\n",
        "gbm_preds = gbm.predict_proba(test_set)"
      ],
      "metadata": {
        "id": "R8YoE3Uewes6"
      },
      "execution_count": 143,
      "outputs": []
    },
    {
      "cell_type": "code",
      "source": [
        "eval_metrics = gbm.get_evals_result()\n",
        "plt.plot(eval_metrics['validation']['AUC'])\n",
        "plt.xlabel('n_trees')\n",
        "plt.ylabel('AUC')\n",
        "plt.grid()"
      ],
      "metadata": {
        "colab": {
          "base_uri": "https://localhost:8080/",
          "height": 449
        },
        "id": "IZGkb8Q9wo2U",
        "outputId": "511c0d03-5070-4950-d386-f8546879c47e"
      },
      "execution_count": 144,
      "outputs": [
        {
          "output_type": "display_data",
          "data": {
            "text/plain": [
              "<Figure size 640x480 with 1 Axes>"
            ],
            "image/png": "[encoded data removed]"
          },
          "metadata": {}
        }
      ]
    },
    {
      "cell_type": "code",
      "source": [
        "gbm = CatBoostClassifier(iterations=550,\n",
        "                          depth=3,\n",
        "                          learning_rate=0.1,\n",
        "                          loss_function='Logloss',\n",
        "                          eval_metric='AUC',\n",
        "                          verbose=False)\n",
        "gbm.fit(train_set, eval_set=test_set)\n",
        "gbm_preds = gbm.predict_proba(test_set)"
      ],
      "metadata": {
        "id": "qYXi3fPQw-_-"
      },
      "execution_count": 145,
      "outputs": []
    },
    {
      "cell_type": "code",
      "source": [
        "print(\"auc-roc: \", roc_auc_score(y_test, gbm_preds[:, 1]))"
      ],
      "metadata": {
        "colab": {
          "base_uri": "https://localhost:8080/"
        },
        "id": "pKQPkjGByF9u",
        "outputId": "46632538-79a1-4b11-bb25-a197f9a854b3"
      },
      "execution_count": 148,
      "outputs": [
        {
          "output_type": "stream",
          "name": "stdout",
          "text": [
            "auc-roc:  0.8747373741795098\n"
          ]
        }
      ]
    },
    {
      "cell_type": "code",
      "source": [
        "for i in range(1,9):\n",
        "  threshold = i/10# здесь можно поиграться с порогом\n",
        "  predictions = [1 if i>= threshold else 0 for i in gbm_preds[:, 1]]\n",
        "  print(f'THRESHOLD = {threshold}')\n",
        "  print('Accuracy (Доля правильных ответов): {:.2f}'.format(accuracy_score(y_test,predictions)))\n",
        "  print('Precision (Доля правильных ответов только среди целевого класса ): {:.2f}'.format(precision_score(y_test,predictions)))\n",
        "  print('Recall (сколько реальных объектов \"1\" класса  обнаружено): {:.2f}'.format(recall_score(y_test,predictions)))\n",
        "  print('F1 (метрика Precision и Recall как бы направлены на избежание противоположных рисков,это их баланс ): {:.2f}'.format(f1_score(y_test,predictions)))\n",
        "  print('_____________________')\n"
      ],
      "metadata": {
        "colab": {
          "base_uri": "https://localhost:8080/"
        },
        "id": "SlO7_mh3x3iu",
        "outputId": "e77eec28-701e-4a67-878f-9f5eaec0f8ff"
      },
      "execution_count": 150,
      "outputs": [
        {
          "output_type": "stream",
          "name": "stdout",
          "text": [
            "THRESHOLD = 0.1\n",
            "Accuracy (Доля правильных ответов): 0.85\n",
            "Precision (Доля правильных ответов только среди целевого класса ): 0.27\n",
            "Recall (сколько реальных объектов \"1\" класса  обнаружено): 0.71\n",
            "F1 (метрика Precision и Recall как бы направлены на избежание противоположных рисков,это их баланс ): 0.39\n",
            "_____________________\n",
            "THRESHOLD = 0.2\n",
            "Accuracy (Доля правильных ответов): 0.92\n",
            "Precision (Доля правильных ответов только среди целевого класса ): 0.42\n",
            "Recall (сколько реальных объектов \"1\" класса  обнаружено): 0.51\n",
            "F1 (метрика Precision и Recall как бы направлены на избежание противоположных рисков,это их баланс ): 0.46\n",
            "_____________________\n",
            "THRESHOLD = 0.3\n",
            "Accuracy (Доля правильных ответов): 0.94\n",
            "Precision (Доля правильных ответов только среди целевого класса ): 0.55\n",
            "Recall (сколько реальных объектов \"1\" класса  обнаружено): 0.37\n",
            "F1 (метрика Precision и Recall как бы направлены на избежание противоположных рисков,это их баланс ): 0.45\n",
            "_____________________\n",
            "THRESHOLD = 0.4\n",
            "Accuracy (Доля правильных ответов): 0.94\n",
            "Precision (Доля правильных ответов только среди целевого класса ): 0.67\n",
            "Recall (сколько реальных объектов \"1\" класса  обнаружено): 0.27\n",
            "F1 (метрика Precision и Recall как бы направлены на избежание противоположных рисков,это их баланс ): 0.38\n",
            "_____________________\n",
            "THRESHOLD = 0.5\n",
            "Accuracy (Доля правильных ответов): 0.94\n",
            "Precision (Доля правильных ответов только среди целевого класса ): 0.80\n",
            "Recall (сколько реальных объектов \"1\" класса  обнаружено): 0.21\n",
            "F1 (метрика Precision и Recall как бы направлены на избежание противоположных рисков,это их баланс ): 0.34\n",
            "_____________________\n",
            "THRESHOLD = 0.6\n",
            "Accuracy (Доля правильных ответов): 0.94\n",
            "Precision (Доля правильных ответов только среди целевого класса ): 0.89\n",
            "Recall (сколько реальных объектов \"1\" класса  обнаружено): 0.17\n",
            "F1 (метрика Precision и Recall как бы направлены на избежание противоположных рисков,это их баланс ): 0.28\n",
            "_____________________\n",
            "THRESHOLD = 0.7\n",
            "Accuracy (Доля правильных ответов): 0.94\n",
            "Precision (Доля правильных ответов только среди целевого класса ): 0.96\n",
            "Recall (сколько реальных объектов \"1\" класса  обнаружено): 0.14\n",
            "F1 (метрика Precision и Recall как бы направлены на избежание противоположных рисков,это их баланс ): 0.24\n",
            "_____________________\n",
            "THRESHOLD = 0.8\n",
            "Accuracy (Доля правильных ответов): 0.94\n",
            "Precision (Доля правильных ответов только среди целевого класса ): 0.98\n",
            "Recall (сколько реальных объектов \"1\" класса  обнаружено): 0.12\n",
            "F1 (метрика Precision и Recall как бы направлены на избежание противоположных рисков,это их баланс ): 0.22\n",
            "_____________________\n"
          ]
        }
      ]
    },
    {
      "cell_type": "markdown",
      "source": [
        "## Интепретация результатов"
      ],
      "metadata": {
        "id": "GmYlRW_azS1T"
      }
    },
    {
      "cell_type": "code",
      "source": [
        "coef_table = pd.DataFrame({'features' : list(X.columns), 'importances' : list(gbm.get_feature_importance())})\n",
        "\n",
        "coef_table.sort_values(by='importances')"
      ],
      "metadata": {
        "colab": {
          "base_uri": "https://localhost:8080/",
          "height": 353
        },
        "id": "KwmqKMFcyvGV",
        "outputId": "5699d746-d955-421e-a938-b31a25a3971f"
      },
      "execution_count": 153,
      "outputs": [
        {
          "output_type": "error",
          "ename": "ValueError",
          "evalue": "ignored",
          "traceback": [
            "\u001b[0;31m---------------------------------------------------------------------------\u001b[0m",
            "\u001b[0;31mValueError\u001b[0m                                Traceback (most recent call last)",
            "\u001b[0;32m<ipython-input-153-dc8397150bf0>\u001b[0m in \u001b[0;36m<cell line: 1>\u001b[0;34m()\u001b[0m\n\u001b[0;32m----> 1\u001b[0;31m \u001b[0mcoef_table\u001b[0m \u001b[0;34m=\u001b[0m \u001b[0mpd\u001b[0m\u001b[0;34m.\u001b[0m\u001b[0mDataFrame\u001b[0m\u001b[0;34m(\u001b[0m\u001b[0;34m{\u001b[0m\u001b[0;34m'features'\u001b[0m \u001b[0;34m:\u001b[0m \u001b[0mlist\u001b[0m\u001b[0;34m(\u001b[0m\u001b[0mX\u001b[0m\u001b[0;34m.\u001b[0m\u001b[0mcolumns\u001b[0m\u001b[0;34m)\u001b[0m\u001b[0;34m,\u001b[0m \u001b[0;34m'importances'\u001b[0m \u001b[0;34m:\u001b[0m \u001b[0mlist\u001b[0m\u001b[0;34m(\u001b[0m\u001b[0mgbm\u001b[0m\u001b[0;34m.\u001b[0m\u001b[0mget_feature_importance\u001b[0m\u001b[0;34m(\u001b[0m\u001b[0;34m)\u001b[0m\u001b[0;34m)\u001b[0m\u001b[0;34m}\u001b[0m\u001b[0;34m)\u001b[0m\u001b[0;34m\u001b[0m\u001b[0;34m\u001b[0m\u001b[0m\n\u001b[0m\u001b[1;32m      2\u001b[0m \u001b[0;34m\u001b[0m\u001b[0m\n\u001b[1;32m      3\u001b[0m \u001b[0mcoef_table\u001b[0m\u001b[0;34m.\u001b[0m\u001b[0msort_values\u001b[0m\u001b[0;34m(\u001b[0m\u001b[0mby\u001b[0m\u001b[0;34m=\u001b[0m\u001b[0;34m'importances'\u001b[0m\u001b[0;34m)\u001b[0m\u001b[0;34m\u001b[0m\u001b[0;34m\u001b[0m\u001b[0m\n",
            "\u001b[0;32m/usr/local/lib/python3.10/dist-packages/pandas/core/frame.py\u001b[0m in \u001b[0;36m__init__\u001b[0;34m(self, data, index, columns, dtype, copy)\u001b[0m\n\u001b[1;32m    662\u001b[0m         \u001b[0;32melif\u001b[0m \u001b[0misinstance\u001b[0m\u001b[0;34m(\u001b[0m\u001b[0mdata\u001b[0m\u001b[0;34m,\u001b[0m \u001b[0mdict\u001b[0m\u001b[0;34m)\u001b[0m\u001b[0;34m:\u001b[0m\u001b[0;34m\u001b[0m\u001b[0;34m\u001b[0m\u001b[0m\n\u001b[1;32m    663\u001b[0m             \u001b[0;31m# GH#38939 de facto copy defaults to False only in non-dict cases\u001b[0m\u001b[0;34m\u001b[0m\u001b[0;34m\u001b[0m\u001b[0m\n\u001b[0;32m--> 664\u001b[0;31m             \u001b[0mmgr\u001b[0m \u001b[0;34m=\u001b[0m \u001b[0mdict_to_mgr\u001b[0m\u001b[0;34m(\u001b[0m\u001b[0mdata\u001b[0m\u001b[0;34m,\u001b[0m \u001b[0mindex\u001b[0m\u001b[0;34m,\u001b[0m \u001b[0mcolumns\u001b[0m\u001b[0;34m,\u001b[0m \u001b[0mdtype\u001b[0m\u001b[0;34m=\u001b[0m\u001b[0mdtype\u001b[0m\u001b[0;34m,\u001b[0m \u001b[0mcopy\u001b[0m\u001b[0;34m=\u001b[0m\u001b[0mcopy\u001b[0m\u001b[0;34m,\u001b[0m \u001b[0mtyp\u001b[0m\u001b[0;34m=\u001b[0m\u001b[0mmanager\u001b[0m\u001b[0;34m)\u001b[0m\u001b[0;34m\u001b[0m\u001b[0;34m\u001b[0m\u001b[0m\n\u001b[0m\u001b[1;32m    665\u001b[0m         \u001b[0;32melif\u001b[0m \u001b[0misinstance\u001b[0m\u001b[0;34m(\u001b[0m\u001b[0mdata\u001b[0m\u001b[0;34m,\u001b[0m \u001b[0mma\u001b[0m\u001b[0;34m.\u001b[0m\u001b[0mMaskedArray\u001b[0m\u001b[0;34m)\u001b[0m\u001b[0;34m:\u001b[0m\u001b[0;34m\u001b[0m\u001b[0;34m\u001b[0m\u001b[0m\n\u001b[1;32m    666\u001b[0m             \u001b[0;32mimport\u001b[0m \u001b[0mnumpy\u001b[0m\u001b[0;34m.\u001b[0m\u001b[0mma\u001b[0m\u001b[0;34m.\u001b[0m\u001b[0mmrecords\u001b[0m \u001b[0;32mas\u001b[0m \u001b[0mmrecords\u001b[0m\u001b[0;34m\u001b[0m\u001b[0;34m\u001b[0m\u001b[0m\n",
            "\u001b[0;32m/usr/local/lib/python3.10/dist-packages/pandas/core/internals/construction.py\u001b[0m in \u001b[0;36mdict_to_mgr\u001b[0;34m(data, index, columns, dtype, typ, copy)\u001b[0m\n\u001b[1;32m    491\u001b[0m             \u001b[0marrays\u001b[0m \u001b[0;34m=\u001b[0m \u001b[0;34m[\u001b[0m\u001b[0mx\u001b[0m\u001b[0;34m.\u001b[0m\u001b[0mcopy\u001b[0m\u001b[0;34m(\u001b[0m\u001b[0;34m)\u001b[0m \u001b[0;32mif\u001b[0m \u001b[0mhasattr\u001b[0m\u001b[0;34m(\u001b[0m\u001b[0mx\u001b[0m\u001b[0;34m,\u001b[0m \u001b[0;34m\"dtype\"\u001b[0m\u001b[0;34m)\u001b[0m \u001b[0;32melse\u001b[0m \u001b[0mx\u001b[0m \u001b[0;32mfor\u001b[0m \u001b[0mx\u001b[0m \u001b[0;32min\u001b[0m \u001b[0marrays\u001b[0m\u001b[0;34m]\u001b[0m\u001b[0;34m\u001b[0m\u001b[0;34m\u001b[0m\u001b[0m\n\u001b[1;32m    492\u001b[0m \u001b[0;34m\u001b[0m\u001b[0m\n\u001b[0;32m--> 493\u001b[0;31m     \u001b[0;32mreturn\u001b[0m \u001b[0marrays_to_mgr\u001b[0m\u001b[0;34m(\u001b[0m\u001b[0marrays\u001b[0m\u001b[0;34m,\u001b[0m \u001b[0mcolumns\u001b[0m\u001b[0;34m,\u001b[0m \u001b[0mindex\u001b[0m\u001b[0;34m,\u001b[0m \u001b[0mdtype\u001b[0m\u001b[0;34m=\u001b[0m\u001b[0mdtype\u001b[0m\u001b[0;34m,\u001b[0m \u001b[0mtyp\u001b[0m\u001b[0;34m=\u001b[0m\u001b[0mtyp\u001b[0m\u001b[0;34m,\u001b[0m \u001b[0mconsolidate\u001b[0m\u001b[0;34m=\u001b[0m\u001b[0mcopy\u001b[0m\u001b[0;34m)\u001b[0m\u001b[0;34m\u001b[0m\u001b[0;34m\u001b[0m\u001b[0m\n\u001b[0m\u001b[1;32m    494\u001b[0m \u001b[0;34m\u001b[0m\u001b[0m\n\u001b[1;32m    495\u001b[0m \u001b[0;34m\u001b[0m\u001b[0m\n",
            "\u001b[0;32m/usr/local/lib/python3.10/dist-packages/pandas/core/internals/construction.py\u001b[0m in \u001b[0;36marrays_to_mgr\u001b[0;34m(arrays, columns, index, dtype, verify_integrity, typ, consolidate)\u001b[0m\n\u001b[1;32m    116\u001b[0m         \u001b[0;31m# figure out the index, if necessary\u001b[0m\u001b[0;34m\u001b[0m\u001b[0;34m\u001b[0m\u001b[0m\n\u001b[1;32m    117\u001b[0m         \u001b[0;32mif\u001b[0m \u001b[0mindex\u001b[0m \u001b[0;32mis\u001b[0m \u001b[0;32mNone\u001b[0m\u001b[0;34m:\u001b[0m\u001b[0;34m\u001b[0m\u001b[0;34m\u001b[0m\u001b[0m\n\u001b[0;32m--> 118\u001b[0;31m             \u001b[0mindex\u001b[0m \u001b[0;34m=\u001b[0m \u001b[0m_extract_index\u001b[0m\u001b[0;34m(\u001b[0m\u001b[0marrays\u001b[0m\u001b[0;34m)\u001b[0m\u001b[0;34m\u001b[0m\u001b[0;34m\u001b[0m\u001b[0m\n\u001b[0m\u001b[1;32m    119\u001b[0m         \u001b[0;32melse\u001b[0m\u001b[0;34m:\u001b[0m\u001b[0;34m\u001b[0m\u001b[0;34m\u001b[0m\u001b[0m\n\u001b[1;32m    120\u001b[0m             \u001b[0mindex\u001b[0m \u001b[0;34m=\u001b[0m \u001b[0mensure_index\u001b[0m\u001b[0;34m(\u001b[0m\u001b[0mindex\u001b[0m\u001b[0;34m)\u001b[0m\u001b[0;34m\u001b[0m\u001b[0;34m\u001b[0m\u001b[0m\n",
            "\u001b[0;32m/usr/local/lib/python3.10/dist-packages/pandas/core/internals/construction.py\u001b[0m in \u001b[0;36m_extract_index\u001b[0;34m(data)\u001b[0m\n\u001b[1;32m    664\u001b[0m             \u001b[0mlengths\u001b[0m \u001b[0;34m=\u001b[0m \u001b[0mlist\u001b[0m\u001b[0;34m(\u001b[0m\u001b[0mset\u001b[0m\u001b[0;34m(\u001b[0m\u001b[0mraw_lengths\u001b[0m\u001b[0;34m)\u001b[0m\u001b[0;34m)\u001b[0m\u001b[0;34m\u001b[0m\u001b[0;34m\u001b[0m\u001b[0m\n\u001b[1;32m    665\u001b[0m             \u001b[0;32mif\u001b[0m \u001b[0mlen\u001b[0m\u001b[0;34m(\u001b[0m\u001b[0mlengths\u001b[0m\u001b[0;34m)\u001b[0m \u001b[0;34m>\u001b[0m \u001b[0;36m1\u001b[0m\u001b[0;34m:\u001b[0m\u001b[0;34m\u001b[0m\u001b[0;34m\u001b[0m\u001b[0m\n\u001b[0;32m--> 666\u001b[0;31m                 \u001b[0;32mraise\u001b[0m \u001b[0mValueError\u001b[0m\u001b[0;34m(\u001b[0m\u001b[0;34m\"All arrays must be of the same length\"\u001b[0m\u001b[0;34m)\u001b[0m\u001b[0;34m\u001b[0m\u001b[0;34m\u001b[0m\u001b[0m\n\u001b[0m\u001b[1;32m    667\u001b[0m \u001b[0;34m\u001b[0m\u001b[0m\n\u001b[1;32m    668\u001b[0m             \u001b[0;32mif\u001b[0m \u001b[0mhave_dicts\u001b[0m\u001b[0;34m:\u001b[0m\u001b[0;34m\u001b[0m\u001b[0;34m\u001b[0m\u001b[0m\n",
            "\u001b[0;31mValueError\u001b[0m: All arrays must be of the same length"
          ]
        }
      ]
    },
    {
      "cell_type": "code",
      "source": [],
      "metadata": {
        "id": "UFRtTZG50BMd"
      },
      "execution_count": null,
      "outputs": []
    }
  ]
}